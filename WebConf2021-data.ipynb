{
  "nbformat": 4,
  "nbformat_minor": 0,
  "metadata": {
    "colab": {
      "name": "WebConf2021.ipynb",
      "provenance": []
    },
    "kernelspec": {
      "name": "python3",
      "display_name": "Python 3"
    },
    "language_info": {
      "name": "python"
    }
  },
  "cells": [
    {
      "cell_type": "markdown",
      "metadata": {
        "id": "t2_UyThfCVEK"
      },
      "source": [
        "# ***Machine Learning-Driven Ad Blocking: From Data Collection to Deployment***"
      ]
    },
    {
      "cell_type": "markdown",
      "metadata": {
        "id": "dLsJGq3XCwRm"
      },
      "source": [
        "## 1 Prerequisites"
      ]
    },
    {
      "cell_type": "markdown",
      "metadata": {
        "id": "nIdeecuWDt_s"
      },
      "source": [
        "### 1.1 Installing requirements"
      ]
    },
    {
      "cell_type": "markdown",
      "metadata": {
        "id": "7yoausDYEKIZ"
      },
      "source": [
        "This code has been tested and is supposed to run correctly with Python 3.7 and the following libraries' versions:\n",
        "\n",
        "* [orjson==3.4.3](https://github.com/ijl/orjson)\n",
        "* [tensorflow==2.3.1](https://www.tensorflow.org/)\n",
        "* [spektral==0.6.2](https://graphneural.network/)\n",
        "* [tensorflowjs==2.7.0](https://pypi.org/project/tensorflowjs/)\n",
        "* [scikit-learn==0.23.2](https://scikit-learn.org/stable/index.html)\n",
        "* [joblib==0.17.0](https://pypi.org/project/joblib/)\n",
        "\n",
        "\n",
        "\n"
      ]
    },
    {
      "cell_type": "code",
      "metadata": {
        "colab": {
          "base_uri": "https://localhost:8080/"
        },
        "id": "oKagWM1MD0as",
        "outputId": "49dd9b06-ae53-4283-dd69-790c50224fc0"
      },
      "source": [
        "#Upgrading pip\n",
        "!pip install --upgrade pip"
      ],
      "execution_count": null,
      "outputs": [
        {
          "output_type": "stream",
          "text": [
            "Collecting pip\n",
            "\u001b[?25l  Downloading https://files.pythonhosted.org/packages/fe/ef/60d7ba03b5c442309ef42e7d69959f73aacccd0d86008362a681c4698e83/pip-21.0.1-py3-none-any.whl (1.5MB)\n",
            "\u001b[K     |████████████████████████████████| 1.5MB 5.4MB/s \n",
            "\u001b[?25hInstalling collected packages: pip\n",
            "  Found existing installation: pip 19.3.1\n",
            "    Uninstalling pip-19.3.1:\n",
            "      Successfully uninstalled pip-19.3.1\n",
            "Successfully installed pip-21.0.1\n"
          ],
          "name": "stdout"
        }
      ]
    },
    {
      "cell_type": "code",
      "metadata": {
        "colab": {
          "base_uri": "https://localhost:8080/"
        },
        "id": "SINbkYe7Gpx_",
        "outputId": "f5e68c18-ec68-422c-c038-1b6365e57823"
      },
      "source": [
        "#Installing requirements\n",
        "!pip install orjson==3.4.3\n",
        "!pip install joblib==0.17.0\n",
        "!pip install tensorflow==2.3.1"
      ],
      "execution_count": null,
      "outputs": [
        {
          "output_type": "stream",
          "text": [
            "Requirement already satisfied: orjson==3.4.3 in /usr/local/lib/python3.7/dist-packages (3.4.3)\n",
            "Requirement already satisfied: joblib==0.17.0 in /usr/local/lib/python3.7/dist-packages (0.17.0)\n",
            "Requirement already satisfied: tensorflow==2.3.1 in /usr/local/lib/python3.7/dist-packages (2.3.1)\n",
            "Requirement already satisfied: tensorboard<3,>=2.3.0 in /usr/local/lib/python3.7/dist-packages (from tensorflow==2.3.1) (2.4.1)\n",
            "Requirement already satisfied: termcolor>=1.1.0 in /usr/local/lib/python3.7/dist-packages (from tensorflow==2.3.1) (1.1.0)\n",
            "Requirement already satisfied: numpy<1.19.0,>=1.16.0 in /usr/local/lib/python3.7/dist-packages (from tensorflow==2.3.1) (1.18.5)\n",
            "Requirement already satisfied: astunparse==1.6.3 in /usr/local/lib/python3.7/dist-packages (from tensorflow==2.3.1) (1.6.3)\n",
            "Requirement already satisfied: six>=1.12.0 in /usr/local/lib/python3.7/dist-packages (from tensorflow==2.3.1) (1.15.0)\n",
            "Requirement already satisfied: wrapt>=1.11.1 in /usr/local/lib/python3.7/dist-packages (from tensorflow==2.3.1) (1.12.1)\n",
            "Requirement already satisfied: absl-py>=0.7.0 in /usr/local/lib/python3.7/dist-packages (from tensorflow==2.3.1) (0.12.0)\n",
            "Requirement already satisfied: tensorflow-estimator<2.4.0,>=2.3.0 in /usr/local/lib/python3.7/dist-packages (from tensorflow==2.3.1) (2.3.0)\n",
            "Requirement already satisfied: h5py<2.11.0,>=2.10.0 in /usr/local/lib/python3.7/dist-packages (from tensorflow==2.3.1) (2.10.0)\n",
            "Requirement already satisfied: wheel>=0.26 in /usr/local/lib/python3.7/dist-packages (from tensorflow==2.3.1) (0.36.2)\n",
            "Requirement already satisfied: protobuf>=3.9.2 in /usr/local/lib/python3.7/dist-packages (from tensorflow==2.3.1) (3.12.4)\n",
            "Requirement already satisfied: keras-preprocessing<1.2,>=1.1.1 in /usr/local/lib/python3.7/dist-packages (from tensorflow==2.3.1) (1.1.2)\n",
            "Requirement already satisfied: grpcio>=1.8.6 in /usr/local/lib/python3.7/dist-packages (from tensorflow==2.3.1) (1.32.0)\n",
            "Requirement already satisfied: google-pasta>=0.1.8 in /usr/local/lib/python3.7/dist-packages (from tensorflow==2.3.1) (0.2.0)\n",
            "Requirement already satisfied: gast==0.3.3 in /usr/local/lib/python3.7/dist-packages (from tensorflow==2.3.1) (0.3.3)\n",
            "Requirement already satisfied: opt-einsum>=2.3.2 in /usr/local/lib/python3.7/dist-packages (from tensorflow==2.3.1) (3.3.0)\n",
            "Requirement already satisfied: setuptools in /usr/local/lib/python3.7/dist-packages (from protobuf>=3.9.2->tensorflow==2.3.1) (54.2.0)\n",
            "Requirement already satisfied: tensorboard-plugin-wit>=1.6.0 in /usr/local/lib/python3.7/dist-packages (from tensorboard<3,>=2.3.0->tensorflow==2.3.1) (1.8.0)\n",
            "Requirement already satisfied: markdown>=2.6.8 in /usr/local/lib/python3.7/dist-packages (from tensorboard<3,>=2.3.0->tensorflow==2.3.1) (3.3.4)\n",
            "Requirement already satisfied: google-auth-oauthlib<0.5,>=0.4.1 in /usr/local/lib/python3.7/dist-packages (from tensorboard<3,>=2.3.0->tensorflow==2.3.1) (0.4.3)\n",
            "Requirement already satisfied: requests<3,>=2.21.0 in /usr/local/lib/python3.7/dist-packages (from tensorboard<3,>=2.3.0->tensorflow==2.3.1) (2.23.0)\n",
            "Requirement already satisfied: werkzeug>=0.11.15 in /usr/local/lib/python3.7/dist-packages (from tensorboard<3,>=2.3.0->tensorflow==2.3.1) (1.0.1)\n",
            "Requirement already satisfied: google-auth<2,>=1.6.3 in /usr/local/lib/python3.7/dist-packages (from tensorboard<3,>=2.3.0->tensorflow==2.3.1) (1.28.0)\n",
            "Requirement already satisfied: pyasn1-modules>=0.2.1 in /usr/local/lib/python3.7/dist-packages (from google-auth<2,>=1.6.3->tensorboard<3,>=2.3.0->tensorflow==2.3.1) (0.2.8)\n",
            "Requirement already satisfied: cachetools<5.0,>=2.0.0 in /usr/local/lib/python3.7/dist-packages (from google-auth<2,>=1.6.3->tensorboard<3,>=2.3.0->tensorflow==2.3.1) (4.2.1)\n",
            "Requirement already satisfied: rsa<5,>=3.1.4 in /usr/local/lib/python3.7/dist-packages (from google-auth<2,>=1.6.3->tensorboard<3,>=2.3.0->tensorflow==2.3.1) (4.7.2)\n",
            "Requirement already satisfied: requests-oauthlib>=0.7.0 in /usr/local/lib/python3.7/dist-packages (from google-auth-oauthlib<0.5,>=0.4.1->tensorboard<3,>=2.3.0->tensorflow==2.3.1) (1.3.0)\n",
            "Requirement already satisfied: importlib-metadata in /usr/local/lib/python3.7/dist-packages (from markdown>=2.6.8->tensorboard<3,>=2.3.0->tensorflow==2.3.1) (3.8.1)\n",
            "Requirement already satisfied: pyasn1<0.5.0,>=0.4.6 in /usr/local/lib/python3.7/dist-packages (from pyasn1-modules>=0.2.1->google-auth<2,>=1.6.3->tensorboard<3,>=2.3.0->tensorflow==2.3.1) (0.4.8)\n",
            "Requirement already satisfied: urllib3!=1.25.0,!=1.25.1,<1.26,>=1.21.1 in /usr/local/lib/python3.7/dist-packages (from requests<3,>=2.21.0->tensorboard<3,>=2.3.0->tensorflow==2.3.1) (1.24.3)\n",
            "Requirement already satisfied: idna<3,>=2.5 in /usr/local/lib/python3.7/dist-packages (from requests<3,>=2.21.0->tensorboard<3,>=2.3.0->tensorflow==2.3.1) (2.10)\n",
            "Requirement already satisfied: certifi>=2017.4.17 in /usr/local/lib/python3.7/dist-packages (from requests<3,>=2.21.0->tensorboard<3,>=2.3.0->tensorflow==2.3.1) (2020.12.5)\n",
            "Requirement already satisfied: chardet<4,>=3.0.2 in /usr/local/lib/python3.7/dist-packages (from requests<3,>=2.21.0->tensorboard<3,>=2.3.0->tensorflow==2.3.1) (3.0.4)\n",
            "Requirement already satisfied: oauthlib>=3.0.0 in /usr/local/lib/python3.7/dist-packages (from requests-oauthlib>=0.7.0->google-auth-oauthlib<0.5,>=0.4.1->tensorboard<3,>=2.3.0->tensorflow==2.3.1) (3.1.0)\n",
            "Requirement already satisfied: zipp>=0.5 in /usr/local/lib/python3.7/dist-packages (from importlib-metadata->markdown>=2.6.8->tensorboard<3,>=2.3.0->tensorflow==2.3.1) (3.4.1)\n",
            "Requirement already satisfied: typing-extensions>=3.6.4 in /usr/local/lib/python3.7/dist-packages (from importlib-metadata->markdown>=2.6.8->tensorboard<3,>=2.3.0->tensorflow==2.3.1) (3.7.4.3)\n"
          ],
          "name": "stdout"
        }
      ]
    },
    {
      "cell_type": "markdown",
      "metadata": {
        "id": "UwRVSjYoHyX7"
      },
      "source": [
        "### 1.2 Downloading data"
      ]
    },
    {
      "cell_type": "code",
      "metadata": {
        "id": "K5E5LlzFIYHN",
        "colab": {
          "base_uri": "https://localhost:8080/"
        },
        "outputId": "7a46bf47-7aba-43d2-bd6b-3b296cd5068a"
      },
      "source": [
        "!wget https://storage.googleapis.com/www21/data.zip"
      ],
      "execution_count": null,
      "outputs": [
        {
          "output_type": "stream",
          "text": [
            "--2021-04-13 11:36:37--  https://storage.googleapis.com/www21/data.zip\n",
            "Resolving storage.googleapis.com (storage.googleapis.com)... 142.250.125.128, 142.250.148.128, 74.125.129.128, ...\n",
            "Connecting to storage.googleapis.com (storage.googleapis.com)|142.250.125.128|:443... connected.\n",
            "HTTP request sent, awaiting response... 200 OK\n",
            "Length: 170731105 (163M) [application/zip]\n",
            "Saving to: ‘data.zip.2’\n",
            "\n",
            "data.zip.2          100%[===================>] 162.82M   227MB/s    in 0.7s    \n",
            "\n",
            "2021-04-13 11:36:38 (227 MB/s) - ‘data.zip.2’ saved [170731105/170731105]\n",
            "\n"
          ],
          "name": "stdout"
        }
      ]
    },
    {
      "cell_type": "code",
      "metadata": {
        "colab": {
          "base_uri": "https://localhost:8080/"
        },
        "id": "GGIXs_PAQGG0",
        "outputId": "c49986fd-21f7-4ccc-f887-8434273793e9"
      },
      "source": [
        "!unzip data.zip"
      ],
      "execution_count": null,
      "outputs": [
        {
          "output_type": "stream",
          "text": [
            "Archive:  data.zip\n",
            "replace data/672.gz? [y]es, [n]o, [A]ll, [N]one, [r]ename: A\n",
            "  inflating: data/672.gz             \n",
            "  inflating: data/971.gz             \n",
            "  inflating: data/831.gz             \n",
            "  inflating: data/732.gz             \n",
            "  inflating: data/623.gz             \n",
            "  inflating: data/920.gz             \n",
            "  inflating: data/92.gz              \n",
            "  inflating: data/860.gz             \n",
            "  inflating: data/763.gz             \n",
            "  inflating: data/61.gz              \n",
            "  inflating: data/541.gz             \n",
            "  inflating: data/790.gz             \n",
            "  inflating: data/401.gz             \n",
            "  inflating: data/893.gz             \n",
            "  inflating: data/30.gz              \n",
            "  inflating: data/681.gz             \n",
            "  inflating: data/510.gz             \n",
            "  inflating: data/450.gz             \n",
            "  inflating: data/854.gz             \n",
            "  inflating: data/757.gz             \n",
            "  inflating: data/617.gz             \n",
            "  inflating: data/586.gz             \n",
            "  inflating: data/914.gz             \n",
            "  inflating: data/805.gz             \n",
            "  inflating: data/706.gz             \n",
            "  inflating: data/497.gz             \n",
            "  inflating: data/646.gz             \n",
            "  inflating: data/945.gz             \n",
            "  inflating: data/464.gz             \n",
            "  inflating: data/524.gz             \n",
            "  inflating: data/435.gz             \n",
            "  inflating: data/55.gz              \n",
            "  inflating: data/575.gz             \n",
            "  inflating: data/299.gz             \n",
            "  inflating: data/108.gz             \n",
            "  inflating: data/388.gz             \n",
            "  inflating: data/159.gz             \n",
            "  inflating: data/149.gz             \n",
            "  inflating: data/398.gz             \n",
            "  inflating: data/118.gz             \n",
            "  inflating: data/289.gz             \n",
            "  inflating: data/45.gz              \n",
            "  inflating: data/565.gz             \n",
            "  inflating: data/425.gz             \n",
            "  inflating: data/14.gz              \n",
            "  inflating: data/534.gz             \n",
            "  inflating: data/474.gz             \n",
            "  inflating: data/656.gz             \n",
            "  inflating: data/955.gz             \n",
            "  inflating: data/815.gz             \n",
            "  inflating: data/487.gz             \n",
            "  inflating: data/716.gz             \n",
            "  inflating: data/596.gz             \n",
            "  inflating: data/607.gz             \n",
            "  inflating: data/904.gz             \n",
            "  inflating: data/844.gz             \n",
            "  inflating: data/747.gz             \n",
            "  inflating: data/440.gz             \n",
            "  inflating: data/20.gz              \n",
            "  inflating: data/500.gz             \n",
            "  inflating: data/691.gz             \n",
            "  inflating: data/411.gz             \n",
            "  inflating: data/780.gz             \n",
            "  inflating: data/883.gz             \n",
            "  inflating: data/71.gz              \n",
            "  inflating: data/551.gz             \n",
            "  inflating: data/870.gz             \n",
            "  inflating: data/773.gz             \n",
            "  inflating: data/633.gz             \n",
            "  inflating: data/82.gz              \n",
            "  inflating: data/930.gz             \n",
            "  inflating: data/821.gz             \n",
            "  inflating: data/722.gz             \n",
            "  inflating: data/662.gz             \n",
            "  inflating: data/961.gz             \n",
            "  inflating: data/493.gz             \n",
            "  inflating: data/702.gz             \n",
            "  inflating: data/801.gz             \n",
            "  inflating: data/941.gz             \n",
            "  inflating: data/642.gz             \n",
            "  inflating: data/753.gz             \n",
            "  inflating: data/850.gz             \n",
            "  inflating: data/910.gz             \n",
            "  inflating: data/582.gz             \n",
            "  inflating: data/613.gz             \n",
            "  inflating: data/431.gz             \n",
            "  inflating: data/571.gz             \n",
            "  inflating: data/51.gz              \n",
            "  inflating: data/460.gz             \n",
            "  inflating: data/520.gz             \n",
            "  inflating: data/96.gz              \n",
            "  inflating: data/924.gz             \n",
            "  inflating: data/627.gz             \n",
            "  inflating: data/767.gz             \n",
            "  inflating: data/864.gz             \n",
            "  inflating: data/975.gz             \n",
            "  inflating: data/676.gz             \n",
            "  inflating: data/736.gz             \n",
            "  inflating: data/9.gz               \n",
            "  inflating: data/835.gz             \n",
            "  inflating: data/514.gz             \n",
            "  inflating: data/685.gz             \n",
            "  inflating: data/34.gz              \n",
            "  inflating: data/454.gz             \n",
            "  inflating: data/545.gz             \n",
            "  inflating: data/65.gz              \n",
            "  inflating: data/897.gz             \n",
            "  inflating: data/405.gz             \n",
            "  inflating: data/794.gz             \n",
            "  inflating: data/138.gz             \n",
            "  inflating: data/169.gz             \n",
            "  inflating: data/179.gz             \n",
            "  inflating: data/128.gz             \n",
            "  inflating: data/887.gz             \n",
            "  inflating: data/784.gz             \n",
            "  inflating: data/415.gz             \n",
            "  inflating: data/555.gz             \n",
            "  inflating: data/75.gz              \n",
            "  inflating: data/444.gz             \n",
            "  inflating: data/695.gz             \n",
            "  inflating: data/504.gz             \n",
            "  inflating: data/24.gz              \n",
            "  inflating: data/726.gz             \n",
            "  inflating: data/825.gz             \n",
            "  inflating: data/965.gz             \n",
            "  inflating: data/666.gz             \n",
            "  inflating: data/777.gz             \n",
            "  inflating: data/874.gz             \n",
            "  inflating: data/934.gz             \n",
            "  inflating: data/86.gz              \n",
            "  inflating: data/637.gz             \n",
            "  inflating: data/530.gz             \n",
            "  inflating: data/10.gz              \n",
            "  inflating: data/470.gz             \n",
            "  inflating: data/561.gz             \n",
            "  inflating: data/41.gz              \n",
            "  inflating: data/421.gz             \n",
            "  inflating: data/900.gz             \n",
            "  inflating: data/603.gz             \n",
            "  inflating: data/592.gz             \n",
            "  inflating: data/743.gz             \n",
            "  inflating: data/840.gz             \n",
            "  inflating: data/951.gz             \n",
            "  inflating: data/652.gz             \n",
            "  inflating: data/712.gz             \n",
            "  inflating: data/483.gz             \n",
            "  inflating: data/811.gz             \n",
            "  inflating: data/800.gz             \n",
            "  inflating: data/703.gz             \n",
            "  inflating: data/492.gz             \n",
            "  inflating: data/643.gz             \n",
            "  inflating: data/940.gz             \n",
            "  inflating: data/851.gz             \n",
            "  inflating: data/752.gz             \n",
            "  inflating: data/612.gz             \n",
            "  inflating: data/583.gz             \n",
            "  inflating: data/911.gz             \n",
            "  inflating: data/430.gz             \n",
            "  inflating: data/50.gz              \n",
            "  inflating: data/570.gz             \n",
            "  inflating: data/461.gz             \n",
            "  inflating: data/521.gz             \n",
            "  inflating: data/626.gz             \n",
            "  inflating: data/925.gz             \n",
            "  inflating: data/97.gz              \n",
            "  inflating: data/865.gz             \n",
            "  inflating: data/766.gz             \n",
            "  inflating: data/677.gz             \n",
            "  inflating: data/974.gz             \n",
            "  inflating: data/834.gz             \n",
            "  inflating: data/8.gz               \n",
            "  inflating: data/737.gz             \n",
            "  inflating: data/35.gz              \n",
            "  inflating: data/684.gz             \n",
            "  inflating: data/515.gz             \n",
            "  inflating: data/455.gz             \n",
            "  inflating: data/64.gz              \n",
            "  inflating: data/544.gz             \n",
            "  inflating: data/795.gz             \n",
            "  inflating: data/404.gz             \n",
            "  inflating: data/896.gz             \n",
            "  inflating: data/139.gz             \n",
            "  inflating: data/168.gz             \n",
            "  inflating: data/178.gz             \n",
            "  inflating: data/129.gz             \n",
            "  inflating: data/414.gz             \n",
            "  inflating: data/785.gz             \n",
            "  inflating: data/886.gz             \n",
            "  inflating: data/74.gz              \n",
            "  inflating: data/554.gz             \n",
            "  inflating: data/445.gz             \n",
            "  inflating: data/25.gz              \n",
            "  inflating: data/505.gz             \n",
            "  inflating: data/694.gz             \n",
            "  inflating: data/824.gz             \n",
            "  inflating: data/727.gz             \n",
            "  inflating: data/667.gz             \n",
            "  inflating: data/964.gz             \n",
            "  inflating: data/875.gz             \n",
            "  inflating: data/776.gz             \n",
            "  inflating: data/636.gz             \n",
            "  inflating: data/87.gz              \n",
            "  inflating: data/935.gz             \n",
            "  inflating: data/11.gz              \n",
            "  inflating: data/531.gz             \n",
            "  inflating: data/471.gz             \n",
            "  inflating: data/40.gz              \n",
            "  inflating: data/560.gz             \n",
            "  inflating: data/420.gz             \n",
            "  inflating: data/593.gz             \n",
            "  inflating: data/602.gz             \n",
            "  inflating: data/901.gz             \n",
            "  inflating: data/841.gz             \n",
            "  inflating: data/742.gz             \n",
            "  inflating: data/653.gz             \n",
            "  inflating: data/950.gz             \n",
            "  inflating: data/810.gz             \n",
            "  inflating: data/482.gz             \n",
            "  inflating: data/713.gz             \n",
            "  inflating: data/970.gz             \n",
            "  inflating: data/673.gz             \n",
            "  inflating: data/733.gz             \n",
            "  inflating: data/830.gz             \n",
            "  inflating: data/93.gz              \n",
            "  inflating: data/921.gz             \n",
            "  inflating: data/622.gz             \n",
            "  inflating: data/762.gz             \n",
            "  inflating: data/861.gz             \n",
            "  inflating: data/540.gz             \n",
            "  inflating: data/60.gz              \n",
            "  inflating: data/892.gz             \n",
            "  inflating: data/400.gz             \n",
            "  inflating: data/791.gz             \n",
            "  inflating: data/511.gz             \n",
            "  inflating: data/680.gz             \n",
            "  inflating: data/31.gz              \n",
            "  inflating: data/451.gz             \n",
            "  inflating: data/756.gz             \n",
            "  inflating: data/855.gz             \n",
            "  inflating: data/915.gz             \n",
            "  inflating: data/587.gz             \n",
            "  inflating: data/616.gz             \n",
            "  inflating: data/496.gz             \n",
            "  inflating: data/707.gz             \n",
            "  inflating: data/804.gz             \n",
            "  inflating: data/944.gz             \n",
            "  inflating: data/647.gz             \n",
            "  inflating: data/465.gz             \n",
            "  inflating: data/525.gz             \n",
            "  inflating: data/434.gz             \n",
            "  inflating: data/574.gz             \n",
            "  inflating: data/54.gz              \n",
            "  inflating: data/109.gz             \n",
            "  inflating: data/298.gz             \n",
            "  inflating: data/389.gz             \n",
            "  inflating: data/158.gz             \n",
            "  inflating: data/148.gz             \n",
            "  inflating: data/399.gz             \n",
            "  inflating: data/288.gz             \n",
            "  inflating: data/119.gz             \n",
            "  inflating: data/564.gz             \n",
            "  inflating: data/44.gz              \n",
            "  inflating: data/424.gz             \n",
            "  inflating: data/535.gz             \n",
            "  inflating: data/15.gz              \n",
            "  inflating: data/475.gz             \n",
            "  inflating: data/954.gz             \n",
            "  inflating: data/657.gz             \n",
            "  inflating: data/717.gz             \n",
            "  inflating: data/486.gz             \n",
            "  inflating: data/814.gz             \n",
            "  inflating: data/905.gz             \n",
            "  inflating: data/606.gz             \n",
            "  inflating: data/597.gz             \n",
            "  inflating: data/746.gz             \n",
            "  inflating: data/845.gz             \n",
            "  inflating: data/441.gz             \n",
            "  inflating: data/690.gz             \n",
            "  inflating: data/501.gz             \n",
            "  inflating: data/21.gz              \n",
            "  inflating: data/882.gz             \n",
            "  inflating: data/781.gz             \n",
            "  inflating: data/410.gz             \n",
            "  inflating: data/550.gz             \n",
            "  inflating: data/70.gz              \n",
            "  inflating: data/772.gz             \n",
            "  inflating: data/871.gz             \n",
            "  inflating: data/931.gz             \n",
            "  inflating: data/83.gz              \n",
            "  inflating: data/632.gz             \n",
            "  inflating: data/723.gz             \n",
            "  inflating: data/820.gz             \n",
            "  inflating: data/960.gz             \n",
            "  inflating: data/663.gz             \n",
            "  inflating: data/102.gz             \n",
            "  inflating: data/293.gz             \n",
            "  inflating: data/382.gz             \n",
            "  inflating: data/153.gz             \n",
            "  inflating: data/371.gz             \n",
            "  inflating: data/231.gz             \n",
            "  inflating: data/320.gz             \n",
            "  inflating: data/260.gz             \n",
            "  inflating: data/167.gz             \n",
            "  inflating: data/136.gz             \n",
            "  inflating: data/254.gz             \n",
            "  inflating: data/314.gz             \n",
            "  inflating: data/194.gz             \n",
            "  inflating: data/205.gz             \n",
            "  inflating: data/345.gz             \n",
            "  inflating: data/899.gz             \n",
            "  inflating: data/678.gz             \n",
            "  inflating: data/7.gz               \n",
            "  inflating: data/738.gz             \n",
            "  inflating: data/629.gz             \n",
            "  inflating: data/98.gz              \n",
            "  inflating: data/769.gz             \n",
            "  inflating: data/779.gz             \n",
            "  inflating: data/639.gz             \n",
            "  inflating: data/88.gz              \n",
            "  inflating: data/728.gz             \n",
            "  inflating: data/668.gz             \n",
            "  inflating: data/889.gz             \n",
            "  inflating: data/355.gz             \n",
            "  inflating: data/215.gz             \n",
            "  inflating: data/184.gz             \n",
            "  inflating: data/304.gz             \n",
            "  inflating: data/244.gz             \n",
            "  inflating: data/126.gz             \n",
            "  inflating: data/177.gz             \n",
            "  inflating: data/270.gz             \n",
            "  inflating: data/330.gz             \n",
            "  inflating: data/221.gz             \n",
            "  inflating: data/361.gz             \n",
            "  inflating: data/143.gz             \n",
            "  inflating: data/392.gz             \n",
            "  inflating: data/283.gz             \n",
            "  inflating: data/112.gz             \n",
            "  inflating: data/132.gz             \n",
            "  inflating: data/163.gz             \n",
            "  inflating: data/201.gz             \n",
            "  inflating: data/190.gz             \n",
            "  inflating: data/341.gz             \n",
            "  inflating: data/250.gz             \n",
            "  inflating: data/310.gz             \n",
            "  inflating: data/386.gz             \n",
            "  inflating: data/157.gz             \n",
            "  inflating: data/297.gz             \n",
            "  inflating: data/106.gz             \n",
            "  inflating: data/324.gz             \n",
            "  inflating: data/264.gz             \n",
            "  inflating: data/375.gz             \n",
            "  inflating: data/235.gz             \n",
            "  inflating: data/708.gz             \n",
            "  inflating: data/499.gz             \n",
            "  inflating: data/648.gz             \n",
            "  inflating: data/759.gz             \n",
            "  inflating: data/619.gz             \n",
            "  inflating: data/588.gz             \n",
            "  inflating: data/3.gz               \n",
            "  inflating: data/598.gz             \n",
            "  inflating: data/609.gz             \n",
            "  inflating: data/749.gz             \n",
            "  inflating: data/658.gz             \n",
            "  inflating: data/489.gz             \n",
            "  inflating: data/718.gz             \n",
            "  inflating: data/225.gz             \n",
            "  inflating: data/365.gz             \n",
            "  inflating: data/274.gz             \n",
            "  inflating: data/334.gz             \n",
            "  inflating: data/116.gz             \n",
            "  inflating: data/287.gz             \n",
            "  inflating: data/147.gz             \n",
            "  inflating: data/396.gz             \n",
            "  inflating: data/300.gz             \n",
            "  inflating: data/240.gz             \n",
            "  inflating: data/351.gz             \n",
            "  inflating: data/180.gz             \n",
            "  inflating: data/211.gz             \n",
            "  inflating: data/173.gz             \n",
            "  inflating: data/122.gz             \n",
            "  inflating: data/133.gz             \n",
            "  inflating: data/162.gz             \n",
            "  inflating: data/191.gz             \n",
            "  inflating: data/200.gz             \n",
            "  inflating: data/340.gz             \n",
            "  inflating: data/251.gz             \n",
            "  inflating: data/311.gz             \n",
            "  inflating: data/387.gz             \n",
            "  inflating: data/156.gz             \n",
            "  inflating: data/107.gz             \n",
            "  inflating: data/296.gz             \n",
            "  inflating: data/325.gz             \n",
            "  inflating: data/265.gz             \n",
            "  inflating: data/374.gz             \n",
            "  inflating: data/234.gz             \n",
            "  inflating: data/498.gz             \n",
            "  inflating: data/709.gz             \n",
            "  inflating: data/649.gz             \n",
            "  inflating: data/758.gz             \n",
            "  inflating: data/589.gz             \n",
            "  inflating: data/618.gz             \n",
            "  inflating: data/2.gz               \n",
            "  inflating: data/608.gz             \n",
            "  inflating: data/599.gz             \n",
            "  inflating: data/748.gz             \n",
            "  inflating: data/659.gz             \n",
            "  inflating: data/719.gz             \n",
            "  inflating: data/488.gz             \n",
            "  inflating: data/224.gz             \n",
            "  inflating: data/364.gz             \n",
            "  inflating: data/275.gz             \n",
            "  inflating: data/335.gz             \n",
            "  inflating: data/286.gz             \n",
            "  inflating: data/117.gz             \n",
            " extracting: data/146.gz             \n",
            "  inflating: data/397.gz             \n",
            "  inflating: data/301.gz             \n",
            "  inflating: data/241.gz             \n",
            "  inflating: data/350.gz             \n",
            "  inflating: data/210.gz             \n",
            "  inflating: data/181.gz             \n",
            "  inflating: data/172.gz             \n",
            "  inflating: data/123.gz             \n",
            " extracting: data/292.gz             \n",
            "  inflating: data/103.gz             \n",
            "  inflating: data/383.gz             \n",
            "  inflating: data/152.gz             \n",
            "  inflating: data/370.gz             \n",
            "  inflating: data/230.gz             \n",
            "  inflating: data/321.gz             \n",
            "  inflating: data/261.gz             \n",
            "  inflating: data/166.gz             \n",
            "  inflating: data/137.gz             \n",
            "  inflating: data/255.gz             \n",
            "  inflating: data/315.gz             \n",
            "  inflating: data/204.gz             \n",
            "  inflating: data/195.gz             \n",
            "  inflating: data/344.gz             \n",
            "  inflating: data/898.gz             \n",
            "  inflating: data/679.gz             \n",
            "  inflating: data/739.gz             \n",
            "  inflating: data/6.gz               \n",
            "  inflating: data/99.gz              \n",
            "  inflating: data/628.gz             \n",
            "  inflating: data/768.gz             \n",
            "  inflating: data/778.gz             \n",
            "  inflating: data/89.gz              \n",
            "  inflating: data/638.gz             \n",
            "  inflating: data/729.gz             \n",
            "  inflating: data/669.gz             \n",
            "  inflating: data/888.gz             \n",
            "  inflating: data/354.gz             \n",
            "  inflating: data/185.gz             \n",
            "  inflating: data/214.gz             \n",
            "  inflating: data/305.gz             \n",
            "  inflating: data/245.gz             \n",
            "  inflating: data/127.gz             \n",
            "  inflating: data/176.gz             \n",
            "  inflating: data/271.gz             \n",
            "  inflating: data/331.gz             \n",
            "  inflating: data/220.gz             \n",
            "  inflating: data/360.gz             \n",
            "  inflating: data/142.gz             \n",
            "  inflating: data/393.gz             \n",
            "  inflating: data/113.gz             \n",
            "  inflating: data/282.gz             \n",
            "  inflating: data/252.gz             \n",
            "  inflating: data/312.gz             \n",
            "  inflating: data/203.gz             \n",
            "  inflating: data/192.gz             \n",
            "  inflating: data/343.gz             \n",
            "  inflating: data/161.gz             \n",
            "  inflating: data/130.gz             \n",
            "  inflating: data/377.gz             \n",
            "  inflating: data/237.gz             \n",
            "  inflating: data/326.gz             \n",
            "  inflating: data/266.gz             \n",
            "  inflating: data/295.gz             \n",
            "  inflating: data/104.gz             \n",
            "  inflating: data/384.gz             \n",
            "  inflating: data/155.gz             \n",
            "  inflating: data/858.gz             \n",
            "  inflating: data/918.gz             \n",
            "  inflating: data/809.gz             \n",
            "  inflating: data/949.gz             \n",
            "  inflating: data/468.gz             \n",
            "  inflating: data/528.gz             \n",
            "  inflating: data/439.gz             \n",
            "  inflating: data/59.gz              \n",
            "  inflating: data/579.gz             \n",
            "  inflating: data/1.gz               \n",
            "  inflating: data/49.gz              \n",
            "  inflating: data/569.gz             \n",
            "  inflating: data/429.gz             \n",
            "  inflating: data/18.gz              \n",
            "  inflating: data/538.gz             \n",
            "  inflating: data/478.gz             \n",
            "  inflating: data/959.gz             \n",
            "  inflating: data/819.gz             \n",
            "  inflating: data/908.gz             \n",
            "  inflating: data/848.gz             \n",
            "  inflating: data/145.gz             \n",
            "  inflating: data/394.gz             \n",
            "  inflating: data/114.gz             \n",
            "  inflating: data/285.gz             \n",
            "  inflating: data/276.gz             \n",
            "  inflating: data/336.gz             \n",
            "  inflating: data/227.gz             \n",
            "  inflating: data/367.gz             \n",
            "  inflating: data/120.gz             \n",
            "  inflating: data/171.gz             \n",
            "  inflating: data/353.gz             \n",
            "  inflating: data/182.gz             \n",
            "  inflating: data/213.gz             \n",
            "  inflating: data/302.gz             \n",
            "  inflating: data/242.gz             \n",
            "  inflating: data/322.gz             \n",
            "  inflating: data/262.gz             \n",
            "  inflating: data/373.gz             \n",
            "  inflating: data/233.gz             \n",
            "  inflating: data/380.gz             \n",
            "  inflating: data/151.gz             \n",
            "  inflating: data/100.gz             \n",
            "  inflating: data/291.gz             \n",
            "  inflating: data/196.gz             \n",
            "  inflating: data/207.gz             \n",
            "  inflating: data/347.gz             \n",
            "  inflating: data/256.gz             \n",
            "  inflating: data/316.gz             \n",
            "  inflating: data/134.gz             \n",
            "  inflating: data/165.gz             \n",
            "  inflating: data/928.gz             \n",
            "  inflating: data/868.gz             \n",
            "  inflating: data/979.gz             \n",
            "  inflating: data/5.gz               \n",
            "  inflating: data/839.gz             \n",
            "  inflating: data/518.gz             \n",
            "  inflating: data/689.gz             \n",
            "  inflating: data/38.gz              \n",
            "  inflating: data/458.gz             \n",
            "  inflating: data/549.gz             \n",
            "  inflating: data/69.gz              \n",
            "  inflating: data/409.gz             \n",
            "  inflating: data/798.gz             \n",
            "  inflating: data/788.gz             \n",
            "  inflating: data/419.gz             \n",
            "  inflating: data/559.gz             \n",
            "  inflating: data/79.gz              \n",
            "  inflating: data/448.gz             \n",
            "  inflating: data/699.gz             \n",
            "  inflating: data/508.gz             \n",
            "  inflating: data/28.gz              \n",
            "  inflating: data/829.gz             \n",
            "  inflating: data/969.gz             \n",
            "  inflating: data/878.gz             \n",
            "  inflating: data/938.gz             \n",
            "  inflating: data/175.gz             \n",
            "  inflating: data/124.gz             \n",
            "  inflating: data/306.gz             \n",
            "  inflating: data/246.gz             \n",
            "  inflating: data/357.gz             \n",
            "  inflating: data/217.gz             \n",
            "  inflating: data/186.gz             \n",
            "  inflating: data/281.gz             \n",
            "  inflating: data/110.gz             \n",
            "  inflating: data/141.gz             \n",
            "  inflating: data/390.gz             \n",
            "  inflating: data/223.gz             \n",
            "  inflating: data/363.gz             \n",
            "  inflating: data/272.gz             \n",
            "  inflating: data/332.gz             \n",
            "  inflating: data/323.gz             \n",
            "  inflating: data/263.gz             \n",
            "  inflating: data/372.gz             \n",
            "  inflating: data/232.gz             \n",
            "  inflating: data/381.gz             \n",
            "  inflating: data/150.gz             \n",
            "  inflating: data/290.gz             \n",
            "  inflating: data/101.gz             \n",
            "  inflating: data/206.gz             \n",
            "  inflating: data/197.gz             \n",
            "  inflating: data/346.gz             \n",
            "  inflating: data/257.gz             \n",
            "  inflating: data/317.gz             \n",
            "  inflating: data/135.gz             \n",
            "  inflating: data/164.gz             \n",
            "  inflating: data/929.gz             \n",
            "  inflating: data/869.gz             \n",
            "  inflating: data/978.gz             \n",
            "  inflating: data/838.gz             \n",
            "  inflating: data/4.gz               \n",
            "  inflating: data/39.gz              \n",
            "  inflating: data/688.gz             \n",
            "  inflating: data/519.gz             \n",
            "  inflating: data/459.gz             \n",
            "  inflating: data/68.gz              \n",
            "  inflating: data/548.gz             \n",
            "  inflating: data/799.gz             \n",
            "  inflating: data/408.gz             \n",
            "  inflating: data/418.gz             \n",
            "  inflating: data/789.gz             \n",
            "  inflating: data/78.gz              \n",
            "  inflating: data/558.gz             \n",
            "  inflating: data/449.gz             \n",
            "  inflating: data/29.gz              \n",
            "  inflating: data/509.gz             \n",
            "  inflating: data/698.gz             \n",
            "  inflating: data/828.gz             \n",
            "  inflating: data/968.gz             \n",
            "  inflating: data/879.gz             \n",
            "  inflating: data/939.gz             \n",
            "  inflating: data/174.gz             \n",
            "  inflating: data/125.gz             \n",
            "  inflating: data/307.gz             \n",
            "  inflating: data/247.gz             \n",
            "  inflating: data/356.gz             \n",
            "  inflating: data/187.gz             \n",
            "  inflating: data/216.gz             \n",
            "  inflating: data/111.gz             \n",
            "  inflating: data/280.gz             \n",
            "  inflating: data/140.gz             \n",
            "  inflating: data/391.gz             \n",
            "  inflating: data/222.gz             \n",
            "  inflating: data/362.gz             \n",
            "  inflating: data/273.gz             \n",
            "  inflating: data/333.gz             \n",
            "  inflating: data/253.gz             \n",
            "  inflating: data/313.gz             \n",
            "  inflating: data/193.gz             \n",
            "  inflating: data/202.gz             \n",
            "  inflating: data/342.gz             \n",
            "  inflating: data/160.gz             \n",
            "  inflating: data/131.gz             \n",
            "  inflating: data/376.gz             \n",
            "  inflating: data/236.gz             \n",
            "  inflating: data/327.gz             \n",
            "  inflating: data/267.gz             \n",
            "  inflating: data/105.gz             \n",
            "  inflating: data/294.gz             \n",
            "  inflating: data/385.gz             \n",
            "  inflating: data/154.gz             \n",
            "  inflating: data/859.gz             \n",
            "  inflating: data/919.gz             \n",
            "  inflating: data/808.gz             \n",
            "  inflating: data/948.gz             \n",
            "  inflating: data/469.gz             \n",
            "  inflating: data/529.gz             \n",
            "  inflating: data/438.gz             \n",
            "  inflating: data/578.gz             \n",
            "  inflating: data/58.gz              \n",
            "  inflating: data/0.gz               \n",
            "  inflating: data/568.gz             \n",
            "  inflating: data/48.gz              \n",
            "  inflating: data/428.gz             \n",
            "  inflating: data/539.gz             \n",
            "  inflating: data/19.gz              \n",
            "  inflating: data/479.gz             \n",
            "  inflating: data/958.gz             \n",
            "  inflating: data/818.gz             \n",
            "  inflating: data/909.gz             \n",
            "  inflating: data/849.gz             \n",
            "  inflating: data/144.gz             \n",
            "  inflating: data/395.gz             \n",
            "  inflating: data/284.gz             \n",
            "  inflating: data/115.gz             \n",
            "  inflating: data/277.gz             \n",
            "  inflating: data/337.gz             \n",
            "  inflating: data/226.gz             \n",
            "  inflating: data/366.gz             \n",
            "  inflating: data/121.gz             \n",
            "  inflating: data/170.gz             \n",
            "  inflating: data/352.gz             \n",
            "  inflating: data/212.gz             \n",
            "  inflating: data/183.gz             \n",
            "  inflating: data/303.gz             \n",
            "  inflating: data/243.gz             \n",
            "  inflating: data/462.gz             \n",
            "  inflating: data/522.gz             \n",
            "  inflating: data/433.gz             \n",
            "  inflating: data/53.gz              \n",
            "  inflating: data/573.gz             \n",
            "  inflating: data/852.gz             \n",
            "  inflating: data/751.gz             \n",
            "  inflating: data/580.gz             \n",
            "  inflating: data/611.gz             \n",
            "  inflating: data/912.gz             \n",
            "  inflating: data/803.gz             \n",
            "  inflating: data/491.gz             \n",
            "  inflating: data/700.gz             \n",
            "  inflating: data/640.gz             \n",
            "  inflating: data/943.gz             \n",
            "  inflating: data/67.gz              \n",
            "  inflating: data/547.gz             \n",
            "  inflating: data/407.gz             \n",
            "  inflating: data/796.gz             \n",
            "  inflating: data/895.gz             \n",
            "  inflating: data/36.gz              \n",
            "  inflating: data/516.gz             \n",
            "  inflating: data/687.gz             \n",
            "  inflating: data/456.gz             \n",
            "  inflating: data/674.gz             \n",
            "  inflating: data/977.gz             \n",
            "  inflating: data/837.gz             \n",
            "  inflating: data/734.gz             \n",
            "  inflating: data/625.gz             \n",
            "  inflating: data/926.gz             \n",
            "  inflating: data/94.gz              \n",
            "  inflating: data/866.gz             \n",
            "  inflating: data/765.gz             \n",
            "  inflating: data/258.gz             \n",
            "  inflating: data/318.gz             \n",
            "  inflating: data/198.gz             \n",
            "  inflating: data/209.gz             \n",
            "  inflating: data/349.gz             \n",
            "  inflating: data/359.gz             \n",
            "  inflating: data/219.gz             \n",
            "  inflating: data/188.gz             \n",
            "  inflating: data/308.gz             \n",
            "  inflating: data/248.gz             \n",
            "  inflating: data/876.gz             \n",
            "  inflating: data/775.gz             \n",
            "  inflating: data/635.gz             \n",
            "  inflating: data/84.gz              \n",
            "  inflating: data/936.gz             \n",
            "  inflating: data/827.gz             \n",
            "  inflating: data/724.gz             \n",
            "  inflating: data/664.gz             \n",
            "  inflating: data/967.gz             \n",
            "  inflating: data/446.gz             \n",
            "  inflating: data/26.gz              \n",
            "  inflating: data/697.gz             \n",
            "  inflating: data/506.gz             \n",
            "  inflating: data/786.gz             \n",
            "  inflating: data/417.gz             \n",
            "  inflating: data/885.gz             \n",
            "  inflating: data/77.gz              \n",
            "  inflating: data/557.gz             \n",
            "  inflating: data/650.gz             \n",
            "  inflating: data/953.gz             \n",
            "  inflating: data/813.gz             \n",
            "  inflating: data/710.gz             \n",
            "  inflating: data/481.gz             \n",
            "  inflating: data/601.gz             \n",
            "  inflating: data/590.gz             \n",
            "  inflating: data/902.gz             \n",
            "  inflating: data/842.gz             \n",
            "  inflating: data/741.gz             \n",
            "  inflating: data/43.gz              \n",
            "  inflating: data/563.gz             \n",
            "  inflating: data/423.gz             \n",
            "  inflating: data/12.gz              \n",
            "  inflating: data/532.gz             \n",
            "  inflating: data/472.gz             \n",
            "  inflating: data/683.gz             \n",
            "  inflating: data/512.gz             \n",
            "  inflating: data/32.gz              \n",
            "  inflating: data/452.gz             \n",
            "  inflating: data/543.gz             \n",
            "  inflating: data/63.gz              \n",
            "  inflating: data/891.gz             \n",
            "  inflating: data/792.gz             \n",
            "  inflating: data/403.gz             \n",
            "  inflating: data/90.gz              \n",
            "  inflating: data/922.gz             \n",
            "  inflating: data/621.gz             \n",
            "  inflating: data/761.gz             \n",
            "  inflating: data/862.gz             \n",
            "  inflating: data/973.gz             \n",
            "  inflating: data/670.gz             \n",
            "  inflating: data/730.gz             \n",
            "  inflating: data/833.gz             \n",
            "  inflating: data/437.gz             \n",
            "  inflating: data/577.gz             \n",
            "  inflating: data/57.gz              \n",
            "  inflating: data/466.gz             \n",
            "  inflating: data/526.gz             \n",
            "  inflating: data/704.gz             \n",
            "  inflating: data/495.gz             \n",
            "  inflating: data/807.gz             \n",
            "  inflating: data/947.gz             \n",
            "  inflating: data/644.gz             \n",
            "  inflating: data/755.gz             \n",
            "  inflating: data/856.gz             \n",
            "  inflating: data/916.gz             \n",
            "  inflating: data/615.gz             \n",
            "  inflating: data/584.gz             \n",
            "  inflating: data/328.gz             \n",
            "  inflating: data/268.gz             \n",
            "  inflating: data/379.gz             \n",
            "  inflating: data/239.gz             \n",
            "  inflating: data/229.gz             \n",
            "  inflating: data/369.gz             \n",
            "  inflating: data/278.gz             \n",
            "  inflating: data/338.gz             \n",
            "  inflating: data/906.gz             \n",
            "  inflating: data/594.gz             \n",
            "  inflating: data/605.gz             \n",
            "  inflating: data/745.gz             \n",
            "  inflating: data/846.gz             \n",
            "  inflating: data/957.gz             \n",
            "  inflating: data/654.gz             \n",
            "  inflating: data/485.gz             \n",
            "  inflating: data/714.gz             \n",
            "  inflating: data/817.gz             \n",
            "  inflating: data/536.gz             \n",
            "  inflating: data/16.gz              \n",
            "  inflating: data/476.gz             \n",
            "  inflating: data/567.gz             \n",
            "  inflating: data/47.gz              \n",
            "  inflating: data/427.gz             \n",
            "  inflating: data/720.gz             \n",
            "  inflating: data/823.gz             \n",
            "  inflating: data/963.gz             \n",
            "  inflating: data/660.gz             \n",
            "  inflating: data/771.gz             \n",
            "  inflating: data/872.gz             \n",
            "  inflating: data/932.gz             \n",
            "  inflating: data/80.gz              \n",
            "  inflating: data/631.gz             \n",
            "  inflating: data/881.gz             \n",
            "  inflating: data/413.gz             \n",
            "  inflating: data/782.gz             \n",
            "  inflating: data/553.gz             \n",
            "  inflating: data/73.gz              \n",
            "  inflating: data/442.gz             \n",
            "  inflating: data/502.gz             \n",
            "  inflating: data/693.gz             \n",
            "  inflating: data/22.gz              \n",
            "  inflating: data/33.gz              \n",
            "  inflating: data/513.gz             \n",
            "  inflating: data/682.gz             \n",
            "  inflating: data/453.gz             \n",
            "  inflating: data/62.gz              \n",
            "  inflating: data/542.gz             \n",
            "  inflating: data/402.gz             \n",
            "  inflating: data/793.gz             \n",
            "  inflating: data/890.gz             \n",
            "  inflating: data/620.gz             \n",
            "  inflating: data/923.gz             \n",
            "  inflating: data/91.gz              \n",
            "  inflating: data/863.gz             \n",
            "  inflating: data/760.gz             \n",
            "  inflating: data/671.gz             \n",
            "  inflating: data/972.gz             \n",
            "  inflating: data/832.gz             \n",
            "  inflating: data/731.gz             \n",
            "  inflating: data/436.gz             \n",
            "  inflating: data/56.gz              \n",
            "  inflating: data/576.gz             \n",
            "  inflating: data/467.gz             \n",
            "  inflating: data/527.gz             \n",
            "  inflating: data/806.gz             \n",
            "  inflating: data/494.gz             \n",
            "  inflating: data/705.gz             \n",
            "  inflating: data/645.gz             \n",
            "  inflating: data/946.gz             \n",
            "  inflating: data/857.gz             \n",
            "  inflating: data/754.gz             \n",
            "  inflating: data/585.gz             \n",
            "  inflating: data/614.gz             \n",
            "  inflating: data/917.gz             \n",
            "  inflating: data/329.gz             \n",
            "  inflating: data/269.gz             \n",
            "  inflating: data/378.gz             \n",
            "  inflating: data/238.gz             \n",
            "  inflating: data/228.gz             \n",
            "  inflating: data/368.gz             \n",
            "  inflating: data/279.gz             \n",
            "  inflating: data/339.gz             \n",
            "  inflating: data/604.gz             \n",
            "  inflating: data/595.gz             \n",
            "  inflating: data/907.gz             \n",
            "  inflating: data/847.gz             \n",
            "  inflating: data/744.gz             \n",
            "  inflating: data/655.gz             \n",
            "  inflating: data/956.gz             \n",
            "  inflating: data/816.gz             \n",
            "  inflating: data/715.gz             \n",
            "  inflating: data/484.gz             \n",
            "  inflating: data/17.gz              \n",
            "  inflating: data/537.gz             \n",
            "  inflating: data/477.gz             \n",
            "  inflating: data/46.gz              \n",
            "  inflating: data/566.gz             \n",
            "  inflating: data/426.gz             \n",
            "  inflating: data/822.gz             \n",
            "  inflating: data/721.gz             \n",
            "  inflating: data/661.gz             \n",
            "  inflating: data/962.gz             \n",
            "  inflating: data/873.gz             \n",
            "  inflating: data/770.gz             \n",
            "  inflating: data/630.gz             \n",
            "  inflating: data/81.gz              \n",
            "  inflating: data/933.gz             \n",
            "  inflating: data/783.gz             \n",
            "  inflating: data/412.gz             \n",
            "  inflating: data/880.gz             \n",
            "  inflating: data/72.gz              \n",
            "  inflating: data/552.gz             \n",
            "  inflating: data/443.gz             \n",
            "  inflating: data/23.gz              \n",
            "  inflating: data/692.gz             \n",
            "  inflating: data/503.gz             \n",
            "  inflating: data/463.gz             \n",
            "  inflating: data/523.gz             \n",
            "  inflating: data/432.gz             \n",
            "  inflating: data/572.gz             \n",
            "  inflating: data/52.gz              \n",
            "  inflating: data/750.gz             \n",
            "  inflating: data/853.gz             \n",
            "  inflating: data/913.gz             \n",
            "  inflating: data/610.gz             \n",
            "  inflating: data/581.gz             \n",
            "  inflating: data/701.gz             \n",
            "  inflating: data/490.gz             \n",
            "  inflating: data/802.gz             \n",
            "  inflating: data/942.gz             \n",
            "  inflating: data/641.gz             \n",
            "  inflating: data/546.gz             \n",
            "  inflating: data/66.gz              \n",
            "  inflating: data/894.gz             \n",
            "  inflating: data/797.gz             \n",
            "  inflating: data/406.gz             \n",
            "  inflating: data/686.gz             \n",
            "  inflating: data/517.gz             \n",
            "  inflating: data/37.gz              \n",
            "  inflating: data/457.gz             \n",
            "  inflating: data/976.gz             \n",
            "  inflating: data/675.gz             \n",
            "  inflating: data/735.gz             \n",
            "  inflating: data/836.gz             \n",
            "  inflating: data/95.gz              \n",
            "  inflating: data/927.gz             \n",
            "  inflating: data/624.gz             \n",
            "  inflating: data/764.gz             \n",
            "  inflating: data/867.gz             \n",
            "  inflating: data/259.gz             \n",
            "  inflating: data/319.gz             \n",
            "  inflating: data/208.gz             \n",
            "  inflating: data/199.gz             \n",
            "  inflating: data/348.gz             \n",
            "  inflating: data/358.gz             \n",
            "  inflating: data/189.gz             \n",
            "  inflating: data/218.gz             \n",
            "  inflating: data/309.gz             \n",
            "  inflating: data/249.gz             \n",
            "  inflating: data/774.gz             \n",
            "  inflating: data/877.gz             \n",
            "  inflating: data/937.gz             \n",
            "  inflating: data/85.gz              \n",
            "  inflating: data/634.gz             \n",
            "  inflating: data/725.gz             \n",
            "  inflating: data/826.gz             \n",
            "  inflating: data/966.gz             \n",
            "  inflating: data/665.gz             \n",
            "  inflating: data/447.gz             \n",
            "  inflating: data/507.gz             \n",
            "  inflating: data/696.gz             \n",
            "  inflating: data/27.gz              \n",
            "  inflating: data/884.gz             \n",
            "  inflating: data/416.gz             \n",
            "  inflating: data/787.gz             \n",
            "  inflating: data/556.gz             \n",
            "  inflating: data/76.gz              \n",
            "  inflating: data/952.gz             \n",
            "  inflating: data/651.gz             \n",
            "  inflating: data/480.gz             \n",
            "  inflating: data/711.gz             \n",
            "  inflating: data/812.gz             \n",
            "  inflating: data/903.gz             \n",
            "  inflating: data/591.gz             \n",
            "  inflating: data/600.gz             \n",
            "  inflating: data/740.gz             \n",
            "  inflating: data/843.gz             \n",
            "  inflating: data/562.gz             \n",
            "  inflating: data/42.gz              \n",
            "  inflating: data/422.gz             \n",
            "  inflating: data/533.gz             \n",
            "  inflating: data/13.gz              \n",
            "  inflating: data/473.gz             \n"
          ],
          "name": "stdout"
        }
      ]
    },
    {
      "cell_type": "markdown",
      "metadata": {
        "id": "x4KnjgxsIIsL"
      },
      "source": [
        "## 2 Looking at the data"
      ]
    },
    {
      "cell_type": "markdown",
      "metadata": {
        "id": "g6L5yLHOIuvs"
      },
      "source": [
        "### 2.1 Preparing data-related tasks"
      ]
    },
    {
      "cell_type": "markdown",
      "metadata": {
        "id": "sTJKMUrHJCMG"
      },
      "source": [
        "So far, we downloaded a sample dataset, where each graph is represented by a `JSON`. To run statistics on this we need to first load the dataset."
      ]
    },
    {
      "cell_type": "markdown",
      "metadata": {
        "id": "41j5f_OuQNF6"
      },
      "source": [
        "Each `JSON` has the following structure:\n",
        "\n",
        "\n",
        "```json\n",
        "{\n",
        "  \"type\": \"ml.dom\",\n",
        "  \"url\": <The url where the DOM was extracted from>,\n",
        "  \"isIFrame\": <Whether this DOM tree was associated with an IFrame or not>,\n",
        "  \"graph\": {\n",
        "    \"tag\": <String, The HTML tag associated with the node>,\n",
        "    \"ad\": <0/1, Whether this node is part of an ad or not>,\n",
        "    \"attributes\": <Dictonary of the nodes' CSS attributes>,\n",
        "    \"filter\": <The filter that matched this node, if applicable>,\n",
        "    \"elementHidden\": <Whether this node matched a hiding filter or not>,\n",
        "    \"elementBlocked\": <Whether this node matched a blocking filter or not>,\n",
        "    \"height\": <Height of the HTML element>,\n",
        "    \"width\": <Width of the HTML element>,\n",
        "    \"children\": <List of nodes that branch off this node>\n",
        "  }\n",
        "}\n",
        "```\n",
        "\n"
      ]
    },
    {
      "cell_type": "code",
      "metadata": {
        "id": "jjPqJiv2JmxZ"
      },
      "source": [
        "# Importing relevant libraries\n",
        "import pathlib\n",
        "import orjson\n",
        "import typing\n",
        "import gzip\n",
        "import itertools"
      ],
      "execution_count": null,
      "outputs": []
    },
    {
      "cell_type": "code",
      "metadata": {
        "id": "xxrZblVCI509"
      },
      "source": [
        "def get_data(\n",
        "    dataset_path: typing.Type[pathlib.Path], \n",
        "    filter: typing.Optional[typing.Callable[[dict], bool]] = lambda x: True\n",
        "    ) -> typing.Iterable:\n",
        "  all_files = dataset_path.glob('*.gz')\n",
        "  dataset = []\n",
        "\n",
        "  for f in all_files:\n",
        "\n",
        "    with gzip.open(f, mode='r') as stream:\n",
        "      try:\n",
        "        data = orjson.loads(stream.read())\n",
        "      except BaseException:\n",
        "        # This usually means that the data file is somehow corrupted.\n",
        "        # For the purpose of this tutorial, we'll skip these.\n",
        "        continue\n",
        "      \n",
        "      if 'graph' not in data:\n",
        "        # The JSON does not have the expected format, so we'll just \n",
        "        # ignore this for now.\n",
        "        continue\n",
        "      \n",
        "      if not filter(data):\n",
        "        # The graph did not pass the filter function, so we'll ignore\n",
        "        # this one as well.\n",
        "        continue\n",
        "      \n",
        "    yield data    \n"
      ],
      "execution_count": null,
      "outputs": []
    },
    {
      "cell_type": "code",
      "metadata": {
        "id": "wI7mu9ZUKsxd"
      },
      "source": [
        "dataset_path = pathlib.Path('data')\n",
        "graphs = get_data(dataset_path)"
      ],
      "execution_count": null,
      "outputs": []
    },
    {
      "cell_type": "markdown",
      "metadata": {
        "id": "_XBT4bhUcmvX"
      },
      "source": [
        "### 2.2 Looking at what we're working with"
      ]
    },
    {
      "cell_type": "markdown",
      "metadata": {
        "id": "Xjy4jQ68Ub4r"
      },
      "source": [
        "First, let's take a look at some basic information about our dataset:\n",
        "\n",
        "\n",
        "* How many webpages we have in this dataset\n",
        "* What domains the webpages come from\n",
        "* How many of the graphs are iFrames\n",
        "* How big these webpages are\n",
        "* Our label distribution (`ad` vs `not-ad`)\n",
        "\n"
      ]
    },
    {
      "cell_type": "code",
      "metadata": {
        "id": "m1bC-VYFd_1C"
      },
      "source": [
        "import urllib.parse as urlparse"
      ],
      "execution_count": null,
      "outputs": []
    },
    {
      "cell_type": "code",
      "metadata": {
        "id": "9WJY0djjQgUc"
      },
      "source": [
        "ad_count = 0\n",
        "not_ad_count = 0\n",
        "iframes_count = 0\n",
        "domains = {}"
      ],
      "execution_count": null,
      "outputs": []
    },
    {
      "cell_type": "code",
      "metadata": {
        "id": "gxi2CoRIQc9g"
      },
      "source": [
        "def get_label_distribution(node: typing.Dict):\n",
        "  global ad_count\n",
        "  global not_ad_count\n",
        "\n",
        "  if node['ad']:\n",
        "    ad_count += 1\n",
        "  else:\n",
        "    not_ad_count += 1\n",
        "\n",
        "  for child in node['children']:\n",
        "    get_label_distribution(child)  "
      ],
      "execution_count": null,
      "outputs": []
    },
    {
      "cell_type": "code",
      "metadata": {
        "id": "T4gzD1mhKudu"
      },
      "source": [
        "# Re-initialising all constants\n",
        "total_graphs = 0\n",
        "ad_count = 0\n",
        "not_ad_count = 0\n",
        "iframes_count = 0\n",
        "domains = {}\n",
        "\n",
        "\n",
        "for graph in graphs:\n",
        "  if graph['isIFrame']:\n",
        "    iframes_count += 1\n",
        "  \n",
        "  domain = urlparse.urlparse(graph['url']).netloc\n",
        "  if domain in domains:\n",
        "    domains[domain] += 1\n",
        "  else:\n",
        "    domains[domain] = 1\n",
        "  \n",
        "  total_graphs += 1\n",
        "  get_label_distribution(graph['graph'])\n",
        "\n",
        "total_nodes = ad_count + not_ad_count"
      ],
      "execution_count": null,
      "outputs": []
    },
    {
      "cell_type": "code",
      "metadata": {
        "colab": {
          "base_uri": "https://localhost:8080/"
        },
        "id": "2gEuxGAKegJD",
        "outputId": "ffbeb315-f286-461f-cc0e-269d20e552fd"
      },
      "source": [
        "print(\"Number of web pages: {}\".format(total_graphs))\n",
        "print(\"iFrames: {} ({:.2f}%)\".format(iframes_count, iframes_count/total_graphs * 100))"
      ],
      "execution_count": null,
      "outputs": [
        {
          "output_type": "stream",
          "text": [
            "Number of web pages: 980\n",
            "iFrames: 49 (5.00%)\n"
          ],
          "name": "stdout"
        }
      ]
    },
    {
      "cell_type": "code",
      "metadata": {
        "colab": {
          "base_uri": "https://localhost:8080/"
        },
        "id": "UQtPdh6Dep9E",
        "outputId": "14546a1e-dc07-4339-c641-dcaa991a0f41"
      },
      "source": [
        "print(\"Domains: {}\".format(list(domains.keys())))"
      ],
      "execution_count": null,
      "outputs": [
        {
          "output_type": "stream",
          "text": [
            "Domains: ['www.wired.com', 'www.ebay.com', 'www.reddit.com', 'www.bild.de', 'www.nytimes.com']\n"
          ],
          "name": "stdout"
        }
      ]
    },
    {
      "cell_type": "code",
      "metadata": {
        "colab": {
          "base_uri": "https://localhost:8080/",
          "height": 357
        },
        "id": "xaU7CQ1lgW10",
        "outputId": "46201980-29bc-4378-8da9-27d0246033c4"
      },
      "source": [
        "import matplotlib.pyplot as plt\n",
        "import numpy as np\n",
        "\n",
        "domains_list = list(domains.keys())\n",
        "counts = [domains[d] for d in domains_list]\n",
        "y_pos = np.arange(len(domains_list))\n",
        "\n",
        "plt.bar(y_pos, counts, align=\"center\")\n",
        "plt.xticks(y_pos, domains_list, rotation=45)\n",
        "plt.ylabel('Number of webpages')\n",
        "plt.xlabel('Domain')\n",
        "plt.title('Domain distribution')\n",
        "\n",
        "plt.show()"
      ],
      "execution_count": null,
      "outputs": [
        {
          "output_type": "display_data",
          "data": {
            "image/png": "[encoded data removed]",
            "text/plain": [
              "<Figure size 432x288 with 1 Axes>"
            ]
          },
          "metadata": {
            "tags": [],
            "needs_background": "light"
          }
        }
      ]
    },
    {
      "cell_type": "code",
      "metadata": {
        "colab": {
          "base_uri": "https://localhost:8080/"
        },
        "id": "0TiowSk6ejsg",
        "outputId": "532aaebb-a25e-49a3-f153-6e477fbcf542"
      },
      "source": [
        "print(\"Total number of nodes: {}\".format(total_nodes))\n",
        "print(\"Average graph size: {:.2f} nodes\".format((total_nodes/total_graphs)))\n",
        "print(\"Ads: {} ({:.2f}%)\".format(ad_count, ad_count / total_nodes * 100))\n",
        "print(\"Not ads: {} ({:.2f}%)\".format(not_ad_count, not_ad_count / total_nodes * 100))"
      ],
      "execution_count": null,
      "outputs": [
        {
          "output_type": "stream",
          "text": [
            "Total number of nodes: 1432290\n",
            "Average graph size: 1461.52 nodes\n",
            "Ads: 55497 (3.87%)\n",
            "Not ads: 1376793 (96.13%)\n"
          ],
          "name": "stdout"
        }
      ]
    },
    {
      "cell_type": "markdown",
      "metadata": {
        "id": "CYPsuVQahtYU"
      },
      "source": [
        "Let's look at how what HTML tags we have in our dataset\n",
        "\n"
      ]
    },
    {
      "cell_type": "code",
      "metadata": {
        "id": "FB97EeFRixJX"
      },
      "source": [
        "# Defining global variables\n",
        "tag_dist = {}\n",
        "tag_dist_ads = {}\n",
        "tag_dist_not_ads = {}"
      ],
      "execution_count": null,
      "outputs": []
    },
    {
      "cell_type": "code",
      "metadata": {
        "id": "QF0BTeAbl9ug"
      },
      "source": [
        "def update_dict(key: str, d: dict):\n",
        "  if key in d:\n",
        "    d[key] += 1\n",
        "  else:\n",
        "    d[key] = 1"
      ],
      "execution_count": null,
      "outputs": []
    },
    {
      "cell_type": "code",
      "metadata": {
        "id": "Wlz7sg_pi3Xg"
      },
      "source": [
        "def get_tag_distribution(node: dict):\n",
        "  global tag_dist\n",
        "  global tag_dist_ads\n",
        "  global tag_dist_not_ads\n",
        "\n",
        "  tag = node['tag'].upper()\n",
        "  update_dict(tag, tag_dist)\n",
        "\n",
        "  if node['ad']:\n",
        "    update_dict(tag, tag_dist_ads)\n",
        "  else:\n",
        "    update_dict(tag, tag_dist_not_ads)\n",
        "\n",
        "  for child in node['children']:\n",
        "    get_tag_distribution(child)"
      ],
      "execution_count": null,
      "outputs": []
    },
    {
      "cell_type": "code",
      "metadata": {
        "id": "WulYoXYtjns8"
      },
      "source": [
        "# Re-loading the dataset\n",
        "graphs = get_data(dataset_path)\n",
        "\n",
        "# Re-initialising counters\n",
        "tag_dist = {}\n",
        "tag_dist_ads = {}\n",
        "tag_dist_not_ads = {}\n",
        "\n",
        "# Traversing the dataset\n",
        "for graph in graphs:\n",
        "  get_tag_distribution(graph['graph'])"
      ],
      "execution_count": null,
      "outputs": []
    },
    {
      "cell_type": "code",
      "metadata": {
        "colab": {
          "base_uri": "https://localhost:8080/"
        },
        "id": "am0kvyVfkAlt",
        "outputId": "b0528369-6953-48a2-d816-89f76f355b88"
      },
      "source": [
        "print('Number of different tags: {}'.format(len(list(tag_dist.keys()))))\n",
        "print('Number of different tags for `ads`: {}'.format(len(list(tag_dist_ads.keys()))))\n",
        "print('Number of different tags for `not ads`: {}'.format(len(list(tag_dist_not_ads.keys()))))"
      ],
      "execution_count": null,
      "outputs": [
        {
          "output_type": "stream",
          "text": [
            "Number of different tags: 111\n",
            "Number of different tags for `ads`: 26\n",
            "Number of different tags for `not ads`: 111\n"
          ],
          "name": "stdout"
        }
      ]
    },
    {
      "cell_type": "code",
      "metadata": {
        "id": "J9VlL6C7onE9"
      },
      "source": [
        "# TODO: Add here a nice visualisation of tags for one graph"
      ],
      "execution_count": null,
      "outputs": []
    },
    {
      "cell_type": "markdown",
      "metadata": {
        "id": "KMAaeiQXoYVg"
      },
      "source": [
        "We can see that we have quite a few different tags to look at.\n",
        "\n",
        "In order to visualise this better, we'll look at the 10 most frequent tags and how they are distributed."
      ]
    },
    {
      "cell_type": "code",
      "metadata": {
        "colab": {
          "base_uri": "https://localhost:8080/"
        },
        "id": "AHO-Zgffkg5Z",
        "outputId": "ec0f126d-13ad-4e3c-d700-19ce4bb121cd"
      },
      "source": [
        "# Getting the top 10 tags\n",
        "tags_list = [(key, value) for key, value in tag_dist.items()]\n",
        "sorted_tags_list = sorted(tags_list, key=lambda item: item[1], reverse=True)\n",
        "top_10_tags = [item[0] for item in sorted_tags_list[:10]]\n",
        "top_10_tags"
      ],
      "execution_count": null,
      "outputs": [
        {
          "output_type": "execute_result",
          "data": {
            "text/plain": [
              "['DIV', 'SPAN', 'A', 'BUTTON', 'I', 'LI', 'PATH', 'SCRIPT', 'IMG', 'SVG']"
            ]
          },
          "metadata": {
            "tags": []
          },
          "execution_count": 124
        }
      ]
    },
    {
      "cell_type": "code",
      "metadata": {
        "colab": {
          "base_uri": "https://localhost:8080/",
          "height": 295
        },
        "id": "IcTRNca9pkyn",
        "outputId": "aaef375e-241d-45fb-ec9d-df5ed9acc69b"
      },
      "source": [
        "# Tags distribution for the entire dataset\n",
        "top_10_tags_counts = [tag_dist[tag] for tag in top_10_tags]\n",
        "y_pos = np.arange(10)\n",
        "\n",
        "plt.bar(y_pos, top_10_tags_counts, align='center')\n",
        "plt.xticks(y_pos, top_10_tags)\n",
        "plt.title('Tags distribution in the entire dataset')\n",
        "plt.xlabel('Tag')\n",
        "plt.ylabel('Tag count')\n",
        "\n",
        "plt.show()"
      ],
      "execution_count": null,
      "outputs": [
        {
          "output_type": "display_data",
          "data": {
            "image/png": "[encoded data removed]",
            "text/plain": [
              "<Figure size 432x288 with 1 Axes>"
            ]
          },
          "metadata": {
            "tags": [],
            "needs_background": "light"
          }
        }
      ]
    },
    {
      "cell_type": "markdown",
      "metadata": {
        "id": "CuGvcm7ZrYRJ"
      },
      "source": [
        "Now, let's look at how the tags are distributed for ad and not-ad nodes, specifically and see if we can notice any difference"
      ]
    },
    {
      "cell_type": "code",
      "metadata": {
        "id": "UtuI2Eqtrhqi"
      },
      "source": [
        "# Tags distribution for ad nodes\n",
        "\n",
        "# TODO: Plot a bar chart with the top 10 tag counts for ad nodes"
      ],
      "execution_count": null,
      "outputs": []
    },
    {
      "cell_type": "code",
      "metadata": {
        "id": "Y2Jhosuqrzcg"
      },
      "source": [
        "# Tags distribution for not-ad nodes\n",
        "\n",
        "# TODO: Plot a bar chart with the top 10 tag counts for not-ad nodes"
      ],
      "execution_count": null,
      "outputs": []
    },
    {
      "cell_type": "markdown",
      "metadata": {
        "id": "x3Krx7jvr-Bh"
      },
      "source": [
        "### 2.3 Filtering the dataset at load time"
      ]
    },
    {
      "cell_type": "markdown",
      "metadata": {
        "id": "q6anIWC_sIBJ"
      },
      "source": [
        "In the definition of the `get_data` function above, we added a `filter` attribute that can be used to filter data at load-time.\n",
        "\n",
        "This is expected to be a function that takes a graph as argument and returns:\n",
        "\n",
        "\n",
        "*   **True** if the item should be loaded\n",
        "*   **False** if it should be dropped\n",
        "\n"
      ]
    },
    {
      "cell_type": "markdown",
      "metadata": {
        "id": "AhmGyemws0Zr"
      },
      "source": [
        "From the initial statistics we ran on this dataset, we noticed that we are working with a few IFrames. Let's look at a simple filter that ignores these graphs."
      ]
    },
    {
      "cell_type": "code",
      "metadata": {
        "id": "PbG3pzxftLyg"
      },
      "source": [
        "def iframe_filter(graph: dict) -> bool:\n",
        "  if graph['isIFrame']:\n",
        "    return False\n",
        "  \n",
        "  return True"
      ],
      "execution_count": null,
      "outputs": []
    },
    {
      "cell_type": "code",
      "metadata": {
        "colab": {
          "base_uri": "https://localhost:8080/"
        },
        "id": "LeaaS5Bzta4O",
        "outputId": "98e699e0-24f1-4d97-a8f9-74758e88c531"
      },
      "source": [
        "no_iframes_data = get_data(dataset_path, filter=iframe_filter)\n",
        "\n",
        "graphs_count = sum(1 for _ in no_iframes_data)\n",
        "print('Number of graphs loaded: {}'.format(graphs_count))"
      ],
      "execution_count": null,
      "outputs": [
        {
          "output_type": "stream",
          "text": [
            "Number of graphs loaded: 931\n"
          ],
          "name": "stdout"
        }
      ]
    },
    {
      "cell_type": "markdown",
      "metadata": {
        "id": "jnHmrdiJvQ7X"
      },
      "source": [
        "Now, let's move on to something a little more complex - filtering by domain, let's say `www.nytimes.com`"
      ]
    },
    {
      "cell_type": "code",
      "metadata": {
        "id": "sbwrqNSLviVT"
      },
      "source": [
        "def domain_filter(graph: dict) -> bool:\n",
        "  # TODO: Add logic here so that we only get\n",
        "  # graphs from `www.nytimes.com`\n",
        "\n",
        "  return False"
      ],
      "execution_count": null,
      "outputs": []
    },
    {
      "cell_type": "code",
      "metadata": {
        "colab": {
          "base_uri": "https://localhost:8080/"
        },
        "id": "ZL5cQS2mvvdc",
        "outputId": "e20a9e81-7d56-4ee4-853e-4996eb158776"
      },
      "source": [
        "domain_filtered_data = get_data(dataset_path, filter=domain_filter)\n",
        "\n",
        "graphs_count = sum(1 for _ in domain_filtered_data)\n",
        "print('Number of graphs loaded: {}'.format(graphs_count))"
      ],
      "execution_count": null,
      "outputs": [
        {
          "output_type": "stream",
          "text": [
            "Number of graphs loaded: 0\n"
          ],
          "name": "stdout"
        }
      ]
    },
    {
      "cell_type": "markdown",
      "metadata": {
        "id": "YG4yAGwjVw-h"
      },
      "source": [
        "## 3 Data conversion"
      ]
    },
    {
      "cell_type": "markdown",
      "metadata": {
        "id": "ASrU-ndLwLwF"
      },
      "source": [
        "Machine Learning models require a set of vectors as input, we cannot feed them the data in JSON format and expect this to work.\n",
        "\n",
        "In this section, we will look at how we can convert the each graph into:\n",
        "\n",
        "*   **An adjacency matrix** - encoding the way nodes are connected to each other in the graph\n",
        "*   **Features matrix** - where we store information about each node\n",
        "* **Vector of labels** - showing whether a node is an ad or not.\n",
        "\n",
        "\n"
      ]
    },
    {
      "cell_type": "markdown",
      "metadata": {
        "id": "F4zHZ90xxEcB"
      },
      "source": [
        "First, let's define a dummy graph that we can test this on, so we don't have to load the dataset every time"
      ]
    },
    {
      "cell_type": "code",
      "metadata": {
        "id": "We6Sna0axMDr"
      },
      "source": [
        "test_graph = {\n",
        "    'isIFrame': False,\n",
        "    'url': 'https://test.com',\n",
        "    'type': 'ml.dom',\n",
        "    'graph': {\n",
        "        'tag': 'BODY',\n",
        "        'ad': False,\n",
        "        'elementHidden': False,\n",
        "        'elementBocked': False,\n",
        "        'filter': None,\n",
        "        'height': 3151,\n",
        "        'width': 624,\n",
        "        'requestType': None,\n",
        "        'attributes': {},\n",
        "        'children': [\n",
        "            {\n",
        "              'tag': 'DIV',\n",
        "              'ad': True,\n",
        "              'elementHidden': True,\n",
        "              'elementBlocked': False,\n",
        "              'filter': 'some-filter',\n",
        "              'height': 2000,\n",
        "              'width': 300,\n",
        "              'requestType': None,\n",
        "              'attributes': {\n",
        "                  'display': 'none',\n",
        "              },\n",
        "              'children': [], \n",
        "            },\n",
        "            {\n",
        "              'tag': 'A',\n",
        "              'ad': False,\n",
        "              'elementHidden': False,\n",
        "              'elementBlocked': False,\n",
        "              'height': 1000,\n",
        "              'width': 300,\n",
        "              'requestType': None,\n",
        "              'attributes': {\n",
        "                  'src': 'https://www.some-website.com',\n",
        "                  'display': 'inline',\n",
        "              },\n",
        "              'children': [], \n",
        "            },\n",
        "        ],\n",
        "    },\n",
        "}"
      ],
      "execution_count": null,
      "outputs": []
    },
    {
      "cell_type": "markdown",
      "metadata": {
        "id": "xPgK0C852EFX"
      },
      "source": [
        "### 3.1 Getting the adjacency matrix"
      ]
    },
    {
      "cell_type": "markdown",
      "metadata": {
        "id": "vOVr1I-22Z7o"
      },
      "source": [
        "For the test graph defined above we expect the **undirected** adjacency matrix to look something like this:\n",
        "\n",
        "$$\n",
        "\\begin{pmatrix}\n",
        "0 & 1 & 1\\\\\n",
        "1 & 0 & 0\\\\\n",
        "1 & 0 & 0\n",
        "\\end{pmatrix}\n",
        "$$"
      ]
    },
    {
      "cell_type": "markdown",
      "metadata": {
        "id": "cswX_uHhNACj"
      },
      "source": [
        "First, we need to find the graph size."
      ]
    },
    {
      "cell_type": "code",
      "metadata": {
        "id": "Og3MHby6NDAk"
      },
      "source": [
        "def get_graph_size(node: dict) -> int:\n",
        "  lower_level_nodes = 0\n",
        "\n",
        "  for child in node['children']:\n",
        "    lower_level_nodes += get_graph_size(child)\n",
        "  \n",
        "  return lower_level_nodes + 1"
      ],
      "execution_count": null,
      "outputs": []
    },
    {
      "cell_type": "code",
      "metadata": {
        "id": "T0Qyx0ZB3Vin",
        "colab": {
          "base_uri": "https://localhost:8080/"
        },
        "outputId": "6d09697d-85b8-4e6d-ee2d-3557dbda5627"
      },
      "source": [
        "test_graph_size = get_graph_size(test_graph['graph'])\n",
        "test_graph_size"
      ],
      "execution_count": null,
      "outputs": [
        {
          "output_type": "execute_result",
          "data": {
            "text/plain": [
              "3"
            ]
          },
          "metadata": {
            "tags": []
          },
          "execution_count": 135
        }
      ]
    },
    {
      "cell_type": "markdown",
      "metadata": {
        "id": "_0D_kZ1LOAGc"
      },
      "source": [
        "Now, we can go ahead and actually compute the adjacency matrix for this graph."
      ]
    },
    {
      "cell_type": "code",
      "metadata": {
        "id": "h-dbZxKWOVYa"
      },
      "source": [
        "import numpy as np"
      ],
      "execution_count": null,
      "outputs": []
    },
    {
      "cell_type": "code",
      "metadata": {
        "id": "JWTIT02jOYD7"
      },
      "source": [
        "adjacency_matrix = np.array([np.zeros(test_graph_size, dtype=np.int) for _ in range(test_graph_size)])"
      ],
      "execution_count": null,
      "outputs": []
    },
    {
      "cell_type": "code",
      "metadata": {
        "id": "tJHZNavn2B7H"
      },
      "source": [
        "def construct_adjacency_matrix(node: dict, node_id: int, parent_id: int) -> int:\n",
        "  max_node_id = node_id + 1\n",
        "  node['id'] = node_id\n",
        "\n",
        "  if parent_id is not None:\n",
        "    adjacency_matrix[node_id][parent_id] = 1\n",
        "\n",
        "  for child in node['children']:\n",
        "    max_node_id = construct_adjacency_matrix(child, max_node_id, node_id)\n",
        "    adjacency_matrix[node_id][child['id']] = 1\n",
        " \n",
        "  return max_node_id\n"
      ],
      "execution_count": null,
      "outputs": []
    },
    {
      "cell_type": "code",
      "metadata": {
        "colab": {
          "base_uri": "https://localhost:8080/"
        },
        "id": "A2SAQ0BkPCwm",
        "outputId": "e76a8612-100b-44c7-bae6-e283f27b7ff5"
      },
      "source": [
        "construct_adjacency_matrix(test_graph['graph'], 0, None)"
      ],
      "execution_count": null,
      "outputs": [
        {
          "output_type": "execute_result",
          "data": {
            "text/plain": [
              "3"
            ]
          },
          "metadata": {
            "tags": []
          },
          "execution_count": 139
        }
      ]
    },
    {
      "cell_type": "markdown",
      "metadata": {
        "id": "4Q8iiAqpP3Ch"
      },
      "source": [
        "Now, let's see if we get what we were expecting"
      ]
    },
    {
      "cell_type": "code",
      "metadata": {
        "colab": {
          "base_uri": "https://localhost:8080/"
        },
        "id": "MWrJmBNWPiVq",
        "outputId": "fb323ff2-d394-4561-d29c-f63c2110493c"
      },
      "source": [
        "print(adjacency_matrix)"
      ],
      "execution_count": null,
      "outputs": [
        {
          "output_type": "stream",
          "text": [
            "[[0 1 1]\n",
            " [1 0 0]\n",
            " [1 0 0]]\n"
          ],
          "name": "stdout"
        }
      ]
    },
    {
      "cell_type": "markdown",
      "metadata": {
        "id": "-IT-EkmhQEGj"
      },
      "source": [
        "### 3.2 Extracting features\n"
      ]
    },
    {
      "cell_type": "markdown",
      "metadata": {
        "id": "KHO0qOz8QKuD"
      },
      "source": [
        "We are working with a lot of information, so feature selection is a key step in developing our models. In this section, we'll look into what kind of features we considered and how we can extract them from our raw dataset"
      ]
    },
    {
      "cell_type": "markdown",
      "metadata": {
        "id": "eMJ2tHFbQqH0"
      },
      "source": [
        "#### 3.2.1 Node id"
      ]
    },
    {
      "cell_type": "markdown",
      "metadata": {
        "id": "F784sey4QzAu"
      },
      "source": [
        "Perhaps one of the most straight-forward feature one can extract, `node_id` is simply a unique value associated to each node. In this case, we'll have this as an integer, the nodes' order being given by running the DFS algorithm through the tree.\n",
        "\n",
        "As a matter of fact, we are already extracted this `node_id` when constructing the adjacency matrix and assigned them to the respective node. Let's try to get those now."
      ]
    },
    {
      "cell_type": "code",
      "metadata": {
        "id": "42Lz1TOdQpcC"
      },
      "source": [
        "node_ids = np.zeros(test_graph_size, dtype=np.int)"
      ],
      "execution_count": null,
      "outputs": []
    },
    {
      "cell_type": "code",
      "metadata": {
        "id": "sPodY7x8RsqD"
      },
      "source": [
        "def get_node_ids(node: dict):\n",
        "  # TODO: implement this \n",
        "  pass"
      ],
      "execution_count": null,
      "outputs": []
    },
    {
      "cell_type": "markdown",
      "metadata": {
        "id": "lsKQptpAThn5"
      },
      "source": [
        "Now let's run and test this. At the end, we expect `node_ids` to look something like this:\n",
        "\n",
        "$$\n",
        "\\begin{pmatrix}\n",
        "0 & 1 & 2\n",
        "\\end{pmatrix}\n",
        "$$"
      ]
    },
    {
      "cell_type": "code",
      "metadata": {
        "colab": {
          "base_uri": "https://localhost:8080/"
        },
        "id": "q8wYUAvBTToq",
        "outputId": "67f6ff7b-3c79-4902-dace-0a7763c94f74"
      },
      "source": [
        "get_node_ids(test_graph['graph'])\n",
        "node_ids"
      ],
      "execution_count": null,
      "outputs": [
        {
          "output_type": "execute_result",
          "data": {
            "text/plain": [
              "array([0, 0, 0])"
            ]
          },
          "metadata": {
            "tags": []
          },
          "execution_count": 143
        }
      ]
    },
    {
      "cell_type": "markdown",
      "metadata": {
        "id": "XoHl7MSJT6Q_"
      },
      "source": [
        "#### 3.2.2 Node level"
      ]
    },
    {
      "cell_type": "markdown",
      "metadata": {
        "id": "u7zliAYvUWSs"
      },
      "source": [
        "When looking at our data from a graph theory point of view, one of the most significant nodes' features is their level in the tree. \n",
        "\n",
        "We can consider our graphs to be **[rooted trees](https://en.wikipedia.org/wiki/Tree_%28graph_theory%29#Rooted_tree)**, where the root is at level 0, its children level 1 and so on.\n",
        "\n",
        "The schema below shows `test_graph` as a rooted tree and how the levels look like:\n",
        "\n",
        "![Screenshot 2021-04-12 at 20.32.21.png](data:image/png;base64,iVBORw0KGgoAAAANSUhEUgAACXoAAASICAYAAACnAeVgAAABQWlDQ1BJQ0MgUHJvZmlsZQAAKJFjYGASSCwoyGFhYGDIzSspCnJ3UoiIjFJgf8LAzCDMwMFgzCCbmFxc4BgQ4ANUwgCjUcG3awyMIPqyLsgsJ85HPoflzV8Ilz4WyN8U+gRTPQrgSkktTgbSf4A4KbmgqISBgTEByFYuLykAsVuAbJEioKOA7BkgdjqEvQbEToKwD4DVhAQ5A9lXgGyB5IzEFCAbZLdOEpJ4OhIbai8IcIQaWbiamhsQcCrpoCS1ogREO+cXVBZlpmeUKDgCQyhVwTMvWU9HwcjACGglKLwhqj+LgcORUewUQiz7EQODpTUDA9NnhFhCKAPD1hgGBl5thJjWfAYGwUwGhsP8BYlFiXAHMH5jKU4zNoKweYoYGFh//P//WZaBgX0XA8Pfov//f8/9///vEgYG5psMDAcKAQwgXOcBix57AAAAimVYSWZNTQAqAAAACAAEARoABQAAAAEAAAA+ARsABQAAAAEAAABGASgAAwAAAAEAAgAAh2kABAAAAAEAAABOAAAAAAAAAJAAAAABAAAAkAAAAAEAA5KGAAcAAAASAAAAeKACAAQAAAABAAAJeqADAAQAAAABAAAEiAAAAABBU0NJSQAAAFNjcmVlbnNob3TgCwF0AAAACXBIWXMAABYlAAAWJQFJUiTwAAAB2GlUWHRYTUw6Y29tLmFkb2JlLnhtcAAAAAAAPHg6eG1wbWV0YSB4bWxuczp4PSJhZG9iZTpuczptZXRhLyIgeDp4bXB0az0iWE1QIENvcmUgNS40LjAiPgogICA8cmRmOlJERiB4bWxuczpyZGY9Imh0dHA6Ly93d3cudzMub3JnLzE5OTkvMDIvMjItcmRmLXN5bnRheC1ucyMiPgogICAgICA8cmRmOkRlc2NyaXB0aW9uIHJkZjphYm91dD0iIgogICAgICAgICAgICB4bWxuczpleGlmPSJodHRwOi8vbnMuYWRvYmUuY29tL2V4aWYvMS4wLyI+CiAgICAgICAgIDxleGlmOlBpeGVsWERpbWVuc2lvbj4yNDI2PC9leGlmOlBpeGVsWERpbWVuc2lvbj4KICAgICAgICAgPGV4aWY6VXNlckNvbW1lbnQ+U2NyZWVuc2hvdDwvZXhpZjpVc2VyQ29tbWVudD4KICAgICAgICAgPGV4aWY6UGl4ZWxZRGltZW5zaW9uPjExNjA8L2V4aWY6UGl4ZWxZRGltZW5zaW9uPgogICAgICA8L3JkZjpEZXNjcmlwdGlvbj4KICAgPC9yZGY6UkRGPgo8L3g6eG1wbWV0YT4KDdI4hgAAABxpRE9UAAAAAgAAAAAAAAJEAAAAKAAAAkQAAAJEAAD8KY0cdcQAAEAASURBVHgB7N15vNdj/j/+Z0UljRIRSUILGTJlK0RjGFu7LUsxlrGMwWCGIfsyH2Lw+Uz41FgrZN+3rFlbRvmQypJCWmxNQqV+c72+v/O+nfc5pzpRnfd5d3/dbm/nuq7Xdl3366W/HrfrqrH4P0c4CBAgQIAAAQIECBAgQIAAAQIECBAgQIAAAQIECBAgQIAAAQIECBAgQKBgBWoIehXs3OgYAQIECBAgQIAAAQIECBAgQIAAAQIECBAgQIAAAQIECBAgQIAAAQIEMgFBLx8CAQIECBAgQIAAAQIECBAgQIAAAQIECBAgQIAAAQIECBAgQIAAAQIEClxA0KvAJ0j3CBAgQIAAAQIECBAgQIAAAQIECBAgQIAAAQIECBAgQIAAAQIECBAgIOjlGyBAgAABAgQIECBAgAABAgQIECBAgAABAgQIECBAgAABAgQIECBAgECBCwh6FfgE6R4BAgQIECBAgAABAgQIECBAgAABAgQIECBAgAABAgQIECBAgAABAgQEvXwDBAgQIECAAAECBAgQIECAAAECBAgQIECAAAECBAgQIECAAAECBAgQKHABQa8CnyDdI0CAAAECBAgQIECAAAECBAgQIECAAAECBAgQIECAAAECBAgQIECAgKCXb4AAAQIECBAgQIAAAQIECBAgQIAAAQIECBAgQIAAAQIECBAgQIAAAQIFLiDoVeATpHsECBAgQIAAAQIECBAgQIAAAQIECBAgQIAAAQIECBAgQIAAAQIECBAQ9PINECBAgAABAgQIECBAgAABAgQIECBAgAABAgQIECBAgAABAgQIECBAoMAFBL0KfIJ0jwABAgQIECBAgAABAgQIECBAgAABAgQIECBAgAABAgQIECBAgAABAoJevgECBAgQIECAAAECBAgQIECAAAECBAgQIECAAAECBAgQIECAAAECBAgUuICgV4FPkO4RIECAAAECBAgQIECAAAECBAgQIECAAAECBAgQIECAAAECBAgQIEBA0Ms3QIAAAQIECBAgQIAAAQIECBAgQIAAAQIECBAgQIAAAQIECBAgQIAAgQIXEPQq8AnSPQIECBAgQIAAAQIECBAgQIAAAQIECBAgQIAAAQIECBAgQIAAAQIECAh6+QYIECBAgAABAgQIECBAgAABAgQIECBAgAABAgQIECBAgAABAgQIECBQ4AKCXgU+QbpHgAABAgQIECBAgAABAgQIECBAgAABAgQIECBAgAABAgQIECBAgAABQS/fAAECBAgQIECAAAECBAgQIECAAAECBAgQIECAAAECBAgQIECAAAECBApcQNCrwCdI9wgQIECAAAECBAgQIECAAAECBAgQIECAAAECBAgQIECAAAECBAgQICDo5RsgQIAAAQIECBAgQIAAAQIECBAgQIAAAQIECBAgQIAAAQIECBAgQIBAgQsIehX4BOkeAQIECBAgQIAAAQIECBAgQIAAAQIECBAgQIAAAQIECBAgQIAAAQIEBL18AwQIECBAgAABAgQIECBAgAABAgQIECBAgAABAgQIECBAgAABAgQIEChwAUGvAp8g3SNAgAABAgQIECBAgAABAgQIECBAgAABAgQIECBAgAABAgQIECBAgICgl2+AAAECBAgQIECAAAECBAgQIECAAAECBAgQIECAAAECBAgQIECAAAECBS4g6FXgE6R7BAgQIECAAAECBAgQIECAAAECBAgQIECAAAECBAgQIECAAAECBAgQEPTyDRAgQIAAAQIECBAgQIAAAQIECBAgQIAAAQIECBAgQIAAAQIECBAgQKDABQS9CnyCdI8AAQIECBAgQIAAAQIECBAgQIAAAQIECBAgQIAAAQIECBAgQIAAAQKCXr4BAgQIECBAgAABAgQIECBAgAABAgQIECBAgAABAgQIECBAgAABAgQIFLiAoFeBT5DuESBAgAABAgQIECBAgAABAgQIECBAgAABAgQIECBAgAABAgQIECBAQNDLN0CAAAECBAgQIECAAAECBAgQIECAAAECBAgQIECAAAECBAgQIECAAIECFxD0KvAJ0j0CBAgQIECAAAECBAgQIECAAAECBAgQIECAAAECBAgQIECAAAECBAgIevkGCBAgQIAAAQIECBAgQIAAAQIECBAgQIAAAQIECBAgQIAAAQIECBAgUOACgl4FPkG6R4AAAQIECBAgQIAAAQIECBAgQIAAAQIECBAgQIAAAQIECBAgQIAAAUEv3wABAgQIECBAgAABAgQIECBAgAABAgQIECBAgAABAgQIECBAgAABAgQKXEDQq8AnSPcIECBAgAABAgQIECBAgAABAgQIECBAgAABAgQIECBAgAABAgQIECAg6OUbIECAAAECBAgQIECAAAECBAgQIECAAAECBAgQIECAAAECBAgQIECAQIELCHoV+ATpHgECBAgQIECAAAECBAgQIECAAAECBAgQIECAAAECBAgQIECAAAECBAS9fAMECBAgQIAAAQIECBAgQIAAAQIECBAgQIAAAQIECBAgQIAAAQIECBAocAFBrwKfIN0jQIAAAQIECBAgQIAAAQIECBAgQIAAAQIECBAgQIAAAQIECBAgQICAoJdvgAABAgQIECBAgAABAgQIECBAgAABAgQIECBAgAABAgQIECBAgAABAgUuIOhV4BOkewQIECBAgAABAgQIECBAgAABAgQIECBAgAABAgQIECBAgAABAgQIEBD08g0QIECAAAECBAgQIECAAAECBAgQIECAAAECBAgQIECAAAECBAgQIECgwAUEvQp8gnSPAAECBAgQIECAAAECBAgQIECAAAECBAgQIECAAAECBAgQIECAAAECgl6+AQIECBAgQIAAAQIECBAgQIAAAQIECBAgQIAAAQIECBAgQIAAAQIECBS4gKBXgU+Q7hEgQIAAAQIECBAgQIAAAQIECBAgQIAAAQIECBAgQIAAAQIECBAgQEDQyzdAgAABAgQIECBAgAABAgQIECBAgAABAgQIECBAgAABAgQIECBAgACBAhcQ9CrwCdI9AgQIECBAgAABAgQIECBAgAABAgQIECBAgAABAgQIECBAgAABAgQICHr5BggQIECAAAECBAgQIECAAAECBAgQIECAAAECBAgQIECAAAECBAgQIFDgAoJeBT5BukeAAAECBAgQIECAAAECBAgQIECAAAECBAgQIECAAAECBAgQIECAAAFBL98AAQIECBAgQIAAAQIECBAgQIAAAQIECBAgQIAAAQIECBAgQIAAAQIEClxA0KvAJ0j3CBAgQIAAAQIECBAgQIAAAQIECBAgQIAAAQIECBAgQIAAAQIECBAgIOjlGyBAgAABAgQIECBAgAABAgQIECBAgAABAgQIECBAgAABAgQIECBAgECBCwh6FfgE6R4BAgQIECBAgAABAgQIECBAgAABAgQIECBAgAABAgQIECBAgAABAgQEvXwDBAgQIECAAAECBAgQIECAAAECBAgQIECAAAECBAgQIECAAAECBAgQKHABQa8CnyDdI0CAAAECBAgQIECAAAECBAgQIECAAAECBAgQIECAAAECBAgQIECAgKCXb4AAAQIECBAgQIAAAQIECBAgQIAAAQIECBAgQIAAAQIECBAgQIAAAQIFLiDoVeATpHsECBAgQIAAAQIECBAgQIAAAQIECBAgQIAAAQIECBAgQIAAAQIECBAQ9PINECBAgAABAgQIECBAgAABAgQIECBAgAABAgQIECBAgAABAgQIECBAoMAFBL0KfIJ0jwABAgQIECBAgAABAgQIECBAgAABAgQIECBAgAABAgQIECBAgAABAoJevgECBAgQIECAAAECBAgQIECAAAECBAgQIECAAAECBAgQIECAAAECBAgUuICgV4FPkO4RIECAAAECBAgQIECAAAECBAgQIECAAAECBAgQIECAAAECBAgQIEBA0Ms3QIAAAQIECBAgQIAAAQIECBAgQIAAAQIECBAgQIAAAQIECBAgQIAAgQIXEPQq8AnSPQIECBAgQIAAAQIECBAgQIAAAQIECBAgQIAAAQIECBAgQIAAAQIECAh6+QYIECBAgAABAgQIECBAgAABAgQIECBAgAABAgQIECBAgAABAgQIECBQ4AKCXgU+QbpHgAABAgQIECBAgAABAgQIECBAgAABAgQIECBAgAABAgQIECBAgAABQS/fAAECBAgQIECAAAECBAgQIECAAAECBAgQIECAAAECBAgQIECAAAECBApcQNCrwCdI9wgQIECAAAECBAgQIECAAAECBAgQIECAAAECBAgQIECAAAECBAgQICDo5RsgQIAAAQIECBAgQIAAAQIECBAgQIAAAQIECBAgQIAAAQIECBAgQIBAgQsIehX4BOkeAQIECBAgQIAAAQIECBAgQIAAAQIECBAgQIAAAQIECBAgQIAAAQIEBL18AwQIECBAgAABAgQIECBAgAABAgQIECBAgAABAgQIECBAgAABAgQIEChwAUGvAp8g3SNAgAABAgQIECBAgAABAgQIECBAgAABAgQIECBAgAABAgQIECBAgICgl2+AAAECBAgQIECAAAECBAgQIECAAAECBAgQIECAAAECBAgQIECAAAECBS4g6FXgE6R7BAgQIECAAAECBAgQIECAAAECBAgQIECAAAECBAgQIECAAAECBAgQEPTyDRAgQIAAAQIECBAgQIAAAQIECBAgQIAAAQIECBAgQIAAAQIECBAgQKDABQS9CnyCdI8AAQIECBAgQIAAAQIECBAgQIAAAQIECBAgQIAAAQIECBAgQIAAAQKCXr4BAgQIECBAgAABAgQIECBAgAABAgQIECBAgAABAgQIECBAgAABAgQIFLiAoFeBT5DuESBAgAABAgQIECBAgAABAgQIECBAgAABAgQIECBAgAABAgQIECBAQNDLN0CAAAECBAgQIECAAAECBAgQIECAAAECBAgQIECAAAECBAgQIECAAIECFxD0KvAJ0j0CBAgQIECAAAECBAgQIECAAAECBAgQIECAAAECBAgQIECAAAECBAgIevkGCBAgQIAAAQIECBAgQIAAAQIECBAgQIAAAQIECBAgQIAAAQIECBAgUOACgl4FPkG6R4AAAQIECBAgQIAAAQIECBAgQIAAAQIECBAgQIAAAQIECBAgQIAAAUEv3wABAgQIECBAgAABAgQIECBAgAABAgQIECBAgAABAgQIECBAgAABAgQKXEDQq8AnSPcIECBAgAABAgQIECBAgAABAgQIECBAgAABAgQIECBAgAABAgQIECAg6OUbIECAAAECBAgQIECAAAECBAgQIECAAAECBAgQIECAAAECBAgQIECgKATmzp0bb775Zrz11lvx73//O/r06RMtW7YsirEJehXFNBoEAQIECBAgQIAAAQIECBAgQIAAAQIECBAgQIAAAQIECBAgQIAAgdVL4JNPPolnnnkmRo8eHePHj49JkybFzJkz8xCaNGkS1113XfTu3Ttq1qyZd666VQS9qtuM6S8BAgQIECBAgAABAgQIECBAgAABAgQIECBAgAABAgQIECBAYDUXWLRoUdw17K74+3V/j/nz5y+XxrrrrhsXXnhhdO7cebnuc3FhCcyZMyeOPfbYGD58+DI71rhx4xg0aFAceOCBUaNGjWVeX6gXCHoV6szoFwECBAgQIECAAAECBAgQIECAAAECBAgQIECAAAECBAgQIECAQIUC8+bNi+OOOy6GDh1a4fllNR5yyCFZ8Kd+/frLutT5AhVIWzN27949Pv7442X2cK211oqrr746TjzxREGvZWq5gAABAgQIECBAgAABAgQIECBAgAABAgQIECBAgAABAgQIECBAgMAKEpg6dWp07do1xo0b95OeuPPOO8eDDz4YG2644U+6301VLzB27Ngs6DVt2rRldkbQa5lELiBAgAABAgQIECBAgAABAgQIECBAgAABAgQIECBAgAABAgQIECCw4gXGjx+fhXw++uijn/Twnj17xq233hq/+MUvftL9bqp6gZkzZ8ahhx4azz///DI7I+i1TCIXECBAgAABAgQIECBAgAABAgQIECBAgAABAgQIECBAgAABAgQIEFjxArNmzYrDDz88nnnmmeV++AYbbBC33HJL7Lfffst9rxsKW2DBggXxpz/9KW644Ya8jgp65XGoECBAgAABAgQIECBAgAABAgQIECBAgAABAgQIECBAgAABAgQIEFh1Ah+8/0H885Z/xsiRI+Orr76KFP76/PPPy3Vgzz33jJNPPjnWXXfdaN++fTRo0KDcNRqKQ0DQqzjm0SgIECBAgAABAgQIECBAgAABAgQIECBAgAABAgQIECBAgAABAgSKVODHH3+Mq666Kvr37x8p7FP66NevXwwcODDq1q1bulm5CAUEvYpwUg2JAAECBAgQIECAAAECBAgQIECAAAECBAgQIECAAAECBAgQIECgeAQEvYpnLn/OSAS9fo6eewkQIECAAAECBAgQIECAAAECBAgQIECAAAECBAgQIECAAAECBAisZIHqGPSaOnVqfPrpp9GuXbtYa621VrJQ4T1+0aJF8e6778YPP/wQ2267bay55po/u5OCXj+b0AMIECBAgAABAgQIECBAgAABAgQIECBAgAABAgQIECBAgAABAgQIrDyBQg96TZw4MW6//fZ45plnYtKkSfHNN9+Uw1h//fVj9913jx49esSBBx4YDRo0KHfN3Llz44477oj0vMWLF5c7v6SGFKI64IADonPnzlGjRo0KL0t9uvXWW+PDDz+s8PySGlM/+x7VN7bYcoslXRJpfl577bW47bbb4tVXX43JkyeX22Iz3dy0adPYY489olevXrHPPvtEvXr1lvjMik4IelWkoo0AAQIECBAgQIAAAQIECBAgQIAAAQIECBAgQIAAAQIECBAgQIBAgQgUYtArBbFGvTkq+l/QP0aMGBELFy6stFYKPJ1zzjlx9NFH54Wdxo0blwXBPvroo0o/q+TCFPRKIbGGDRuWNOX9ff3116N3797ZKmN5J5ZRSSGyCy64IP7yl79ErVq18q5OwasHH3wwLrnkknj77bfzzi2r0qZNmzj/vPOj90G9o3bt2su6PDsv6FUpJhcRIECAAAECBAgQIECAAAECBAgQIECAAAECBAgQIECAAAECBAgQqBqBQgt6zZkzJ6644oq44YYb4ttvv/3JKN27d4+BAwdGkyZNsmc8+sij0bdf3/jyyy+X+5nbbbddPPzww7HpppuWuzeF0gYNGhSnnXZazJs3r9z5ZTUce+yx2Vjr1q2bu/Tjjz/OnvfQQw8t1+pjuQf8p5BCZMcff3xcfvnlsc4665Q+VWFZ0KtCFo0ECBAgQIAAAQIECBAgQIAAAQIECBAgQIAAAQIECBAgQIAAAQIECkOgkIJen3/+eRZOeuSRR1YITtrCMIWw0ipfgwcPjj/+8Y8/KYzVtWvXbEWvigJTS/Nb1iBSGOviiy+Os846K7ei15gxY+KoI4+Kdye8u6zbl3k+bTV55JFHxvXXX1/hdpalHyDoVVpDmQABAgQIECBAgAABAgQIECBAgAABAgQIECBAgAABAgQIECBAgECBCSwtqNSvX79sVazSq02trO5/9tlnWcjrscceW2GvqFmzZhbuSqtape0PDz744JgyZcpyPT+tCJaCUmlrxhScquhIK2/97ne/iy+++KKi00ts23HHHeP222+P1q1bZ9eMGjUqjjrqqHjvvfeWeM/ynlh77bWzFdJOOumkXJisomcIelWkoo0AAQIECBAgQIAAAQIECBAgQIAAAQIECBAgQIAAAQIECBAgQIBAgQgUQtArbXn4pz/9KW666aYlblW42WabxeGHHx69evWKtJViCnF9//338fLLL8ett94aDz74YIWrdTVu3Dhb1euAAw6It956K+69997497//nel/8MEH8eyzz0YKOZU+WrRoEbfcckvsvvvuSwx3lb4+GT7zzDPZ74cffog33ngjRo8eXfqSrNyzZ89IWzV26NAhUr9KH9OmTYs+ffrEyJEjSzfnlXfYYYc44ogjIq0wljzSMWvWrGxbybRi2WuvvZa1lf1Pq1atYvjw4bHtttuWPZWrC3rlKBQIECBAgAABAgQIECBAgAABAgQIECBAgAABAgQIECBAgAABAgQIFJ5AVQe9Fi9eHMOGDouTTzk5vv7663JADRo0yEJgp59+etSvX7/c+ZKGV155JY4++uiYPHlySVPubwpQpRBZ2fvTtd27d493383fJjG984YbbshCVUtaxSv38DKF2bNnx2GHHZYFyEqf2nDDDWPIkCHx61//unRzVk7hsPPOOy+uueaaWLRoUbnzzZo1iwEDBkQKitWqVavc+dQwf/78bOWxSy65JObMmZN3TdoiMj3/r3/96xLvF/TKI1MhQIAAAQIECBAgQIAAAQIECBAgQIAAAQIECBAgQIAAAQIECBAgUFgCVR30mj59eralYkUrWa233npZwCmtYrWkgFNpzccffzwLe82cObN0czRv3jxbySutpFX6SOGoc889N6699tpyAasUqkqreq2zzjqlb1lmOa3slfpbtg/77rtvFvRad911yz3j9ddfj0MOOSSmTp1a7lxajeu2226LnXfeudy5sg1pPBdeeGFcffXV5VYp22WXXeK+++6LjTbaqOxtWV3Qq0IWjQQIECBAgAABAgQIECBAgAABAgQIECBAgAABAgQIECBAgAABAgQKQ6Aqg15pNa9BgwZFWq3r22+/zQOpV69eXHTRRdm5yoS80s3fffdd/OEPf4i0jWHpo06dOnH55ZfHaaedlm35WPpc2voxhaxS4Kz0sckmm8Q999wTKSBV2SNtJZm2oBw4cGDeFpRrr712FiZL2zaWXSEs3ZP6lVYcK3ukUFbalnLvvfcue2qJ9SlTpkSPHj2ybSpLX5S2ihw6dGjstddepZtzZUGvHIUCAQIECBAgQIAAAQIECBAgQIAAAQIECBAgQIAAAQIECBAgQIAAgcITqMqgV9qq8cgjj4xHH320HMw+++wTd955Z6y//vrlzi2tIa1alQJVZbeBTG1pO8a6devm3f7NN99E375946GHHsprX2ONNeLss8/OVshKWx9W5pg4cWIWspowYULe5W3bto2HH344Nt9887z2VEnXpu0jJ02alHcuvT+Fxi6++OKoXbt23rmlVZa0Stlaa62VrfR14oknlgubpecJei1N1TkCBAgQIECAAAECBAgQIECAAAECBAgQIECAAAECBAgQIECAAAECVSxQlUGvtGVh796949NPP81TaNSoUbZtYteuXfPaK1NJwal03/vvv593+W677ZZtXZhWtip9pFXFUqAsrQSWQl+lj3bt2sUDDzwQm222WenmCsuLFi3KVuU688wzY968eblratasma1KllYUKxvYKlnRLK3oVfqedPNWW22Vvbt169a5Z1W2MHz48DjuuOPKjeekk06Ka665JtIKZ2UPQa+yIuoECBAgQIAAAQIECBAgQIAAAQIECBAgQIAAAQIECBAgQIAAAQIECkigqoJeSws57brrrpHCSk2aNFluqVmzZkWvXr0ibclY+mjVqlW2alebNm1KN2fltN1hWlVr3LhxeecaNGiQrQJ2xBFHVLgKVumLv/zyyzjssMPi6aefLt0cG2+8cbYFZKdOnfLaU2VJ2zam7R3TylsDBgwotwJZuYdU0DB69Ojo2bNnTJs2Le/s/vvvH0OGDIk0rrKHoFdZEXUCBAgQIECAAAECBAgQIECAAAECBAgQIECAAAECBAgQIECAAAECBSRQVUGvJYWcEk0KXfXr1y8qu2Viac65c+fGf/3Xf8WYMWNKN0fz5s2zoNd2222X154qKeR0ySWXxBVXXBELFy7MO9+tW7e47bbbKgxHlb5wxIgRcfjhh8eMGTNKN8fS7v/888+zQNZrr72Wd0/aZvGUU06Jzp07LzNglnfj/1+ZOnVqNp7PPvss7/Qee+yRrWqWVkwrewh6lRVRJ0CAAAECBAgQIECAAAECBAgQIECAAAECBAgQIECAAAECBAgQIFBAAlUV9ErbJB566KHx5JNPrhKNtLLWvffeG7vsskuF73vzjTej90G9y62CtbQVuUoe9MMPP8RZZ50V//3f/x1ppbKSY1krgi1pm8mS+1f03x122CELu2200UblHi3oVY5EAwECBAgQIECAAAECBAgQIECAAAECBAgQIECAAAECBAgQIECAAIHCEaiqoFdadapr167ltktcWTIbbLBBDBs2LLp06VLhK9JKYMcee2zcfffdeedr1qyZhbguvvjiqF27dt65ksrkyZOzVcjefffdkqbsb1o97MEHH4zNNtssr72k8txzz2XbPc6cObOkaaX+Tf15+OGHY9NNNy33HkGvciQaCBAgQIAAAQIECBAgQIAAAQIECBAgQIAAAQIECBAgQIAAAQIECBSOQFUFvSZNmpRta/jee++tEoxtttkm7r///mjZsmWF70srcQ0fPjyOP/74SKuNlT7atWsXDzzwQIWBrXTfoEGD4vTTT49vv/02d9saa6wR55xzTpx//vlL3ILy0UcejaP6HhVfffVV7r6VWejdu3cMHjw41llnnXKvEfQqR6KBAAECBAgQIECAAAECBAgQIECAAAECBAgQIECAAAECBAgQIECAQOEIVFXQ65133slW9Prwww9XOkYKNg0YMCCOOeaYSCt0LemYPn169OrVK1577bW8S+rXrx/XXXddHH300VGjRo28c19//XX06dMnnnjiibz2Zs2axb3D740dd9oxr710JQXLjjvuuHLBstLXrKhyWsXrrrvuWuLWlYJeK0racwgQIECAAAECBAgQIECAAAECBAgQIECAAAECBAgQIECAAAECBAisBIGqCnqNGzcuW9Hr448/zhtV2h6xRYsWS9wmMe/iSlRq1aoV++67b5x77rmRAltLO5Zm0a1bt7jtttuiQYMGeY948cUX49BDD43PP/88r/2QQw7JVvpa2juHDhkaJ/z+hEjbRpY+GjZsGE2bNl1qKK309csq161bN0466aQ48sgjI3lUdAh6VaSijQABAgQIECBAgAABAgQIECBAgAABAgQIECBAgAABAgQIECBAgECBCCwt3NSvX78YOHBgpKDQij4mTJiQrej1/vvv5z26VatW8dBDD0WbNm3y2ldVJQXQevToER999FHeKzfaaKO4++67Y7fddsu1z58/P/7617/GNddcE4sWLcq1pzDYzTffHAcddFC5FcByF/2nkLaSTKuMld0qcv/9948hQ4aUC5WVvndFlwW9VrSo5xEgQIAAAQIECBAgQIAAAQIECBAgQIAAAQIECBAgQIAAAQIECBBYgQJVFfT64P0PsqDXuxPezRtN8+bNs6DXdtttl9e+qirfffdd/OEPf4jBgwfnvTJt+XjGGWfEZZddllttLG072bVr10jbUJY+dtlll7jvvvsihcOWdjz++ONx1FFHxRdffJF32R577JHd36hRo7z2lVkR9FqZup5NgAABAgQIECBAgAABAgQIECBAgAABAgQIECBAgAABAgQIECBA4GcKVFXQa+bMmdGzZ8945ZVX8kaw3nrrxe233x777bdfXvuqrDz88MNx9NFHx5dffpn32m233TYefPDBbGvJxYsXZ1sznn766fHtt9/mrltzzTWjf//+cc455yxxm8SSi0ePHp0ZTJs2raQp+7v1VltH6sMWW26R174yK4JeK1PXswkQIECAAAECBAgQIECAAAECBAgQIECAAAECBAgQIECAAAECBAj8TIGVHfSaM2dOtg3h888/H02bNs1WsGrXrl0Wjjr22GOz7RBLD6FOnTpx+eWXx2mnnRZpFa2qOFII7dBDD43U59JH/fr147rrrstCYGlcffv2zVYfK31NixYt4oEHHojKrEg2ZcqUbEWwt99+u/QjYoMNNohhw4ZFly5d8tpXZkXQa2XqejYBAgQIECBAgAABAgQIECBAgAABAgQIECBAgAABAgQIECBAgACBnymwMoNeKQyVVsa6//77c71s27ZttlpV2qLx0ksvzX4LFy7MnU+F3r17xy233BIpWFUVx6JFi+L666+Pc889N9JWjqWPAw44IO64445I4axDDjkkpk+fXvp0HHnkkXHjjTdGvXr18torqiSfdH1avav0Ubt27bjooovi7LPPXmVhN0Gv0jOgTIAAAQIECBAgQIAAAQIECBAgQIAAAQIECBAgQIAAAQIECBAgQKDABFZm0GvSpEnRrVu3eO+993KjLgl6bb755vHoI4/GUX2Piq+++ip3PhU23njjuOeee6JTp0557auyMnHixOjRo0dMmDAh77VNmjSJ2267LZ5++um49tprI4XCSo5GjRplAbWuXbuWNC31b7JfUthtp512ygJyyWJVHIJeq0LZOwgQIECAAAECBAgQIECAAAECBAgQIECAAAECBAgQIECAAAECBAj8RIGVGfR66qmn4ogjjojZs2fnelc66JW2LuzevXuMGzcudz4VatSoESeeeGIMGDAg6tatm3duVVW+//77+NOf/hQDBw6MxYsX516btpM8+OCDsxW93nnnnVx7Kuy+++4xfPjwbOvFvBNLqYwYMSIOP/zwmDFjRt5V66yzTlxzzTVxzDHHZB55J1dCRdBrJaB6JAECBAgQIECAAAECBAgQIECAAAECBAgQIECAAAECBAgQIECAAIEVJbCygl5ppau///3v2faHP/zwQ667HTp0iIceeihbtSuFiy655JK44oorouz2jeuuu2784x//yLZHTMGvqjiWFMKqqC916tSJyy+/PE477bTl2m7x66+/zrZvfPTRR8s9tmXLltnKZu3atSt3bkU3CHqtaFHPI0CAAAECBAgQIECAAAECBAgQIECAAAECBAgQIECAAAECBAgQILACBVZW0CutiJVW5br11lvzels66JVOjBo1Kg466KD4+OOP865LlS222CIGDx6crZRVFWGvtKVkWm3riSeeKNe3sg0plPXggw/G1ltvXfbUUutptbC0FeQf//jHmDNnTrlru3TpEoMGDYoWLVqUO7ciGwS9VqSmZxEgQIAAAQIECBAgQIAAAQIECBAgQIAAAQIECBAgQIAAAQIECBBYwQIrK+j1+eefR8+ePeO1117L63HZoNf8+fPj0ksvjSuvvDJS2Kjs0bRp07j22muzZ9WqVavs6SXW0/tvvPHGuP3227Ow1nnnnRdp1a3lOVIIK4WsTj/99Pj222+XeusJJ5yQrWD2U7aaTIGyo446Kipa1Su9NJmlsbRv336pfSh7Mm0tefXVV8dLL72UrZqWAnVLCswJepXVUydAgAABAgQIECBAgAABAgQIECBAgAABAgQIECBAgAABAgQIECBQQAIrK+g1evToLJw1bdq0vNGWDXqlk+maPn36xMiRI/OuLanUrFkz9tprrzjjjDOic+fOsaQw1QfvfxBPPvVkPPzww9mz5s2blz2iUaNG8b//+7/Ro0ePJQadSt5V9u9HH30U3bt3j/Hjx5c9las3btw47rzzzth7771zbctbSGNPq4dNnTq1wlvXXnvtOOyww7JV0tJWjsmk7JHm8l//+lc89thjWWhs7NixkbbQTEfr1q3j/vvvX+KKY4JeZTXVCRAgQIAAAQIECBAgQIAAAQIECBAgQIAAAQIECBAgQIAAAQIECFSxwJQpU7ItFT/99NN4991348MPP4y0AtaqODp16pQFjjbYYIO81y0r6FRycYMGDaJZs2aRwlXNmzePSZMmZVseprDYN998U3JZub+9e/eOW265JerXr1/u3NIa0opj/fv3j6uuuioXmip7fQqhDRs2LNZff/2ypypdT4Gsm2++Of785z9XuIVj6Qclu4022ig23XTT+MUvfpEzSKG0ilZFS/fWrl07Lrroojj77LOzkNh3330XY8aMifQtpBDb3LlzY8SIEdmzSr+rbHnDDTeMPffcMy695NLYYsstyp4u2HqN/yzPtrhge6djBAgQIECAAAECBAgQIECAAAECBAgQIECAAAECBAgQIECAAAECBMoIpIDPySefnIWeypxaJdVdd901HnrooUirbJU+UgwnrcT1+9//fqWEzrbffvvsvSkktrzHK6+8EgcffHB89tln5W6tV69etj1i2rqxolW2yt2wlIYUKkuBsssvvzxKViNbyuXLferII4+Mm266KVsRrbJbUlb0kjTOv/zlL3HhhRfGmmuuWdElBdcm6FVwU6JDBAgQIECAAAECBAgQIECAAAECBAgQIECAAAECBAgQIECAAAECSxN47733olu3bstcuWlpz/g5537961/H8OHDY9111y33mBT2evbZZ7Mg2uTJk8ud/6kNderUiSOOOCKuvPLKn7Tq1pw5c+Loo4/OViIr24etttoqHnjggWxrxLLnfko9hb3SNpMpRDV79uyf8ogK70mrjaXVvE499dRI7+jXr1+F46nw5goaU7Dtuuuui2RbHQ5Br+owS/pIgAABAgQIECBAgAABAgQIECBAgAABAgQIECBAgAABAgQIECCQE5gwYUJ07do13n///VzbqiqksNHAgQOjV69eUaNGjSW+Nm3DmLYwvPfee5e4FeESby51Iq221bNnz2z1qbZt25Y6s3zFFEC766674sQTT8zbHjKN4bTTTosrrrhihQae0vtGvTkq/njaH+P1119fvs6WuTpt83j88cdn4bkmTZpkZ7/++utshbJnnnmmzNWVq6ZwV1p1LI39565iVrk3/vyrBL1+vqEnECBAgAABAgQIECBAgAABAgQIECBAgAABAgQIECBAgAABAgQIrEKBuXPnRlqNaejQoavwrZGt4JXCQb/73e8qtd1fSdjpyr9dGU899VSltzJM4attt902Dj300OjTp09suummK2ScU6dOjR49esTYsWNzz0vBqRQA69y5c65tRRYWLFiQbTc5YMCAePPNN2PRokWVenwKYqUtMtNWjd27d48GDRrk3Zeem1YMSyucVfaZpR+QwmPDhg2LLl26lG4u6LKgV0FPj84RIECAAAECBAgQIECAAAECBAgQIECAAAECBAgQIECAAAECBAhUJDBjxox46623YsH8BRWdXuFtNWvVjBYtWmTbG/6UFaC++eabbEvHl19+Of71r39FWpEqBcHSkYJdjRs3jg4dOsQuu+wSHTt2zOorehApEJW2vXzppZdi4sSJkUJeu+22W/be2rVrr+jXlXveJ598Ek888US2wtfbb78d33//fe6aZJp8k0GnTp1ixx13jLSa2dKOWbNmZd/AD9//sLTLyp2rUbNGrLPOOtG+fftlvqPczVXYIOhVhfheTYAAAQIECBAgQIAAAQIECBAgQIAAAQIECBAgQIAAAQIECBAgQIAAgcoICHpVRsk1BAgQIECAAAECBAgQIECAAAECBAgQIECAAAECBAgQIECAAAECBAgQqEIBQa8qxPdqAgQIECBAgAABAgQIECBAgAABAgQIECBAgAABAgQIECBAgAABAgQIVEZA0KsySq4hQIAAAQIECBAgQIAAAQIECBAgQIAAAQIECBAgQIAAAQIECBAgQIBAFQoIelUhvlcTIECAAAECBAgQIECAAAECBAgQIECAAAECBAgQIECAAAECBAgQIECgMgKCXpVRcg0BAgQIECBAgAABAgQIECBAgAABAgQIECBAgAABAgQIECBAgAABAgSqUEDQqwrxvZoAAQIECBAgQIAAAQIECBAgQIAAAQIECBAgQIAAAQIECBAgQIAAAQKVERD0qoySawgQIECAAAECBAgQIECAAAECBAgQIECAAAECBAgQIECAAAECBAgQIFCFAoJeVYjv1QQIECBAgAABAgQIECBAgAABAgQIECBAgAABAgQIECBAgAABAgQIEKiMgKBXZZRcQ4AAAQIECBAgQIAAAQIECBAgQIAAAQIECBAgQIAAAQIECBAgQIAAgSoUEPSqQnyvJkCAAAECBAgQIECAAAECBAgQIECAAAECBAgQIECAAAECBAgQIECAQGUEBL0qo+QaAgQIECBAgAABAgQIECBAgAABAgQIECBAgAABAgQIECBAgAABAgQIVKGAoFcV4ns1AQIECBAgQIAAAQIECBAgQIAAAQIECBAgQIAAAQIECBAgQIAAAQIEKiMg6FUZJdcQIECAAAECBAgQIECAAAECBAgQIECAAAECBAgQIECAAAECBAgQIECgCgUEvaoQ36sJECBAgAABAgQIECBAgAABAgQIECBAgAABAgQIECBAgAABAgQIECBQGQFBr8oouYYAAQIECBAgQIAAAQIECBAgQIAAAQIECBAgQIAAAQIECBAgQIAAAQJVKCDoVYX4Xk2AAAECBAgQIECAAAECBAgQIECAAAECBAgQIECAAAECBAgQIECAAIHKCAh6VUbJNQQIECBAgAABAgQIECBAgAABAgQIECBAgAABAgQIECBAgAABAgQIEKhCAUGvKsT3agIECBAgQIAAAQIECBAgQIAAAQIECBAgQIAAAQIECBAgQIAAAQIECFRGQNCrMkquIUCAAAECBAgQIECAAAECBAgQIECAAAECBAgQIECAAAECBAgQIECAQBUKCHpVIb5XEyBAgAABAgQIECBAgAABAgQIECBAgAABAgQIECBAgAABAgQIECBAoDICgl6VUXINAQIECBAgQIAAAQIECBAgQIAAAQIECBAgQIAAAQIECBAgQIAAAQIEqlBA0KsK8b2aAAECBAgQIECAAAECBAgQIECAAAECBAgQIECAAAECBAgQIECAAAEClREQ9KqMkmsIECBAgAABAgQIECBAgAABAgQIECBAgAABAgQIECBAgAABAgQIECBQhQKCXlWI79UECBAgQIAAAQIECBAgQIAAAQIECBAgQIAAAQIECBAgQIAAAQIECBCojICgV2WUXEOAAAECBAgQIECAAAECBAgQIECAAAECBAgQIECAAAECBAgQIECAAIEqFBD0qkJ8ryZAgAABAgQIECBAgAABAgQIECBAgAABAgQIECBAgAABAgQIECBAgEBlBAS9KqPkGgIECBAgQIAAAQIECBAgQIAAAQIECBAgQIAAAQIECBAgQIAAAQIECFShgKBXFeJ7NQECBAgQIECAAAECBAgQIECAAAECBAgQIECAAAECBAgQIECAAAECBCojIOhVGSXXECBAgAABAgQIECBAgAABAgQIECBAgAABAgQIECBAgAABAgQIECBAoAoFBL2qEN+rCRAgQIAAgdVLYNGiRfH999/HDz/8kP1N5ZJfaivdXlKeP39+rr3kmtRWu3btqFOnTvarW7duuXJqy3516kbtOrX/X7mkrdTf1WsGjJYAAQIECBAgQIAAAQIECBAgQIAAAQIECBAgQIBA9RUQ9Kq+c6fnBAgQIECAQIEJ/PjjjzF9+vSYMWNG7jdz5syYNWtW9vvmm28KrMcR66+/fjRu3Dj7bbDBBrHhhhtmvyZNmkSqOwgQIECAAAECBAgQIECAAAECBAgQIECAAAECBAgQKAwBQa/CmAe9IECAAAECBKqBwOLFi+Pzzz/PfiVhrtJBrq+++qoajKLyXaxZs2ZeEKx0CCwFwRo1alT5h7mSAAECBAgQIECAAAECBAgQIECAAAECBAgQIECAAIGfJSDo9bP43EyAAAECBAgUq0AKcE2cODEmTZoU77//fqT6F198sdKGu+aaa+a2Y0zbMpb+pS0ay9bTNo5pC8eSrR0rKpecW7hw4Urp9xprrJGtBLbRRhtFq1atonXr1tGyZcuoX7/+SnmfhxIgQIAAAQIECBAgQIAAAQIECBAgQIAAAQIECBBYnQUEvVbn2Td2AgQIECBAIBOYO3duLtQ1efLk+Oijj+Lnrs7VoEGDWG+99bJf6e0R69T+T2irTu1I4a26detmf1OIa2UeaSWyFAz74fv//Ob/5/ef8vfffx/z5s2L2bNnZ7+0vWQKsqVfav85xyabbBJbbrllFvzaYostsvBXjRo1fs4j3UuAAAECBAgQIECAAAECBAgQIECAAAECBAgQIEBgtRcQ9FrtPwEABAgQIEBg9RJIoaf33nsvW6nrgw8+iClTpsTUqVOXG2HttdfOC3KlMFf6pe0NGzduHLVq1VruZxbKDd99912k4FfpX0kILP1NK4Utz5GCbCn4lX4p+JV+KQzmIECAAAECBAgQIECAAAECBAgQIECAAAECBAgQIECg8gKCXpW3ciUBAgQIECBQDQU++eSTbOvFtP1iWqkr/ZZnxaoU3Np8882jadOmWYArhbg22GCDbDWuasixQrr873//O2bNnJVtZzlr9qwsKJcCc8uzClpybNGiRWa7eYvNY8uWW0ajRo1WSP88hAABAgQIECBAgAABAgQIECBAgAABAgQIECBAgEAxCgh6FeOsGhMBAgQIEFjNBd59990YPXp0vPXWW/Hhhx9WWiOt0tWsWbMsgJRWn2rZsmXUq1ev0vev7hemoFdaJS2Zp18Kfy1cuLDSLL/85S+jXbt20aFDh2jevHml73MhAQIECBAgQIAAAQIECBAgQIAAAQIECBAgQIAAgdVBQNBrdZhlYyRAgAABAquBwP/93//lwl0pYFSZI20fWDrYtemmm1bmNtdUUiBtk/nRh/9ZRW3K/1tJLa2mNmPGjErdvdVWW2Whr1/96ldZ4K5SN7mIAAECBAgQIECAAAECBAgQIECAAAECBAgQIECAQBELCHoV8eQaGgECBAgQKHaBtGLX2LFjs5W7pk6dutThrrvuulmoK4W50mpRabWu+vXrL/UeJ1e8wBdffJFtn5nCeB9//HH2W9ZWmmmutttuu2jfvn2kAJiDAAECBAgQIECAAAECBAgQIECAAAECBAgQIECAwOooIOi1Os66MRMgQIAAgWoskIJdJeGuTz75ZIkjWXPNNaNNmzbRtm3baN26dRbyWuLFTlSZwI8//pht95i225wwYUJWXlpnWrRokYW+0kpf22677dIudY4AAQIECBAgQIAAAQIECBAgQIAAAQIECBAgQIBAUQkIehXVdBoMAQIECBAoToHRo0fHmDFjYty4cfHZZ58tcZBpha604tPWW28d2/5y22jQsMESr3WiMAVSeC9tw5lCX++9916kINiSjrT1Zrt27SKFvtLPQYAAAQIECBAgQIAAAQIECBAgQIAAAQIECBAgQKCYBQS9inl2jY0AAQIECFRjgfHjx8crr7ySbcs4Y8aMJY5k/fXXz8JdaeWubbbZJurWrbvEa52oXgJpm8cU+nrnnXey0NfStnhs0qRJttJXp06drPRVvaZZbwkQIECAAAECBAgQIECAAAECBAgQIECAAAECBCopIOhVSSiXESBAgAABAitf4LvvvosXX3wxRo4cmQV8lvTGtJJTWrkrBbtSwMtR/AIp5PX222/nQl9ffvnlEgedvotdd901OnfuHGuttdYSr3OCAAECBAgQIECAAAECBAgQIECAAAECBAgQIECAQHUSEPSqTrOlrwQIECBAoEgFJk+eHC+//HK8+uqrMXv27ApHueWWW+ZW7kplx+orsHjx4kgrvqWVvtIWj9OnT68QI6321rFjx9htt92iZcuWFV6jkQABAgQIECBAgAABAgQIECBAgAABAgQIECBAgEB1ERD0qi4zpZ8ECBAgQKAIBUpW7xo1alSFo9tiiy2i/a/aR9tt2kbTpk0rvEYjgUmTJmUrwI0ePTpmzpxZIcgOO+yQW+Wrwgs0EiBAgAABAgQIECBAgAABAgQIECBAgAABAgQIEChwAUGvAp8g3SNAgAABAsUm8Nlnn2XbM77yyivxySeflBveGmusEe3bt48dd9wxtttuu3LnNRBYksCPP/6YrQqXgoPvvvtuhZelbT87deqUbeu48cYbV3iNRgIECBAgQIAAAQIECBAgQIAAAQIECBAgQIAAAQKFKCDoVYizok8ECBAgQKAIBVL45qWXXorXXnstFi5cWG6EG264YXTo0CF22WWXaNKkSbnzGggsj8DEiRPjjTfeiLTK17x588rdmgKF6VvbfffdI6325SBAgAABAgQIECBAgAABAgQIECBAgAABAgQIECBQ6AKCXoU+Q/pHgAABAgSqscDXX38dL7zwQqTVuyZPnlzhSNq2bZsFbTp27Bg1a9as8BqNBH6qwFdffZWFC1Pga+rUqRU+pmXLltkqX3vssUc0bNiwwms0EiBAgAABAgQIECBAgAABAgQIECBAgAABAgQIEKhqAUGvqp4B7ydAgAABAkUoMHv27HjiiSdixIgRkcJeZY+11147W71rp512ilatWpU9rU5gpQiksNebb74ZY8eOrfD5KeS11157xf777x/rrrtuhddoJECAAAECBAgQIECAAAECBAgQIECAAAECBAgQIFBVAoJeVSXvvQQIECBAoAgFlhXwat68eRbw6rhLx2jQsEERChhSdRBIK3ulbR3TdqJffvlluS43atQofvOb32SBr3XWWafceQ0ECBAgQIAAAQIECBAgQIAAAQIECBAgQIAAAQIEqkJA0Ksq1L2TAAECBAgUmcCyAl7t27ePHXfcMdJfB4FCEfj++++zbR1T4GvSpEnlurX++uvH3nvvHfvtt1/Ur1+/3HkNBAgQIECAAAECBAgQIECAAAECBAgQIECAAAECBFalgKDXqtT2LgIECBAgUGQCywp47bzzztFlzy6x+RabF9nIDafYBMaMGRMvvPBCTJgwodzQNtxww9wKX2uttVa58xoIECBAgAABAgQIECBAgAABAgQIECBAgAABAgQIrAoBQa9VoewdBAgQIECgyASWFfDq0KFD7LnnntG6desiG7nhFLtA2tIxBb4mT55cbqgbbbRRLvBVp06dcuc1ECBAgAABAgQIECBAgAABAgQIECBAgAABAgQIEFiZAoJeK1PXswkQIECAQJEJLCvg1a5duyzg1bZt2yIbueGsbgIjR46MF198MT766KNyQ2/atGkW+DrwwAOjVq1a5c5rIECAAAECBAgQIECAAAECBAgQIECAAAECBAgQILAyBAS9VoaqZxIgQIAAgSITWFbAa5tttok99tgjUtDLQaCYBNLqXinwNW3atHLDatasWeyz9z6x/wH7R40aNcqd10CAAAECBAgQIECAAAECBAgQIECAAAECBAgQIEBgRQoIeq1ITc8iQIAAAQJFJrB48eK48847Y8SIEfH111+XG12bNm2ygFfaqtFBoFgF0v8H6f+BFPiaPn16uWFuttlmse+++8Y+++xT7pwGAgQIECBAgAABAgQIECBAgAABAgQIECBAgAABAitKQNBrRUl6DgECBAgQKDKBsWPHxt133x0TJ04sN7Itt9wy9ui8R+y8y87lzmkgUKwCCxYsiGeffTYLfKVV7soenTp1isMOOyw22WSTsqfUCRAgQIAAAQIECBAgQIAAAQIECBAgQIAAAQIECPxsAUGvn03oAQQIECBAoLgEfvjhhxgyZEg8/PDD5QaWVi7q3Llz7LbbbuXOaSCwugjMmzcvt8JX2ZXuGjZsGAcddFDsv//+qwuHcRIgQIAAAQIECBAgQIAAAQIECBAgQIAAAQIECKwiAUGvVQTtNQQIECBAoDoIvP7663HPPffEhx9+mNfd9dZbL37729/GnnvumdeuQmB1FpgzZ062wtdTTz0VP/74Yx7FTjvtlK3ulcKRDgIECBAgQIAAAQIECBAgQIAAAQIECBAgQIAAAQIrQkDQa0UoegYBAgQIEKjmAnPnzo2hQ4fG448/Xm4kHTt2jG7dukUKezkIECgvMHny5Hj00UfjnXfeyTtZv3796NWrV/To0SOvXYUAAQIECBAgQIAAAQIECBAgQIAAAQIECBAgQIDATxEQ9PqTfvexAABAAElEQVQpau4hQIAAAQJFJDBy5MhsFa+pU6fmjWqjjTaKAw44INLKRA4CBJYt8PRTT8fjTzweKThZ+vjVr34Vhx56aLRq1ap0szIBAgQIECBAgAABAgQIECBAgAABAgQIECBAgACB5RIQ9FouLhcTIECAAIHiEfjqq6+yVbyeeeaZcoNKWzR279491l577XLnNBAgsGSBzz77LB555JEYNWpU3kV16tSJ3r17x0EHHZTXrkKAAAECBAgQIECAAAECBAgQIECAAAECBAgQIECgsgKCXpWVch0BAgQIECgigeeeey6GDx8e06dPzxtV8+bNs1W8tt9++7x2FQIElk8grZSXtkKdOXNm3o3bbrttHHLIIdG2bdu8dhUCBAgQIECAAAECBAgQIECAAAECBAgQIECAAAECyxIQ9FqWkPMECBAgQKCIBFLoZOjQofHCCy+UG9Vvf/vbbBWvNdZYo9w5DQQILL/AnDlz4qGHHooXX3wx7+ZatWpFr569os/hffLaVQgQIECAAAECBAgQIECAAAECBAgQIECAAAECBAgsTUDQa2k6zhEgQIAAgSISePbZZ+Puu++OWbNm5Y2qVatW2SpeW2+9dV67CgECK0bgX//6Vzz22GMxZcqUvAdutdVWcdRRR0X66yBAgAABAgQIECBAgAABAgQIECBAgAABAgQIECCwLAFBr2UJOU+AAAECBIpA4LbbbosHHnggbyRp5a799tsvunbtmteuQoDAihf48ccfs9W9nnrqqUjlkqNevXpx9NFHx29+85uSJn8JECBAgAABAgQIECBAgAABAgQIECBAgAABAgQIVCgg6FUhi0YCBAgQIFAcAl9++WXcdNNN8cYbb+QNaJtttomuB3aNzbfYPK9dhQCBlSswefLkePTRR+Odd97Je1H37t2jX79+eW0qBAgQIECAAAECBAgQIECAAAECBAgQIECAAAECBEoLCHqV1lAmQIAAAQJFJDBu3LgYPHhwTJ06NW9UKVBywAEH5LWpECCwagVS2OvBBx/Me+kOO+wQxx9/fDRu3DivXYUAAQIECBAgQIAAAQIECBAgQIAAAQIECBAgQIBAEhD08h0QIECAAIEiFHj88cfjlltuiQULFuRG16hRozjkkEOiffv2uTYFAgSqTmDMmDFx9913R1p5r+TYZJNN4ne/+11sv/32JU3+EiBAgAABAgQIECBAgAABAgQIECBAgAABAgQIEMgEBL18CAQIECBAoMgEbr755khBr9LHVlttFYcddlhsvPHGpZuVCRCoYoHPPvsshg0bFhMmTMj1ZI011oh+ffvFAQdaeS+HokCAAAECBAgQIECAAAECBAgQIECAAAECBAgQIGBFL98AAQIECBAoFoEUGEkhr7feeitvSHvuuWccfvjheW0qBAgUlsCQIUPi+eefz+vUvvvuGyeccEJemwoBAgQIECBAgAABAgQIECBAgAABAgQIECBAgMDqK2BFr9V37o2cAAECBIpI4M033ozB/xwcM2bMyI0qrQp08MEHR5cuXXJtCgQIFK7Ac889F/fcc08sXLgw18ntttsujj322GjWrFmuTYEAAQIECBAgQIAAAQIECBAgQIAAAQIECBAgQGD1FBD0Wj3n3agJECBAoIgE7r///rj99tvzRtS0adM49NBDI23Z6CBAoPoIpC0c77rrrvj0009znW7cuHEcc8wxscsuu+TaFAgQIECAAAECBAgQIECAAAECBAgQIECAAAECBFY/AUGv1W/OjZgAAQIEikRg/vz5cdNNN8WIESPyRvSrX/0qDu9zeDRo2CCvXYUAgeoh8M3X38SQoUNi7NixeR0+4ogjonfv3nltKgQIECBAgAABAgQIECBAgAABAgQIECBAgAABAquPgKDX6jPXRkqAAAECRSQwZcqULOSVVv8pfey3337Rs2fP0k3KBAhUU4G0Wt/jjz+e1/s999wzTjnllKhVq1ZeuwoBAgQIECBAgAABAgQIECBAgAABAgQIECBAgEDxCwh6Ff8cGyEBAgQIFJnApEmT4tprr43p06fnRla/fv04+OCDo2PHjrk2BQIEqr/Aq6++Gvfcc0/MnTs3N5jtttsuzjjjjGjQwKp9ORQFAgQIECBAgAABAgQIECBAgAABAgQIECBAgMBqICDotRpMsiESIECAQPEIvPPOO1nIa/bs2blBbbHFFnHYYYfFZpttlmtTIECgeATSCn7Dhg2LDz74IDeo9P/96aefHptsskmuTYEAAQIECBAgQIAAAQIECBAgQIAAAQIECBAgQKC4BQS9int+jY4AAQIEikjgrbfeissuuywWLFiQG1WHDh3imGOOidq1a+faFAgQKD6B+fPnx6BBg2Ls2LG5wW244YZZ2KtNmza5NgUCBAgQIECAAAECBAgQIECAAAECBAgQIECAAIHiFRD0Kt65NTICBAgQKCKBUaNGZSGv0kPabbfdom/fvqWblAkQKHKBG2+8MUaPHp0bZdq29bTTTosU+nQQIECAAAECBAgQIECAAAECBAgQIECAAAECBAgUt4CgV3HPr9ERIECAQBEIvPLKK3HVVVfljWSfffaJgw46KK9NhQCB1UPg5ptvjjfffDM32Bo1amRhr86dO+faFAgQIECAAAECBAgQIECAAAECBAgQIECAAAECBIpPQNCr+ObUiAgQIECgiAReeOGF+Pvf/543om7dusWBBx6Y16ZCgMDqJZC2cXz99dfzBn3cccfF/vvvn9emQoAAAQIECBAgQIAAAQIECBAgQIAAAQIECBAgUDwCgl7FM5dGQoAAAQJFJvD000/HP/7xj7xRHXbYYfHrX/86r02FAIHVU+Cf//xnvPrqq3mDT/9GHHLIIXltKgQIECBAgAABAgQIECBAgAABAgQIECBAgAABAsUhIOhVHPNoFAQIECBQZAL33ntv3HnnnXmjOuaYY6Jjx455bSoECKzeArfeemuMHDkyD6Fr166R/r1wECBAgAABAgQIECBAgAABAgQIECBAgAABAgQIFJeAoFdxzafRECBAgEARCAwePDgeeeSRvJGccsop0a5du7w2FQIECCSBO+64I1588cU8jC5dusSpp56a16ZCgAABAgQIECBAgAABAgQIECBAgAABAgQIECBQvQUEvar3/Ok9AQIECBSZwIABA+Lll1/OG9VZZ50VrVu3zmtTIUCAQGmB++67L5544onSTbHTTjvFOeeck9emQoAAAQIECBAgQIAAAQIECBAgQIAAAQIECBAgUH0FBL2q79zpOQECBAgUmUD//v1j/PjxeaO64IILolmzZnltKgQIEKhIIAW9UuCr9PHLX/4yLrnkktJNygQIECBAgAABAgQIECBAgAABAgQIECBAgAABAtVUQNCrmk6cbhMgQIBAcQlceumlMXr06LxB/e1vf4v11lsvr02FAAECSxN46aWX4vbbb8+7pFOnTpFWBnQQIECAAAECBAgQIECAAAECBAgQIECAAAECBAhUbwFBr+o9f3pPgAABAkUgMHDgwHjqqafyRnL99ddHvXr18tpUCBAgUBmBMWPGRPp3pfRxxBFHRO/evUs3KRMgQIAAAQIECBAgQIAAAQIECBAgQIAAAQIECFQzAUGvajZhukuAAAECxSVwzz33xNChQ/MGNWjQoLy6CgECBJZX4J133olrr70277bzzz8/2rdvn9emQoAAAQIECBAgQIAAAQIECBAgQIAAAQIECBAgUH0EBL2qz1zpKQECBAgUmcBzzz0XaeWu0seFF14Ym2yySekmZQIECPwkgRdffDHuuOOOvHtT+KtFixZ5bSoECBAgQIAAAQIECBAgQIAAAQIECBAgQIAAAQLVQ0DQq3rMk14SIECAQJEJjB8/Pvr37583quOPPz523HHHvDYVAgQI/ByBBx54IB577LG8R9x6663RsGHDvDYVAgQIECBAgAABAgQIECBAgAABAgQIECBAgACBwhcQ9Cr8OdJDAgQIECgygenTp8epp54aCxYsyI1s//33jx49euTqCgQIEFhRAoMHD47XXnst97hmzZrFDTfckKsrECBAgAABAgQIECBAgAABAgQIECBAgAABAgQIVA8BQa/qMU96SYAAAQJFIpDCXSeffHLMnDkzN6IOHTrE73//+1xdgQABAita4Oqrr4733nsv99hOnTrFWWedlasrECBAgAABAgQIECBAgAABAgQIECBAgAABAgQIFL6AoFfhz5EeEiBAgEARCfz5z3+OiRMn5kbUpk2bOPPMM3N1BQIECKwMgcWLF8d5550XM2bMyD2+W7ducfTRR+fqCgQIECBAgAABAgQIECBAgAABAgQIECBAgAABAoUtIOhV2POjdwQIECBQRAJXXnllvP7667kRpe3TLrjgglxdgQABAitT4Isvvojzzz8/5s+fn3tN3759bRub01AgQIAAAQIECBAgQIAAAQIECBAgQIAAAQIECBS2gKBXYc+P3hEgQIBAkQjcfPPN8fjjj+dG06hRo+jfv3/Ur18/16ZAgACBlS0wefLk+Nvf/pb3mlNPPTW6dOmS16ZCgAABAgQIECBAgAABAgQIECBAgAABAgQIECBQeAKCXoU3J3pEgAABAkUmcO+998add96ZG1WdOnUiBStat26da1MgQIDAqhJ48803I4VPSx9pdcHtt9++dJMyAQIECBAgQIAAAQIECBAgQIAAAQIECBAgQIBAgQkIehXYhOgOAQIECBSXwHPPPRfXX3993qCOP/742HHHHfPaVAgQILAqBZ588slIIdSSo3HjxnHuuedGixYtSpr8JUCAAAECBAgQIECAAAECBAgQIECAAAECBAgQKDABQa8CmxDdIUCAAIHiEZg2bVq2PeNXX32VG1SfPn1skZbTUCBAoCoFhg0bFiNGjMh1oV27dnHhhRfm6goECBAgQIAAAQIECBAgQIAAAQIECBAgQIAAAQKFJSDoVVjzoTcECBAgUEQCl112WYwaNSo3ogMPPDC6deuWqysQIECgqgUGDhwYY8aMyXXj4IMOjj6H98nVFQgQIECAAAECBAgQIECAAAECBAgQIECAAAECBApHQNCrcOZCTwgQIECgiASGDx8eQ4YMyY1o++23j5NPPjlXVyBAgEAhCKQVB6+++uqYMWNGrjvnn39+tG/fPldXIECAAAECBAgQIECAAAECBAgQIECAAAECBAgQKAwBQa/CmAe9IECAAIEiEhg/fnxcfPHFsXDhwmxUDRs2jDPPPDOaNGlSRKM0FAIEikUgreiVVvYqOVq0aBFpRcJ69eqVNPlLgAABAgQIECBAgAABAgQIECBAgAABAgQIECBQAAKCXgUwCbpAgAABAsUjsGDBgjjvvPNi4sSJuUH17ds3dtttt1xdgQABAoUmcO+998aTTz6Z69bee+8dJ510Uq6uQIAAAQIECBAgQIAAAQIECBAgQIAAAQIECBAgUPUCgl5VPwd6QIAAAQJFJDBo0KB49NFHcyPaddddo1+/frm6AgECBApVYMCAATFhwoRc90455ZTYa6+9cnUFAgQIECBAgAABAgQIECBAgAABAgQIECBAgACBqhUQ9Kpaf28nQIAAgSISePnllyMFJUqOpk2bxllnnRX169cvafKXAAECBSvw8ccfZ/+GzZs3L+vjeuutF5dccklsvPHGBdtnHSNAgAABAgQIECBAgAABAgQIECBAgAABAgQIrE4Cgl6r02wbKwECBAisNIFZs2bF+eefH59//nnuHSeffHJsv/32uboCAQIECl3g+eefjyFDhuS6udNOO8U555yTqysQIECAAAECBAgQIECAAAECBAgQIECAAAECBAhUnYCgV9XZezMBAgQIFJHA1VdfHSNHjsyN6Le//W307t07V1cgQIBAdRH45z//Ga+++mquu0ceeWT06tUrV1cgQIAAAQIECBAgQIAAAQIECBAgQIAAAQIECBCoGgFBr6px91YCBAgQKCKBhx9+OFIwouRo1apVnH322SVVfwkQIFCtBObOnRtXXXVVfPrpp1m/11hjjbjooouibdu21WocOkuAAAECBAgQIECAAAECBAgQIECAAAECBAgQKDYBQa9im1HjIUCAAIFVKjB58uS44IILYt68edl711xzzTjjjDOiZcuWq7QfXkaAAIEVKTBu3Li44YYbco/caqut4rLLLouaNWvm2hQIECBAgAABAgQIECBAgAABAgQIECBAgAABAgRWrYCg16r19jYCBAgQKDKB/v37x/jx43OjStub7bvvvrm6AgECBKqrwEMPPRSPPPJIrvtdu3aNY445JldXIECAAAECBAgQIECAAAECBAgQIECAAAECBAgQWLUCgl6r1tvbCBAgQKCIBO6444647777ciPafvvt4+STT87VFQgQIFDdBa677rp4++23c8NI29J27NgxV1cgQIAAAQIECBAgQIAAAQIECBAgQIAAAQIECBBYdQKCXqvO2psIECBAoIgEpk2bFn/+859zWzY2bNgwzjzzzGjSpEkRjdJQCBBY3QU+/fTTGDBgQMyZMyej2HrrrePyyy9f3VmMnwABAgQIECBAgAABAgQIECBAgAABAgQIECBQJQKCXlXC7qUECBAgUN0F/ud//ieeeeaZ3DCOOOKI2GOPPXJ1BQIECBSLwAsvvBB33nlnbjgnnHCCLWpzGgoECBAgQIAAAQIECBAgQIAAAQIECBAgQIAAgVUnIOi16qy9iQABAgSKRGD8+PHRv3//3GjatGmTreaVa1AgQIBAkQn87W9/i8mTJ2ej2mSTTeLqq6+OunXrFtkoDYcAAQIECBAgQIAAAQIECBAgQIAAAQIECBAgUNgCgl6FPT96R4AAAQIFKHDZZZfFqFGjcj075ZRTol27drm6AgECBIpNYPTo0XHjjTf+f+zdB5hTRfvw4YcqIIgUpUgVFFFfQURQBEWKSBERaSKg0qv0vrRl6WXpvPSuKE2kSq8qgiAgTQGl+VKlCSIgfv/n+GXIbpJNNptks9nfXBdkZnLOnJn7ZHNSnsyYYdWpU0f0HwkBBBBAAAEEEEAAAQQQQAABBBBAAAEEEEAAAQQQQCBwAgR6Bc6aIyGAAAIIhIDA1q1bZcSIEWYkxYsXlyZNmpgyGQQQQCBUBcaNGyc//PCDNbx06dLJ0KFDJVu2bKE6XMaFAAIIIIAAAggggAACCCCAAAIIIIAAAggggAACCASdAIFeQXdK6BACCCCAQDALdO3aVY4cOWJ1MXny5NKjRw/JlStXMHeZviGAAAI+ETh8+LC1ZKOtsTfffFOaN29uK3KLAAIIIIAAAggggAACCCCAAAIIIIAAAggggAACCCDgZwECvfwMTPMIIIAAAqEj8OWXX8r06dPNgCpUqCA1a9Y0ZTIIIIBAqAvMmDFDtm/fboY5aNAgKViwoCmTQQABBBBAAAEEEEAAAQQQQAABBBBAAAEEEEAAAQQQ8J8AgV7+s6VlBBBAAIEQErh+/bp07txZzp49a40qc+bM0rNnT9Hly0gIIIBAYhE4ffq0DBw4UG7fvm0N+eWXXxad6ZCEAAIIIIAAAggggAACCCCAAAIIIIAAAggggAACCCDgfwECvfxvzBEQQAABBEJAYM6cObJo0SIzkjp16ki5cuVMmQwCCCCQWAQWLFggX331lRluly5dpESJEqZMBgEEEEAAAQQQQAABBBBAAAEEEEAAAQQQQAABBBBAwD8CBHr5x5VWEUAAAQRCSODUqVPWjDU3b960RpUvXz7p3r17CI2QoSCAAAKeC1y9clUiBkTI5cuXrZ2efvppa5Yvz1tgSwQQQAABBBBAAAEEEEAAAQQQQAABBBBAAAEEEEAAAW8ECPTyRo19EEAAAQQSlcD48eNl7dq1ZszNmzeXokWLmjIZBBBAILEJrFy5UhYvXmyG3axZM6lYsaIpk0EAAQQQQAABBBBAAAEEEEAAAQQQQAABBBBAAAEEEPC9AIFevjelRQQQQACBEBLYt2+f9O7d24yoSJEi0rJlS1MmgwACCCRGgb///lv69+8vp0+ftoafI0cOGT58uKRKlSoxcjBmBBBAAAEEEEAAAQQQQAABBBBAAAEEEEAAAQQQQCAgAgR6BYSZgyCAAAIIJFSBAQMGyM6dO63uJ0mSxFrCMX/+/Al1OPQbAQQQ8JnAli1bZPbs2aa9OnXqiP4jIYAAAggggAACCCCAAAIIIIAAAggggAACCCCAAAII+EeAQC//uNIqAggggEAICOzevVvCw8PNSMqUKSN169Y1ZTIIIIBAYhcYNmyYHDlyxGLIlCmTjB07VtKkSZPYWRg/AggggAACCCCAAAIIIIAAAggggAACCCCAAAIIIOAXAQK9/MJKowgggAACoSAQGRkpmzdvtoaSNm1aawnHjBkzhsLQGAMCCCDgEwENiJ0wYYJpq0mTJlK5cmVTJoMAAggggAACCCCAAAIIIIAAAggggAACCCCAAAIIIOA7AQK9fGdJSwgggAACISTw22+/Sdu2beXOnTvWqEqXLi316tULoREyFAQQQMA3AoMGDZJjx45ZjT311FMyePBg3zRMKwgggAACCCCAAAIIIIAAAggggAACCCCAAAIIIIAAAlEECPSKwkEBAQQQQACBfwU+mfeJfL7gc8PRrVs3yZ8/vymTQQABBBD4V2Djxo0yb948wxEWFiZFixY1ZTIIIIAAAggggAACCCCAAAIIIIAAAggggAACCCCAAAK+ESDQyzeOtIIAAgggEEIC9+7dk9atW4vO6qXp2WeflXbt2oXQCBkKAggg4DsBnfmwV69ecvHiRavRUqVKSceOHX13AFpCAAEEEEAAAQQQQAABBBBAAAEEEEAAAQQQQAABBBCwBAj04oGAAAIIIIBANIF169bJuHHjTG3Dhg2lRIkSpkwGAQQQQCCqwJIlS2TFihVWZbJkySQyMlJy5coVdSNKCCCAAAIIIIAAAggggAACCCCAAAIIIIAAAggggAACcRIg0CtOfOyMAAIIIBCKAn369JG9e/daQ8uWLZv0798/FIfJmBBAAAGfCZw/f170uVNn99JUvXp1adCggc/apyEEEEAAAQQQQAABBBBAAAEEEEAAAQQQQAABBBBAAAERAr14FCCAAAIIIGAn8OOPP0pYWJipqVq1qug/EgIIIIBAzAIzZsyQ7du3WxtlyZJFxo4dKylTpox5J+5FAAEEEEAAAQQQQAABBBBAAAEEEEAAAQQQQAABBBDwWIBAL4+p2BABBBBAIDEIjB8/XtauXWsNNUWKFBIeHi6PPPJIYhg6Y0QAAQTiJHDkyBEZNmyYaaNFixZSoUIFUyaDAAIIIIAAAggggAACCCCAAAIIIIAAAggggAACCCAQNwECveLmx94IIIAAAiEkcOHCBWnbtq3cvHnTGtXLL78sjRo1CqERMhQEEEDAvwKjRo0SnRlR07PPPisRERH+PSCtI4AAAggggAACCCCAAAIIIIAAAggggAACCCCAAAKJSIBAr0R0shkqAggggEDMAgsWLJB58+aZjdq3by/PPPOMKZNBAAEEEIhZYMeOHTJlyhSzUd++faVw4cKmTAYBBBBAAAEEEEAAAQQQQAABBBBAAAEEEEAAAQQQQMB7AQK9vLdjTwQQQACBEBPQ2bxOnDhhjerJJ5+ULl26hNgIGQ4CCCDgf4F+/frJqVOnrAO9/vrr1kyJ/j8qR0AAAQQQQAABBBBAAAEEEEAAAQQQQAABBBBAAAEEQl+AQK/QP8eMEAEEEEDAA4EtW7bIyJEjzZb16tWT0qVLmzIZBBBAAAHPBFavXi0LFy60Nn7ggQdk9OjRkjVrVs92ZisEEEAAAQQQQAABBBBAAAEEEEAAAQQQQAABBBBAAAGXAgR6uaThDgQQQACBxCQQEREhu3btsoacMWNG0XLKlCkTEwFjRQABBHwicP36denTp49cu3bNaq9OnTqi/0gIIIAAAggggAACCCCAAAIIIIAAAggggAACCCCAAAJxEyDQK25+7I0AAgggEAICR44cka5du5qRVKhQQWrWrGnKZBBAAAEEYifw2Wefydq1a62dcuTIIePGjYtdA2yNAAIIIIAAAggggAACCCCAAAIIIIAAAggggAACCCDgIECglwMJFQgggAACiU1g/vz5ov9sSWeiyZkzp63ILQIIIIBALAVOnjwp4eHhZq/evXtLkSJFTJkMAggggAACCCCAAAIIIIAAAggggAACCCCAAAIIIIBA7AUI9Iq9GXsggAACCISYQM+ePeXAgQPWqAoUKCCdO3cOsREyHAQQQCDwAoMHD5ajR49aB65atao0bNgw8J3giAgggAACCCCAAAIIIIAAAggggAACCCCAAAIIIIBACAkQ6BVCJ5OhIIAAAgjEXuDcuXPSrFkzs2O1atWkSpUqpkwGAQQQQMA7gcWLF8vKlSutnfPmzSuRkZHeNcReCCCAAAIIIIAAAggggAACCCCAAAIIIIAAAggggAAClgCBXjwQEEAAAQQStcCaNWtkwoQJxiAsLEzy5MljymQQQAABBLwTOHjwoIwcOdLsrPnHH3/clMkggAACCCCAAAIIIIAAAggggAACCCCAAAIIIIAAAgjEToBAr9h5sTUCCCCAQIgJDB8+XLZt22aNKmfOnNKnT58QGyHDQQABBOJPoFOnTnLlyhWrA++//77UrFkz/jrDkRFAAAEEEEAAAQQQQAABBBBAAAEEEEAAAQQQQACBBC5AoFcCP4F0HwEEEEDAe4G///5bGjRoIDdu3LAaqVChAkEI3nOyJwIIIOAgMGnSJNm5c6dV/5///Ef69+/vsA0VCCCAAAIIIIAAAggggAACCCCAAAIIIIAAAggggAACngkQ6OWZE1shgAACCISgwK5duyQiIsKMrEOHDvL000+bMhkEEEAAgbgJbNq0SebOnWs1kjRpUpk1a5akS5cubo2yNwIIIIAAAggggAACCCCAAAIIIIAAAggggAACCCCQSAUI9EqkJ55hI4AAAgiITJs2TZYtW2ZRPPTQQzJy5EhYEEAAAQR8KHD1ylXp2KmjabF169ZSrlw5UyaDAAIIIIAAAggggAACCCCAAAIIIIAAAggggAACCCDguQCBXp5bsSUCCCCAQIgJtGjRQv73v/9Zo3rllVfko48+CrERMhwEEEAg/gUGDhwox48ftzpSokQJ6dKlS/x3ih4ggAACCCCAAAIIIIAAAggggAACCCCAAAIIIIAAAglQgECvBHjS6DICCCCAQNwFfvnlF2nfvr1pqHnz5lK0aFFTJoMAAggg4BuBRYsWyapVq6zGdPbE2bNn+6ZhWkEAAQQQQAABBBBAAAEEEEAAAQQQQAABBBBAAAEEEpkAgV6J7IQzXAQQQACBfwUWLlwoc+fONRzjxo2TVKlSmTIZBBBAAAHfCBw9elQGDx5sGuvXr58UKlTIlMkggAACCCCAAAIIIIAAAggggAACCCCAAAIIIIAAAgh4JkCgl2dObIUAAgggEGICXbt2lSNHjlijevbZZ6Vdu3YhNkKGgwACCASPQIcOHeTatWtWh6pUqSKNGzcOns7REwQQQAABBBBAAAEEEEAAAQQQQAABBBBAAAEEEEAggQgQ6JVAThTdRAABBBDwnYAGGzRo0MA0WLduXSlTpowpk0EAAQQQ8K3A5MmT5bvvvrMazZ49u0yYMMG3B6A1BBBAAAEEEEAAAQQQQAABBBBAAAEEEEAAAQQQQCARCBDolQhOMkNEAAEEEIgqsHbtWhk/frypHDp0qGTMmNGUySCAAAII+FZgx44dMmXKFNPoxIkTJVu2bKZMBgEEEEAAAQQQQAABBBBAAAEEEEAAAQQQQAABBBBAwL0AgV7ujdgCAQQQQCDEBAYMGCA7d+60RpUzZ07p06dPiI2Q4SCAAALBJXD79m1p2bKl6dSHH34o1apVM2UyCCCAAAIIIIAAAggggAACCCCAAAIIIIAAAggggAAC7gUI9HJvxBYIIIAAAiEm0LBhQ/n999+tUVWqVEmqV68eYiNkOAgggEDwCQwePFiOHj1qdaxkyZLSqVOn4OskPUIAAQQQQAABBBBAAAEEEEAAAQQQQAABBBBAAAEEgliAQK8gPjl0DQEEEEDA9wLXr1+X+vXrm4abNGkixYsXN2UyCCCAAAL+EZg1a5Zs3brVajxXrlwyZswY/xyIVhFAAAEEEEAAAQQQQAABBBBAAAEEEEAAAQQQQACBEBUg0CtETyzDQgABBBBwLrB3794oSzX27dtXcuTI4XxjahFAAAEEfCawbt06mT9/vtVekiRJZMmSJT5rm4YQQAABBBBAAAEEEEAAAQQQQAABBBBAAAEEEEAAgcQgQKBXYjjLjBEBBBBAwAh88cUXMnPmTFOeOnWqyZNBAAEEEPCfwKFDh2TEiBHmAJGRkZI3b15TJoMAAggggAACCCCAAAIIIIAAAggggAACCCCAAAIIIBCzAIFeMftwLwIIIIBAiAmMGjVKNm3aZI0qa9asEhEREWIjZDgIIIBAcAro0rnt27c3nWvTpo2ULVvWlMkggAACCCCAAAIIIIAAAggggAACCCCAAAIIIIAAAgjELECgV8w+3IsAAgggEGICHTp0kOPHj1ujev7556VVq1YhNkKGgwACCASvQNu2beXGjRtWB9966y1p1KhR8HaWniGAAAIIIIAAAggggAACCCCAAAIIIIAAAggggAACQSZAoFeQnRC6gwACCCDgX4EaNWrI3bt3rYNUqlRJqlev7t8D0joCCCCAgBEYPHiwHD161Co/99xzEh4ebu4jgwACCCCAAAIIIIAAAggggAACCCCAAAIIIIAAAgggELMAgV4x+3AvAggggEAICZw+fVpat25tRtSkSRMpXry4KZNBAAEEEPCvwKxZs2Tr1q3WQR5++GGZOXOmfw9I6wgggAACCCCAAAIIIIAAAggggAACCCCAAAIIIIBACAkQ6BVCJ5OhIIAAAgjELKDBBSNGjDAb9e3bV3LkyGHKZBDwVuDixYvy9ddfy7lz5+T8+fOi5UuXLkm6dOkkV65c1r+8efJK3sfzSpYsWbw9DPshkOAF1q1bJ/Pnzzfj0MCv9OnTmzIZBBBAAAEEEEAAAQQQQAABBBBAAAEEEEAAAQQQQAAB1wIEerm24R4EEEAAgRATmD17tixevNiMaurUqSZPxr8Cr732mly5ciVOB3nggQfkoYceEp0FKEOGDJI5c2YpVaqUvP7665I6deo4te3Nzt9//72sWrVKNm3aJPv375d79+551IwGtZQrV06aN28uhQsX9mif2Gz06quvytWrV2OzS5RtU6ZMKfpPvVOlSmUF4eTOnVvy5csnBQsWlBIlSkjSpEmj7BObggbBVa1aVW7cuOF0N53h6fnnn3d6ny8rFy1a5HLZwJo1a0pYWJgvD0db/1/g0KFDUQJu+/TpE5DzzQlAAAEEEEAAAQQQQAABBBBAAAEEEEAAAQQQQAABBEJBgECvUDiLjAEBBBBAwCOB/v37iwbnaMqaNatERER4tB8bxV3gmWeesWa6intLji1okJcGBtWrV080QMff6bvvvpN+/fqJ3sY1ab8/+ugjqVGjhqRIkSKuzVn7P/3003LhwgWftOWsEZ2R7I033pBaNWvJSy+/5GwTt3UaZNm9e3en2z1d8GlZv2G9JE+e3On9vqjU2dY0SNCZU548eWTz5s2SJk0aXxyKNqIJXL9+Xdq3b29qGzRoINWrVzdlMggggAACCCCAAAIIIIAAAggggAACCCCAAAIIIIAAAq4FCPRybcM9CCCAAAIhJtCkSRMT2KEBNq1atQqxEQbvcPwZ6GU/6pIlS8rIkSMlb9689tU+yR89elR09qG1a9fKP//845M2bY1o8FR4eLhPAl78Hehl67PevvjiizJ69Gh54okn7Ks9ylerVk22b9/udNsOHTq4DARzukMsKzW4bvny5Q57aXCZzvSls5aR/CfQtm1bM6ObzkCn55uEAAIIIIAAAggggAACCCCAAAIIIIAAAggggAACCCDgXoBAL/dGbIEAAgggEAICf/75p7z33ntmJJUqVfJJUI1pkEyMAoEK9NJOPPjggzJjxgxrSccYOxWLO1evXi2tW7eO05KI7g6XJEkSK/iwd+/eonlvUyADvbSP6v3xxx9Lu3btYrWk46lTp6RMmTJOl/TUWdq++uora6lIbx1c7ffll19Ko0aNnN7dsmVLa7Y2p3dS6TOBwYMHiwZOatIZ1EaNGuWztmkIAQQQQAABBBBAAAEEEEAAAQQQQAABBBBAAAEEEAhlAQK9QvnsMjYEEEAAASNw4MAB6dmzpynr7F7Fixc3ZTL+FQhkoJeOJGPGjKIBPQUKFIjzwCZNmmQF/9y5cyfGtpImTSoaZKWBK5kzZ5ZHHnlErl27JidOnJDTp0/L2bNn5eLFizG2oXdq8JMubZguXTq32zrbINCBXrY+vPPOOzJ58mRb0aPbadOmSbdu3ZxuW6hQIVmzZk2sgsecNmRXefnyZWvJxnPnztnV/ptVt3Xr1vlsCU2HA1BhBGbNmiVbt261ysmSJbNmUTN3kkEAAQQQQAABBBBAAAEEEEAAAQQQQAABBBBAAAEEEHApQKCXSxruQAABBBAIJYHly5bL1GlTzZD69u0rOXLkMGUy/hVwFeilwXcpU6aM8eAaYHXr1i3RWdlu3rwply5dkp9//ll+/fVXq87VzhpwtWHDBq8DprTdsLAw0UCvmJIuX6izxb355ptWcFdM2+7atUvGjRtnLf94+/Ztl5vmy5dP5s6dK/nz53e5jas7XAV66VhSpEjhajer/t69e5bxH3/8Ifrvxo0bVpDa4cOHraC1GHf+vzs1gHLgwIHuNotyvwaIbdu2LUqdraCPD50pzFepadOmsmTJEofm0qRJI6tWrbIC9RzupMLnAhpQN3/+fNOuLv+ZO3duUyaDAAIIIIAAAggggAACCCCAAAIIIIAAAggggAACCCDgXIBAL+cu1CKAAAIIhJiALuW3dOlSMyqdMYkUOAFXgV4nT54UXabPm3T37l2ZM2eOjB07VnQZQGdJZ4vq2LGjs7vc1umsQ506dXK5nY5JA5HKly/vchtXd2h/NeBL++9qprAnnnhCNm3a5DYQLvoxXAV66TFTpUoVfXOPyn///bfs27dPPvnkE5k3b57LPmtjPXr0kPbt23vUrm6ks53pLGY621b0lDZtWisozpuAt+htaSBXgwYNoldbZV8HlDk9CJVG4NChQzJixAhT7tWrl7zwwgumTAYBBBBAAAEEEEAAAQQQQAABBBBAAAEEEEAAAQQQQMC5AIFezl2oRQABBBAIMYGJEyfKV199ZY1KA4s0OIgUOAF/BHrZen/1ylWpVLmS/PTTT7Yqc5s9e3bRWbTczWRldvj/GV3qs0qVKtasVtHv03LDhg2tmat02bm4pNWrV0vr1q3l6tWrTpvRGagGDBjg9D5Xlf4I9LI/1p49e6zguf3799tXm3ySJElk5syZUqlSJVPnLjN9+nTp2rWr082KFSsmy5cvF23X23T9+nUpWbKk/Pbbbw5N6BKuy5Yti1P7Do1SEaOABniGh4ebbTSgUs8PCQEEEEAAAQQQQAABBBBAAAEEEEAAAQQQQAABBBBAIGYBAr1i9uFeBBBAAIEQERg5cqRs2bLFGk2mTJlkyJAhITKyhDEMfwZ6qcCZM2fklVdesZYajC4yfvx4qVWrVvRql2VdrrBs2bJy7Ngxh200SHDYsGFSu3Zth/u8rdi7d68105SzIKTkyZPLokWLpESJEh437+9AL+2ILvHYtm3bKMvv2XfwySeftJZjjE1wVvXq1WXr1q32zZh8RESENGvWzJRjm2nZsqUsWLDAYbcMGTLI+vXrJWfOnA73UeE/gYsXL4rOtmdLrVq18mpmPNv+3CKAAAIIIIAAAggggAACCCCAAAIIIIAAAggggAACiUWAQK/EcqYZJwIIIJDIBQYOHCjfffedpZAjRw7p27dvIhcJ7PD9Heilo9Fgkc8//9xhYE2aNLFm33K4w0VFWFiYTJo0yem9gwcPlkaNGjm9Ly6VGuT1xhtvyLlz5xyayZMnjxWk6OkSl4EI9NJO6tKZVatWlZ07dzr0WStGjx4tdevWdXqfs0oN1nv99dedLuGYPn162bhxo1cBWevWrbP68c8//zgcVgNA69ev71BPhX8F/vzzT2nTpo05iM6Qp48lEgIIIIAAAggggAACCCCAAAIIIIAAAggggAACCCCAQMwCBHrF7MO9CCCAAAIhItC7d2/Zt2+fNRqdbahLly4hMrKEMYxABHrpzEx16tRxAClXrpx8+umnDvXOKv744w8pUqSI02AjnRVMZwfzV9IgNQ1Wc5YaN24sgwYNcnaXQ12gAr30wDozU/ny5eX06dMO/dAAtW+//VZis7ylLvnYuXNnh7a0olSpUrJ48WKn97mq1NnZdL9Tp045bKKBdfPmzXOopyIwArosqc4Mp0kDAmMz615geshREEAAAQQQQAABBBBAAAEEEEAAAQQQQAABBBBAAIHgEyDQK/jOCT1CAAEEEPCDQNeuXeXIkSNWy4ULF5bWrVv74Sg06UogEIFeJ06ckKJFizp0QY+9adMmh3pnFZGRkU5n/9Kl/TRoKWXKlM5281mdq+ULM2fOLPv37xddytFdCmSgl/ZFZ/SqXLmyOJsxS5e5/PDDD911Ocr9NWrUkM2bN0epsxVGjBhhLXNpK7u7bdeundNgrixZsljH0GVcSfEjoEt/aiCepnfeeUc++OCD+OkIR0UAAQQQQAABBBBAAAEEEEAAAQQQQAABBBBAIMQE9IfWf/31l3i6WkyIDT/kh0OgV8ifYgaIAAIIIKACGlSggUCaSpQoIbpUGClwAoEI9Lp27Zrky5fPYVCezgR1584dK1BMl1GMnnr06CHt27ePXu3zsj5GS5cuLTqzWPQ0a9YsqVSpUvRqh3KgA720A7Vr15YNGzY49KVMmTLy2WefOdTHVKH+anD58mWHzTQwS4PANFDLXdLtatas6TQAzVNLd8fgfu8FunXrZs0Ipy1UrFhRmjVr5n1j7IkAAggggAACCCCAAAIIIIAAAggggAACCCCAQCIWWLVqleh3H/o9k37PcvbsWbl9+7Y88sgjki1bNsmePbv13UuLFi3koYceSsRSoTF0Ar1C4zwyCgQQQAABNwIaRHDu3Dlrq7Jly8p7773nZg/u9qVAIAK99u7dK7pMY/RUr1490Zm63KXly5fLRx995LBZ+vTpZffu3QF74duyZUtZsGCBQz+qVq0q06ZNc6iPXhEfgV7btm2zZmWK3pcMGTLIoUOHYrV8o7Yxe/Zs6dixY/TmrLInSy7eunXLWrLx119/dWhDl/ccO3asQz0VgRUIDw+XkydPWgfVwD6dfY2EAAIIIIAAAggggAACCCCAAAIIIIAAAggggAACngnorF3jxo2TiRMnyuHDhz3a6eGHH7Z+JK8THOTJk8ejfdgo+AQI9Aq+c0KPEEAAAQT8IKDLgl29etVqWQNm9B8pcAKBCPRyFRzk6fKB3bt3l6lTpzqg1KpVS8aPH+9Q76+KlStXOl3GTgPOfvzxR0mVKlWMh46PQC9dtlHP8YULFxz6pgF0xYsXd6h3V6GzcblaclPPtc4C5Sr17NlTJk+e7HC3vmnRmb7SpEnjcB8VgRUYPny4eeP50ksvic7wRUIAAQQQQAABBBBAAAEEEEAAAQQQQAABBBBAAAH3AleuXLF+gO/qe5QHH3zQWrbx4sWLThvTmb7mzZsn5cuXd3o/lcEtQKBXcJ8feocAAggg4CMBXVpO16LWpLN56axepMAJBCLQS5dojP6LhcyZM8uePXvcBkephM4GprOCRU9jxowJ6AxwOpWuBmvZAhPt+6O/yqhRo4Z9lUM+PgK9tBONGzeWpUuXOvRHl7zUX4bENum0wq+99pr8/vvvDrtqwNbWrVudntcffvjBWuJSl+K0TylSpJDFixbLSy+/ZF9NPp4EJkyYYM2Up4cvXLiw9O3bN556wmERQAABBBBAAAEEEEAAAQQQQAABBBBAAAEEEEg4ArqSyttvvy0///yz6XTKlCmlWrVq1nc1BQsWlMcee0ySJEki165ds7b76quvRD+XP3PmTJR9hg4dKm3btjV1ZBKGAIFeCeM80UsEEEAAgTgK6IsbW2rcqDHBHjaMAN36O9Br4MCBTpdnbN26tfTp08ftKP/880/Jnz+/tV559I2/++47yZs3b/Rqv5Z1uUl90R09aZCXBnvFlOIr0Ev71bt3b4eu6WxNy5Ytc6j3pGLu3LmigWLOki71pzN32SedpliDOHXms+ipVatWBBNFR4nH8owZM2T79u1WD/RN56BBg+KxNxwaAQQQQAABBBBAAAEEEEAAAQQQQAABBBBAAIHgF7h8+bI8//zzcuLECdPZMmXKWCvWuPsuSycaGDlypPVdjv2P5efNnSd1369r2iMT/AIEegX/OaKHCCCAAAJxFNAgHp3Fy5batGkjhQoVshW5DYCAvwK9Ll26JBEREaIBQdHTU089JatWrZK0adNGv8uhvH79eqlTp45DvU5de/DgQYd6f1dMnz5dunbt6nCYkiVLypIlSxzq7SviK9Br3bp1Uf7ObH3SNxYaLOdt0tn4NmzY4LC7TjusUxLr7F62pLOv9e/f31Y0t/r40/4lT57c1JGJX4HPP/9c1qxZY3VCHyORkZHx2yGOjgACCCCAAAIIIIAAAggggAACCCCAAAIIIIBAkAtUqVJFVqxYYXr57rvvyqeffiq6qomnacGCBfLRRx/JjRs3rF0yZMggO7/bKfny5/O0CbaLZwECveL5BHB4BBBAAAH/C+jSbw0bNjQH6tatmzV7k6kg43cBV4FeR38+KqnTpHZ7fF128+bNm3Ljjxty/vx5+fHAj7Jr1y5ZvXq1eSFq30iWLFms+3LkyGFf7TI/depU6d69u8P9r7zyinzxxRcO9f6uWLt2rdSt6/jrCQ1e0yULY0rxFeh16tQpKVKkiEPXMmXK5LCkpsNGMVScO3fOWsJRg/qiJ/2VymeffWZV63YaCKfr0tunNGnSWI8FnTWKFDwCy5cvN39b2bJlcztTXfD0nJ4ggAACCCCAAAIIIIAAAggggAACCCCAAAIIIBB4gVGjRkVZBaV8+fLW6jC6RGNs0/z586P8eF9nCfv++++t5R5j2xbbB16AQK/Am3NEBBBAAIEAC5w+fVp0CT9b0hmgsmbNaityGwABV4Fe/jj0k08+KZMmTZJnn33W4+aHDRsmug559PTWW2+Jzq4V6LRv3z5rCcLox/VkhrH4CvTSKX91zffoKWnSpPK///1P9NbbNG/ePNGlGp2lmTNnSuXKla1155cuXeqwSa9eveTjjz92qKcifgU2btwoel416a+FdClHEgIIIIAAAggggAACCCCAAAIIIIAAAggggAACCDgK3Lp1S3R1jLNnz1p36ufqe/fulZw5czpu7GHNO++8Y36QrbvMmTNH6tWr5+HebBafAgR6xac+x0YAAQQQCIjAzz//LJ07dzbH0iXC0qVLZ8pk/C8QiECvBx54QJo0aSI9evSI1RS1OnrdZ8qUKQ4QOqvW6NGjHer9XaGzlqlZ9KS/yjhz5kyM44uvQC/ta/bs2cV+XXdb/3X5Sw1Si0vS5Vd1+cXoKXfu3DJ48GBrBrR//vknyt3FixeXZcuW8QuUKCrBUdDlPCdPnmx1JnXq1NbU0sHRM3qBAAIIIIAAAggggAACCCCAAAIIIIAAAggggEBwCYwcOVI6duxoOqUTGHTq1MmUvcnod1E6ecLVq1et3QsVKiQ//PCDN02xT4AFCPQKMDiHQwABBBAIvIDOjtS7d29zYA0uiMvsQqYhMh4LBCLQSwOJdInOJo2bSPqH03vcN92wRYsWsnDhQod9tD48PNyh3t8V9+7ds2bHunv3rsOhdMlKDW5yleIz0OuJJ55wWDpR+7llyxaJ69KJujRj6dKl5eLFiw5D10ChP//8M0q9/ppl/fr1cfo1S5QGKfhU4McffxSdZlqTPh8vXrzYp+3TGAIIIIAAAggggAACCCCAAAIIIIAAAggggAACoSDw999/S758+eTEiRPWcHTiA11JRb8HiWuqXr26LFmyxDSzfPlyaxUVU0EmKAUI9ArK00KnEEAAAQR8KXD48GHp1q2baXLcuHGSKlUqUybjf4FABHrZRpE+fXp5++23pWvXrvLoo4/aqmO81Zm71q5d67CNthHXX0Q4NOphhQZGOQtqWrFihRQrVsxlK/EZ6FWgQAH5/fffHfq2cuVKefHFFx3qY1vx6aeferwMo87cxxTDsRUO3Pa7d++WCRMmWAdMkSKFLFiwIHAH50gIIIAAAggggAACCCCAAAIIIIAAAggggAACCCQQAV3tpHz58qa3ZcuWdboCitkgFpn58+eLrqhiSzVq1ODzehtGEN8S6BXEJ4euIYAAAgj4RkAj3Nu2bWsaGzJkiGTKlMmUyfhfIJCBXrbR6KxXGjyia5a7S66WBQwLC4vy2HHXji/v137/8ccfDk1+/fXXojNnuUrxGeiVLVs2cTYL2bZt20SDwHyRXJ0r+7YrVKggc+fOta8iH2QC+piYOXOm1StdSnfOnDlB1kO6gwACCCCAAAIIIIAAAggggAACCCCAAAIIIIBA/At8/PHHMnbsWNORiRMnSvPmzU05LhldLUW/27Et36gTKJw9e1aSJEkSl2bZ188CBHr5GZjmEUAAAQTiX0DXmG7atKnpiC7jmCtXLlMm438BV4Fe06ZNk1QPuJ9d7e97f8uNGzfk+vXrVvCTLuO3f/9++emnn5zOemUbUZYsWeSTTz6R5557zlbl9LZDhw5OA01at24tffr0cbqPPyvv3Lkj2bNnd3qIU6dOxTgjXXwFemlQmqugugMHDng8u5rTQdtV6t/za6+95vK86znfvHkzwZx2ZsGYXfPVGvl8wedW13TZ1SlTpgRjN+kTAggggAACCCCAAAIIIIAAAggggAACCCCAAALxKqArwOjqRZp02cbffvtNMmbM6LM+VatWTZYuXWra27Jli5QqVcqUyQSfAIFewXdO6BECCCCAgI8FNDiofv36ptWOHTuKvigiBU7AVaDXyZMnJXXq1HHqyOrVq2XYsGGyb98+p+1oEMm3334rDz30kNP7tXL48OGiM71FT++//76MGjUqerXfyxrI9uyzzzocR1+4HzlyxKHeviK+Ar00AK1IkSL2XTH5M2fOSMqUKU05rpnPP/9cWrVq5dCM/sJk1qxZUrFiRYf7qAgugSVLloguQ6opZ86cUX6NFFw9pTcIIIAAAggggAACCCCAAAIIIIAAAggggAACCMSPgH5flDVrVnPwMmXKyPr1603ZF5lP5n0i79d73zTVq1cvCQ8PN2UywSdAoFfwnRN6hAACCCDgY4G///5b3n33XdNqixYt5IUXXjBlMv4X8Gegl6333bt3l6lTp9qKUW7dzcz16aefik59Gz1VrlzZLC8X/T5/lg8ePGjNWhX9GE8++aRs3749enWUcnwFemmgna4LHz2lSZNGdPlUX6Z//vnH6QxhGTJksGZ58+WxaMs/Arq05qZNm6zGdSlSDdYkIYAAAggggAACCCCAAAIIIIAAAggggAACCCCAwH2Bb775RkqUKGEqBg4cKPp9mC+TrtiSLl0602SDBg2sH9WbCjJBJ0CgV9CdEjqEAAIIIOAPgRo1asjdu3etpvUFyquvvuqPw9CmC4FABHrpoXWWJ53tKXpKnz696Ithnd3LWdq2bZu88847DnfprFobN250qPd3hQbBtG/f3uEwJUuWFJ0JKaYUX4FeCxYskJYtWzp0TZdz/O677xzq41JBoFdc9IJjX12qcceOHVZn/vOf/0j//v2DLiNzDwAAQABJREFUo2P0AgEEEEAAAQQQQAABBBBAAAEEEEAAAQQQQACBIBHQ77xq165tejN79uwoqxiZO+KY0RVlLl++bLVSvnx5WbNmTRxbZHd/ChDo5U9d2kYAAQQQCBqBevXqiUaka9LZvVjaLbCnJlCBXr///rsUK1ZMrl696jDATp06SdeuXR3qtUKXkHQ2y1uKFCnk559/lgcffNDpfv6q1NnFdJax6Ekfu//973+jV0cpx1egly6Jqm8woqeqVavKtGnTolfHqUygV5z4gmLn0aNHy/79+62+vPjii9KzZ8+g6BedQAABBBBAAAEEEEAAAQQQQAABBBBAAAEEEEAgWASGDx8unTt3Nt1Zt26d09VVzAZeZnTljaNHj1p764+zdRUXUvAKEOgVvOeGniGAAAII+FCgcePGcvHiRatFDfKyX8rRh4ehKRcCgQr00sO7Cjh66623ZPr06S56KFK0aFGnSwx+8sknor9eCGR67dXX5OChgw6H1Cl5mzRp4lBvXxFfgV66bKOzF/59+vQRXTrTl4lAL19qxk9bgwYNkmPHjlkHL1WqlPV3Gz89iXrU69evy59//mlVaqCnLgfqLt27d89cX3Tbhx9+WFKmTOluNysg9a+//rK2e+CBB0RnHnSX7ty5Y35VpdtmypRJkiVL5m43ax/dV1Pq1KmjTMPtamftm33QrM6ImCRJElebm3oNuLXNoJk2bVrR5VvdJTVXe016DFezL0Zv58KFC6LPB5oeeughSZUqVfRNHMoa9H3z5k2rPnny5KK/VHOXvD3H165dk1u3blnN62NCHxvukrfn+MqVK3L79m2reXVQD3fJF+dYz6+eZ3fJF+dYp4/Xx6+7pOfXFtzv6TnWx5E+nmxJ/x7179Jdsn/O8PQc65Lily5dMk3r84w+37hL+vdoe87w9BzrY0IfG7aUOXNmSZo0qa3o8lZ/vWl7zvD0HOtjXR/ztvToo4/asjHe6utz/RvT5M051vHouNwlX5xjb68L3pxjb68L3pxjb68L3pxjb64Lnp5jfQycP3/ePBS8uS54e449vfbbXxe8PceeXvvtrwvenuPEfO2P/pzhzTn29rrgzTn29rrgzTn25rrg7es7b64LXPu59psLgZfXBfvXd/6+Lti/vvP3dcH+9Z2/rwv2r++49vOe0PY3Gcj3hN68749+7ff0PaH96ztvr/2evl+wf33n7bXf0/cL9p/teHPt1/PuzfsFb679nr5f8PYc2x7D3CIQnwK6+suoUaNMFw4dOiRPPfWUKfsq89JLL5lVOLJkySJnz571VdO04wcBAr38gEqTCCCAAALBJ6CBJqdPn7Y69tprr/llWtPgG3Xw9CiQgV6ulj10twxj3759Zfz48Q5oGiSoQSmBSmfOnLGCzmyBErbj6gdxe/fudRt4Eh+BXvrlbv78+c0X0LY+6+2KFSusWdbs6+Ka1zfmzj4s0A9Gfvrpp7g2z/4BEOjVq5f873//s470xhtvOF32MwDdcDjEpEmTZNWqVVZ9njx5oryBdtj4/1fol8pNmzY1d/fr108KFSpkyq4yGrhpW9a0SJEi0rt3b1ebmnp9E9+9e3dTHjdunOTIkcOUXWX0F186O6EmDcps06aNq01N/datW2XEiBGm/Nlnn3kU+GIfWF2rZi2p+35d04arzBdffCEzZ8607tYPEDXA1pOkQdsaNKOpRYsWUqFCBbe76QyDy5Yts7Z77LHHnD7vR29EP0z98MMPTXVYWJj1PG0qXGSGDRsm27dvt+71dIlSPU/2v9DTD3H0segu9ejRQw4e/DdAWJen7tChg7td5Ntvv5XBgweb7ebMmeNREGDz5s3NBz267PEHH3xg2nCVWblypUyePNm6W78w0+V+PUk6Lb0tuKlxo8ZS5a0qbnfT2SUXL15sbacfSunftbukwWF1695/rHbp0kVKlCjhbjfrOWLTpk3WdvoBm72nq51PnDghbdu2NXcPHTpUnnzySVN2ldHAaX0doOnll192OUup/f67d++W8PBwU6UB754EN+pzxKlTp6z9qlSpIvp37S7pdP4TJkywNtMv9N0tNW1rz37WXV1evXr16ra7XN7Onz9f9J8mHU9Mgfy2RjTorVatWrai9TfiyVLuOibbUgX58uWL8rxoGouW0eubPifZ0oABA0RfC7tLuozx999/b23m6WyXP/74o+hzki3pzK9Zs2a1FV3e6nPE8ePHrfv1udO+v6520se6/QfLixYt8ijY+KOPPjJByu+9916U5SZcHUvb1uckTfpljy3vantbfbVq1WxZ64cG5cqVM2VXGV1OWl+vasqVK5eMGTPG1aamXr/Atv+70L/P559/3tzvKqPPEfrcq6lw4cKi7z/cpcOHD0u3bt3MZto/7ae7pDMZHzlyxNrs9ddfj/K842pfvWbptcuWdIZhfQ/iLukPUWzBsjVq1BD9u3aXvvzyS/O3q19U2v6m3e2n7dveJzVr1syjmbpnzJghS5cutZrOnj27ea6K6Vj6pa0+J9lSj+49pFjxYraiy1t97aSvoTTp373+/btL+rdof90eOXKkPP744+52s/729TlAU8mSJUVnsHaXdu7cGaVPs2bN8ujHBi1btpTffvvNav7tt98W/bt2l1avXm1mo9bgq4ULF7rbxbpfnydsP7zQ4+jx3CX9DMDWvgav6d+1u6TH0GPZkvqpo7ukf4MbNmywNtPrt17H3SW9ptq//tbnAk++mNPniB9++MFqXr90s38ucHVM3d7+uUUtPPkRhb420dcomipVqhTl/Y2rY+lMEvp+xJb0Nb0nSf+2bMHh+nyhf9fuki5XZHuPoIGXtvcOMe2n7xPsf+TZrl07KV26dEy7WPfptVQfv5ry5s0rkZGRVj6m/86dOyf6nGRL+vrrueeesxVd3upzhP5datJZ5vV9srukr/n1tb8t6WsVfW5zl/QxbpuhQ3/M2KpVK3e7yJYtW0Sfk2xJz4MGsrhLjRo1Mj9s0Nfz9n9rrvbV1476nKRJZ9WfN2+eq02j1OtrR9uPBvS5Sj9fcJemTp0qy5cvtzbT99P2j2NX+2qgnP1zn54rZysDRN9fnyO+/vprq1ofE/avzaNvayvr51r6fsSWdEb03Llz24oub/WzAv3MQJN+9q1BAe7SN998I0OGDDGb6fOpJz/k0ce7Pu416Tmwv2aaxqJl9PWW7flZH0f6ePIk6Wt424+a9DVH5cqV3e6mjyXb+xF9bexudQRtUIPD7F/D6Gspfd/lLulzxObNm63NChYs6NFnyL/++qvoc5It6esvnUXHXdLPjWw/stX3q/aPE1f76vsLfZ9hS/q6SD8/dZfsv0vRH0/r37W79NVXX8nEiROtzTT4yva+3N1+77//vty4ccPaTD9f0M8Z3CV9naqfU2nSIHlPVpPQzxbsl77TH4vrj09JCCQEAX0utP8sTYPFPfmRZ2zHpquz2D431b9jfc3sybU/tsdhe98IEOjlG0daQQABBBAIcgH7DzT0ixP7D2CCvOsh0b1ABnp9+8238lbVtxzc3AUB6Zcozt7c6ZtF/aJUgw8CkfTDImcfQOgXVc6Wc4zep/gI9NIPUJx9saAfwB44cMDnbwYI9Ip+1hNeWT9Msc0WpW8gGzZsGBSDINDr/mkg0Ou+BYFe9y00R6DXfQ8NetHgF00EehHoZT0Q/u8/Ar1sEv/eEuh134NAr/sWBHrdtyDQ676F5gj0uu9hH+hVvHjxKD/4uL9V1ByBXvc9CPS6b6E5+89FCfQi0Mv26CDQyyZBoNd9iX9zBHpFF6GMQPwK6PdW27ZtszqhAV62z9V93SsNqNWAaFvSFTk8+RGKbXtuAytAoFdgvTkaAggggEA8Cegv3W2/dtWgI09+1RRPXQ3JwwYy0EtnyHH26y59AWxbKs4Vsv7izTYjiv02+osp+1/g2t/ny7zOjKWzAdiWGbVvWwNQPJnlIj4CvXRGDNuvBu37rL/Mtf2Sy74+rnkCveIqGP/76y9tbb/I9PQXvoHoNYFe95UJ9LpvQaDXfQvNEeh134NAr/sWCW1GL30voK/73CVm9LovpEGNzOj1rwczet1/XGjOfkYvnT2nfv36UTdwUiLQ6z4KgV73LTRHoNd9DwK97lswo9d9C2b0um+hOWb0uu/BjF73LZjR674FM3rdt2BGr/sW5BKeQIECBcxKJjrDs20mVl+PpGfPnqKrUNiSzljoyWzotu25DawAgV6B9eZoCCCAAALxJBARESG7du2yjq5Tr+sLFlLgBAIZ6KXTQjubsU3Pu22ZNFcj1+m27V/I2rbT5b30FxOeTF9u28ebW13qw9myTzobmQYqejJNbqADvTZu3BhlKST7cevSDa+88op9lU/yBHr5hDHeGtFfVtv/jXo6LXsgOqxL0tiWHtKlijxZTk0D1uwDHXVpL0+eK/QNuQYQaUqfPr1Hy/Pp8nK2JRh1P51B6IEHHtBsjEn30X016SyFniz3qL8M0+UEbEmXHtQpu90ltbAF8ekSCbp0nruk5rblgHRpH71meJJ0yQJ9PtCUM2dOj5ak05l2dLlNTbpUlH5Q4i7duXMnShCw/pJNlxJzl06ePGmWK9PtPfkFnE6Jbr8ErfZP++ku6ZfE169ftzbTpezUw13SJXN++eUXs5kucZwsWTJTdpXRGTBtyynq+fVkmbjff//dLAWox9BjeZL02mdbnlOvxZkzZ3a729mzZ80yIvr34cnSSLrcy/79+03b+prBkynwdSkmHZumtA+mlXz585k2XGU0qNu2nJpuo88zniyNpufKtsyRvi7wZOk2fUzoY8OW9DWCLp3pLulj0LZsli6VnC1bNne7WI91fczbkidL2Oq2OvOnbRk2XXbIk+Wl9G/YtvyvvjbSJVLcJX2usC1zotvq8jc686i7pEu/X7p0ydpMZ3f1ZEmV6NcF3ceTmWH1Odf2q1xPrwu6xIz9DxnUwpPXi/bXBTX3ZMknvWbZf5isyw/pMp3ukn4hrc+jmvSx5Gz57eht2F8X9DGrj11Pkm15U91W/0Y8WZbGm2u/t9cF+2u/Psfoc4275O21/9jRY/LHjT+s5j29Lnh77be/Lnh67ddgOV2yXlNsrgveXPvtrwueXvv12mP7oZj20dPrgjfX/ujXBW+u/Z5eF7y99ut1S/upyZtrvz5XeLKMnbZvf13w9Nqvy4fpedbk6XUh+rU/T548Hi1jaX9d8PTar6+b9O/Eljy9Lthf+/Wa5cnSbdGvC95c+z29LuhSdt5c++2vC95c+z29Lnh77be/Lnh77ff0PaE3135vrwv2135v3xN6eu2Pr/eEnl774+s9oafXfm/fE3pz7Y9+XfD0fb/9td/T64K31/5AvSf09tofqu8J7a/93rwn9Pba7+l1wZtrf/TrgqfXftv1m1sE4lNAJwewLemtz7u2176+7pP+KM7+B14aLFqkSBFfH4b2fCRAoJePIGkGAQQQQCC4BYYPH26mNtUXQgMGDAjuDodY7wIZ6KVLws2ePdtBUJc6WL58uUO9fYW+SdRpcPUDy+hJZwmbOXNm9GqflXV5yGrVqpkvVu0b1jXYx48fb1/lMh/IQC/9IlOn/Hc2C5ongXUuB+HmDn1j7uxLQv2Cwz5Awk0z3B1PAvpBYocOHczRdXagN99805TJIIAAAggggAACCCCAAAIIIIAAAggggAACCCCAgEjFihVl9erVFoX+EFd/fOTJD3Jja6ez686fP9/spj/C8uRHl2YHMgEVINAroNwcDAEEEEAgvgQ0SGbt2rXW4fUXVCNHjoyvriTK4wYq0CumpQ91qbh+/fq59ddgrs6dOzvdbtCgQdK4cWOn98Wl8saNG/L6669HmVnF1p6+kNalcjRA0ZMUyEAvXc7S/oW/ff90drIGDRrYV/ksT6CXzyjjpSH9hbQuh2pLni6fZdueWwQQQAABBBBAAAEEEEAAAQQQQAABBBBAAAEEEoNAo0aNZPr06WaoOjuyJzNzmx08zJQrV07Wr19vba0rVthWD/BwdzYLsACBXgEG53AIIIAAAvEjMG3aNFm2bJl1cF0W6r///W/8dCSRHjUQgV46xbb+4kCXEnSWtm7d6tHyTbpvjRo1RNcfj550CShdWrFevXrR7/K6rEs+ab91Ri9nacqUKdZMX87uc1YXqECvSZMmSVhYmLMuiC7XpIGVnizn47QBN5UEerkBCvK7jx49GmWJ0h7de0ix4sWCvNd0DwEEEEAAAQQQQAABBBBAAAEEEEAAAQQQQACBwAroj6b79+9vDrpz504pWrSoKfsqo9/r7Nu3z2pOV2w5fvy4r5qmHT8IEOjlB1SaRAABBBAIPoEFCxbIvHnzTMciIyMlXbp0pkzGvwKBCPTS5d8WLVrkdCB6fJ0Vy9OkMw7pDFsahBU9afCSLg/ZtWvX6HfFunzy5EnRZRmPHTvmdF8NOJs4caLT+1xV+jvQ6+bNm9b4Fy5c6LQLOmWwBlUWK+a/wB0CvZzSJ5jKHTt2iAYw2tKQIUOkQIECtiK3CCCAAAIIIIAAAggggAACCCCAAAIIIIAAAggg8H8CkydPlmbNmhmLL774Qt5++21T9lUmR44corOFaXrppZfkm2++8VXTtOMHAQK9/IBKkwgggAACwSewa9cuiYiIMB3TQJ2CBQuaMhn/Cvgr0Ov27duyYsUKK4jP2QxctlHNmTNH3nzzTVvRo1vdp0OHDi63feWVV6zH1LPPPutyG1d33L17V3Q50QkTJjgNJtP98uTJYwWnPfjgg66acVrvr0CvX3/9VaZOnSoa4HXp0iWnx9ZKXfayS5cuLu/3xR0EevlCMf7aWLx4saxcudJ04PPPP5eUKVOaMhkEEEAAAQQQQAABBBBAAAEEEEAAAQQQQAABBBAQWb16tVSsWNFQ6IpF9oFf5o44ZlKlSiV//fWX1co777wj+jk+KXgFCPQK3nNDzxBAAAEEfChw8eJFady4sWmxTp06outNkwIj4CrQS2er8jTAQ4N77ty5Y73QvHDhghw+fNhaptHZrFv2o9IXwLNnz7av8jivMw2NHDlS7t2753QfXQZUfzmhSy+WLFlSkiVL5nQ7W+XZs2flyy+/tAKmfvnlF1u1w22GDBlk7ty5Xs2K5SrQy1PrGzduyB9//GGtv3716lU5ePCgHDp0SM6dO+fQz+gV+uJff13i70Sgl7+F/du+Bjnu2bPHOkjWrFlZSte/3LSOAAIIIIAAAggggAACCCCAAAIIIIAAAgggkEAF9Dsa/Y7Nltq0aSNjxoyxFX1yq9+32U+O0apVKxk3bpxP2qYR/wgQ6OUfV1pFAAEEEAhCgXr16lkBLNq1UqVKyQcffBCEvQzNLrkK9PL3aB9//HFrGcFHH33U60MtXbrUWqpQg55iSpkyZbICs3LlyiWPPPKI9U+XOTx//rz1T9c2//HHH0WDlGJKGqg1Y/oMeTzf4zFt5vI+V4FeLnfw0R1VqlSxgrxSpEjhoxZdN0Ogl2ubhHBPWFiYaNCjphdffFF69uyZELpNHxFAAAEEEEAAAQQQQAABBBBAAAEEEEAAAQQQCKiArmyj33HZvqPKmzevHD9+3Kd96N27t/Tv39+0OWnSJGnatKkpkwk+AQK9gu+c0CMEEEAAAT8JdO/e3ZqZSJvPnz+/dOvWzU9HotnoAvER6KXnWNcqz5IlS/TuxLqsAVoNGjSQU6dOxXrf2OxQq1YtGTFihOgUud6mQAd6JU2a1FrismvXrt52Odb7EegVa7Kg2sF+dsUaNWqIBuGSEEAAAQQQQAABBBBAAAEEEEAAAQQQQAABBBBAwFGgQoUKsmbNGnPHd999Z/2I2lTEMVOoUCHRyQo06Xc+Z86cEV2NgxS8AgR6Be+5oWcIIIAAAj4W0HWrdS1rTQ8++KCMHj3ax0egOVcCgQz00qUg33//fenVq5ekS5fOVZdiXa/Lf+q651u2bIn1vu52SJs2rYSHh0v9+vXdber2/kAGeulylepcpEgRt/3y5QYEevlSM7BtnT59Wvr27WsO2qlTJ2vZU1NBBgEEEEAAAQQQQAABBBBAAAEEEEAAAQQQQAABBIzAqFGjpH379qbcrl07iYyMNOW4ZH766ScpUKCAaaJw4cKyZ88eUyYTnAIEegXneaFXCCCAAAJ+EFi1apXodKO2pC+CfBkIZGuXW0eBQAR6ZcuWTd544w1p0qRJlBeljr2JW43O7jV+/HjRx9ONGzfi1JhOsauzeOlsYXFZXtK+E/4O9NJ+vv7661KnTp14C9Ah0Mv+jCes/I4dO2TKlCmm0xMmTJDs2bObMhkEEEAAAQQQQAABBBBAAAEEEEAAAQQQQAABBBC4L3Dy5EnR75Pu3btnVT7++ONy7Nix+xvEIac/zO7Xr59pQVdHGjhwoCmTCU4BAr2C87zQKwQQQAABPwgcPnw4ynKNHTt2lIIFC/rhSDQZXcAXgV7JkycXnflKlzVMnTq1ZMyY0VqCU8/h888/Ly+//LIkSZIk+qH9Vv79999l2rRpMm/ePGsaW08PpH0vU6aMfPDBB1bAlKf7ebpdXAO9bM7aT7XOnDmzPPHEE/LUU0/J84Wfl2LFi1lT93raH39sR6CXP1QD0+bixYtl5cqV1sFSpEghCxYsCMyBOQoCCCCAAAIIIIAAAggggAACCCCAAAIIIIAAAglUoEqVKrJixQrT+507d0rRokVN2duMzuC1d+9ea3ddDennn38WnViBFNwCBHoF9/mhdwgggAACPhT466+/pHbt2qZFnZGoXLlypkwGAW8Fzp49K8ePH5dffvlF9JcVJ06ckN9++81aIvSxxx6TXLlyWf9y585tBU1pwBoJgcQooLPh2aZ91l8djRw5MjEyMGYEEEAAAQQQQAABBBBAAAEEEEAAAQQQQAABBDwW+Pbbb60JD2w7VKxY0fyo2lYX29slS5ZI9erVzW4ffvihzJgxw5TJBK8AgV7Be27oGQIIIICAHwSaNm0q58+ft1ouVaqUNauSHw5DkwgggAACTgTCwsJEAyM1lS5dWtq1a+dkK6oQQAABBBBAAAEEEEAAAQQQQAABBBBAAAEEEEDAXkA/U9+8ebOpmj17ttSvX9+UY5O5evWq6Go8Z86csXbTFTgOHDhgTVYQm3bYNn4ECPSKH3eOigACCCAQTwIRERGya9cu6+j58+ePspRjPHWJwyKAAAKJRqBx48ZmrLp86TvvvGPKZBBAAAEEEEAAAQQQQAABBBBAAAEEEEAAAQQQQMC5wOHDh61Zva5cuWJt8Oijj8qaNWukUKFCzndwUXvnzh3rs3n7pSD1R9r9+/d3sQfVwSZAoFewnRH6gwACCCDgVwGNbl+8eLF1DF1revTo0X49Ho0jgAACCPwrcPr0aenbt6/h0HzhwoVNmQwCCCCAAAIIIIAAAggggAACCCCAAAIIIIAAAgi4Fpg5c6Z89NFHZoPMmTOLLsFYsmRJUxdT5ubNm/LWW2/Jhg0bzGavvvqqbNq0SZIkSWLqyAS3AIFewX1+6B0CCCCAgI8Ftm7dKiNGjDCtRkZGSrp06UyZDAIIIICAfwR27NghU6ZMMY3PmjVL0qdPb8pkEEAAAQQQQAABBBBAAAEEEEAAAQQQQAABBBBAIGaBJk2ayNSpU81GadOmFV1Bo1u3bpIjRw5Tb5/5+++/ZcaMGTJ06FD5+eefzV25c+eWb7/9VrJmzWrqyAS/AIFewX+O6CECCCCAgA8FTp06JW3atDEtduzYUQoWLGjKZBBAAAEE/COgsymuXLnSavzhhx8W/eURCQEEEEAAAQQQQAABBBBAAAEEEEAAAQQQQAABBGIn0K9fPwkPD5d79+6ZHdOkSSOlSpWSfPnySd68ea2JLn755RfRf/pD7BMnTphtNVO8eHFZunSpZMmSJUo9heAXINAr+M8RPUQAAQQQ8LFAjRo15O7du1arderUkXLlyvn4CDSHAAIIIBBdYPz48bJnzx6r+j//+Y/0798/+iaUEUAAAQQQQAABBBBAAAEEEEAAAQQQQAABBBBAwAOBRYsWSYsWLeTChQsebH1/k6RJk0r9+vVl8uTJkjJlyvt3kEswAgR6JZhTRUcRQAABBHwl0L59eyt6Xdt74YUXrBdBvmqbdhBAAAEEnAt06NBBrl27Zt1ZpUoVady4sfMNqUUAAQQQQAABBBBAAAEEEEAAAQQQQAABBBBAAAG3Ardu3ZJp06bJhAkT5ODBgzFunyFDBqldu7boZ/VPPPFEjNtyZ3ALEOgV3OeH3iGAAAII+EFA16DWqUg1pUiRQiZOnOiHo9AkAggggIBN4Ndff5WIiAhbUcLCwqRo0aKmTAYBBBBAAAEEEEAAAQQQQAABBBBAAAEEEEAAAQS8F9AVNX766SfRz+N1mcabN29Kzpw5JXfu3NZSjsWKFbOWc/T+COwZLAIEegXLmaAfCCCAAAIBEzh06JB0797dHE9n+HrmmWdMmQwCCCCAgG8FlixZIitWrLAaTZ48uSxcuNC3B6A1BBBAAAEEEEAAAQQQQAABBBBAAAEEEEAAAQQQQCARCBDolQhOMkNEAAEEEHAUaNCggVlC7LXXXrPWonbcihoEEEAAAV8IhIeHy8mTJ62mdMncXr16+aJZ2kAAAQQQQAABBBBAAAEEEEAAAQQQQAABBBBAAAEEEpUAgV6J6nQzWAQQQAABm8CoUaNk06ZNVjFjxowydOhQ213cIoAAAgj4UODqlavSsVNH02KzZs2kYsWKpkwGAQQQQAABBBBAAAEEEEAAAQQQQAABBBBAAAEEEEDAMwECvTxzYisEEEAAgRAT+Oabb2TIkCFmVD179rTWpzYVZBBAAAEEfCKgQbVz5841bU2fPl00wJaEAAIIIIAAAggggAACCCCAAAIIIIAAAggggAACCCAQOwECvWLnxdYIIIAAAiEi8Oeff0rdunXln3/+sUb01ltvydtvvx0io2MYCCCAQPAIjBs3Tn744QerQ/nz55fhw4cHT+foCQIIIIAAAggggAACCCCAAAIIIIAAAggggAACCCCQgAQI9EpAJ4uuIoAAAgj4ViA8PFx2795tNZo7d27p1auXbw9AawgggAAC0rZtW7lx44YlUb16dWnQoAEqCCCAAAIIIIAAAggggAACCCCAAAIIIIAAAggggAACXggQ6OUFGrsggAACCISGwIoVK2TKlClmMP369ZPHHnvMlMkggAACCMRNYO/evTJ27FjTyODBg+Wpp54yZTIIIIAAAggggAACCCCAAAIIIIAAAggggAACCCCAAAKeCxDo5bkVWyKAAAIIhJjA6dOnpXXr1mZUtWrWkjcqvGHKZBBAAAEE4ibwySefyIYNG6xGsmTJIpMmTYpbg+yNAAIIIIAAAggggAACCCCAAAIIIIAAAggggAACCCRiAQK9EvHJZ+gIIIAAAiKdOnWSo0ePWhTPPPOMtG/fHhYEEEAAAR8J9O3bVzSoVlPZsmWlTZs2PmqZZhBAAAEEEEAAAQQQQAABBBBAAAEEEEAAAQQQQACBxCdAoFfiO+eMGAEEEEDATmD27NmyePFiUzNkyBDJlCmTKZNBAAEEEPBO4OTJkxIeHm527tixo5QqVcqUySCAAAIIIIAAAggggAACCCCAAAIIIIAAAggggAACCMROgECv2HmxNQIIIIBAiAns3btX+vTpY0ZVr149KV26tCmTQQABBBDwTmD16tWycOFCa+cHH3xQZsyYISlTpvSuMfZCAAEEEEAAAQQQQAABBBBAAAEEEEAAAQQQQAABBBAQAr14ECCAAAIIJHqBpk2byvnz5y2HIkWKSMuWLRO9CQAIIIBAXAXGjBkj+/bts5opXry4dO/ePa5Nsj8CCCCAAAIIIIAAAggggAACCCCAAAIIIIAAAgggkKgFCPRK1KefwSOAAAIIqMDo0aNl48aNFkbq1KllwIAB8tBDD4GDAAIIIOClwLVr16RHjx5y69YtqwUNqK1UqZKXrbEbAggggAACCCCAAAIIIIAAAggggAACCCCAAAIIIICAChDoxeMAAQQQQCDRC2zYsEF05hlbqlGjhrz55pu2IrcIIIAAArEUWLlypSxevNjsNXHiRMmWLZspk0EAAQQQQAABBBBAAAEEEEAAAQQQQAABBBBAAAEEEIi9AIFesTdjDwQQQACBEBO4ffu2fPzxx3L27FlrZLlz55ZevXqF2CgZDgIIIBA4gT59+siZM2esA5YoUUK6dOkSuINzJAQQQAABBBBAAAEEEEAAAQQQQAABBBBAAAEEEEAgRAUI9ArRE8uwEEAAAQRiJzB37lxZuHCh2ally5ZSpEgRUyaDAAIIIOCZwNdffy3Tp083G/fo3kOKFS9mymQQQAABBBBAAAEEEEAAAQQQQAABBBBAAAEEEEAAAQS8EyDQyzs39kIAAQQQCDGB06dPS/v27eXOnTvWyF544QVp0aJFiI2S4SCAAAL+Fxg5cqQcPHjQOlCBAgVkyJAh/j8oR0AAAQQQQAABBBBAAAEEEEAAAQQQQAABBBBAAAEEEoEAgV6J4CQzRAQQQAABzwRGjRolmzZtMhvr0mM5c+Y0ZTIIIIAAAjELHDp0SEaMGGE2atKkiVSuXNmUySCAAAIIIIAAAggggAACCCCAAAIIIIAAAggggAACCHgvQKCX93bsiQACCCAQYgI//PCD9O3b14yqQoUKUrNmTVMmgwACCCAQs8C0adPkm2++sTbKnDmzjB07VlKnTh3zTtyLAAIIIIAAAggggAACCCCAAAIIIIAAAggggAACCCDgkQCBXh4xsRECCCCAQGIR6NWrl+zfv98absaMGSUiIkJSpkyZWIbPOBFAAAGvBc6ePWsFy969e9dqo1q1avLhhx963R47IoAAAggggAACCCCAAAIIIIAAAggggAACCCCAAAIIRBUg0CuqByUEEEAAgUQusHbtWhk/frxRqFevnpQuXdqUySCAAAIIOBdYtGiRrFq1yrozadKkEhkZKblz53a+MbUIIIAAAggggAACCCCAAAIIIIAAAggggAACCCCAAAKxFiDQK9Zk7IAAAgggEMoC9+7dk9atW8tvv/1mDfPJJ5+ULl26hPKQGRsCCCAQZ4Fbt25Jnz595NKlS1ZbJUuWlE6dOsW5XRpAAAEEEEAAAQQQQAABBBBAAAEEEEAAAQQQQAABBBC4L0Cg130LcggggAACCFgCn376qXz22WdGo3379vLMM8+YMhkEEEAAgagC69evF33utKWwsDApWrSorcgtAggggAACCCCAAAIIIIAAAggggAACCCCAAAIIIICADwQI9PIBIk0ggAACCISWwNmzZ6Vt27by119/WQN7+eWXpVGjRqE1SEaDAAII+FBg4MCBcvz4cavFggULyqBBg3zYOk0hgAACCCCAAAIIIIAAAggggAACCCCAAAIIIIAAAgioAIFePA4QQAABBBBwIjBmzBjZsGGDdU+KFCkkPDxcHnnkESdbUoUAAggkboHvv/9eJk6caBCaNWsmFStWNGUyCCCAAAIIIIAAAggggAACCCCAAAIIIIAAAggggAACvhEg0Ms3jrSCAAIIIBBiAvv27ZPevXubUVWtWlX0HwkBBBBAIKrA+PHjZc+ePVZllixZRANlH3jggagbUUIAAQQQQAABBBBAAAEEEEAAAQQQQAABBBBAAAEEEIizAIFecSakAQQQQACBUBXo06eP7N271xpetmzZpH///qE6VMaFAAIIeCVw/NhxGThooNm3evXq0qBBA1MmgwACCCCAAAIIIIAAAggggAACCCCAAAIIIIAAAggg4DsBAr18Z0lLCCCAAAIhJrB+/XoZO3asGdW7777LcmRGgwwCCCAgMmXKFNmxY4dFkTx5comMjJScOXNCgwACCCCAAAIIIIAAAggggAACCCCAAAIIIIAAAggg4AcBAr38gEqTCCCAAAKhI9CxY0c5duyYNaAMGTJIjx49RG9JCCCAQGIX+PHHH2XUqFGGoXz58tKqVStTJoMAAggggAACCCCAAAIIIIAAAggggAACCCCAAAIIIOBbAQK9fOtJawgggAACISawYcMGGTNmjBlV2bJl5b333jNlMggggEBiFdAgLw320pQmTRoZMmQIs3kl1gcD40YAAQQQQAABBBBAAAEEEEAAAQQQQAABBBBAAIGACBDoFRBmDoIAAgggkJAFwsPDZffu3dYQkiZNKt26dpPH8z2ekIdE3xFAAIE4CXz7zbcyddpU04YubVu/fn1TJoMAAggggAACCCCAAAIIIIAAAggggAACCCCAAAIIIOB7AQK9fG9KiwgggAACISawZ88e6devnxlV0aJFpXnz5qZMBgEEEEhsAgMGDJBffvnFGnbWrFll2LBhki5dusTGwHgRQAABBBBAAAEEEEAAAQQQQAABBBBAAAEEEEAAgYAKEOgVUG4OhgACCCCQUAV0ibJNmzaZ7rdo0UJeeOEFUyaDAAIIJBaBdevWyfz5881wGzZsKFWrVjVlMggggAACCCCAAAIIIIAAAggggAACCCCAAAIIIIAAAv4RINDLP660igACCCAQYgI6c03Xrl3l9u3b1sjy588v3bp1C7FRMhwEEEAgZoGbN29KRESEnD9/3tqwQIECMmTIkJh34l4EEEAAAQQQQAABBBBAAAEEEEAAAQQQQAABBBBAAAGfCBDo5RNGGkEAAQQQSAwCM2bMkKVLl5qhvvfee1K2bFlTJoMAAgiEusAXX3why5cvN8Ps2LGjlCpVypTJIIAAAggggAACCCCAAAIIIIAAAggggAACCCCAAAII+E+AQC//2dIyAggggECICVy5ckU6d+4sFy5csEb2yCOPSM+ePSVt2rQhNlKGgwACCDgK6CxeAwYMkBs3blh3vvjii9ZzoOOW1CCAAAIIIIAAAggggAACCCCAAAIIIIAAAggggAACCPhDgEAvf6jSJgIIIIBAyAosWbJEZs2aZcb35ptvSo0aNUyZDAIIIBCqAnPnzpVNmzaZ4YWHh8tzzz1nymQQQAABBBBAAAEEEEAAAQQQQAABBBBAAAEEEEAAAQT8K0Cgl399aR0BBBBAIAQFdKmyY8eOWSNLmTKldO/eXXLmzBmCI2VICCCAwL8Cx48dl0GDB8k///xjVZQvX15atWoFDwIIIIAAAggggAACCCCAAAIIIIAAAggggAACCCCAQAAFCPQKIDaHQgABBBAIDYENGzbImDFjzGBeeuklady4sSmTQQABBEJNYNKkSbJz505rWGnSpJEhQ4YQ4BpqJ5nxIIAAAggggAACCCCAAAIIIIAAAggggAACCCCAQNALEOgV9KeIDiKAAAIIBKOALlm2e/du07U2bdpIoUKFTJkMAgggECoCe/fulbFjx5rhvPvuu1K/fn1TJoMAAggggAACCCCAAAIIIIAAAggggAACCCCAAAIIIBAYAQK9AuPMURBAAAEEQkxgz5490q9fPzOqfPnySZcuXSRZsmSmjgwCCCCQ0AXu3r0rQ4cOlePHj1tDyZo1qwwbNkzSpUuX0IdG/xFAAAEEEEAAAQQQQAABBBBAAAEEEEAAAQQQQACBBCdAoFeCO2V0GAEEEEAgWARGjRolmzZtMt0pX7681K5d25TJIIAAAgldYN68ebJx40YzjIYNG0rVqlVNmQwCCCCAAAIIIIAAAggggAACCCCAAAIIIIAAAggggEDgBAj0Cpw1R0IAAQQQCDGBCxcuSK9eveTs2bNmZM2bN5eiRYuaMhkEEEAgoQps375dZsyYYbpfvHhx6d69uymTQQABBBBAAAEEEEAAAQQQQAABBBBAAAEEEEAAAQQQCKwAgV6B9eZoCCCAAAIhJrB161YZMWKEGZUua9a5U2dJ/3B6U0cGAQQQSGgCGsCqz22XL1+2up4pUybp37+/ZM+ePaENhf4igAACCCCAAAIIIIAAAggggAACCCCAAAIIIIAAAiEjQKBXyJxKBoIAAgggEF8CU6dOleXLl5vDv/zyy9KoUSNTJoMAAggkNIGxY8fK3r17Tbdbt24t5cqVM2UyCCCAAAIIIIAAAggggAACCCCAAAIIIIAAAggggAACgRcg0Cvw5hwRAQQQQCDEBO7cuSNhYWFy5MgRM7J69epJ6dKlTZkMAgggkFAEli1bJkuXLjXdfeONN6Rly5amTAYBBBBAAAEEEEAAAQQQQAABBBBAAAEEEEAAAQQQQCB+BAj0ih93jooAAgggEGIC+/btk/DwcLl79641snTp0knHjh0lR44cITZShoMAAqEscODAAYmMjDRDzJs3rwwYMEDSpElj6sgggAACCCCAAAIIIIAAAggggAACCCCAAAIIIIAAAgjEjwCBXvHjzlERQAABBEJQYMGCBTJv3jwzsueee04+/vhjUyaDAAIIBLPAzZs3Zfjw4XLy5EnTzV69eskLL7xgymQQQAABBBBAAAEEEEAAAQQQQAABBBBAAAEEEEAAAQTiT4BAr/iz58gIIIAAAiEooDPf7Ny504ysWrVqUqVKFVMmgwACCASrwMyZM2Xbtm2me7Vq1pK679c1ZTIIIIAAAggggAACCCCAAAIIIIAAAggggAACCCCAAALxK0CgV/z6c3QEEEAAgRATOHXqlPTu3VsuX75sjSxZsmTSvn17eeqpp0JspAwHAQRCSWDz5s0yZ84cM6TChQtL3759TZkMAggggAACCCCAAAIIIIAAAggggAACCCCAAAIIIIBA/AsQ6BX/54AeIIAAAgiEmMDatWtl/PjxZlT58uWTLl26iAZ9kRBAAIFgE9AA1REjRsgff/xhdS1t2rTSr28/yZc/X7B1lf4ggAACCCCAAAIIIIAAAggggAACCCCAAAIIIIAAAolagECvRH36GTwCCCCAgL8ENNBLA75sqXz58lK7dm1bkVsEEEAgaAQiIyPlwIEDpj9NmjSRypUrmzIZBBBAAAEEEEAAAQQQQAABBBBAAAEEEEAAAQQQQACB4BAg0Cs4zgO9QAABBBAIMYHr169LWFiYnDhxwoysadOmUqxYMVMmgwACCMS3wOLFi2Xlyv/H3p1HeVnWjeN/K4tLJKWGayi7+4N7aprbMKBJmaaPWlmWsQzqwDCDWnylMImZAVkOu9/06KOmHU1LNvkCpklp7qYpMIAPj7nv5oIsv9/9ec5cMYLINjBzz+s+Z87n/b4+9+e+r/frivqj97muaWkaJ5xwQgwYMCDlAgIECBAgQIAAAQIECBAgQIAAAQIECBAgQIAAgYYjoNGr4ayFmRAgQIBAzgT+9re/xa9+9atU1Q477BD9+vWLLl26pDEBAQIEtpbAn/70p7jpppvS6/fcc8+4+uqrY+edd05jAgIECBAgQIAAAQIECBAgQIAAAQIECBAgQIAAgYYjoNGr4ayFmRAgQIBADgWyJoo77rgjVdamTZvo379/fOUrX0ljAgIECGxpgeyoxuzIxtWv8vLyOO6441YfEhMgQIAAAQIECBAgQIAAAQIECBAgQIAAAQIECDQgAY1eDWgxTIUAAQIE8ikwevTomDt3biquQ4cOccUVV6RcQIAAgS0p8Morr0RlZWW888476bUXXXRR9OzZM+UCAgQIECBAgAABAgQIECBAgAABAgQIECBAgACBhieg0avhrYkZESBAgEAOBYYMGRJPPPFEquzQQw+NkpKSlAsIECCwJQRWrFhRaPKqqalJrzvrrLPi+9//fsoFBAgQIECAAAECBAgQIECAAAECBAgQIECAAAECDVNAo1fDXBezIkCAAIGcCXz88cdRUVERL7zwQqrshBNOiB/84AcpFxAgQKC+Ba677rr461//ml5TVFSk6TRpCAgQIECAAAECBAgQIECAAAECBAgQIECAAAECDVtAo1fDXh+zI0CAAIEcCSxdujR+9rOfxbvvvpuqyo5Kc1xa4hAQIFCPAnfffXf88Y9/TG844ogj4uc//3nKBQQIECBAgAABAgQIECBAgAABAgQIECBAgAABAg1bQKNXw14fsyNAgACBnAk8/vjj8Ytf/KJOVf369YuuXbvWGZMQIEBgcwr8+c9/jhtuuCE9sk2bNjFixIj44he/mMYEBAgQIECAAAECBAgQIECAAAECBAgQIECAAAECDVtAo1fDXh+zI0CAAIEcCsyaNSvGjRtXp7LKysrYeeed64xJCBAgsDkEnnvuuaiurq7zqLFjx8ZXv/rVOmMSAgQIECBAgAABAgQIECBAgAABAgQIECBAgACBhi2g0athr4/ZESBAgEBOBX77299G9ld7feELX4jRo0fXpj4JECCwWQRef/31uPzyy+s865e//GUccsghdcYkBAgQIECAAAECBAgQIECAAAECBAgQIECAAAECDV9Ao1fDXyMzJECAAIGcCmQ76syePTtVt8cee8TQoUNTLiBAgMCmCKxatSouvvjiOo8oKyuL448/vs6YhAABAgQIECBAgAABAgQIECBAgAABAgQIECBAoHEIaPRqHOtklgQIECCQU4Ff/OIX8fjjj6fqjjzyyOjVq1fKBQQIENhYgYqKinjzzTfTz88666z4/ve/n3IBAQIECBAgQIAAAQIECBAgQIAAAQIECBAgQIBA4xLQ6NW41stsCRAgQCCHApdddlm88MILqbIePXpE1pDhIkCAwMYKDBs2LGpqatLPjzjiiPj5z3+ecgEBAgQIECBAgAABAgQIECBAgAABAgQIECBAgEDjE9Do1fjWzIwJECBAIIcC2S477733XqrspJNOigsuuCDlAgIECKyvwODBg+Oll15Kt7dp0yYmT56ccgEBAgQIECBAgAABAgQIECBAgAABAgQIECBAgEDjFNDo1TjXzawJECBAIIcC2S5eK1asSJUdd9xx8aMf/SjlAgIECHyewKBBg+KNN95It2277bZx5513plxAgAABAgQIECBAgAABAgQIECBAgAABAgQIECDQeAU0ejXetTNzAgQIEMihwKd39sqOW+vdu3cOK1USAQKbW6C8vDzeeuut9NgvfOELcfPNN6dcQIAAAQIECBAgQIAAAQIECBAgQIAAAQIECBAg0LgFNHo17vUzewIECBDIoUDW2PXyyy+nyg455JC49NJLUy4gQIDA6gIffPBBZMc1vvPOO2l41113jeuuuy7lAgIECBAgQIAAAQIECBAgQIAAAQIECBAgQIAAgcYvoNGr8a+hCggQIEAghwJlZWVRU1OTKuvSpUsMHDgwttlmmzQmIECAwGuvvRbXXHNNvPfeewmjbdu2MWbMmJQLCBAgQIAAAQIECBAgQIAAAQIECBAgQIAAAQIE8iGg0Ssf66gKAgQIEMihwP/5P/8nnnrqqVRZu3btorS0NLLj2FwECBBYsmRJjBw5MrIdvWqvrCl0+PDhtalPAgQIECBAgAABAgQIECBAgAABAgQIECBAgACBHAlo9MrRYiqFAAECBPIn8Otf/zr++te/psL22muvuOSSSyI7ls1FgEDTFXjmmWdiwoQJ8dFHHyWEQw89NK666qqUCwgQIECAAAECBAgQIECAAAECBAgQIECAAAECBPIloNErX+upGgIECBDIocDYsWNj9uzZqbKsyatv376RHc/mIkCg6Qk8/vjjMWXKlFi2bFkq/thjj42KioqUCwgQIECAAAECBAgQIECAAAECBAgQIECAAAECBPInoNErf2uqIgIECBDIocCkSZNi+vTpqbKddtopfvrTn8Z+++2XxgQECORf4NFHHy00eS1fvjwVW1RUFCUlJSkXECBAgAABAgQIECBAgAABAgQIECBAgAABAgQI5FNAo1c+11VVBAgQIJBDgWwHn6lTp6bKtttuu/jxj38chx12WBoTECCQX4G//e1vcd1118WKFStSkT179oyLLroo5QICBAgQIECAAAECBAgQIECAAAECBAgQIECAAIH8Cmj0yu/aqowAAQIEcijwm9/8Jv7whz+kyrbddts477zz4qSTTkpjAgIE8icwd+7cuOWWW2LVqlWpuOzf/rnnnptyAQECBAgQIECAAAECBAgQIECAAAECBAgQIECAQL4FNHrle31VR4AAAQI5FPjVr34V2c4+q18nn3xynH/++asPiQkQyIlA1uA1Z86cOtV861vfih/96Ed1xiQECBAgQIAAAQIECBAgQIAAAQIECBAgQIAAAQL5FtDole/1VR0BAgQI5Ezg1VdfjQEDBsT777+/RmUHHnhgYXev3XfffY3vDBAg0PgEXn755bj11lvjmWeeWWPy7du3j5EjR64xboAAAQIECBAgQIAAAQIECBAgQIAAAQIECBAgQCC/Ahq98ru2KiNAgACBHAoMGTIknnjiiVRZy5YtY9myZSnfZZddCke5HXbYYWlMQIBA4xN47LHH4rbbbos33ngjTX6nnXaKd999N+WnnHJKXHLJJSkXECBAgAABAgQIECBAgAABAgQIECBAgAABAgQI5FtAo1e+11d1BAgQIJAjgVtuviVu/93tqaJjjz02evbsGb/5zW9i/vz5aTwLzjzzzDj99NPrjEkIEGgcAlOnTo3f//73dSZ7/PHHx8UXXxxDhw6NBQsWpO969+4d3bt3T7mAAAECBAgQIECAAAECBAgQIECAAAECBAgQIEAgvwIavfK7tiojQIAAgRwJPProo4UGj9qS2rRpE6NGjYodd9wxPvroo5g8eXLMmTOn9uvC5zHHHBMXXHBBbL/99nXGJQQINEyB7N/yzTffHH/5y1/qTDD7d/zd7363MLZ48eIoLy+P5cuXF/Jtt902qiqrokPHDnV+IyFAgAABAgQIECBAgAABAgQIECBAgAABAgQIEMifgEav/K2piggQIEAgZwIffPBBlJaWxquvvpoqGzx4cBx++OEpz4K77rorbrzxxli5cmUab9++fZx33nnRrl27NCYgQKDhCWQNXLfeemssWrQoTW733XePi350URx19FFpLAvuvffeGD9+fBrL/p2PHDky5QICBAgQIECAAAECBAgQIECAAAECBAgQIECAAIF8Cmj0yue6qooAAQIEciRQWVkZ8+bNSxWd891z4vwLzk/56sFjjz0W119/fSxdujQNf+ELX4hzzjknjjvuuDQmIECg4Qg8+OCDcfvtt8e//vWvNKkjjjgifvKTn0TW7LW2a8KECTFz5sz0VVFRUZSUlKRcQIAAAQIECBAgQIAAAQIECBAgQIAAAQIECBAgkD8BjV75W1MVESBAgECOBLJdum644YZUUdeuXWPIkCEpX1vw5ptvxpQpU9Y4/q1Hjx5x1llnre0nxggQ2EoCd9xxR0yfPr3O288888y48MIL64ytLcmOcFywYEH6qnfv3tG9e/eUCwgQIECAAAECBAgQIECAAAECBAgQIECAAAECBPIloNErX+upGgIECBDIkcBzzz0Xl19+eaqoVatWhePZ2rRpk8bWFdxy8y1x++9ur3PLoYceGueff358+ctfrjMuIUBgywq89dZbccstt8Tjjz+eXty6detCg9fJJ5+cxtYVZMc9Zs1ey5cvL9y27bbbRlVlVXTo2GFdP/MdAQIECBAgQIAAAQIECBAgQIAAAQIECBAgQIBAIxXQ6NVIF860CRAgQCD/Apdddlm88MILqdABAwbECSeckPL1Cf785z8XdgR7/fXX0+177rlnnHHGGXHkkUemMQEBAltO4OGHH4577rkn/vnPf6aXHnjggfHjH/842rdvn8bWJ7j33ntj/Pjx6dbs9yNHjky5gAABAgQIECBAgAABAgQIECBAgAABAgQIECBAID8CGr3ys5YqIUCAAIEcCYwbNy5mzZqVKjr99NPj4osvTvmGBEuXLo3rrrsunnzyyTo/+/rXvx7f+ta37O5VR0VCoP4EsobLP/zhDzFv3rw6LykuLo5evXpFtiPXxlwTJkyImTNnpp8WFRVFSUlJygUECBAgQLprATAAADvRSURBVIAAAQIECBAgQIAAAQIECBAgQIAAAQL5ENDolY91VAUBAgQI5Egga/DKGr1qr86dO0dlZWVtutGfWbNXtovQ6tdXvvKVyJrIsqYvFwEC9Scwd+7cmDZtWmRHNtZeO+64Y1xwwQWFf4O1Yxv7OXDgwFi4cGH6ee/evaN79+4pFxAgQIAAAQIECBAgQIAAAQIECBAgQIAAAQIECDR+AY1ejX8NVUCAAAECORLIdt/Kjmj85JNPClU1b948qqqqol27dpulymwnod/97nexePHiOs876qijCrt77bbbbnXGJQQIbJpAdvzqH//4x3jiiSfqPCg7OvW8887b4KMa6zxktST7N11eXh7Lly8vjGa7g1VVVkWHjh1Wu0tIgAABAgQIECBAgAABAgQIECBAgAABAgQIECDQmAU0ejXm1TN3AgQIEMidwBVXXBH/+Mc/Ul3ZcW49evRI+eYIPvroo7j55psLzSerP69169aFnYVOPvnk1YfFBAhspEC2g9706dPj448/Tk/Yaaed4uyzz46ePXumsc0V3HvvvTF+/Pj0uA4dOsSIESNSLiBAgAABAgQIECBAgAABAgQIECBAgAABAgQIEGjcAhq9Gvf6mT0BAgQI5EjgN7/5TfzhD39IFZ100klx2WWXpXxzB4888kjcdtttsWDBgjqP7tq1a6EJpW3btnXGJQQIrJ/AM888E1OnTo358+fX+cGxxx4b//mf/xn1+W9rwoQJMXPmzPTeoqKiKCkpSbmAAAECBAgQIECAAAECBAgQIECAAAECBAgQIECg8Qpo9Gq8a2fmBAgQIJAjgQcffLBwRGNtSV/96ldj1KhR0axZs9qhevlcsWJF/Nd//Vf8/ve/r/P87bffPk477bTCX50vJAQIfKbAhx9+WGjWnDVrVp17dtlll/jud78b3bt3rzNeX8nAgQNj4cKF6fG9e/feYu9OLxUQIECAAAECBAgQIECAAAECBAgQIECAAAECBAhsdgGNXpud1AMJECBAgMCGCbz11ltRWloa77zzTvrhr371qzjwwANTXt/BE088Ebfffns8++yzdV51wAEHxBlnnBGdOnWqMy4hQKCuwMMPP1zYxevFF1+s88UJJ5wQ559/fuy+++51xuszWbx4cZSXl8fy5csLr8kaRiuHV0aHjh3q87WeTYAAAQIECBAgQIAAAQIECBAgQIAAAQIECBAgUM8CGr3qGdjjCRAgQIDA5wkMHTo0Hn300XTb97///TjrrLNSviWDW2+9Ne64447UIJK9O2sS6dGjR3z729/eklPxLgKNQuD1118v7OI1b968OvPdbbfdCrt4nXrqqXXGt1Ry7733xvjx49PrOnToECNGjEi5gAABAgQIECBAgAABAgQIECBAgAABAgQIECBAoPEJaPRqfGtmxgQIECCQI4Hbbrstsuaq2uvoo4+OK664ojbdKp/Zrl6//e1v46mnnqrz/rZt28Y3vvGNwl+dLyQEmqDA+++/H7Nnz44//elP8e6779YROOWUU+KCCy6InXfeuc74lk6yRq+s4av2KioqipKSktrUJwECBAgQIECAAAECBAgQIECAAAECBAgQIECAQCMT0OjVyBbMdAkQIEAgPwLZcYlDhgxJBe2yyy5x7bXXxk477ZTGtmbwu9/9rrC710cffVRnGu3bty80ex133HF1xiUEmoJA9u+htsHrzTffrFPy3nvvHeecc05kxzU2lGvgwIGxcOHCNJ3evXtH9+7dUy4gQIAAAQIECBAgQIAAAQIECBAgQIAAAQIECBBoPAIavRrPWpkpAQIECORI4OOPP47S0tJ46aWXUlVXXnFlHHX0USlvCMGCBQsKu3utfrRk7bw6d+4cJ554Yhx1VMOac+38fBLYnAIrVqyI2f9vdtz3p/vi1VdfXePRWfPU+eef32AaNWsnuHjx4igvL0/HsWZHsVYOr4wOHTvU3uKTAAECBAgQIECAAAECBAgQIECAAAECBAgQIECgkQho9GokC2WaBAgQIJAvgREjRsQDDzyQivrOd74TP/jBD1Le0IIHH3wwZsyYEU8//fQaUzvggAMKDV+HHXbYGt8ZIJAHgTlz5hSOaHzxxRfXKOfrX/96nH766bH//vuv8V1DGciOb8yOcay9OnToENl/B7kIECBAgAABAgQIECBAgAABAgQIECBAgAABAgQal4BGr8a1XmZLgAABAjkQuOeP98R1//e6VMnBBx8cQ4cOTXlDDu67775Cw9dzzz23xjQPOeSQQsNX9ukikAeB+++/v9Dg9cILL6xRzpFHHhmnnXZaHHrooWt81xAHskavrOGr9ioqKoqSkpLa1CcBAgQIECBAgAABAgQIECBAgAABAgQIECBAgEAjENDo1QgWyRQJECBAID8C2VGI2TFqtdcOO+wQI0eOjD322KN2qFF8zpo1K2bOnBkLFy5cY77Zzl4nnXRSg97haI1JGyCwmsC8efMKDV41NTWrjf5vmDUy9ujRI4455pg1vmvoAwMHDqzzb7Z3796RHTnpIkCAAAECBAgQIECAAAECBAgQIECAAAECBAgQaBwCGr0axzqZJQECBAjkRKCsrCxWbx659NJL4+STT2601U2fPr2ww9fadjw66qijCg1fnTp1arT1mXjTEvjb3/4W2a51zz///BqF77fffoUGr2984xtrfNdYBhYvXlxoNF2+fHlhys2aNYuqqqpo3759YynBPAkQIECAAAECBAgQIECAAAECBAgQIECAAAECTVpAo1eTXn7FEyBAgMCWFJg4cWKhKar2ndlOOtmOOo39WrlyZfzxj38sHAv34osvrlHOscceW9j9aP/991/jOwMEGoLAww8/HA8++GA888wza0ynXbt2hV2viouL1/iuMQ5kO/FNmDAhTb1Dhw4xYsSIlAsIECBAgAABAgQIECBAgAABAgQIECBAgAABAgQaroBGr4a7NmZGgAABAjkSmDNnTowZMyZVlMfmio8//jjuueeeQsPXK6+8kmqtDbKdvY444og4+uijo1WrVrXDPglsFYF//vOfkTV4PfLII/Hyyy+vMYc999wzsuaunj17xjbbbLPG9415YPz48YV/p7U1FBUVRUlJSW3qkwABAgQIECBAgAABAgQIECBAgAABAgQIECBAoIEKaPRqoAtjWgQIECCQH4GXXnopBgwYEB9++GEqKjsuLa9HGr7//vup4evNN99MNdcGX/ziF+Owww6L7GjHLl261A77JLBFBLLGruyIxscffzyy3eg+fe26666FBq8zzjgjtt9++09/nZt84MCBsXDhwlRPtrtgtsugiwABAgQIECBAgAABAgQIECBAgAABAgQIECBAoOEKaPRquGtjZgQIECCQE4HBgwfH008/nar5yY9/Et8845spz2vw1ltvFRq+5s2bF1mz29qurNGrdpevHXfccW23GCOwyQLZjl3Z7l2PPvporO140ewFe+yxR2THjGYNXl/60pc2+Z0N/QGLFi2KioqKWL58eWGqzZo1i6wBtX379g196uZHgAABAgQIECBAgAABAgQIECBAgAABAgQIEGiyAhq9muzSK5wAAQIEtoTAjTfeGHfeeWd61fHHHx9lZWUpbwpBtmvS3Llz489//nNhF6W11dy6deu0y1dedzpbW93G6lfgscceS7t31TY0ffqNhx56aHz961+Pk046KbbddttPf53rfObMmTFhwoRUYx6PlE3FCQgQIECAAAECBAgQIECAAAECBAgQIECAAAECORDQ6JWDRVQCAQIECDRMgYcfejiuGXZNmly2Y9CoUaNiu+22S2NNLXjuuefi/vvvj2yXr7fffnut5e+///5pl688H5231uINbrLAa6+9Fg899FBh966lS5eu9XnZjl3Z7l0nnHBC7Lfffmu9p6kMjh8/Pu69995UblFRUZSUlKRcQIAAAQIECBAgQIAAAQIECBAgQIAAAQIECBAg0HAENHo1nLUwEwIECBDIkcC7774bpaWl8eabb6aqhgwZEl27dk15Uw7ee++9+NN9f4oH5z0Y//jHP9ZK8eUvf7mwy9eRRx4ZHTt2XOs9BglkAtmucU899VRh965sF69PPvlkrTBZE+Fxxx4X3zjxG/HFL35xrfc0xcGBAwfGwoULU+l9+vSJ4uLilAsIECBAgAABAgQIECBAgAABAgQIECBAgAABAgQahoBGr4axDmZBgAABAjkTGDZsWGFXodqyzjvvvDj33HNrU5+rCWSNOQ888ED85S9/iY8++mi1b/4d7rXXXnHAAQfEgQceGAcddNC/vxA1WYF//etf8fe//z2eeeaZQrPgW2+9tVaLbFe4Y445JrJjUw877LC13tPUBxctWhTl5eWxYsWKAkWzZs2iqqoq2rdv39Rp1E+AAAECBAgQIECAAAECBAgQIECAAAECBAgQaFACGr0a1HKYDAECBAjkQeCOO+6Im266KZVy+OGHx+DBg1MuWLvAK6+8UjjW8cEHH4wlS5as/ab/f3TXXXctHLeXNX0dfPDB4XjHz6TK3RdvvPFGPP300/Hss89GdgzoBx988Jk17rvvvnHccccVjmfcbbfdPvM+X/yvwMyZM2PChAmJo0OHDjFixIiUCwgQIECAAAECBAgQIECAAAECBAgQIECAAAECBLa+gEavrb8GZkCAAAECORLIdhf62c9+lir60pe+FCNHjoydd945jQk+XyBr9sp2+frrX/+6zptbtWqVmr6ynb6y4x5d+RL4n//5n8LOXVlz1/PPP592nfqsKr/2ta8Vdu/KmrxcGyYwfvz4uPfee9OPunXrFn379k25gAABAgQIECBAgAABAgQIECBAgAABAgQIECBAYOsKaPTauv7eToAAAQI5Eli5cmVceumlkTWm1F7ZcWgaTmo1NvzzpZdeiuxoxyeeeKKwk9NnHe2YPbl58+ax//77pyMe99xzzw1/oV80CIEFCxakIxlramrWOacdd9yxcJznf/zHfxSOZtxjjz3Web8v1y0wcODAWLhwYbqpT58+UVxcnHIBAQIECBAgQIAAAQIECBAgQIAAAQIECBAgQIDA1hPQ6LX17L2ZAAECBHImMGrUqLjvvvtSVT179oyLLroo5YJNE3j77bfj0UcfTU1fWb6uq1OnToXGr+x4x3bt2q3rVt81AIG///3vhWa+7EjGF198cZ0zyo7vzNa1a9euceihh8ZOO+20zvt9uf4CixYtiqxBdcWKFYUfNWvWLKqqqqJ9+/br/xB3EiBAgAABAgQIECBAgAABAgQIECBAgAABAgQI1IuARq96YfVQAgQIEGhqAtOnT49Jkyalsg844IC45pprUi7YvALLli1LTV9PPfVUZDt/rev6yle+El/96lejbdu2haavDh06xPbbb7+un/iuHgXeefudWLR4USxZsiReeOGF+O///u9499131/nGffbZp9DclTV2HXbYYbHNNtus835fbrzAzJkzY8KECekB2b+XESNGpFxAgAABAgQIECBAgAABAgQIECBAgAABAgQIECCwdQQ0em0dd28lQIAAgRwJZM0qZWVlaQecli1bRnV1daGpKEdlNuhSsqMdH3/88ciavhYvXvy5c82Oecwav7K/fffdNzp27BiOevxcto2+IWvmytYl+7eS/a1+vOm6HpodxZkdyZjt3LXffvut61bfbWaB8ePHx7333pue2q1bt+jbt2/KBQQIECBAgAABAgQIECBAgAABAgQIECBAgAABAlteQKPXljf3RgIECBDImUBFRUXMnz8/VVVSUhJFRUUpF2xZgWwtsqavJ598Mp599tn1fnnr1q0LjV/ZMY/ZsY/ZX4sWLdb79278X4H33nsvsuP/ampqUnPXhx9+uF482223XWHXrkMOOaSwa9fee++9Xr9zU/0IZA2s2TrWXn369Ini4uLa1CcBAgQIECBAgAABAgQIECBAgAABAgQIECBAgMAWFtDotYXBvY4AAQIE8iUwZcqUmDp1aioqa/DKGr1cDUNg6dKlhWavrPkraz5an92+Vp/5XnvtFe3bt4/s6Lps96/sCMgdd9xx9VuadJwdt/jqq68WdunKfLPdurJ8fa/s+MxsN7XMOGusO/jgg+NLX/rS+v7cffUskK1peXl52q2wWbNmUVVVVViven61xxMgQIAAAQIECBAgQIAAAQIECBAgQIAAAQIECKxFQKPXWlAMESBAgACB9RG4//77Y+TIkenW7AjAUaNGpVzQ8ATefPPN+Mc//lHYgS3bqSj7W9/dpmqryRq9dtlll/SXNX/tuuuu0aZNm8JfdixkXq4PPvggXnvttcJf1sD1+uuvxxtvvJH+Pvnkkw0qNXPq3Llzobkr+8yau7JdvFwNV2DmzJkxYcKENMGsMS87mtZFgAABAgQIECBAgAABAgQIECBAgAABAgQIECCw5QU0em15c28kQIAAgRwIZE0vAwYMiPfffz9V8+tf/zr222+/lAsah0B2vOPqzV9ZM9OmXDvttFNqAssam7JGsNX/NuXZm/u3WaNW9p/lrJkrq7v2s7aZa0Ob4D49v6z5Mfs3UdvUle2K5mp8AuPHj4977703Tbxbt27Rt2/flAsIECBAgAABAgQIECBAgAABAgQIECBAgAABAgS2jIBGry3j7C0ECBAgkDOBIUOGxBNPPJGq+uEPfxjf/va3Uy5ovAKvvPJKPPPMM/H8888X/rLjCDfn1aJFi2jZsmVhJ6vsc/W/bHerT+fZWO14bZx9fvTRR7Fs2bL4+OOPC5+r57Vjq3+fxZ/Oly9fvtlKy+adNXRljV0HHHBAIW7VqtVme74HbV2BsrKywg54tbPo06dPFBcX16Y+CRAgQIAAAQIECBAgQIAAAQIECBAgQIAAAQIEtoCARq8tgOwVBAgQIJAvgVtuviVu/93tqahjjz02KioqUi7Il0C261XW+JU1gGV/tTtgZbtfZUdBNqUrO5Zy9V3Kdtttt8j+9tprr8IxjE3JoqnVumjRoigvL48VK1YUSm/WrFlUVVVF+/btmxqFegkQIECAAAECBAgQIECAAAECBAgQIECAAAECW01Ao9dWo/diAgQIEGiMAo8++mgMHTo0Tb1NmzYxatSo2HHHHdOYoOkIrFy5Ml5++eXC39oawd5+++1GhbHNNtvUbeRqs1u02a1N7L777oWGruwISlfTFZg5c2ZMmDAhAXTs2DGqq6tTLiBAgAABAgQIECBAgAABAgQIECBAgAABAgQIEKhfAY1e9evr6QQIECCQI4EPPvggSktLCzs61ZY1ePDgOPzww2tTnwTqCGS7gWWNYLVNYK+//nrhqMXsaMVP/9Ueq7j6ePb7Db2yIxRXP+KxNl59fPvtt0/31O7KVdvMtaHvc3/TEhg3blzMmjUrFd2tW7fo27dvygUECBAgQIAAAQIECBAgQIAAAQIECBAgQIAAAQL1J6DRq/5sPZkAAQIEciZQWVkZ8+bNS1Wd891z4vwLzk+5gMDmFli1alWhIeyjjz6KT/9lzVpr+9vcc/A8Ap8WKCsri5qamjTcp0+fKC4uTrmAAAECBAgQIECAAAECBAgQIECAAAECBAgQIECgfgQ0etWPq6cSIECAQM4E7rrrrrjhhhtSVV27do0hQ4akXECAAIGmIrBo0aIoLy+PFStWFEpu3rx5ZI2w7du3byoE6iRAgAABAgQIECBAgAABAgQIECBAgAABAgQIbBUBjV5bhd1LCRAgQKAxCTz33HNx+eWXpym3atUqRo4cGW3atEljAgIECDQlgRkzZsTEiRNTyR07dozq6uqUCwgQIECAAAECBAgQIECAAAECBAgQIECAAAECBDa/gEavzW/qiQQIECCQM4HS0tJYsmRJqmrAgAFxwgknpFxAgACBpigwbty4mDVrViq9W7du0bdv35QLCBAgQIAAAQIECBAgQIAAAQIECBAgQIAAAQIENq+ARq/N6+lpBAgQIJAzgU83Mpx++ulx8cUX56xK5RAgQGDjBMrKyqKmpib9uE+fPlFcXJxyAQECBAgQIECAAAECBAgQIECAAAECBAgQIECAwOYT0Oi1+Sw9iQABAgRyJpDtVJM1etVenTt3jsrKytrUJwECBJq8wKJFi6K8vDxWrFhRsGjevHnhvyfbt2/f5G0AECBAgAABAgQIECBAgAABAgQIECBAgAABAgQ2t4BGr80t6nkECBAgkAuBpUuXRnZE4yeffFKop1mzZlFdXR3t2rXLRX2KIECAwOYSmDFjRkycODE9rmPHjoX/vkwDAgIECBAgQIAAAQIECBAgQIAAAQIECBAgQIAAgc0ioNFrszB6CAECBAjkTeDKK6+MZ599NpXVq1ev6NGjR8oFBAgQIPBvgU8fc9utW7fo27fvv28QESBAgAABAgQIECBAgAABAgQIECBAgAABAgQIbLKARq9NJvQAAgQIEMibwPXXXx933313KuvEE0+M0tLSlAsIECBAYE2BsrKyqKmpSV/06dMniouLUy4gQIAAAQIECBAgQIAAAQIECBAgQIAAAQIECBDYNAGNXpvm59cECBAgkDOBefPmRWVlZapq7733jtGjR0d2dKOLAAECBD5boGZhTVQMqogVK1YUbmrevHlUVVU58vazyXxDgAABAgQIECBAgAABAgQIECBAgAABAgQIENggAY1eG8TlZgIECBDIs8Bbb71V2LnrnXfeSWVeffXVcdBBB6VcQIAAAQKfLTBjxoyYOHFiuqFjx45RXV2dcgEBAgQIECBAgAABAgQIECBAgAABAgQIECBAgMDGC2j02ng7vyRAgACBnAkMHTo0Hn300VTV9773vTj77LNTLiBAgACBzxcYN25czJo1K93YrVu36Nu3b8oFBAgQIECAAAECBAgQIECAAAECBAgQIECAAAECGyeg0Wvj3PyKAAECBHImcNttt8Wtt96aqjr66KPjiiuuSLmAAAECBNZfoKysLGpqatIPskavrOHLRYAAAQIECBAgQIAAAQIECBAgQIAAAQIECBAgsPECGr023s4vCRAgQCAnAk8++WRcddVVqZpddtklRo4cGa1bt05jAgIECBBYf4GahTVRXlEeK1euLPyoefPmUVVVFe3atVv/h7iTAAECBAgQIECAAAECBAgQIECAAAECBAgQIECgjoBGrzocEgIECBBoagLLli2Lyy67LF566aVU+pVXXBlHHX1UygUECBAgsOECM2bMiIkTJ6YfduzYMaqrq1MuIECAAAECBAgQIECAAAECBAgQIECAAAECBAgQ2DABjV4b5uVuAgQIEMiZwIgRI+KBBx5IVX3nO9+JH/zgBykXECBAgMDGC4wbNy5mzZqVHpAd35gd4+giQIAAAQIECBAgQIAAAQIECBAgQIAAAQIECBDYcAGNXhtu5hcECBAgkBOBe/54T1z3f69L1Rx88MExdOjQlAsIECBAYNMFysrKoqamJj0oa/TKGr5cBAgQIECAAAECBAgQIECAAAECBAgQIECAAAECGyag0WvDvNxNgAABAjkRWLBgQZSXl6dqdthhhxg5cmTsscceaUxAgAABApsuULOwJsorymPlypWFhzVv3jyqqqqiXbt2m/5wTyBAgAABAgQIECBAgAABAgQIECBAgAABAgQINCEBjV5NaLGVSoAAAQL/Fvj0DjOXXnppnHzyyf++QUSAAAECm01gxowZMXHixPS8jh07RnV1dcoFBAgQIECAAAECBAgQIECAAAECBAgQIECAAAECny+g0evzjdxBgAABAjkTyJoNsqaD2qt79+7Ru3fv2tQnAQIECNSDwLhx42LWrFnpycXFxdGnT5+UCwgQIECAAAECBAgQIECAAAECBAgQIECAAAECBNYtoNFr3T6+JUCAAIGcCcyZMyfGjBmTqurQoUOMGDEi5QICBAgQqD+BAQMGxKJFi9IL+vbtG926dUu5gAABAgQIECBAgAABAgQIECBAgAABAgQIECBA4LMFNHp9to1vCBAgQCBnAi+99FJkTQYffvhhqqyqqio6deqUcgEBAgQI1J9AzcKaKK8oj5UrVxZe0rx588j+e7hdu3b191JPJkCAAAECBAgQIECAAAECBAgQIECAAAECBAjkRECjV04WUhkECBAg8PkCgwcPjqeffjrd+JMf/yS+ecY3Uy4gQIAAgfoXyI7OzY7Qrb2yZtus2ctFgAABAgQIECBAgAABAgQIECBAgAABAgQIECCwbgGNXuv28S0BAgQI5ETgxhtvjDvvvDNVc/zxx0dZWVnKBQQIECCw5QTGjRsXs2bNSi8sLi6OPn36pFxAgAABAgQIECBAgAABAgQIECBAgAABAgQIECCwpoBGrzVNjBAgQIBAzgQefujhuGbYNamqPfbYI0aNGhXbbbddGhMQIECAwJYVyI7SXbRoUXpp3759o1u3bikXECBAgAABAgQIECBAgAABAgQIECBAgAABAgQI1BXQ6FXXQ0aAAAECORN49913o3///vHGG2+kyoYMGRJdu3ZNuYAAAQIEtrxAzcKaKK8oj5UrVxZe3rx588IRju3atdvyk/FGAgQIECBAgAABAgQIECBAgAABAgQIECBAgEAjENDo1QgWyRQJECBAYOMFhg0bFg899FB6wHnnnRfnnntuygUECBAgsPUEZsyYERMnTkwT6NSpU6HZKw0ICBAgQIAAAQIECBAgQIAAAQIECBAgQIAAAQIEkoBGr0QhIECAAIG8Cdxxxx1x0003pbIOP/zwGDx4cMoFBAgQILD1BcaOHRuzZ89OEykuLo4+ffqkXECAAAECBAgQIECAAAECBAgQIECAAAECBAgQIPC/Ahq9/CeBAAECBHIp8Mwzz8TPfvazVFvr1q3j2muvjZ133jmNCQgQIECgYQgMGDAgFi1alCbTt2/f6NatW8oFBAgQIECAAAECBAgQIECAAAECBAgQIECAAAECERq9/KeAAAECBHInsHLlyrjsssti6dKlqbby8vI47rjjUi4gQIAAgYYjULOwJsoryiP77+/sat68eeEIx3bt2jWcSZoJAQIECBAgQIAAAQIECBAgQIAAAQIECBAgQGArC2j02soL4PUECBAgsPkFRo8eHXPnzk0P7tmzZ1x00UUpFxAgQIBAwxOYPn16TJo0KU2sU6dOhWavNCAgQIAAAQIECBAgQIAAAQIECBAgQIAAAQIECDRxAY1eTfw/AMonQIBA3gRmzJgREydOTGXtv//+MWzYsJQLCBAgQKDhCowdOzZmz56dJlhcXBx9+vRJuYAAAQIECBAgQIAAAQIECBAgQIAAAQIECBAg0JQFNHo15dVXOwECBHImsGTJkigrK4sVK1YUKmvZsmVUV1dH27Ztc1apcggQIJBfgQEDBsSiRYtSgX379o1u3bqlXECAAAECBAgQIECAAAECBAgQIECAAAECBAgQaKoCGr2a6sqrmwABAjkUqKioiPnz56fKNAckCgEBAgQajUDNwpooryiPlStXFubcvHnzwhGO7dq1azQ1mCgBAgQIECBAgAABAgQIECBAgAABAgQIECBAoD4ENHrVh6pnEiBAgMAWF5gyZUpMnTo1vfeUU06JSy65JOUCAgQIEGg8AtOnT49JkyalCXfq1KnQ7JUGBAQIECBAgAABAgQIECBAgAABAgQIECBAgACBJiig0asJLrqSCRAgkDeBBx54IEaMGJHK2nfffWPUqFEpFxAgQIBA4xMYO3ZszJ49O028uLg4+vTpk3IBAQIECBAgQIAAAQIECBAgQIAAAQIECBAgQKCpCWj0amorrl4CBAjkTOC1116L/v37x/vvv58qGzZsWOy///4pFxAgQIBA4xQYMGBALFq0KE3ekbyJQkCAAAECBAgQIECAAAECBAgQIECAAAECBAg0QQGNXk1w0ZVMgACBPAkMGTIknnjiiVTSD3/4w/j2t7+dcgEBAgQINF6BBQsWxKBBg2LlypWFIpo3bx7V1dWR7dzoIkCAAAECBAgQIECAAAECBAgQIECAAAECBAg0NQGNXk1txdVLgACBHAnccvMtcfvvbk8VHXvssVFRUZFyAQECBAg0foHp06fHpEmTUiGdOnWKqqqqlAsIECBAgAABAgQIECBAgAABAgQIECBAgAABAk1FQKNXU1lpdRIgQCBnAo8++mgMHTo0VdWmTZsYOXJktGrVKo0JCBAgQCAfAmPHjo3Zs2enYoqLi6NPnz4pFxAgQIAAAQIECBAgQIAAAQIECBAgQIAAAQIEmoKARq+msMpqJECAQM4EPvjggygtLY1XX301VTZ48OA4/PDDUy4gQIAAgXwJDBgwIBYtWpSKKikpiaKiopQLCBAgQIAAAQIECBAgQIAAAQIECBAgQIAAAQJ5F9DolfcVVh8BAgRyKFBZWRnz5s1LlZ3z3XPi/AvOT7mAAAECBPInsGDBgsLxvKtWrSoU17x586iuro599903f8WqiAABAgQIECBAgAABAgQIECBAgAABAgQIECCwFgGNXmtBMUSAAAECDVfgrrvuihtuuCFNsGvXrjFkyJCUCwgQIEAgvwLTp0+PSZMmpQI7deoUVVVVKRcQIECAAAECBAgQIECAAAECBAgQIECAAAECBPIsoNErz6urNgIECORM4LnnnovLL788VdWqVasYOXJktGnTJo0JCBAgQCDfAmPHjo3Zs2enIouLi6NPnz4pFxAgQIAAAQIECBAgQIAAAQIECBAgQIAAAQIE8iqg0SuvK6suAgQI5FCgtLQ0lixZkiobMGBAnHDCCSkXECBAgEDTEMj++3/RokWp2JKSkigqKkq5gAABAgQIECBAgAABAgQIECBAgAABAgQIECCQRwGNXnlcVTURIEAghwLjxo2LWbNmpcpOP/30uPjii1MuIECAAIGmI7BgwYKoqKiIVatWFYpu3rx5VFdXx7777tt0EFRKgAABAgQIECBAgAABAgQIECBAgAABAgQINDkBjV5NbskVTIAAgcYnkDV4ZY1etVfnzp2jsrKyNvVJgAABAk1QYPr06TFp0qRUeadOnaKqqirlAgIECBAgQIAAAQIECBAgQIAAAQIECBAgQIBA3gQ0euVtRdVDgACBnAksXbo0ysrKYtmyZYXKmjVrVti1pV27djmrVDkECBAgsKECY8eOjdmzZ6efde/ePXr37p1yAQECBAgQIECAAAECBAgQIECAAAECBAgQIEAgTwIavfK0mmohQIBADgWuvPLKePbZZ1NlvXr1ih49eqRcQIAAAQJNW6B///6xePHihFBSUhJFRUUpFxAgQIAAAQIECBAgQIAAAQIECBAgQIAAAQIE8iKg0SsvK6kOAgQI5FDg+uuvj7vvvjtVduKJJ0ZpaWnKBQQIECBAYMGCBVFRURGrVq0qYDRv3ryw8+O+++4LhwABAgQIECBAgAABAgQIECBAgAABAgQIECCQKwGNXrlaTsUQIEAgPwLz5s2LysrKVNDee+8do0ePjuzoRhcBAgQIEFhdYPr06TFp0qQ01Llz5zr/G5K+EBAgQIAAAQIECBAgQIAAAQIECBAgQIAAAQIEGrGARq9GvHimToAAgbwKvPXWW5EdxfX222+nEq+++uo46KCDUi4gQIAAAQKrC4wdOzZmz56dhrp37x69e/dOuYAAAQIECBAgQIAAAQIECBAgQIAAAQIECBAg0NgFNHo19hU0fwIECORQIGvqeuSRR1Jl3/ve9+Lss89OuYAAAQIECKxNIGsSXrx4cfqqpKQkioqKUi4gQIAAAQIECBAgQIAAAQIECBAgQIAAAQIECDRmAY1ejXn1zJ0AAQI5FLj99tvjlltuSZUdddRRceWVV6ZcQIAAAQIEPktgwYIFUVFREatWrSrc0rx586iuro599933s35inAABAgQIECBAgAABAgQIECBAgAABAgQIECDQaAQ0ejWapTJRAgQI5F/gySefjKuuuioVuvPOO8e1114brVu3TmMCAgQIECCwLoHp06fHpEmT0i2dO3eOysrKlAsIECBAgAABAgQIECBAgAABAgQIECBAgAABAo1VQKNXY1058yZAgEDOBJYtWxaXXXZZvPTSS6myyy+/PL72ta+lXECAAAECBNZHYMyYMTFnzpx0a/fu3aN3794pFxAgQIAAAQIECBAgQIAAAQIECBAgQIAAAQIEGqOARq/GuGrmTIAAgRwKjBgxIh544IFU2ZlnnhkXXnhhygUECBAgQGBDBPr37x+LFy9OPykpKYmioqKUCwgQIECAAAECBAgQIECAAAECBAgQIECAAAECjU1Ao1djWzHzJUCAQA4Fpk6dGlOmTEmVHXzwwTF06NCUCwgQIECAwIYKLFiwICoqKmLVqlWFn7Zo0SKqqqpi33333dBHuZ8AAQIECBAgQIAAAQIECBAgQIAAAQIECBAg0CAENHo1iGUwCQIECDRdgZqFNVE2sCwB7LDDDpHt7rXnnnumMQEBAgQIENgYgWnTpsXkyZPTTzt37hyVlZUpFxAgQIAAAQIECBAgQIAAAQIECBAgQIAAAQIEGpOARq/GtFrmSoAAgRwKlJWVRU1NTarskksuiVNOOSXlAgIECBAgsCkCY8aMiTlz5qRHdO/ePXr37p1yAQECBAgQIECAAAECBAgQIECAAAECBAgQIECgsQho9GosK2WeBAgQyKHAxIkTY8aMGaky/+d7ohAQIECAwGYU6N+/fyxevDg9saSkJIqKilIuIECAAAECBAgQIECAAAECBAgQIECAAAECBAg0BgGNXo1hlcyRAAECORTIdlfJdlmpvTp06FA4srE290mAAAECBDaXwIIFC6KioiJWrVpVeGSLFi2iuro69tlnn831Cs8hQIAAAQIECBAgQIAAAQIECBAgQIAAAQIECNS7gEaveif2AgIECBD4tMBLL70UAwYMiA8//DB9VVVVFZ06dUq5gAABAgQIbE6BadOmxeTJk9MjO3fuHJWVlSkXECBAgAABAgQIECBAgAABAgQIECBAgAABAgQauoBGr4a+QuZHgACBHAoMHjw4nn766VTZT378k/jmGd9MuYAAAQIECNSHQLaTZLajZO3lyOBaCZ8ECBAgQIAAAQIECBAgQIAAAQIECBAgQIBAYxDQ6NUYVskcCRAgkCOBG2+8Me68885U0fHHHx9lZWUpFxAgQIAAgfoU6N+/fyxevDi9oqSkJIqKilIuIECAAAECBAgQIECAAAECBAgQIECAAAECBAg0VAGNXg11ZcyLAAECORR4+KGH45ph16TK9thjjxg1alRst912aUxAgAABAgTqU2D+/PkxaNCgWLVqVeE1LVq0iOrq6thnn33q87WeTYAAAQIECBAgQIAAAQIECBAgQIAAAQIECBDYZAGNXptM6AEECBAgsD4C7777bmS7qLzxxhvp9iFDhkTXrl1TLiBAgAABAltCYNq0aTF58uT0qs6dO0dlZWXKBQQIECBAgAABAgQIECBAgAABAgQIECBAgACBhiig0ashroo5ESBAIIcCw4YNi4ceeihVdt5558W5556bcgEBAgQIENiSAmPGjIk5c+akV3bv3j169+6dcgEBAgQIECBAgAABAgQIECBAgAABAgQIECBAoKEJaPRqaCtiPgQIEMihwB133BE33XRTquzwww+PwYMHp1xAgAABAgS2hkC20+TixYvTq0tKSqKoqCjlAgIECBAgQIAAAQIECBAgQIAAAQIECBAgQIBAQxLQ6NWQVsNcCBAgkEOBZ555Jn72s5+lylq3bh3XXntt7LzzzmlMQIAAAQIEtobA/Pnzo6KiIr26RYsWUV1dHfvss08aExAgQIAAAQIECBAgQIAAAQIECBAgQIAAAQIEGoqARq+GshLmQYAAgRwKrFy5Mi677LJYunRpqq68vDyOO+64lAsIECBAgMDWFJg2bVpMnjw5TaFz585RWVmZcgEBAgQIECBAgAABAgQIECBAgAABAgQIECBAoKEIaPRqKCthHgQIEMihwOjRo2Pu3Lmpsp49e8ZFF12UcgEBAgQIEGgIAmPGjIk5c+akqXTv3j169+6dcgEBAgQIECBAgAABAgQIECBAgAABAgQIECBAoCEIaPRqCKtgDgQIEMihwIwZM2LixImpsv333z+GDRuWcgEBAgQIEGhIAv3794/FixenKfXr1y9OPfXUlAsIECBAgAABAgQIECBAgAABAgQIECBAgAABAltbQKPX1l4B7ydAgEAOBZYsWRIDBw6M5cuXF6pr0aJFjBgxItq2bZvDapVEgAABAnkQmD9/flRUVKRSsv/tqq6ujn322SeNCQgQIECAAAECBAgQIECAAAECBAgQIECAAAECW1NAo9fW1PduAgQI5FRg0KBB8fzzz6fq+vbtG926dUu5gAABAgQINESBadOmxeTJk9PUOnfuHJWVlSkXECBAgAABAgQIECBAgAABAgQIECBAgAABAgS2poBGr62p790ECBDIocB1110X99xzT6rslFNOiUsuuSTlAgIECBAg0JAFxowZE3PmzElT7NGjR/Tq1SvlAgIECBAgQIAAAQIECBAgQIAAAQIECBAgQIDA1hLQ6LW15L2XAAECORR44IEHCkc01paWHXc1evTo2tQnAQIECBBoFAKlpaWRHUNce/Xr1y9OPfXU2tQnAQIECBAgQIAAAQIECBAgQIAAAQIECBAgQGCrCGj02irsXkqAAIH8Cbz22mvRv3//eP/991Nxw4YNi/333z/lAgIECBAg0BgE5s+fHxUVFWmqLVq0iOrq6sgamF0ECBAgQIAAAQIECBAgQIAAAQIECBAgQIAAga0loNFra8l7LwECBHImMGTIkHjiiSdSVRdeeGGceeaZKRcQIECAAIHGJDBt2rSYPHlymnLnzp2jsrIy5QICBAgQIECAAAECBAgQIECAAAECBAgQIECAwJYW0Oi1pcW9jwABAjkUuPXWW+O2225LlR1zzDExaNCglAsIECBAgEBjFBgzZkzMmTMnTb1Hjx7Rq1evlAsIECBAgAABAgQIECBAgAABAgQIECBAgAABAltSQKPXltT2LgIECORQ4LHHHotf/vKXqbI2bdrEyJEjo1WrVmlMQIAAAQIEGqtAaWlpLFmyJE2/X79+ceqpp6ZcQIAAAQIECBAgQIAAAQIECBAgQIAAAQIECBDYUgIavbaUtPcQIEAghwIffvhhXHbZZfHqq6+m6n7+85/HEUcckXIBAQIECBBozALz58+PioqKVEKLFi2iuro69tlnnzQmIECAAAECBAgQIECAAAECBAgQIECAAAECBAhsCQGNXltC2TsIECCQU4HKysqYN29equ6c754T519wfsoFBAgQIEAgDwLTpk2LyZMnp1K6dOkSw4cPT7mAAAECBAgQIECAAAECBAgQIECAAAECBAgQILAlBDR6bQll7yBAgEAOBe6666644YYbUmVdu3aNIUOGpFxAgAABAgTyJDB69OiYO3duKqlHjx7Rq1evlAsIECBAgAABAgQIECBAgAABAgQIECBAgAABAvUtoNGrvoU9nwABAjkUeO655+Lyyy9PlbVq1SpGjBgRu+22WxoTECBAgACBvAmUlpbGkiVLUln9+vWLU089NeUCAgQIECBAgAABAgQIECBAgAABAgQIECBAgEB9Cmj0qk9dzyZAgEBOBT79f3QPGDAgTjjhhJxWqywCBAgQIPC/AvPnz4+KiorE0bJly6iqqop99tknjQkIECBAgAABAgQIECBAgAABAgQIECBAgAABAvUloNGrvmQ9lwABAjkVGDduXMyaNStVd/rpp8fFF1+ccgEBAgQIEMizwNSpU2PKlCmpxC5dusTw4cNTLiBAgAABAgQIECBAgAABAgQIECBAgAABAgQI1JeARq/6kvVcAgQI5FAga/DKGr1qr86dO0dlZWVt6pMAAQIECDQJgdGjR8fcuXNTrT169IhevXqlXECAAAECBAgQIECAAAECBAgQIECAAAECBAgQqA8BjV71oeqZBAgQyKHA0qVLo6ysLJYtW1aorlmzZlFdXR3t2rXLYbVKIkCAAAEC6xb49DHG/fr1i1NPPXXdP/ItAQIECBAgQIAAAQIECBAgQIAAAQIECBAgQGATBDR6bQKenxIgQKApCVx55ZXx7LPPppKznUuyHUxcBAgQIECgKQrMnz8/KioqUuktW7YsNEC3bds2jQkIECBAgAABAgQIECBAgAABAgQIECBAgAABAptTQKPX5tT0LAIECORU4Prrr4+77747VXfiiSdGtpOJiwABAgQINGWBqVOnxpQpUxJBly5dYvjw4SkXECBAgAABAgQIECBAgAABAgQIECBAgAABAgQ2p4BGr82p6VkECBDIocC8efOisrIyVbb33nvH6NGjIzu60UWAAAECBJq6QPa/iXPnzk0M2W6X2a6XLgIECBAgQIAAAQIECBAgQIAAAQIECBAgQIDA5hbQ6LW5RT2PAAECORJ46623on///vH222+nqq6++uo46KCDUi4gQIAAAQJNXSDb5XLJkiWJoV+/fnHqqaemXECAAAECBAgQIECAAAECBAgQIECAAAECBAgQ2BwCGr02h6JnECBAIKcCWVPXI488kqr73ve+F2effXbKBQQIECBAgEDE888/H4MGDUoULVu2jOrq6mjbtm0aExAgQIAAAQIECBAgQIAAAQIECBAgQIAAAQIENlVAo9emCvo9AQIEcipw++23xy233JKqO+qoo+LKK69MuYAAAQIECBD4t8DUqVNjypQpaaBLly4xfPjwlAsIECBAgAABAgQIECBAgAABAgQIECBAgAABApsqoNFrUwX9ngABAjkUePLJJ+Oqq65Kle28885x7bXXRuvWrdOYgAABAgQIEKgrMHr06Jg7d24a7NGjR/Tq1SvlAgIECBAgQIAAAQIECBAgQIAAAQIECBAgQIDApgho9NoUPb8lQIBADgWWLVsWpaWl8c9//jNVd/nll8fXvva1lAsIECBAgACBtQtk/xu6ZMmS9GW/fv3i1FNPTbmAAAECBAgQIECAAAECBAgQIECAAAECBAgQILCxAhq9NlbO7wgQIJBTgZEjR8b999+fqjvzzDPjwgsvTLmAAAECBAgQ+GyB559/PgYNGpRuaNmyZVRXV0fbtm3TmIAAAQIECBAgQIAAAQIECBAgQIAAAQIECBAgsDECGr02Rs1vCBAgkFOBqVOnxpQpU1J1Bx10UFx99dUpFxAgQIAAAQKfL/Dp/z3t0qVLDB8+/PN/6A4CBAgQIECAAAECBAgQIECAAAECBAgQIECAwDoENHqtA8dXBAgQaEoCNQtromxgWSp5++23j2x3rz333DONCQgQIECAAIH1Exg9enTMnTs33dyjR4/o1atXygUECBAgQIAAAQIECBAgQIAAAQIECBAgQIAAgQ0V0Oi1oWLuJ0CAQE4FysrKoqamJlV3ySWXxCmnnJJyAQECBAgQILBhAqWlpbFkyZL0I//bmigEBAgQIECAAAECBAgQIECAAAECBAgQIECAwEYIaPTaCDQ/IUCAQN4EJk2aFNOnT09lFRcXR58+fVIuIECAAAECBDZc4Pnnn49BgwalH7Zs2TKqq6ujbdu2aUxAgAABAgQIECBAgAABAgQIECBAgAABAgQIEFhfAY1e6yvlPgIECORU4L777otRo0al6jp06BAjRoxIuYAAAQIECBDYeIGpU6fGlClT0gO6dOkSw4cPT7mAAAECBAgQIECAAAECBAgQIECAAAECBAgQILC+Ahq91lfKfQQIEMihwMsvvxz9+/ePDz/8MFVXWVkZnTt3TrmAAAECBAgQ2DSB0aNHx9y5c9NDTjvttPjpT3+acgEBAgQIECBAgAABAgQIECBAgAABAgQIECBAYH0ENHqtj5J7CBAgkFOBwYMHx9NPP52qu+iii6Jnz54pFxAgQIAAAQKbLrBq1aooLS2NF154IT3skksuiVNOOSXlAgIECBAgQIAAAQIECBAgQIAAAQIECBAgQIDA5wlo9Po8Id8TIEAgpwI33nhj3Hnnnam6448/PsrKylIuIECAAAECBDafwPPPPx+DBg1KD2zZsmVUV1dH27Zt05iAAAECBAgQIECAAAECBAgQIECAAAECBAgQILAuAY1e69LxHQECBHIq8PBDD8c1w65J1e2xxx5x7bXXxvbbb5/GBAQIECBAgMDmFZg6dWpMmTIlPbRLly4xfPjwlAsIECBAgAABAgQIECBAgAABAgQIECBAgAABAusS0Oi1Lh3fESBAIIcC7777bvTv3z/eeOONVN2QIUOia9euKRcQIECAAAEC9SMwevTomDt3bnr4aaedFj/96U9TLiBAgAABAgQIECBAgAABAgQIECBAgAABAgQIfJaARq/PkjFOgACBnAoMGzYsHnrooVTdeeedF+eee27KBQQIECBAgED9CaxatSpKS0vjhRdeSC+55JJL4pRTTkm5gAABAgQIECBAgAABAgQIECBAgAABAgQIECCwNoH/DwAA///IiVRLAABAAElEQVTs3QmwFeWZMOBXE8KuxpE1oH9INOyMxqTCgEJhKtagbBlTZVWcsAlTpgLeC5cCgYEC2eQuXFOOiSMRhUkskwHB4Jg4VsKuUzo6ENYMRmU3mGhCIpvCnz7/3G/UXxCV5d4+T1edOu/b55zu730+qrxtv9193vG/LGEhQIAAgaIQWLx4cSxatCjV+sUvfjH+8R//MeUCAgQIECBA4MwLbNu2LcaPH5929KlPfSoqKiri0ksvTesEBAgQIECAAAECBAgQIECAAAECBAgQIECAAIH3Cpyn0eu9JHICBAjkU2DTpk0xadKkVNyFF14Y8+bNi4svvjitExAgQIAAAQJnR+Dxxx+P+++/P+2sffv2MWfOnJQLCBAgQIAAAQIECBAgQIAAAQIECBAgQIAAAQLvFdDo9V4ROQECBHIocOzYsbj99ttj586dqbpx48ZFjx49Ui4gQIAAAQIEzq5AdXV1rFixIu20b9++MXLkyJQLCBAgQIAAAQIECBAgQIAAAQIECBAgQIAAAQLvFNDo9U4NMQECBHIqcPfdd8cvf/nLVF3//v1j2LBhKRcQIECAAAECZ1/gL3dXjpKSknjllVfSzkeNGhXXXXddygUECBAgQIAAAQIECBAgQIAAAQIECBAgQIAAgRoBjV41Et4JECCQU4Gf/exn8f3vfz9V16FDh5g9e3bKBQQIECBAgMC5E9i2bVuMHz8+DaB+/fpRXl4el156aVonIECAAAECBAgQIECAAAECBAgQIECAAAECBAhkAhq9/DsgQIBAjgVefvnlKCsri7feeqtQZb169aKystLJ4xzPudIIECBAoO4JLP/p8pj/g/lp4O3bt485c+akXECAAAECBAgQIECAAAECBAgQIECAAAECBAgQyAQ0evl3QIAAgRwLZHcIye4UUrN8+9vfjq997Ws1qXcCBAgQIECglghUV1fHihUr0mj69u0bI0eOTLmAAAECBAgQIECAAAECBAgQIECAAAECBAgQIKDRy78BAgQI5FRg/vz5sXz58lTdddddF6NGjUq5gAABAgQIEKg9AsePH4+SkpJ45ZVX0qCy/25n//22ECBAgAABAgQIECBAgAABAgQIECBAgAABAgQyAY1e/h0QIEAghwKrV68uPKKxprTLLrss7r777prUOwECBAgQIFALBbK7cGZ346xZ6tevHxUVFdG2bduaVd4JECBAgAABAgQIECBAgAABAgQIECBAgACBIhbQ6FXEk690AgTyKbB///4YM2ZMHDhwIBU4e/bs6NChQ8oFBAgQIECAQO0UWP7T5TH/B/PT4Nq3bx9z5sxJuYAAAQIECBAgQIAAAQIECBAgQIAAAQIECBAoXgGNXsU79yonQCCnAtOmTYsXXnghVTd48OAYNGhQygUECBAgQIBA7Raorq6OFStWpEH27ds3Ro4cmXIBAQIECBAgQIAAAQIECBAgQIAAAQIECBAgUJwCGr2Kc95VTYBATgUefvjheOSRR1J13bt3f9cjoNIHAgIECBAgQKDWChw/fjxKSkrilVdeSWMcNWpUXHfddSkXECBAgAABAgQIECBAgAABAgQIECBAgAABAsUnoNGr+OZcxQQI5FTg+eefj+nTp6fqmjVrFvPmzYsmTZqkdQICBAgQIECgbghs27btXc3a9evXj4qKimjbtm3dKMAoCRAgQIAAAQIECBAgQIAAAQIECBAgQIAAgdMuoNHrtJPaIAECBM6+wMGDB+P222+P3/72t2nnkydPjquvvjrlAgIECBAgQKBuCSz/6fKY/4P5adDt27ePOXPmpFxAgAABAgQIECBAgAABAgQIECBAgAABAgQIFJeARq/imm/VEiCQU4Hy8vJYu3Ztqu6mm26KW265JeUCAgQIECBAoG4KVFdXx4oVK9Lg+/btGyNHjky5gAABAgQIECBAgAABAgQIECBAgAABAgQIECgeAY1exTPXKiVAIKcCy5YtiwULFqTqunXrFtOmTUu5gAABAgQIEKi7AsePH4+SkpJ45ZVXUhGjR4+OPn36pFxAgAABAgQIECBAgAABAgQIECBAgAABAgQIFIeARq/imGdVEiCQU4Ft27bF+PHjU3VNmjSJysrKaNGiRVonIECAAAECBOq2wNatW2PChAmpiPr160dFRUW0bds2rRMQIECAAAECBAgQIECAAAECBAgQIECAAAEC+RfQ6JX/OVYhAQI5Fsju8PHyyy+nCktLS6NXr14pFxAgQIAAAQL5EFj+0+Ux/wfzUzHt27ePOXPmpFxAgAABAgQIECBAgAABAgQIECBAgAABAgQI5F9Ao1f+51iFBAjkVOCf/umf4t///d9TdTfccEOMGDEi5QICBAgQIEAgXwLV1dWxYsWKVFTfvn1j5MiRKRcQIECAAAECBAgQIECAAAECBAgQIECAAAEC+RbQ6JXv+VUdAQI5FcgavLJGr5rliiuuiLlz59ak3gkQIECAAIEcChw/fjyyu3m+8sorqbrRo0dHnz59Ui4gQIAAAQIECBAgQIAAAQIECBAgQIAAAQIE8iug0Su/c6syAgRyKrBz584YO3ZsHDlypFDhJz7xiSgvL4927drltGJlESBAgAABAjUCW7dujQkTJtSkUb9+/aioqIi2bdumdQICBAgQIECAAAECBAgQIECAAAECBAgQIEAgnwIavfI5r6oiQCDHAhMnTozNmzenCv/hH/4h/vZv/zblAgIECBAgQCDfAst/ujzm/2B+KrJ9+/YxZ86clAsIECBAgAABAgQIECBAgAABAgQIECBAgACBfApo9MrnvKqKAIGcCixYsCCWLVuWquvdu3fhEU5phYAAAQIECBAoCoHq6upYsWJFqrVv374xcuTIlAsIECBAgAABAgQIECBAgAABAgQIECBAgACB/Alo9MrfnKqIAIGcCqxbty7mzp2bqmvTpk3cfffdkT260UKAAAECBAgUl8CxY8cKzd47duxIhY8ePTr69OmTcgEBAgQIECBAgAABAgQIECBAgAABAgQIECCQLwGNXvmaT9UQIJBTgddffz1KS0vjjTfeSBXOmDEjOnfunHIBAQIECBAgUFwCW7dujQkTJqSi69evHxUVFdG2bdu0TkCAAAECBAgQIECAAAECBAgQIECAAAECBAjkR0CjV37mUiUECORYIGvqeu6551KFt9xyS9x0000pFxAgQIAAAQLFKbD8p8tj/g/mp+Lbt28fc+bMSbmAAAECBAgQIECAAAECBAgQIECAAAECBAgQyI+ARq/8zKVKCBDIqcCPf/zj+NGPfpSq+/KXvxwTJ05MuYAAAQIECBAoboHq6upYsWJFQrjhhhtixIgRKRcQIECAAAECBAgQIECAAAECBAgQIECAAAEC+RDQ6JWPeVQFAQI5FVi/fn1MnTo1VXfxxRfHvHnz4sILL0zrBAQIECBAgEBxCxw7dixKSkpix44dCWL06NHRp0+flAsIECBAgAABAgQIECBAgAABAgQIECBAgACBui+g0avuz6EKCBDIqcCRI0cKJ2337NmTKpwwYUJ85StfSbmAAAECBAgQIJAJbN26NbK/E2qW+vXrR0VFRbRt27ZmlXcCBAgQIECAAAECBAgQIECAAAECBAgQIECgjgto9KrjE2j4BAjkV6CqqipWrVqVChw0aFAMHjw45QICBAgQIECAwDsFlv90ecz/wfy0qkOHDjF79uyUCwgQIECAAAECBAgQIECAAAECBAgQIECAAIG6LaDRq27Pn9ETIJBTgccffzzuv//+VF3nzp1jxowZKRcQIECAAAECBN5PIHvE88qVK9NHN9xwQ4wYMSLlAgIECBAgQIAAAQIECBAgQIAAAQIECBAgQKDuCmj0qrtzZ+QECORU4MXtL0bZuLI4fvx4ocIGDRpEdnev1q1b57RiZREgQIAAAQKnS+DYsWOFRz/v2LEjbXL06NHRp0+flAsIECBAgAABAgQIECBAgAABAgQIECBAgACBuimg0atuzptREyCQY4GysrLYvn17qnDUqFFx3XXXpVxAgAABAgQIEDiZwNatW2PChAnpK/Xr14+Kiopo27ZtWicgQIAAAQIECBAgQIAAAQIECBAgQIAAAQIE6p6ARq+6N2dGTIBAjgXuu+++eOKJJ1KF119/fdx2220pFxAgQIAAAQIETkVg+U+Xx/wfzE9f7dChQ8yePTvlAgIECBAgQIAAAQIECBAgQIAAAQIECBAgQKDuCWj0qntzZsQECORUYMWKFVFdXZ2qa9euXeGRjWmFgAABAgQIECDwIQTmzZsXK1euTL+44YYbYsSIESkXECBAgAABAgQIECBAgAABAgQIECBAgAABAnVLQKNX3ZovoyVAIKcC+/bti9LS0jh48GCqcO7cuXHFFVekXECAAAECBAgQ+DACx44di5KSktixY0f62ejRo6NPnz4pFxAgQIAAAQIECBAgQIAAAQIECBAgQIAAAQJ1R0CjV92ZKyMlQCDHAlOmTIkNGzakCocNGxb9+/dPuYAAAQIECBAg8FEEtm7dGhMmTEg/bdCgQVRUVESbNm3SOgEBAgQIECBAgAABAgQIECBAgAABAgQIECBQNwQ0etWNeTJKAgRyLLBo0aJYvHhxqrBnz55RVlaWcgEBAgQIECBA4OMIPPbYY/HAAw+kTXTo0CFmz56dcgEBAgQIECBAgAABAgQIECBAgAABAgQIECBQNwQ0etWNeTJKAgRyKvDss8/GzJkzU3UtW7aM6urqyO62YSFAgAABAgQInC6BefPmxcqVK9PmbrjhhhgxYkTKBQQIECBAgAABAgQIECBAgAABAgQIECBAgEDtF9DoVfvnyAgJEMipwB//+McoLS2N3/3ud6nCqVOnxpVXXplyAQECBAgQIEDgdAgcO3YsSkpKYseOHWlzo0ePjj59+qRcQIAAAQIECBAgQIAAAQIECBAgQIAAAQIECNRuAY1etXt+jI4AgRwLZI9M+o//+I9U4c033xzZy0KAAAECBAgQOBMCW7dujQkTJqRNZ3cQraioiDZt2qR1AgIECBAgQIAAAQIECBAgQIAAAQIECBAgQKD2Cmj0qr1zY2QECORYYPHixbFo0aJU4Re/+MX4x3/8x5QLCBAgQIAAAQJnQuCxxx6LBx54IG26Q4cOkTWfWwgQIECAAAECBAgQIECAAAECBAgQIECAAIHaL6DRq/bPkRESIJAzgU2bNsWkSZNSVRdeeGFUVlbGJZdcktYJCBAgQIAAAQJnSmDevHmxcuXKtPkbbrghRowYkXIBAQIECBAgQIAAAQIECBAgQIAAAQIECBAgUDsFNHrVznkxKgIEcipw7NixuP3222Pnzp2pwnHjxkWPHj1SLiBAgAABAgQInEmB7O+RkpKS2LFjR9pNlvfu3TvlAgIECBAgQIAAAQIECBAgQIAAAQIECBAgQKD2CWj0qn1zYkQECORY4O67745f/vKXqcL+/fvHsGHDUi4gQIAAAQIECJwNgS1btsQdd9yRdtWgQYOoqKiINm3apHUCAgQIECBAgAABAgQIECBAgAABAgQIECBAoHYJaPSqXfNhNAQI5FjgZz/7WXz/+99PFXbo0CFmz56dcgEBAgQIECBA4GwKPPbYY/HAAw+kXfrbJFEICBAgQIAAAQIECBAgQIAAAQIECBAgQIBArRTQ6FUrp8WgCBDIm8DLL78cZWVl8dZbbxVKq1evXlRWVsall16at1LVQ4AAAQIECNQhgXnz5sXKlSvTiG+44YYYMWJEygUECBAgQIAAAQIECBAgQIAAAQIECBAgQIBA7RHQ6FV75sJICBDIscD48eNj27ZtqcJvf/vb8bWvfS3lAgIECBAgQIDAuRA4duxYlJSUxI4dO9Lus7x3794pFxAgQIAAAQIECBAgQIAAAQIECBAgQIAAAQK1Q0CjV+2YB6MgQCDHAvPnz4/ly5enCq+77roYNWpUygUECBAgQIAAgXMpsGXLlrjjjjvSEBo0aBAVFRXRpk2btE5AgAABAgQIECBAgAABAgQIECBAgAABAgQInHsBjV7nfg6MgACBHAusXr268IjGmhIvu+yyuPvuu2tS7wQIECBAgACBWiHw2GOPxQMPPJDG0qFDh5g9e3bKBQQIECBAgAABAgQIECBAgAABAgQIECBAgMC5F9Dode7nwAgIEMipwP79+2PMmDFx4MCBVGF2wjQ7cWohQIAAAQIECNQ2gXnz5sXKlSvTsG644YYYMWJEygUECBAgQIAAAQIECBAgQIAAAQIECBAgQIDAuRXQ6HVu/e2dAIEcC0ybNi1eeOGFVOHgwYNj0KBBKRcQIECAAAECBGqTwNtvvx0lJSWxc+fONKws7927d8oFBAgQIECAAAECBAgQIECAAAECBAgQIECAwLkT0Oh17uztmQCBHAs8/PDD8cgjj6QKu3fvHuPHj0+5gAABAgQIECBQGwW2bNkSd9xxRxpagwYNoqKiItq0aZPWCQgQIECAAAECBAgQIECAAAECBAgQIECAAIFzI6DR69y42ysBAjkWeP7552P69OmpwmbNmkX2KKQmTZqkdQICBAgQIECAQG0VeOyxx+KBBx5Iw8seO509ftpCgAABAgQIECBAgAABAgQIECBAgAABAgQInFsBjV7n1t/eCRDImcDBgwcLjzx69dVXU2WTJ0+Oq6++OuUCAgQIECBAgEBtF8ia1FeuXJmGeeONN8att96acgEBAgQIECBAgAABAgQIECBAgAABAgQIECBw9gU0ep19c3skQCDHAuXl5bF27dpU4U033RS33HJLygUECBAgQIAAgbog8Pbbbxea13fu3JmGW1JSEr179065gAABAgQIECBAgAABAgQIECBAgAABAgQIEDi7Ahq9zq63vREgkGOBZcuWxYIFC1KF3bp1i2nTpqVcQIAAAQIECBCoSwJbtmyJO+64Iw25QYMGUVFREW3atEnrBAQIECBAgAABAgQIECBAgAABAgQIECBAgMDZE9Dodfas7YkAgRwLbNu2LcaPH58qbNy4cVRVVUWLFi3SOgEBAgQIECBAoK4JPPbYY/HAAw+kYXfs2DFmzZqVcgEBAgQIECBAgAABAgQIECBAgAABAgQIECBw9gQ0ep09a3siQCDHAqWlpfHSSy+lCrO8V69eKRcQIECAAAECBOqqQNa8vmrVqjT8G2+8MW699daUCwgQIECAAAECBAgQIECAAAECBAgQIECAAIGzI6DR6+w42wsBAjkWuPfee+PJJ59MFfbt2zdGjhyZcgEBAgQIECBAoC4LvP3221FSUhI7d+5MZWR57969Uy4gQIAAAQIECBAgQIAAAQIECBAgQIAAAQIEzryARq8zb2wPBAjkWOCpp56Ke+65J1V4+eWXR3l5ecoFBAgQIECAAIE8CGzZsiXuuOOOVEqDBg2ioqIi2rRpk9YJCBAgQIAAAQIECBAgQIAAAQIECBAgQIAAgTMroNHrzPraOgECORbYtWtXjBkzJo4cOVKo8hOf+EShyatdu3Y5rlppBAgQIECAQLEKPPbYY/HAAw+k8jt27BizZs1KuYAAAQIECBAgQIAAAQIECBAgQIAAAQIECBA4swIavc6sr60TIJBjgYkTJ8bmzZtThdnjGrPHNloIECBAgAABAnkVqKqqilWrVqXybrzxxrj11ltTLiBAgAABAgQIECBAgAABAgQIECBAgAABAgTOnIBGrzNna8sECORYYMGCBbFs2bJUYe/evaOkpCTlAgIECBAgQIBAHgXefvvtwt88O3fuTOVlfwNlfwtZCBAgQIAAAQIECBAgQIAAAQIECBAgQIAAgTMroNHrzPraOgECORRYt25dzJ07N1XWpk2bmDdvXtSrVy+tExAgQIAAAQIE8iqwZcuWuOOOO1J5DRs2jMrKymjdunVaJyBAgAABAgQIECBAgAABAgQIECBAgAABAgROv4BGr9NvaosECORY4PXXX4/S0tJ44403UpXTp0+Prl27plxAgAABAgQIEMi7QHZn0+wOpzVLx44dY9asWTWpdwIECBAgQIAAAQIECBAgQIAAAQIECBAgQOAMCGj0OgOoNkmAQH4FZsyYEc8991wq8JZbbombbrop5QICBAgQIECAQLEIVFVVxapVq1K5N954Y9x6660pFxAgQIAAAQIECBAgQIAAAQIECBAgQIAAAQKnV0Cj1+n1tDUCBHIs8OMf/zh+9KMfpQq//OUvx8SJE1MuIECAAAECBAgUk8Dbb78dJSUlsXPnzlR2lvfu3TvlAgIECBAgQIAAAQIECBAgQIAAAQIECBAgQOD0CWj0On2WtkSAQI4F1q9fH1OnTk0VXnzxxTFv3ry48MIL0zoBAQIECBAgQKDYBLZs2RJ33HFHKrthw4ZRWVkZrVu3TusEBAgQIECAAAECBAgQIECAAAECBAgQIECAwOkR0Oh1ehxthQCBHAscOXKkcLeKPXv2pConTJgQX/nKV1IuIECAAAECBAgUq8CyZctiwYIFqfyOHTvGrFmzUi4gQIAAAQIECBAgQIAAAQIECBAgQIAAAQIETo+ARq/T42grBAjkWKCqqipWrVqVKhw0aFAMHjw45QICBAgQIECAQLELvPfvpRtvvDFuvfXWYmdRPwECBAgQIECAAAECBAgQIECAAAECBAgQOK0CGr1OK6eNESCQN4HHH3887r///lRW586dY8aMGSkXECBAgAABAgQIRLz99tuFO6Du3LkzcZSWlkavXr1SLiBAgAABAgQIECBAgAABAgQIECBAgAABAgQ+noBGr4/n59cECORY4MXtL0bZuLI4fvx4ocoGDRpEdreK1q1b57hqpREgQIAAAQIEPprA5s2bY+LEienHDRs2jMrKSn87JREBAQIECBAgQIAAAQIECBAgQIAAAQIECBD4eAIavT6en18TIJBjgbKysti+fXuqcNSoUXHdddelXECAAAECBAgQIPBugWXLlsWCBQvSyo4dO8asWbNSLiBAgAABAgQIECBAgAABAgQIECBAgAABAgQ+uoBGr49u55cECORY4L777osnnngiVXj99dfHbbfdlnIBAQIECBAgQIDA+wtkd0BdtWpV+vDGG2+MW2+9NeUCAgQIECBAgAABAgQIECBAgAABAgQIECBA4KMJaPT6aG5+RYBAjgVWrFgR1dXVqcJ27doVHtmYVggIECBAgAABAgROKPD2229HSUlJ7Ny5M32ntLQ0evXqlXIBAQIECBAgQIAAAQIECBAgQIAAAQIECBAg8OEFNHp9eDO/IEAgxwL79u2LMWPGxJtvvpmqnDt3blxxxRUpFxAgQIAAAQIECJxcYPPmzTFx4sT0pYYNG0ZlZWW0bt06rRMQIECAAAECBAgQIECAAAECBAgQIECAAAECH05Ao9eH8/JtAgRyLjBlypTYsGFDqnLYsGHRv3//lAsIECBAgAABAgROTWDZsmWxYMGC9OWOHTvGrFmzUi4gQIAAAQIECBAgQIAAAQIECBAgQIAAAQIEPpyARq8P5+XbBAjkWGDRokWxePHiVGHPnj2jrKws5QICBAgQIECAAIEPJ1BVVRWrVq1KP+rXr18MHz485QICBAgQIECAAAECBAgQIECAAAECBAgQIEDg1AU0ep26lW8SIJBjgWeffTZmzpyZKmzZsmVUV1dHgwYN0joBAQIECBAgQIDAhxM4evRolJaWxq5du9IPs7xXr14pFxAgQIAAAQIECBAgQIAAAQIECBAgQIAAAQKnJqDR69ScfIsAgRwLHDhwoHAC8rXXXktVTp06Na688sqUCwgQIECAAAECBD6awObNm2PixInpxw0bNozKyspo3bp1WicgQIAAAQIECBAgQIAAAQIECBAgQIAAAQIEPlhAo9cHG/kGAQI5F5gzZ04888wzqcqbb745speFAAECBAgQIEDg9AgsW7YsFixYkDbWsWPHmDVrVsoFBAgQIECAAAECBAgQIECAAAECBAgQIECAwAcLaPT6YCPfIEAgxwJLliyJhQsXpgqvuuqqmDJlSsoFBAgQIECAAAECp0egqqoqVq1alTbWr1+/GD58eMoFBAgQIECAAAECBAgQIECAAAECBAgQIECAwMkFNHqd3MenBAjkWOC9jxG64IILIjsBeckll+S4aqURIECAAAECBM6NwNGjRwuPy961a1caQGlpafTq1SvlAgIECBAgQIAAAQIECBAgQIAAAQIECBAgQODEAhq9TmzjEwIEcixw7NixuP3222Pnzp2pyrKysujZs2fKBQQIECBAgAABAqdX4L2N9g0bNozKyspo3br16d2RrREgQIAAAQIECBAgQIAAAQIECBAgQIAAgRwKaPTK4aQqiQCBDxa4++6745e//GX6okcHJQoBAQIECBAgQOCMCixbtiwWLFiQ9tGxY8eYNWtWygUECBAgQIAAAQIECBAgQIAAAQIECBAgQIDA+wto9Hp/F2sJEMixwM9+9rP4/ve/nyrs0KFDzJ49O+UCAgQIECBAgACBMyuQ3cVr9erVaSea7hOFgAABAgQIECBAgAABAgQIECBAgAABAgQInFBAo9cJaXxAgEAeBV5++eXIHtH41ltvFcqrV69eVFRUxGWXXZbHctVEgAABAgQIEKiVAkePHo3S0tLYtWtXGl+W9+rVK+UCAgQIECBAgAABAgQIECBAgAABAgQIECBA4N0CGr3e7SEjQCDnAuPHj49t27alKm+77ba4/vrrUy4gQIAAAQIECBA4OwKbN2+OiRMnpp01bNgwsjt9tW7dOq0TECBAgAABAgQIECBAgAABAgQIECBAgAABAv8roNHrfy1EBAjkXGD+/PmxfPnyVOV1110Xo0aNSrmAAAECBAgQIEDg7AosW7YsFixYkHbaqVOnmDlzZsoFBAgQIECAAAECBAgQIECAAAECBAgQIECAwP8KaPT6XwsRAQI5Fli9enXhDhE1JWaPaqyuro7zzjuvZpV3AgQIECBAgACBcyCQ3cUr+1utZunXr18MHz68JvVOgAABAgQIECBAgAABAgQIECBAgAABAgQI/I+ARi//FAgQyL3A/v37Y8yYMXHgwIFU6+zZs6NDhw4pFxAgQIAAAQIECJwbgaNHj0ZpaWns2rUrDSDLe/XqlXIBAQIECBAgQIAAAQIECBAgQIAAAQIECBAgEKHRy78CAgRyLzBt2rR44YUXUp2DBw+OQYMGpVxAgAABAgQIECBwbgU2b94cEydOTINo1KhR4W6srVq1SusEBAgQIECAAAECBAgQIECAAAECBAgQIECg2AU0ehX7vwD1E8i5wMMPPxyPPPJIqrJ79+4xfvz4lAsIECBAgAABAgRqh8DSpUvjwQcfTIPp1KlTzJw5M+UCAgQIECBAgAABAgQIECBAgAABAgQIECBQ7AIavYr9X4D6CeRY4Pnnn4/p06enCps1axbz5s2LJk2apHUCAgQIECBAgACB2iNQWVkZq1evTgPq169fDB8+POUCAgQIECBAgAABAgQIECBAgAABAgQIECBQzAIavYp59tVOIMcCBw8ejJKSknj11VdTlZMnT46rr7465QICBAgQIECAAIHaJXD06NEoLS2NXbt2pYFlea9evVIuIECAAAECBAgQIECAAAECBAgQIECAAAECxSqg0atYZ17dBHIuUF5eHmvXrk1V3nTTTXHLLbekXECAAAECBAgQIFA7BTZv3hwTJ05Mg2vUqFFkd/pq1apVWicgQIAAAQIECBAgQIAAAQIECBAgQIAAAQLFKKDRqxhnXc0Eci6wbNmyWLBgQaqyW7duMW3atJQLCBAgQIAAAQIEarfA0qVL48EHH0yD7NSpU8ycOTPlAgIECBAgQIAAAQIECBAgQIAAAQIECBAgUIwCGr2KcdbVTCDHAtu2bYvx48enChs3bhxVVVXRokWLtE5AgAABAgQIECBQ+wWyu3itXr06DbRfv34xfPjwlAsIECBAgAABAgQIECBAgAABAgQIECBAgECxCWj0KrYZVy+BnAuUlpbGSy+9lKrM8l69eqVcQIAAAQIECBAgUDcEjh49Gtnfcrt27UoDHjNmTFx77bUpFxAgQIAAAQIECBAgQIAAAQIECBAgQIAAgWIS0OhVTLOtVgI5F7j33nvjySefTFX27ds3Ro4cmXIBAQIECBAgQIBA3RLYtGlTTJo0KQ26UaNGkd3pq1WrVmmdgAABAgQIECBAgAABAgQIECBAgAABAgQIFIuARq9imWl1Esi5wFNPPRX33HNPqvLyyy+P8vLylAsIECBAgAABAgTqpsDSpUvjwQcfTIPv1KlTzJw5M+UCAgQIECBAgAABAgQIECBAgAABAgQIECBQLAIavYplptVJIMcC2eN8xo4dG4cPHy5Uef7550dFRUW0a9cux1UrjQABAgQIECBQPALZXbxWr16dCu7Xr18MHz485QICBAgQIECAAAECBAgQIECAAAECBAgQIFAMAhq9imGW1Ugg5wLZ43yyx/rULNnjGrPHNloIECBAgAABAgTyIXD06NEoLS2NrMG/ZhkzZkxce+21Nal3AgQIECBAgAABAgQIECBAgAABAgQIECCQewGNXrmfYgUSyLdA9hif7HE+NUuvXr0KJwFrcu8ECBAgQIAAAQL5EMga+7MG/5qlUaNGkd3pq1WrVjWrvBMgQIAAAQIECBAgQIAAAQIECBAgQIAAgVwLaPTK9fQqjkC+BZ5++um46667UpGf+cxnorq6OurVq5fWCQgQIECAAAECBPIjkDX4Z43+NUunTp1i5syZNal3AgQIECBAgAABAgQIECBAgAABAgQIECCQawGNXrmeXsURyK/A66+/Xrhz1xtvvJGKnD59enTt2jXlAgIECBAgQIAAgfwJZHfxWr16dSqsf//+MWzYsJQLCBAgQIAAAQIECBAgQIAAAQIECBAgQIBAXgU0euV1ZtVFIOcCM2bMiOeeey5V+c1vfjO+8Y1vpFxAgAABAgQIECCQT4EjR44UGv53796dChwzZkxce+21KRcQIECAAAECBAgQIECAAAECBAgQIECAAIE8Cmj0yuOsqolAzgV+/OMfx49+9KNU5Ze+9KWYNGlSygUECBAgQIAAAQL5Fti0adO7/v5r1KhRZHf6atWqVb4LVx0BAgQIECBAgAABAgQIECBAgAABAgQIFLWARq+inn7FE6h7AuvXr4+pU6emgV988cVRVVUVF110UVonIECAAAECBAgQyL/A0qVL48EHH0yFdurUKWbOnJlyAQECBAgQIECAAAECBAgQIECAAAECBAgQyJuARq+8zah6CORYIHtMT0lJSezZsydVOX78+OjevXvKBQQIECBAgAABAsUjkN3Fa/Xq1ang/v37x7Bhw1IuIECAAAECBAgQIECAAAECBAgQIECAAAECeRLQ6JWn2VQLgZwLZHfuWrVqVapy0KBBMXjw4JQLCBAgQIAAAQIEiksguxCgtLQ0du/enQofM2ZMXHvttSkXECBAgAABAgQIECBAgAABAgQIECBAgACBvAho9MrLTKqDQM4FHn/88bj//vtTlZ07d44ZM2akXECAAAECBAgQIFCcAps2bYpJkyal4hs1ahTZnb5atWqV1gkIECBAgAABAgQIECBAgAABAgQIECBAgEAeBDR65WEW1UAg5wIvbn8xysaVxfHjxwuVNmjQICoqKqJNmzY5r1x5BAgQIECAAAECpyKwdOnSePDBB9NXO3XqFDNnzky5gAABAgQIECBAgAABAgQIECBAgAABAgQI5EFAo1ceZlENBHIuUFZWFtu3b09Vjho1Kq677rqUCwgQIECAAAECBAhkFwKsWbMmQfTv3z+GDRuWcgEBAgQIECBAgAABAgQIECBAgAABAgQIEKjrAhq96voMGj+BnAvcd9998cQTT6Qqr7/++rjttttSLiBAgAABAgQIECCQCRw5ciRKS0tj9+7dCWTMmDFx7bXXplxAgAABAgQIECBAgAABAgQIECBAgAABAgTqsoBGr7o8e8ZOIOcCK1asiOrq6lRlu3btoqqqKuUCAgQIECBAgAABAu8U2LRpU0yaNCmtatSoUVRWVkarVq3SOgEBAgQIECBAgAABAgQIECBAgAABAgQIEKirAhq96urMGTeBnAvs27cvsjswvPnmm6nSuXPnxhVXXJFyAQECBAgQIECAAIH3CixdujQefPDBtLpz584xY8aMlAsIECBAgAABAgQIECBAgAABAgQIECBAgEBdFdDoVVdnzrgJ5FxgypQpsWHDhlTlsGHDon///ikXECBAgAABAgQIEDiRQEVFRaxZsyZ9nP0dmf09aSFAgAABAgQIECBAgAABAgQIECBAgAABAnVZQKNXXZ49YyeQU4FFixbF4sWLU3U9e/aMsrKylAsIECBAgAABAgQInEzgyJEjUVpaGrt3705fy+4We+2116ZcQIAAAQIECBAgQIAAAQIECBAgQIAAAQIE6pqARq+6NmPGSyDnAs8++2zMnDkzVdmyZcuorq6OBg0apHUCAgQIECBAgAABAh8ksGnTppg0aVL6WuPGjaOysjKyvy8tBAgQIECAAAECBAgQIECAAAECBAgQIECgLgpo9KqLs2bMBHIqcODAgcKdF1577bVU4dSpU+PKK69MuYAAAQIECBAgQIDAqQo8+uij8dBDD6Wvd+7cOWbMmJFyAQECBAgQIECAAAECBAgQIECAAAECBAgQqEsCGr3q0mwZK4GcC8yZMyeeeeaZVOXNN98c2ctCgAABAgQIECBA4KMKVFRUxJo1a9LP+/fvH8OGDUu5gAABAgQIECBAgAABAgQIECBAgAABAgQI1BUBjV51ZaaMk0DOBZYsWRILFy5MVV511VUxZcqUlAsIECBAgAABAgQIfBSBI0eOFO4au3v37vTzMWPGxLXXXptyAQECBAgQIECAAAECBAgQIECAAAECBAgQqAsCGr3qwiwZI4GcC2zevDkmTpyYqrzggguiqqoqLrnkkrROQIAAAQIECBAgQOCjCmzatCkmTZqUft64ceOorKyMli1bpnUCAgQIECBAgAABAgQIECBAgAABAgQIECBQ2wU0etX2GTI+AjkXOH78eNx+++2xY8eOVGlZWVn07Nkz5QICBAgQIECAAAECH1fg0UcfjYceeihtpnPnzjFjxoyUCwgQIECAAAECBAgQIECAAAECBAgQIECAQG0X0OhV22fI+AjkXOC73/1u/OIXv0hV9uvXL4YPH55yAQECBAgQIECAAIHTJVBRURFr1qxJm+vfv38MGzYs5QICBAgQIECAAAECBAgQIECAAAECBAgQIFCbBTR61ebZMTYCORf4+c9/Ht/73vdSle3bt485c+akXECAAAECBAgQIEDgdAocOXIkSktLY/fu3WmzY8eOjWuuuSblAgIECBAgQIAAAQIECBAgQIAAAQIECBAgUFsFNHrV1pkxLgI5F3j55Zcje0TjW2+9Vaj0k5/8ZFRWVsZll12W88qVR4AAAQIECBAgcC4FNm7cGJMnT05DaNy4ceHv0JYtW6Z1AgIECBAgQIAAAQIECBAgQIAAAQIECBAgUBsFNHrVxlkxJgJFIDB+/PjYtm1bqvS2226L66+/PuUCAgQIECBAgAABAmdK4NFHH42HHnoobb5z584xY8aMlAsIECBAgAABAgQIECBAgAABAgQIECBAgEBtFNDoVRtnxZgI5Fxg/vz5sXz58lRlnz59YvTo0SkXECBAgAABAgQIEDjTAhUVFbFmzZq0m/79+8ewYcNSLiBAgAABAgQIECBAgAABAgQIECBAgAABArVNQKNXbZsR4yGQc4HVq1cXHo1TU2b2qMbq6uo477zzalZ5J0CAAAECBAgQIHDGBY4cORKlpaWxe/futK+xY8fGNddck3IBAQIECBAgQIAAAQIECBAgQIAAAQIECBCoTQIavWrTbBgLgZwL7N+/P8aMGRMHDhxIlc6aNSs6duyYcgEBAgQIECBAgACBsyWwcePGmDx5ctpd48aNCxcltGzZMq0TECBAgAABAgQIECBAgAABAgQIECBAgACB2iKg0au2zIRxECgCgWnTpsULL7yQKv3Wt74VX//611MuIECAAAECBAgQIHC2BR599NF46KGH0m47d+4cM2bMSLmAAAECBAgQIECAAAECBAgQIECAAAECBAjUFgGNXrVlJoyDQM4FHn744XjkkUdSld27d4/x48enXECAAAECBAgQIEDgXAlUVFTEmjVr0u4HDBgQQ4cOTbmAAAECBAgQIECAAAECBAgQIECAAAECBAjUBgGNXrVhFoyBQM4Fnn/++Zg+fXqqslmzZlFVVRVNmzZN6wQECBAgQIAAAQIEzpXA4cOHo7S0NPbs2ZOGMHbs2LjmmmtSLiBAgAABAgQIECBAgAABAgQIECBAgAABAudaQKPXuZ4B+yeQc4GDBw9GSUlJvPrqq6nSyZMnx9VXX51yAQECBAgQIECAAIFzLbBx48bI/k6tWRo3bhyVlZXRsmXLmlXeCRAgQIAAAQIECBAgQIAAAQIECBAgQIDAORXQ6HVO+e2cQP4FysvLY+3atanQm266KW655ZaUCwgQIECAAAECBAjUFoFHH300HnrooTSczp07x4wZM1IuIECAAAECBAgQIECAAAECBAgQIECAAAEC51JAo9e51LdvAjkXWLZsWSxYsCBV2a1bt5g2bVrKBQQIECBAgAABAgRqm0BFRUWsWbMmDWvAgAExdOjQlAsIECBAgAABAgQIECBAgAABAgQIECBAgMC5EtDoda7k7ZdAzgW2bdsW48ePT1Vmj76pqqqKFi1apHUCAgQIECBAgAABArVN4PDhw1FaWhp79uxJQxs7dmxcc801KRcQIECAAAECBAgQIECAAAECBAgQIECAAIFzIaDR61yo2yeBIhDITo699NJLqdIs79WrV8oFBAgQIECAAAECBGqrwMaNG2Py5MlpeNlFC5WVldGyZcu0TkCAAAECBAgQIECAAAECBAgQIECAAAECBM62gEavsy1ufwSKQODee++NJ598MlXat2/fGDlyZMoFBAgQIECAAAECBGq7wKOPPhoPPfRQGmbnzp1jxowZKRcQIECAAAECBAgQIECAAAECBAgQIECAAIGzLaDR62yL2x+BnAs89dRTcc8996QqL7/88igvL0+5gAABAgQIECBAgEBdEcj+jl27dm0a7oABA2Lo0KEpFxAgQIAAAQIECBAgQIAAAQIECBAgQIAAgbMpoNHrbGrbF4GcC+zatSvGjh0bhw8fLlR6/vnnR0VFRbRr1y7nlSuPAAECBAgQIEAgjwLZ37XZI8j37NmTysv+3r3mmmtSLiBAgAABAgQIECBAgAABAgQIECBAgAABAmdLQKPX2ZK2HwJFIDBp0qTYtGlTqjR7XGP22EYLAQIECBAgQIAAgboqsHHjxpg8eXIafuPGjaOqqipatGiR1gkIECBAgAABAgQIECBAgAABAgQIECBAgMDZENDodTaU7YNAEQg8+OCDsXTp0lRpr169Cnc/SCsEBAgQIECAAAECBOqowKOPPhoPPfRQGn2XLl3izjvvTLmAAAECBAgQIECAAAECBAgQIECAAAECBAicDQGNXmdD2T4I5Fzg6aefjrvuuitV+ZnPfCaqq6ujXr16aZ2AAAECBAgQIECAQF0WKC8vj7Vr16YSBgwYEEOHDk25gAABAgQIECBAgAABAgQIECBAgAABAgQInGkBjV5nWtj2CeRc4I033ijcuev1119PlU6fPj26du2acgEBAgQIECBAgACBui5w+PDhwt+9e/bsSaWMHTs2rrnmmpQLCBAgQIAAAQIECBAgQIAAAQIECBAgQIDAmRTQ6HUmdW2bQBEIzJw5M5599tlU6Te/+c34xje+kXIBAQIECBAgQIAAgbwIbNy4MSZPnpzKady4cVRVVUWLFi3SOgEBAgQIECBAgAABAgQIECBAgAABAgQIEDhTAhq9zpSs7RIoAoGf/OQn8cMf/jBV+qUvfSkmTZqUcgEBAgQIECBAgACBvAksWbIkFi5cmMrq0qVL3HnnnSkXECBAgAABAgQIECBAgAABAgQIECBAgACBMyWg0etMydougZwLbNiwIaZMmZKq/PSnPx3z5s2Liy66KK0TECBAgAABAgQIEMijQHl5eaxduzaVNmDAgBg6dGjKBQQIECBAgAABAgQIECBAgAABAgQIECBA4EwIaPQ6E6q2SSDnAkeOHImSkpLYs2dPqnT8+PHRvXv3lAsIECBAgAABAgQI5FXg8OHDUVpa+q6/h8eOHRvXXHNNXktWFwECBAgQIECAAAECBAgQIECAAAECBAjUAgGNXrVgEgyBQF0TqKqqilWrVqVhDxw4MIYMGZJyAQECBAgQIECAAIG8C2zcuDEmT56cymzSpElUVlZGixYt0joBAQIECBAgQIAAAQIECBAgQIAAAQIECBA4nQIavU6npm0RKAKBxx9/PO6///5UaadOnWLmzJkpFxAgQIAAAQIECBAoFoElS5bEwoULU7ldunSJO++8M+UCAgQIECBAgAABAgQIECBAgAABAgQIECBwOgU0ep1OTdsikHOBF7e/GGXjyuL48eOFShs0aBAVFRXRpk2bnFeuPAIECBAgQIAAAQLvL1BeXh5r165NHw4YMCCGDh2acgEBAgQIECBAgAABAgQIECBAgAABAgQIEDhdAhq9Tpek7RAoAoGysrLYvn17qvQ73/lOfPWrX025gAABAgQIECBAgECxCRw+fDhKS0tjz549qfTs7+aePXumXECAAAECBAgQIECAAAECBAgQIECAAAECBE6HgEav06FoGwSKQOC+++6LJ554IlV6/fXXx2233ZZyAQECBAgQIECAAIFiFdiwYUNMmTIlld+kSZOorKyMFi1apHUCAgQIECBAgAABAgQIECBAgAABAgQIECDwcQU0en1cQb8nUAQCK1asiOrq6lRpu3btoqqqKuUCAgQIECBAgAABAsUusGTJkli4cGFi6NKlS9x5550pFxAgQIAAAQIECBAgQIAAAQIECBAgQIAAgY8roNHr4wr6PYGcC+zbty/GjBkTb775Zqr0rrvuii984QspFxAgQIAAAQIECBAgEFFeXh5r165NFAMGDIihQ4emXECAAAECBAgQIECAAAECBAgQIECAAAECBD6OgEavj6PntwSKQCB7BE32KJqaZdiwYdG/f/+a1DsBAgQIECBAgAABAv8jcPjw4SgtLY09e/Ykk7KysujZs2fKBQQIECBAgAABAgQIECBAgAABAgQIECBA4KMKaPT6qHJ+R6AIBBYtWhSLFy9OlWYnqLITVRYCBAgQIECAAAECBN5fILtIIrtYomZp0qRJVFZWRosWLWpWeSdAgAABAgQIECBAgAABAgQIECBAgAABAh9JQKPXR2LzIwL5F3j22Wdj5syZqdCWLVtGdXV1NGjQIK0TECBAgAABAgQIECDw/wssWbIkFi5cmD7o0qVL3HnnnSkXECBAgAABAgQIECBAgAABAgQIECBAgACBjyKg0eujqPkNgZwLHDhwoPDImddeey1VOnXq1LjyyitTLiBAgAABAgQIECBA4MQC5eXlsXbt2vSFgQMHxpAhQ1IuIECAAAECBAgQIECAAAECBAgQIECAAAECH1ZAo9eHFfN9AkUgMGfOnHjmmWdSpTfffHNkLwsBAgQIECBAgAABAqcmcOjQocLFE3v37k0/yB6Dnj0O3UKAAAECBAgQIECAAAECBAgQIECAAAECBD6KgEavj6LmNwRyLPDex8xcddVVMWXKlBxXrDQCBAgQIECAAAECZ0Zgw4YN7/pbukmTJlFZWRktWrQ4Mzu0VQIECBAgQIAAAQIECBAgQIAAAQIECBDItYBGr1xPr+IIfDiBzZs3x8SJE9OPLrjggqiqqopLLrkkrRMQIECAAAECBAgQIHDqAu+9kKJLly5x5513nvoGfJMAAQIECBAgQIAAAQIECBAgQIAAAQIECPyPgEYv/xQIECgIHD9+PG6//fbYsWNHEvFomUQhIECAAAECBAgQIPCRBcrLy2Pt2rXp9wMHDowhQ4akXECAAAECBAgQIECAAAECBAgQIECAAAECBE5FQKPXqSj5DoEiEPjud78bv/jFL1Kl/fr1i+HDh6dcQIAAAQIECBAgQIDARxM4dOhQlJaWxt69e9MGXFSRKAQECBAgQIAAAQIECBAgQIAAAQIECBAgcIoCGr1OEcrXCORZ4Oc//3l873vfSyW2b98+5syZk3IBAQIECBAgQIAAAQIfT2DDhg0xZcqUtJEmTZpEZWVltGjRIq0TECBAgAABAgQIECBAgAABAgQIECBAgACBkwlo9DqZjs8IFIHAK6+8EmPHjo233nqrUO0nP/nJwgmnyy67rAiqVyIBAgQIECBAgACBsyewZMmSWLhwYdph165dY/r06SkXECBAgAABAgQIECBAgAABAgQIECBAgACBkwlo9DqZjs8IFIHAhAkTYuvWranS2267La6//vqUCwgQIECAAAECBAgQOH0Cc+fOjXXr1qUNDhw4MIYMGZJyAQECBAgQIECAAAECBAgQIECAAAECBAgQOJGARq8TyVhPoAgEfvCDH8RPf/rTVGmfPn1i9OjRKRcQIECAAAECBAgQIHB6BQ4dOhSlpaWxd+/etOGysrLo2bNnygUECBAgQIAAAQIECBAgQIAAAQIECBAgQOD9BDR6vZ+KdQSKQGDNmjVRUVGRKr300kvj7rvvjvPOOy+tExAgQIAAAQIECBAgcPoFNmzYEFOmTEkbbtKkSVRVVUXz5s3TOgEBAgQIECBAgAABAgQIECBAgAABAgQIEHivgEav94rICRSBwP79+2PMmDFx4MCBVO2sWbOiY8eOKRcQIECAAAECBAgQIHDmBJYsWRILFy5MO+jatWtMnz495QICBAgQIECAAAECBAgQIECAAAECBAgQIPBeAY1e7xWREygCgWnTpsULL7yQKv3Wt74VX//611MuIECAAAECBAgQIEDgzAvMnTs31q1bl3Y0cODAGDJkSMoFBAgQIECAAAECBAgQIECAAAECBAgQIEDgnQIavd6pISZQBAIPP/xwPPLII6nSr3zlKzFhwoSUCwgQIECAAAECBAgQODsChw4ditLS0ti7d2/aYVlZWfTs2TPlAgIECBAgQIAAAQIECBAgQIAAAQIECBAgUCOg0atGwjuBIhB4/vnn3/U4mGbNmkVVVVU0bdq0CKpXIgECBAgQIECAAIHaJ7Bhw4aYMmVKGliTJk0Kf6M3b948rRMQIECAAAECBAgQIECAAAECBAgQIECAAIFMQKOXfwcEikTg4MGDUVJSEq+++mqqeNKkSfGlL30p5QICBAgQIECAAAECBM6+wOLFi2PRokVpx127dn3XBRrpAwEBAgQIECBAgAABAgQIECBAgAABAgQIFLWARq+inn7FF5NAeXl5rF27NpX8d3/3d/H3f//3KRcQIECAAAECBAgQIHDuBObOnRvr1q1LAxg4cGAMGTIk5QICBAgQIECAAAECBAgQIECAAAECBAgQIKDRy78BAkUgsGzZsliwYEGqtFu3bjFt2rSUCwgQIECAAAECBAgQOLcChw4ditLS0ti7d28aSFlZWfTs2TPlAgIECBAgQIAAAQIECBAgQIAAAQIECBAobgGNXsU9/6ovAoFt27bF+PHjU6WNGzeOysrKaNmyZVonIECAAAECBAgQIEDg3Ats2LAhpkyZkgbStGnTwt/uzZs3T+sEBAgQIECAAAECBAgQIECAAAECBAgQIFC8Ahq9infuVV4kAtldAV566aVUbZb36tUr5QICBAgQIECAAAECBGqPwOLFi2PRokVpQF27do3p06enXECAAAECBAgQIECAAAECBAgQIECAAAECxSug0at4517lRSBweA860QAAQABJREFU7733xpNPPpkq7du3b4wcOTLlAgIECBAgQIAAAQIEap/A3LlzY926dWlgAwcOjCFDhqRcQIAAAQIECBAgQIAAAQIECBAgQIAAAQLFKaDRqzjnXdVFIPDUU0/FPffckyq9/PLLo7y8POUCAgQIECBAgAABAgRqp8ChQ4ciuxPv3r170wDHjRsXPXr0SLmAAAECBAgQIECAAAECBAgQIECAAAECBIpPQKNX8c25iotAYNeuXTF27Ng4fPhwodrzzz8/Kioqol27dkVQvRIJECBAgAABAgQI1H2B9evXx9SpU1MhTZs2jcrKymjevHlaJyBAgAABAgQIECBAgAABAgQIECBAgACB4hLQ6FVc863aIhGYNGlSbNq0KVWbPa4xe2yjhQABAgQIECBAgACBuiOwePHiWLRoURpw165dY/r06SkXECBAgAABAgQIECBAgAABAgQIECBAgEBxCWj0Kq75Vm0RCDz44IOxdOnSVGmvXr0Kj31JKwQECBAgQIAAAQIECNQZgblz58a6devSeAcOHBhDhgxJuYAAAQIECBAgQIAAAQIECBAgQIAAAQIEikdAo1fxzLVKi0Dg6aefjrvuuitV+pnPfCaqq6ujXr16aZ2AAAECBAgQIECAAIG6I3Do0KHChRt79+5Ngx43blz06NEj5QICBAgQIECAAAECBAgQIECAAAECBAgQKA4BjV7FMc+qLAKBN954o3AC6PXXX0/VZo91yR7vYiFAgAABAgQIECBAoO4KrF+/PqZOnZoKaNq0aVRWVkbz5s3TOgEBAgQIECBAgAABAgQIECBAgAABAgQI5F9Ao1f+51iFRSIwc+bMePbZZ1O13/zmN+Mb3/hGygUECBAgQIAAAQIECNRdgcWLF8eiRYtSAdkFHdmFHRYCBAgQIECAAAECBAgQIECAAAECBAgQKB4BjV7FM9cqzbHAT37yk/jhD3+YKvzSl74UkyZNSrmAAAECBAgQIECAAIG6LzB37txYt25dKmTQoEExePDglAsIECBAgAABAgQIECBAgAABAgQIECBAIN8CGr3yPb+qKwKBDRs2xJQpU1Kln/70p2PevHlx0UUXpXUCAgQIECBAgAABAgTqvsDBgwcLj2vft29fKmbcuHHRo0ePlAsIECBAgAABAgQIECBAgAABAgQIECBAIL8CGr3yO7cqKwKBo0ePRklJSezevTtVO378+OjevXvKBQQIECBAgAABAgQI5Edg/fr1MXXq1FRQ06ZNo7KyMpo3b57WCQgQIECAAAECBAgQIECAAAECBAgQIEAgnwIavfI5r6oqEoHszl0rV65M1Q4cODCGDBmScgEBAgQIECBAgAABAvkTWLx4cSxatCgV1rVr15g+fXrKBQQIECBAgAABAgQIECBAgAABAgQIECCQTwGNXvmcV1UVgcC//du/xT//8z+nSjt16hQzZ85MuYAAAQIECBAgQIAAgfwKzJ07N9atW5cKHDRoUAwePDjlAgIECBAgQIAAAQIECBAgQIAAAQIECBDIn4BGr/zNqYqKQODF7S9G2biyOH78eKHa+vXrFx7X0qZNmyKoXokECBAgQIAAAQIECBw8eDBKS0tj3759CWPcuHHRo0ePlAsIECBAgAABAgQIECBAgAABAgQIECBAIF8CGr3yNZ+qKRKBsrKy2L59e6r2O9/5Tnz1q19NuYAAAQIECBAgQIAAgfwLrF+/PqZOnZoKbdq0aeECkObNm6d1AgIECBAgQIAAAQIECBAgQIAAAQIECBDIj4BGr/zMpUqKROC+++6LJ554IlX7ta99Lb797W+nXECAAAECBAgQIECAQPEILF68OBYtWpQK7tatW0ybNi3lAgIECBAgQIAAAQIECBAgQIAAAQIECBDIj4BGr/zMpUqKQGDFihVRXV2dKv3sZz8b8+bNS7mAAAECBAgQIECAAIHiE7jrrrvi6aefToUPGjQoBg8enHIBAQIECBAgQIAAAQIECBAgQIAAAQIECORDQKNXPuZRFUUgsG/fvhgzZky8+eabqdrshM4XvvCFlAsIECBAgAABAgQIECg+gYMHD0ZpaWlkxww1y7hx46JHjx41qXcCBAgQIECAAAECBAgQIECAAAECBAgQyIGARq8cTKISikNgypQpsWHDhlTs0KFDY8CAASkXECBAgAABAgQIECBQvALr16+PqVOnJoCmTZtGVVVVNGvWLK0TECBAgAABAgQIECBAgAABAgQIECBAgEDdFtDoVbfnz+iLRGDRokWxePHiVG3Pnj2jrKws5QICBAgQIECAAAECBAhkxwzZsUPN0q1bt5g2bVpN6p0AAQIECBAgQIAAAQIECBAgQIAAAQIE6riARq86PoGGn3+BZ599NmbOnJkKbdmyZcybNy8aNmyY1gkIECBAgAABAgQIECCQCWSPd3/66acTxqBBg2Lw4MEpFxAgQIAAAQIECBAgQIAAAQIECBAgQIBA3RXQ6FV3587Ii0DgwIEDUVpaGq+99lqqNnuE41VXXZVyAQECBAgQIECAAAECBGoEDh48WDiG2LdvX82qGDduXPTo0SPlAgIECBAgQIAAAQIECBAgQIAAAQIECBComwIavermvBl1kQjMmTMnnnnmmVTtzTffHNnLQoAAAQIECBAgQIAAgRMJrF+/PqZOnZo+btq0aVRVVUWzZs3SOgEBAgQIECBAgAABAgQIECBAgAABAgQI1D0BjV51b86MuEgElixZEgsXLkzVZnfxyu7mZSFAgAABAgQIECBAgMAHCfzrv/5r/Mu//Ev6Wrdu3WLatGkpFxAgQIAAAQIECBAgQIAAAQIECBAgQIBA3RPQ6FX35syI64DAoUOH4s0334w///nPhfcsPtEre7TKe19/+tOfCt+vKfX888+P1q1bR5MmTaJhw4bp1ahRozjZq3HjxoXPGzRoULMp7wQIECBAgAABAgQI1CGBY8eOpeOKdHzx578cXxx89zFGdkyRHXO883337t2RHZvULJ/85Ccju7tXdgzxfscV2bqa44uaY4l35jXrarbnnQABAgQIECBAgAABAgQIECBAgAABAgTOroBGr7PrbW85EfjDH/4Q+/btK7xeffXVyF779+9Pr7feeqtWVZqd0Mke01LzatGiRWSvli1bFl4XXnhhrRqvwRAgQIAAAQIECBAoFoG333479u7dWzimqDm2+O1vf5uOLbJjj9q2XHLJJYVji+y9efPmhWOL7L3m+KK2jdd4CBAgQIAAAQIECBAgQIAAAQIECBAgkBcBjV55mUl1nFaBAwcOvKuJKzvR8s6TLYcPHz6t+zvXG6tfv35qAstO0NScrKlpBsuu+rcQIECAAAECBAgQIPDhBY4fP/7/XSTyzmOL119//cNvtJb/QiNYLZ8gwyNAgAABAgQIECBAgAABAgQIECBAoM4KaPSqs1Nn4KdLYMuWLbFt27b49a9/Hbt27SpcOZ897uRMLJ/4xCeiXr16kTVWfepTn3rX673rsjxbsqayI0eOpPcsfm+efefo0aORPdblTCzZI1yyu4G1bds2rrjiiujQoUPh/UzsyzYJECBAgAABAgQI1FWB7C6/2bFF9tq+fXvhYpHf/e53Z6yc7NgiO65477HE+63LvlNzbPF+xxM1xxk1n53JuxTXNIJdfvnl0b59+8Lr4osvPmNONkyAAAECBAgQIECAAAECBAgQIECAAIG8CGj0ystMquOUBLJGrpqmruzEy8svvxzZo1I+6pI9EvGv/uqvIjtRkb3XPBrxggsuKJxsqTnh0qBBg0KeNXqdySU7GZOdvDl06FA6iZPFv//97+O1114rvLITTdkrW/dxGsOy2j/3uc8VGr6y5q/sJE32qBYLAQIECBAgQIAAgWIQyP7uzi4ayS4YyV4vvfRS4e/sj1N7dhyRHVfUHFvUPBqx/qf+cqFI/f/X0FVzbJE1c53JJbsTWVbj4UN/eR35y+t/jjPefPPNdGyRNbbVHF9k6z/Okh1LZccU2bFF9vr85z9faGL7ONv0WwIECBAgQIAAAQIECBAgQIAAAQIECORNQKNX3mZUPUngj3/8Y6Gp679//d/x4m9eLJx4yZqbPuzy6U9/OjVz1Vx5XtPQlX1Wl5es+Ss7OZO93tkIlsV/+MMfPnRpmU92QiZ7ZU1g2bvHPn5oRj8gQIAAAQIECBCohQK/+c1v0p26sqau7KKRD3vhRHYhSM1FIlkzV/bI9JpmrizO7tBVV5fsrsg1xxY17zVNYNl7dqewD7Ocf/75heOJrPmrXbt2hfiyyy77MJvwXQIECBAgQIAAAQIECBAgQIAAAQIECOROQKNX7qa0eAvKrqLP7tKVvWpOvGRXoZ/Kkp1EuPTSS+Ozn/1stGrVqnDCpaaZK/usGJfsTmfZCZrf/va3hSawffv2FU5mvfLKK6d8F7Tzzjuv0PCVnZjJXlnzV3aixkKAAAECBAgQIECgNgtkF4jUHF9kDV7Z8cXrr79+ykO+6KKLCscW2TFG1sDV7JJm0bxF82jSpMkpbyNvXzxw4EDs/+3/O77Y/9r+2LlzZ+H44sNcjJM1x6Vji3Z/ubDk8s+HRz7m7V+KeggQIECAAAECBAgQIECAAAECBAgQOJmARq+T6fisVgtkJwpeeOGF+K//+q/41a9+VWhKOtUBZ01cbdu2TVeGZ3eespy6QHb3ghdffDGyk15Z/Oqrr57yjzP7Ll26xF//9V/HlVde6Y5fpyzniwQIECBAgAABAmdSIGvsyo4t1q9fH5s2bTrlXWWPUMyOLbK7TdXc3Vbz0SnzxR/e+EPhDsw1DXXZ8UX2mMhTXTp16hTdunUrHF9kj3y0ECBAgAABAgQIECBAgAABAgQIECBAIM8CGr3yPLs5rC27q9Tzzz9fOPmycePG+POf//yBVTZu3Lhw4qXmjl3ZyZe6/sjFDyz6LH8he0xmTdNXdmIme/3pT3/6wFFkc9O5c+fCiZmrrroqWrZs+YG/8QUCBAgQIECAAAECp0sgu3Ake2UXjmR37TqVJbsDcNbY9X8u+z+Fxq52n2t3Kj/znQ8hkN1FuOYuzdmxxa5du07p19kdmrOLSrILSrKXhQABAgQIECBAgAABAgQIECBAgAABAnkT0OiVtxnNYT3//d///a4r60/2OMbsMYtt2rRJV9Rn/6M/e1nOvsCOHTsKJ2eykzRZnD2aJXsc5ImW7DGP77wa3yMeTyRlPQECBAgQIECAwEcVyC5GeOddgbPHlJ9syR7BmDV1pTt2fe7zceFFF57sJz47AwLZ3ZxrLizJji2y1wc9SjN7ZOY77yRczI/NPANTYpMECBAgQIAAAQIECBAgQIAAAQIECJwjAY1e5wjebk8ukD0ypebK+ux/6J9sye4C1aFDh8Kdodq1a+dRgCfDOoefZSfVssc9Zndi27JlS2R3ZzvZks1lzdX42WMeLQQIECBAgAABAgQ+ikD2mPGa5q7sb9GT3Xm2Xr160b59+8IFCF/4whcKDV4fZZ9+c+YFsgtJtm7dWnjMZvb+1ltvnXCnWZNXdifhmsfHt2jR4oTf9QEBAgQIECBAgAABAgQIECBAgAABAgRqs4BGr9o8O0U0toMHD8Z//ud/Fh7JuGHDhshOxpxsyR7D2LFjx8IJmKzJy1L3BLJmr02bNsXmzZsLV+SfrILsREzXrl0Lj3j84he/GA0bNjzZ131GgAABAgQIECBQ5AIvbn8xXvivFyI7tsiau44dO3ZCkawJKDumyI4vunbp6o5dJ5SqvR/8/ve/Lzx+Mzu+yI4zsuPLEy3ZXaCzpq/s+OLKv74yPvf5z53oq9YTIECAAAECBAgQIECAAAECBAgQIECg1glo9Kp1U1JcA3ruuedi1apVhSvss8dxnGz5/Oc/XzgB06Vzl2j3uXYn+6rP6pjAb178Tfxq468KJ2W2b99+0tE3bdo0rrzyyrj22mvj6quvPul3fUiAAAECBAgQIFA8Avv374+VK1fG008/XbiT7Mkqv+SSSwrHFtmjw7OmnwYNGpzs6z6rQwJ//vOf41cbfhUbN/2/Own/4Q9/OOnoP/e5z0X37t2jV69e0axZs5N+14cECBAgQIAAAQIECBAgQIAAAQIECBA41wIavc71DBTh/t94443CCZi1a9fGr3/96xMKnHfeeYXHpmRX1meP8GvTps0Jv+uD/Ajs2rWrcDV+dqev7BEsx48fP2FxV1xxRfTo0aNwUuaiiy464fd8QIAAAQIECBAgkF+B7LHv2cUjWYPXye7klB1P1DzyPWvwsuRfIHucY81d3bI7fWXNgCdasrsGZw1f2QUlHh1/IiXrCRAgQIAAAQIECBAgQIAAAQIECBA41wIavc71DBTR/rPHaKxevTrWrVsXf/zjH9+38k996lPpyvqsucsV1e/LVDQrsxMxv/rVrwqPeMxOzBw5cuR9a7/gggvib/7mb+Kaa64pPM7zfb9kJQECBAgQIECAQG4E3vy/7N0FnFVF+8DxR7pFWlA6RJDukhSkQUBKSkCQbukOCZVSSko6VJZuEFw6RGAFREoaCUFACf//57zvnfeevbvswtaN33w+cGfm1Mz33L2795znzNy/L9u2bZOdO3daU4EH1zHHqMAa2KV5km8L6HdSncpTHyq5ePFisBj6sFGJEiWkdOnSEi9evGDXYwECCCCAAAIIIIAAAggggAACCCCAAAIIIBDZAgR6Rba4jx1PA3P0BoyO3vXTTz8F23udii937tySK1cu0aAdEgKBBTQ4UJ/G1/fRoUOHAi82ZX0f6ShfelNGAwdJCCCAAAIIIIAAAt4joCMC6+hd+vDIzZs3g+yYTsWXP19+yZEzh6RJkybIdahEQN9LGvR18OBBuXLlSpAgSZIksR4o0VG+dDRhEgIIIIAAAggggAACCCCAAAIIIIAAAgggENUCBHpF9Rnw0uOfOXPGmp5Rb8Bcu3YtyF6mTJlS8ufPL4UKFWJaxiCFqAxOQKd33Lt3rxw4cECuXr0a5GopUqSwbsq8/fbbkiFDhiDXoRIBBBBAAAEEEEDA/QV0Ku/t27dbowPr339BpdixY5vvFjlz5gxqFeoQCFZg967dsv/AftFpQINL+t1VRxDW7xcvvfRScKtRjwACCCCAAAIIIIAAAggggAACCCCAAAIIRKgAgV4Ryut7O9epU3R6xj179gTbeR1xqWCBglK4SGEukAerxILQCOhNvz2798i+/fueOWJc4cKFrZsyOv0KCQEEEEAAAQQQQMAzBC5cuCA7ftghP/r/GOw0e6+//roUKFBAihQpIkmTJvWMjtFKtxU4f/687Nu3z3qgJLgHlnSUuOLFikvJUiVF338kBBBAAAEEEEAAAQQQQAABBBBAAAEEEEAgMgUI9IpMbS89lk6ZsmnTJmt6xnPnzgXZy+TJk5sn7NOmTRvkOlQiEBYBvSnjGOXr+vXrQe4qXbp01rSO5cuXF52GhYQAAggggAACCCDgfgK7d+8WfYBEXx8/fuzSwGjRokm+fPmkYMGC1ncMlxWoQCCMAk+fPpVdu3ZZAV86fXxQKUaMGFaAoT5MooGGJAQQQAABBBBAAAEEEEAAAQQQQAABBBBAIDIECPSKDGUvPcb9+/dl5cqVsn79etFgr6DSW2+9Zd18KVq0qESPHj2oVahDIFwFnjx5Ym7K/Pzzz0HuW4O8KlasKNWqVZN48eIFuQ6VCCCAAAIIIIAAApErcOjQIVm9erXs378/yAPr1O86epeO1po6deog16ESgfAWOHv2rBnl68aNG0HuXt+XVapUkbx58wa5nEoEEEAAAQQQQAABBBBAAAEEEEAAAQQQQCC8BAj0Ci9JH9qPPt3s5+dnBXhdvnzZpec6ZUr+/PmlUKFCkj59epflVCAQWQJ6U8Yxytcff/zhcthXX33VCviqXr266MgQJAQQQAABBBBAAIHIFzh+/LgV4PXjjz8GefBcuXJZAV768MhLL70U5DpUIhDRAo8ePbJGmTtw4IAcPXo0yMMVL17cCvh68803g1xOJQIIIIAAAggggAACCCCAAAIIIIAAAgggEFYBAr3CKuhj269du1bWrVsnQU3RmCNHDjN6V8yYMX1Mhu66s4DelHFMvXLs2DGXpuqUjpUqVZJ3333XZRkVCCCAAAIIIIAAAhEj8Ntvv8mqVatky5YtLgdImDChNR2ejt7FwyMuPFREscBvp3+Tffv3WYFfd+/edWlN2bJlpWrVqpIxY0aXZVQggAACCCCAAAIIIIAAAggggAACCCCAAAJhESDQKyx6PrSt3nzRAK+TJ0+69Dpr1qxSpkwZKViwoMsyKhBwNwEd4Uvfz7/++qtL0/S9rAFfemOGhAACCCCAAAIIIBAxApcuXbICvDZs2CCPHz+2HSR27Njy9ttvS7ly5URHCiYh4M4COpXjxo0b5YcffhB9uMQ5xYgRQ9555x0r4IupRp1lyCOAAAIIIIAAAggggAACCCCAAAIIIIBAWAQI9AqLng9s6+/vLzqK188//+zSW32yvnTp0lKiRAmXZVQg4O4C27dvl61bt8rvv//u0tS33nrLGt2rWLFiLsuoQAABBBBAAAEEEHgxAQ2K0RG8NMDr/v37tp3oNNolS5a0ArwIirHRUPAAgQsXLsimTZskqOlH48WLZwK+kiVL5gG9oYkIIIAAAggggAACCCCAAAIIIIAAAggg4M4CBHq589mJwrYdOHBA1qxZI/oaOOmNFw3wYtSjwDKUPU3gyZMn1hP427ZtE73xGDjlz59fKleubE1JGngZZQQQQAABBBBAAIHQCdy7d88K8Fq/fr3cunXLZaOiRYtaAV5M0ehCQ4WHCegI2Js3bw7ye/Qrr7wiFStWtEb4SpAggYf1jOYigAACCCCAAAIIIIAAAggggAACCCCAgLsIEOjlLmfCTdpx7NgxWb16tehIXoGTPn2s06hUqFBBdBoKEgLeIqA3H/UJfA340nzgpCN7ValSRXLkyBF4EWUEEEAAAQQQQACBYAQ0qN7Pz080wOvKlSsua2lQvT48ki1bNpdlVCDgyQI//fSTNV28fr8OnFKlSmUFfFWvXl2iR48eeDFlBBBAAAEEEEAAAQQQQAABBBBAAAEEEEDgmQIEej2Tx3cWXr58WZYsWWJNZRe414kSJbICvMqXLy/x48cPvJgyAl4jcP36dWuErx9++EEeP37s0q8yZcpIvXr15NVXX3VZRgUCCCCAAAIIIIDA/wQ0uEsfIDl//vz/Kv+b02my9e+qXLlyuSyjAgFvEtizZ48V8HX69GmXbqVNm9Z6mERH+SIhgAACCCCAAAIIIIAAAggggAACCCCAAAKhFSDQK7RSXrye3oBZtmyZyzQqceLEsQK8ypUrJ0mSJPFiAbqGgF1Ab0jqCF9BjWynU67UqVPHuilj34oSAggggAACCCCAwLlz52TRokWya9cuFwwduUsDvAoUKOCyjAoEvFlARw7eunWrXLx40aWbOnVp/fr1JV26dC7LqEAAAQQQQAABBBBAAAEEEEAAAQQQQAABBAILEOgVWMSHyqd/PS2LFi+Sffv22Xqt00eULFlSdAQvnVaChICvCpw4cUI2b94sBw8edCEoWLCg1H+/vmTKnMllGRUIIIAAAggggIAvCnz33XeyfPlyl6mwM2TIIKVLl5bixYv7Igt9RsAS0BGDN27caE0X/8cff9hUEiRIIO+9957UqlXLVk8BAQQQQAABBBBAAAEEEEAAAQQQQAABBBAILECgV2ARHykvXbrUugnz8OFDW48LFy4s77zzDk8T21Qo+LrA4cOHZcOGDXLy5EkbhY56pzdk6tata6ungAACCCCAAAII+JJAQECALF68WPRvJueUNGlSqVSpkjWKl3M9eQR8WeDu3btWwJdOb/rkyRMbRZ48eeT999+X7Nmz2+opIIAAAggggAACCCCAAAIIIIAAAggggAACDgECvRwSPvJ65MgRWbJkiRw9etTW4xQpUlhT0fGUvY2FAgI2gVWrVsnatWvl77//ttXnzJlT6tWrJ7ly5bLVU0AAAQQQQAABBLxdYMH8BfLtd9+KjlbknIoVKyY1atQQDfYiIYCAq8CpU6dEv18cO3bMtjBGjBhSu1Ztadiooa2eAgIIIIAAAggggAACCCCAAAIIIIAAAgggoAIEevnI++DRo0eyYMEC0elUAqdSpUpJjeo15OXELwdeRBkBBAIJnDt3TlauXOkyYoWuplOtNGzYUGLGjBloK4oIIIAAAggggIB3CRw4cMB6gESnunZOr776qlStWlV0pGASAgiELLBh/QZZs3aNy5Sn2bJlsx4myZ8/f8g7YQ0EEEAAAQQQQAABBBBAAAEEEEAAAQQQ8BkBAr184FTv3r1bdKrG06dP23r72muvWTdhChQoYKungAACIQts3bpV1qxZI7du3bKtnClTJmsqxyJFitjqKSCAAAIIIIAAAt4gcP/+fesBEh2JKHAqU6aM1KxZU+LHjx94EWUEEHiGwKVLl6yHSfbt2+eylgZO6sMk8eLFc1lGBQIIIIAAAggggAACCCCAAAIIIIAAAgj4ngCBXl58zu/cuSMLFy6UdevWufSyQoUK1lQqceLEcVlGBQIIhE7gxo0b4ufnJ/7+/i4bVKpUSRo0aCAvv8xIeS44VCCAAAIIIICARwrs2LHDeoDk/PnztvanS5fOeoAkb968tnoKCCDwfAI7d+60Hia5du2abcO0adNaD5OULFnSVk8BAQQQQAABBBBAAAEEEEAAAQQQQAABBHxPgEAvLz3nW7ZskWXLlok+GeycMmbMaN2EyZUrl3M1eQQQCIPA3r17ZfXq1XLx4kXbXlKnTi116tSRsmXL2uopIIAAAggggAACniRw/fp16wES/Y4ROGlwu47iFSNGjMCLKCOAwAsI/Pnnn7JixQrZvn27y9b6vUIfJkmePLnLMioQQAABBBBAAAEEEEAAAQQQQAABBBBAwDcECPTysvN8+/ZtmTlzpvzwww+2nkWLFk3effdd6ybMSy+9ZFtGAQEEwi7w4MEDa3SvjRs3uuysVKlS0qJFC0mcOLHLMioQQAABBBBAAAF3Fti0aZMsXrxYNNjLOWXNmtV6gOTNN990riaPAALhJHDo0CHrYZKzZ8/a9qhBXu+//76UL1/eVk8BAQQQQAABBBBAAAEEEEAAAQQQQAABBHxDgEAvLzrPhw8fllmzZsm5c+dsvcqePbtUq1ZN9GYMCQEEIlbg2LFj1g2ZkydP2g6kUxo1b95c8uTJY6ungAACCCCAAAIIuKuAPkCi01Q7Jx25q3LlylK9enXnavIIIBABAk+ePLFG91q/fr1o3jnpz6A+TEJCAAEEEEAAAQQQQAABBBBAAAEEEEAAAd8SINDLS8633oCZO3euPH782PQoduzY1k2YKlWqmDoyCCAQOQKrVq2StWvXyt9//20OqDdGmzRpwo1RI0IGAQQQQAABBNxRQKd/nzFjhhw8eNDWvJw5c0r1atUlY6aMtnoKCCAQsQKnTp0S/X6hD5U4p3z58knLli1Fp4wnIYAAAggggAACCCCAAAIIIIAAAggggIBvCBDo5eHn+Z9//pHp06dL4OnismXLJvXq1RMdRYiEAAJRI6Cj6y1ZskROnDhha0CFChWkVatWEitWLFs9BQQQQAABBBBAIKoF/P39Zfbs2XLt2jVbU2rVqiU8QGIjoYBApAusXr1avvvuO9txU6RIIc2aNZNixYrZ6ikggAACCCCAAAIIIIAAAggggAACCCCAgHcKEOjlwedVn+rV6VQCAgJsvShdurQ0bNhQokWLZqungAACkS/w9OlTWbBggWzbts12cJ1SVadayZIli62eAgIIIIAAAgggEFUCixcvloULF9oOnzJlSqlbty7TT9tUKCAQdQKHDx+WpUuXytWrV22NaNCggbz//vu2OgoIIIAAAggggAACCCCAAAIIIIAAAggg4H0CBHp56DndtGmTzJkzR+7evWt6oFM11qlTR8qUKWPqyCCAgHsIbN26VZYtW2abyjFhwoTStGlTKV++vHs0klYggAACCCCAgE8K3L592xol+Mcff7T1P0+ePKLBI0mTJrXVU0AAgagV+OOPP6ygTA36ck7Fixe3Rg5OnDixczV5BBBAAAEEEEAAAQQQQAABBBBAAAEEEPAiAQK9PPBk6ihefn5+tpanT5/eenqX0YFsLBQQcCsBHYVPR8o4e/asrV3Vq1e3RveyVVJAAAEEEEAAAQQiQUADRWbNmiU65bRzqly5stSuXdu5ijwCCLiZwLfffitr1qyxtSpdunTSvHlzRuGzqVBAAAEEEEAAAQQQQAABBBBAAAEEEEDAewQI9PKgc3np0iWZMWOGHDx40NbqYsWKWU/ax40b11ZPAQEE3E/gwYMH1tP3/v7+tsbly5dPWrZsKalTp7bVU0AAAQQQQAABBCJKQB8emTt3rjx+/NgcQkcCqlevnhQqVMjUkUEAAfcV2Lt3ryxZskR0ZD5HihEjhjRp0kT0gRISAggggAACCCCAAAIIIIAAAggggAACCHiXAIFeHnI+NShk9uzZcu3aNdPiaNGiWU/ZV6pUydSRQQABzxBYt26d6BP4T58+NQ1OkSKFNGvWTDR4k4QAAggggAACCESUwD///GNN1bhx40bbId58801rlOA0adLY6ikggIB7C1y8eNEaOfj48eO2hlaoUMGayjFWrFi2egoIIIAAAggggAACCCCAAAIIIIAAAggg4LkCBHp5wLnTqd4WLlxoa6mO+qNP2ufMmdNWTwEBBDxH4OjRo9bT9zpan3Nq0KCBdZPVuY48AggggAACCCAQHgI6lbROBR8QEGDbXbly5axRgm2VFBBAwKME9LrB5s2bbW3Onj27NU18lixZbPUUEEAAAQQQQAABBBBAAAEEEEAAAQQQQMAzBQj0cuPz9u+//8rYsWPlxx9/tLUyf/780rBBQ3k58cu2egoIIOB5Andu35EFCxfIgQMHbI0vXry4dOvWTXTkPhICCCCAAAIIIBAeAtu3b7emgr97967ZXbx48aRu3bpSsmRJU0cGAQQ8V2DHjh2ydOlSuX//vulEwoQJ5cMPP5TSpUubOjIIIIAAAggggAACCCCAAAIIIIAAAggg4JkCBHq56Xl79OiRfPrpp7J//35bC6tXry76j4QAAt4l4OfnJ/rPOeXJk0f69OkjTLXirEIeAQQQQAABBF5EYMuWLTJhwgTbppkyZZL69etLhgwZbPUUEEDAswXOnDkjixYtktOnT9s60qZNG6lUqZKtjgICCCCAAAIIIIAAAggggAACCCCAAAIIeJYAgV5ueL7+/vtvK8jr4MGDpnXJkiWznrTX0bxICCDgnQI6qpc+fX/jxg3TQZ1qpX///qKjbZAQQAABBBBAAIEXEdi0aZNMmjTJtqmO4NWwYUOJGTOmrZ4CAgh4h4A+PLZgwQLREb6cU7NmzaRmzZrOVeQRQAABBBBAAAEEEEAAAQQQQAABBBBAwIMECPRys5P14MEDK8jr8OHDpmWvv/66tGzZUtKkSWPqyCCAgHcKXLx4UaZOnSqXLl0yHcyYMaMMGjRIEiVKZOrIIIAAAggggAACoRFYv369fPXVV7ZVGSXYxkEBAa8W+P7772XVqlW2PjZo0EDef/99Wx0FBBBAAAEEEEAAAQQQQAABBBBAAAEEEPAMAQK93Og83b17V0aMGCEBAQGmVZkzZ5ZWrVpJ0qRJTR0ZBBDwboErV67IlClT5Pfffzcd1UDPoUOHSpIkSUwdGQQQQAABBBBA4FkCa9eutQLIndepU6cOU7c5g5BHwAcEgpomvlatWtK0aVMf6D1dRAABBBBAAAEEEEAAAQQQQAABBBBAwLsECPRyk/N5584da3q28+fPmxblyJFDWrduLfHjxzd1ZBBAwDcEbt68aU2x5PyZoAGfGgyaMmVK30CglwgggAACCCDwwgKrVq6SGV/PsG3fuHFjKV26tK2OAgII+IaAjuqlo3s5p3fffVc++ugj5yryCCCAAAIIIIAAAggggAACCCCAAAIIIODmAgR6ucEJunXrlnTv3l3++OMP05q8efNaF1xjxIhh6sgggIBvCfzzzz8yevRoOXv2rOl4ggQJrLrUqVObOjIIIIAAAggggICzwIoVK2TWrFnOVdLyw5ZSpGgRWx0FBBDwLYE1a9bIt99+a+t0mTJlpFOnTrY6CggggAACCCCAAAIIIIAAAggggAACCCDgvgIEekXxubl+/bp06NBBHj58aFpSoEABadOmjSmTQQAB3xbQUbx+++03gxAzZkwZO3aspEuXztSRQQABBBBAAAEEVGDJkiWyYMECG8bHH38s+fLls9VRQAAB3xRYt26dLFu2zNb5YsWKSc+ePW11FBBAAAEEEEAAAQQQQAABBBBAAAEEEEDAPQUI9IrC83L16lWXaRIKFy4srVq1isJWcWgEEHBHgU8//VROnTpla9pnn30mGTNmtNVRQAABBBBAAAHfFZg5c6b4+fnZALp27SpvvvmmrY4CAgj4tsC2bdtk3rx5NoSCBQtK3759bXUUEEAAAQQQQAABBBBAAAEEEEAAAQQQQMD9BAj0iqJzcunSJdEn651T8eLFpXnz5s5V5BFAAAEjMGbMGDlx4oQpa0YDwLJly2aro4AAAggggAACvicwYcIE2bJli63jfXr3kYyZCAq3oVBAAAFLYN++fTJ16lSbRt68eWXgwIG2OgoIIIAAAggggAACCCCAAAIIIIAAAggg4F4CBHpFwfk4c+aMdOnSxXbkUqVKSZMmTWx1FBBAAIHAAuPGjZOAgABbtU7tyEgdNhIKCCCAAAII+JTAqFGjZPfu3bY+Dxo0SF577TVbHQUEEEDAWeD48eOiowQ7p7feekuGDh3qXEUeAQQQQAABBBBAAAEEEEAAAQQQQAABBNxIgECvSD4ZR44ckQEDBtiOWqZMGWnUqJGtjgICCCAQnMCkSZPk8OHDtsWDBw+W3Llz2+ooIIAAAggggID3C/Tv319+/vlnW0c18CtZsmS2OgoIIIBAUALnzp1zCezSh0j0YRISAggggAACCCCAAAIIIIAAAggggAACCLifAIFekXhOzp8/Lx07drQd8Z133pF69erZ6igggAACIQnMnDlT/P39bavNmjVLXnnlFVsdBQQQQAABBBDwXoFhw4bJ/v37bR38/PPPJWHChLY6CggggMCzBG7cuCGffPKJbZXixYtLjx49bHUUEEAAAQQQQAABBBBAAAEEEEAAAQQQQCDqBQj0iqRz8PDhQ6lfv77taO+++6689957tjoKCCCAQGgFFi9eLBs3brSt/v3339vKFBBAAAEEEEDAOwW++uorWb9+va1zWhczZkxbHQUEEEAgNAIPHjyQDh062FZt3Lix1KlTx1ZHAQEEEEAAAQQQQAABBBBAAAEEEEAAAQSiVoBAr0jy1wuk9+7dM0crVaqUNGnSxJTJIIAAAi8iMH/+fNm6davZ9PXXX5eJEyeaMhkEEEAAAQQQ8D6BJUuWyIIFC2wd+/LLLyVWrFi2OgoIIIDA8wg8fvxY2rRpY9tEp4fNnz+/rY4CAggggAACCCCAAAIIIIAAAggggAACCESdAIFekWCvT8VeuHDBHClr1qzSs2dPUyaDAAIIhEVg0qRJcvjwYbMLplkxFGQQQAABBBDwOoEtW7bIhAkTbP3q27evZMiQwVZHAQEEEHgRgatXr4p+pjgnnRKWzxhnEfIIIIAAAggggAACCCCAAAIIIIAAAghEnQCBXhFsP2DAADly5Ig5SrJkyWTUqFGmTAYBBBAID4Fhw4bJ2bNnza6YZsVQkEEAAQQQQMBrBPR7hX6/cE7NmjWTEiVKOFeRRwABBMIkcPz4cfnss89s+5g9e7YkTpzYVkcBAQQQQAABBBBAAAEEEEAAAQQQQAABBCJfgECvCDTXp163b99ujhA3blymVDMaZBBAILwFunXrJnfu3DG77dixo5QtW9aUySCAAAIIIICA5wpcvnxZ9Hf7o0ePTCcqVqwodevWNWUyCCCAQHgJ7Ny5UzS4y5GYIt4hwSsCCCCAAAIIIIAAAggggAACCCCAAAJRK0CgVwT5z5kzR7777jvb3ocPHy4pU6a01VFAAAEEwkvgzu070q17N9vuBg4cKHnz5rXVUUAAAQQQQAABzxLQ4K527drJtWvXTMPz5csnH3/8sSmTQQABBMJbwM/PT/SfIzFFvEOCVwQQQAABBBBAAAEEEEAAAQQQQAABBKJOgECvCLBftXKVzPh6hm3PehNGb8aQEEAAgYgU0OkbdRpH56SjC2bIkMG5ijwCCCCAAAIIeJBAr1695MSJE6bF2bJlkx49epgyGQQQQCCiBHRULx3dy5Fq1KghzZs3dxR5RQABBBBAAAEEEEAAAQQQQAABBBBAAIFIFiDQK5zB/f39ZfTo0ba91qpVS6pUqWKro4AAAghElMDBgwflyy+/NLvXaVaGDh0qiRMnNnVkEEAAAQQQQMAzBEaNGiW7d+82jX3ttddk0KBBpkwGAQQQiGgBfXDk2LFj5jBNmzYVvc5BQgABBBBAAAEEEEAAAQQQQAABBBBAAIHIFyDQKxzN9Sn7ESNGyJ07d8xe33nnHalXr54pk0EAAQQiQ2Dz5s2ycOFCcygdUXDAgAGmTAYBBBBAAAEE3F9g2rRpsmbNGtPQV155Rfr37y+JEiUydWQQQACBiBZ48OCBaNDpxYsXzaE6duwoZcuWNWUyCCCAAAIIIIAAAggggAACCCCAAAIIIBA5AgR6hZPzjRs3rOnSdNo0RypWrJi0aNHCUeQVAQQQiFSB5cuXy9q1a80xS5cuLZ07dzZlMggggAACCCDgvgLLli2TefPmmQbGihVLOnToINmzZzd1ZBBAAIHIEtAgr08//VTu379vDjlw4EDJmzevKZNBAAEEEEAAAQQQQAABBBBAAAEEEEAAgYgXINArnIwHDx4shw4dMnvLnTu3dSPGVJBBAAEEokBgxowZtumeatSoIc2bN4+ClnBIBBBAAAEEEAitwJYtW2TChAm21Vu1aiWFCxe21VFAAAEEIlNAp2/UaRwdKXny5NKnTx/JkCGDo4pXBBBAAAEEEEAAAQQQQAABBBBAAAEEEIhgAQK9wgF41qxZsmLFCrOnzJkzS/fu3SVGjBimjgwCCCAQFQJPnjyRL774QgICAszhu3TpIm+//bYpk0EAAQQQQAAB9xG4cOGCNd3yrVu3TKMaNGgg5cqVM2UyCCCAQFQJ7NixQ+bMmWMOnydPHhk0aJApk0EAAQQQQAABBBBAAAEEEEAAAQQQQACBiBUg0CuMvv7+/jJ69Gizl1dffdUayStFihSmjgwCCCAQlQI6tez48ePl8uXLVjP082no0KGSMmXKqGwWx0YAAQQQQACBIASGDx8u+/btM0uqVasmOiInCQEEEHAXAT8/P9F/jlSvbj1p2Kiho8grAggggAACCCCAAAIIIIAAAggggAACCESgAIFeYcC9ffu29OvXT37//Xezl3bt2knevHlNmQwCCCDgDgI6tezkyZNNU4oXLy49evQwZTIIIIAAAgggEPUCS5culfnz55uG6PcK/X5BQgABBNxNQL9b6HcMR+rfv7/kz5/fUeQVAQQQQAABBBBAAAEEEEAAAQQQQAABBCJIgECvMMDqdGjbtm0ze6hUqZLUqVPHlMkggAAC7iSwbNkyWbdunWlS8+bNGSHEaJBBAAEEEEAgagWOHDkiQ4YMkcePH1sNSZw4sTUdfKpUqaK2YRwdAQQQCELgypUrMnbsWNEH4DRlyJBBdETCePHiBbE2VQgggAACCCCAAAIIIIAAAggggAACCCAQXgIEer2g5Nq1a2Xq1Klm66xZs0rPnj1NmQwCCCDgjgI61ezJkyetpsWJE0cGDx4s2bJlc8em0iYEEEAAAQR8RuDRo0fWSMEnTpwwfW7atKmULFnSlMkggAAC7iawY8cOmTNnjmnWO++8Ix9//LEpk0EAAQQQQAABBBBAAAEEEEAAAQQQQACB8Bcg0OsFTM+cOSMDBgyQu3fvWlvHjBlTunbtKlmyZHmBvbEJAgggEHkCp06dks8++0z0hrKmnDlzyrBhwyKvARwJAQQQQAABBFwEZsyYIatWrTL1JUqUkGbNmpkyGQQQQMBdBWbPni07d+40zWvfvr2UL1/elMkggAACCCCAAAIIIIAAAggggAACCCCAQPgKEOj1Ap46pcrBgwfNlu+99568++67pkwGAQQQcGcBHZFw+fLlpom1atUSHTWEhAACCCCAAAKRL6Aj4owbN84cOE2aNNKjRw9JkCCBqSODAAIIuKvAvXv3ZMyYMXLx4kWriUmTJpWhQ4dK6tSp3bXJtAsBBBBAAAEEEEAAAQQQQAABBBBAAAGPFiDQ6zlP36JFi0T/OVLevHmlXbt2jiKvCCCAgEcITJ48WQ4dOmTa+sknn0iRIkVMmQwCCCCAAAIIRLzA9evXpX///nLlyhVzMP1uod8xSAgggICnCOj3Cv1+4UiFCxeW3r17O4q8IoAAAggggAACCCCAAAIIIIAAAggggEA4ChDo9RyYevFy8ODBZovEiRNL9+7dJVWqVKaODAIIIOAJAnpDeezYsXL79m2ruWnTprWevH/55Zc9ofm0EQEEEEAAAa8Q0N/FzlOeVapUSerUqeMVfaMTCCDgWwLLli2TdevWmU5/8MEHoqOfkxBAAAEEEEAAAQQQQAABBBBAAAEEEEAgfAUI9Aql58OHD6Vv375y+vRps4VOdVayZElTJoMAAgh4koBOFTVnzhzT5LJly0rHjh1NmQwCCCCAAAIIRJyAn5+fzJw50xwga9as0rNnT1MmgwACCHiawOjRo+XkyZNWs2PEiGE9KJcjRw5P6wbtRQABBBBAAAEEEEAAAQQQQAABBBBAwK0FCPQK5emZMmWK7enUEiVKSLNmzUK5NashgAAC7ikwe/Zs20gibdu2lYoVK7pnY2kVAggggAACXiJw6tQpGThwoNy/f9/qUcyYMaVr166SJUsWL+kh3UAAAV8U0M+2zz77TB49emR1P3v27DJ8+HCJFi2aL3LQZwQQQAABBBBAAAEEEEAAAQQQQAABBCJEgECvULBu2bJFJkyYYNZMkyaN9OjRQxIkSGDqyCCAAAKeKHDv3j0ZM2aMXLx40Wq+Tt04ZMgQSZcunSd2hzYjgAACCCDgEQIDBgyQI0eOmLbq9GbvvvuuKZNBAAEEPFVg7dq1snz5ctP86tWrS4sWLUyZDAIIIIAAAggggAACCCCAAAIIIIAAAgiETYBArxD8rl+/Ln369BF9daR27dpJ3rx5HUVeEUAAAY8WOHTokEyePNn0IX/+/NK/f39TJoMAAggggAAC4SfwzTff2IIg9HuFfr8gIYAAAt4ioN8t9DuGI+m0tMWKFXMUeUUAAQQQQAABBBBAAAEEEEAAAQQQQACBMAgQ6BUC3owZM2TVqlVmrUqVKkmdOnVMmQwCCCDgDQLLli2zTU/bvn17KV++vDd0jT4ggAACCCDgNgIXLlyQXr16mSkbEydOLN27d5dUqVK5TRtpCAIIIBBWgStXrsjYsWPl9u3b1q7eeOMNGTVqVFh3y/YIIIAAAggggAACCCCAAAIIIIAAAggg8P8CBHo9421w6tQp6d27tzx+/NhaK3369NKvX79nbMEiBBBAwHMFhg0bJmfPnrU6oFM36pSOsWLF8twO0XIEEEAAAQTcTEBHudm4caNpVePGjaV06dKmTAYBBBDwFoFt27bJvHnzTHeaN28uNWrUMGUyCCCAAAIIIIAAAggggAACCCCAAAIIIPBiAgR6PcNNn0DduXOnWaNVq1ZSuHBhUyaDAAIIeJPAnj17ZPr06aZL9evXF/1HQgABBBBAAIGwCxw5ckQGDBhgdqQj3OhoXiQEEEDAWwX0msovv/xidS958uQyevRoeeWVV7y1u/QLAQQQQAABBBBAAAEEEEAAAQQQQACBSBEg0CsY5n379snw4cPN0ty5c0uHDh1MmQwCCCDgjQITJ06Un376yepaggQJrClWXnvtNW/sKn1CAAEEEEAgUgX0u4V+x3AknSY5T548jiKvCCCAgNcJHD58WCZNmmT6Va1aNfnwww9NmQwCCCCAAAIIIIAAAggggAACCCCAAAIIPL8AgV7BmOnT9vrUvSP16NFDsmXL5ijyigACCHilwIkTJ6wpGx2dK1u2rHTs2NFR5BUBBBBAAAEEXkBgx44dMm7cOLOljhKsowWTEEAAAW8X0BGDdeRgTdGjR5cRI0ZwbcXbTzr9QwABBBBAAAEEEEAAAQQQQAABBBCIUAECvYLg3bhxo0yePNksefvtt+WDDz4wZTIIIICANwt88803sn37dtNFDXzNly+fKZNBAAEEEEAAgecT6NWrl2gwtaYYMWJInz59JG3atM+3E9ZGAAEEPFDg/PnzVnDX48ePrdYXLVpU9DORhAACCCCAAAIIIIAAAggggAACCCCAAAIvJkCgVyC3R48eSffu3eXcuXPWEp26TG/EpEiRItCaFBFAAAHvFLh27Zp1M+bevXtWB3Xq2sGDB3tnZ+kVAggggAACESzg5+cnM2fONEepWLGi1K1b15TJIIAAAt4usHTpUlm/fr3ppl5zKVGihCmTQQABBBBAAAEEEEAAAQQQQAABBBBAAIHQCxDoFchKL0DOnz/f1NaoUUOqVatmymQQQAABXxBYuXKlrFixwnS1bdu2ojemSQgggAACCCAQeoG7d++KTgF/5coVa6NkyZJJ3759JWHChKHfCWsigAACHi6gn4XDhw+XGzduWD3JmjWrjB492sN7RfMRQAABBBBAAAEEEEAAAQQQQAABBBCIGgECvZzcr1+/Lj179pRbt25ZtWnSpJH+/ftb06s4rUYWAQQQ8HoBnVpl6NChcvHiRauvr732mowZM0bixo3r9X2ngwgggAACCISXgE6HvHz5crO7+vXrS/ny5U2ZDAIIIOArAps2bZJFixaZ7jZt2lRq1aplymQQQAABBBBAAAEEEEAAAQQQQAABBBBAIHQCBHo5Oc2YMUNWrVplavTCY8mSJU2ZDAIIIOBLAjt27JA5c+aYLtepU0caN25symQQQAABBBBAIHiBCxcuSK9eveT+/fvWSpkyZZLevXsHvwFLEEAAAS8XGDlypJw+fdrqZdKkSeXTTz8VHemQhAACCCCAAAIIIIAAAggggAACCCCAAAKhFyDQ679Wp06dsm686Cg2mnLkyCFdunT571JeEEAAAd8U+Pzzz+XYsWNW53U0r1GjRkm6dOl8E4NeI4AAAggg8BwCkydPlo0bN5ot2rRpIwUKFDBlMggggICvCezfv1+mTJliul2lShVp1aqVKZNBAAEEEEAAAQQQQAABBBBAAAEEEEAAgZAFCPT6r9HYsWNl586dRkyDvDTYi4QAAgj4soAGeWmwlyOVLl1aOnfu7CjyigACCCCAAAJBCBw5ckQGDBhgluTLl08+/vhjUyaDAAII+KrAl19+KQcPHrS6/9JLL8mIESMke/bsvspBvxFAAAEEEEAAAQQQQAABBBBAAAEEEHhuAQK9/p9s3759Mnz4cINXrFgxadGihSmTQQABBHxZYObMmeLv728I+vXrx4gkRoMMAggggAACrgL63UK/Y2jSQAadwjFz5syuK1KDAAII+JjAr7/+ak3Z+O+//1o9L1y4MNPa+th7gO4igAACCCCAAAIIIIAAAggggAACCIRNgECv//dzvhETJ04c6yJjmjRpwibL1ggggICXCFy8eFFGjhwpDx8+tHpUsGBB6du3r5f0jm4ggAACCCAQvgI6Us2QIUPMTsuWLSsNGzY0ZTIIIICArwssWLBAtmzZYhh0BEQd+ZCEAAIIIIAAAggggAACCCCAAAIIIDX6n0oAAEAASURBVIAAAiEL+Hyg18mTJ6Vnz55GqnLlylK7dm1TJoMAAgggIPLtt9/KmjVrDMXo0aMla9aspkwGAQQQQAABBP4joFMeb9++3SokSJDAmsIxSZIk8CCAAAII/Ffg5s2bVkDsvXv3rJq3335bunTpgg8CCCCAAAIIIIAAAggggAACCCCAAAIIhELA5wO9pk+fLqtXr7aookePLgMHDpTUqVOHgo5VEEAAAd8RuHTpkgwePFiePHlidbpKlSrSqlUr3wGgpwgggAACCIRCQH9fdurUSR49emStXbp0aWncuHEotmQVBBBAwLcE5s2bJ9u2bbM6HTNmTBk/fjzXYnzrLUBvEUAAAQQQQAABBBBAAAEEEEAAAQReUMCnA73+/PNP6dixo9y+fdviK1SokLRu3foFKdkMAQQQ8G6BadOmyd69e61OJk6cWCZMmCCJEiXy7k7TOwQQQAABBJ5DYMH8BbJk6RKzxSeffCKZM2c2ZTIIIIAAAv8R+PXXX2XUqFGGo17detKwEdPcGhAyCCCAAAIIIIAAAggggAACCCCAAAIIBCPg04FeK1askFmzZhmaDh06SO7cuU2ZDAIIIIDA/wR++uknmThxoqlo3ry51KhRw5TJIIAAAggg4MsCT58+lfbt24uO6qUpZ86c0rlzZ18moe8IIIDAMwW++OILOXr0qLWOjqw+adIkiRYt2jO3YSECCCCAAAIIIIAAAggggAACCCCAAAK+LuDTgV49evSQU6dOWe+BTJkySe/evX39/UD/EUAAgWcKjBw5Uk6fPm2tkyVLFhkzZswz12chAggggAACviKwadMmK0jB0d8WLVpIsWLFHEVeEUAAAQQCCfj7+8vMmTNNrQbLli9f3pTJIIAAAggggAACCCCAAAIIIIAAAggggICrgM8Geu3evds2TUD9+vW5oOj6/qAGAQQQsAnoTexFixaZOp2SqkiRIqZMBgEEEEAAAV8VGDhwoOjol5peffVVGTp0qK9S0G8EEEAg1AL9+/eXy5cvW+vrCOuDBw8O9basiAACCCCAAAIIIIAAAggggAACCCCAgC8K+Gyg1+jRo0WfHtX08ssvy5AhQyR+/Pi++B6gzwgggECoBf766y8ZMGCA3Llzx9pGRyrp2bNnqLdnRQQQQAABBLxRQKce69evn+la9erVRf+REEAAAQSeLeDn5yf6z5GGDRtmTX3rKPOKAAIIIIAAAggggAACCCCAAAIIIIAAAnYBnwz0Onv2rHTp0kX+/fdfS6NcuXLSoEEDuwwlBBBAAIEgBRYuXCibN2+2lr300kvy+eefS/r06YNcl0oEEEAAAQR8QWDy5MmyceNGq6sxY8a0HiJJnjy5L3SdPiKAAAJhErh+/br1IMmjR4+s/VSoUEHatWsXpn2yMQIIIIAAAggggAACCCCAAAIIIIAAAt4s4JOBXrNnz5bvv//enFd9+p4gBcNBBgEEEHimgAbL6pP2jlSzZk1p1qyZo8grAggggAACPiWgQQqdOnWS+/fvW/0uWrSofPjhhz5lQGcRQACBsAh8/fXXsmvXLmsX8eLFk/HjxwvBsmERZVsEEEAAAQQQQAABBBBAAAEEEEAAAW8W8LlArwcPHkiHDh3kxo0b1nnNkyePtG/f3pvPMX1DAAEEwl1g0qRJcvjwYWu/yZIlk4kTJ0rcuHHD/TjsEAEEEEAAAXcXWLp0qcyfP980U0cOzpEjhymTQQABBBB4tsCxY8esUYIdazVq1Ejq1q3rKPKKAAIIIIAAAggggAACCCCAAAIIIIAAAk4CPhfotWbNGpk2bZohaN26tRQqVMiUySCAAAIIhCywd+9el8/SypUrh7whayCAAAIIIOBlAjqa17lz56xeZc2aVXr27OllPaQ7CCCAQMQLjB49Wk6ePGkdKF26dNaoXhF/VI6AAAIIIIAAAggggAACCCCAAAIIIICA5wn4XKBX7969JSAgwDpTr732mgwaNMjzzhotRgABBNxAQD8/f//9d6sl2bNnl5EjR7pBq2gCAggggAACkSfwww8/yGeffWYO2LhxYyldurQpk0EAAQQQCJ3Atm3bZN68eWblrl27SqlSpUyZDAIIIIAAAggggAACCCCAAAIIIIAAAgj8R8CnAr0OHDggQ4cONee+Vq1aUqVKFVMmgwACCCAQeoHVq1fLd999Zzbo37+/5M+f35TJIIAAAggg4O0Cw4YNk/3791vdTJIkiWg5VqxY3t5t+ocAAgiEu8A///wj/fr1k5s3b1r7LlCggFUO9wOxQwQQQAABBBBAAAEEEEAAAQQQQAABBDxcwKcCvfRpe33qXlPcuHFl8ODBojdkSAgggAACzy+gN2EGDhwoDx48sDbWJ+71yXsSAggggAACviBw4sQJ6dWrl+lqxYoVpW7duqZMBgEEEEDg+QSWLl0q69evNxt9+umnki1bNlMmgwACCCCAAAIIIIAAAggggAACCCCAAAIiPhPo9fDhQ2nVqpXcvXvXOu8lS5aUpk2b8h5AAAEEEAiDwJw5c2THjh3WHhIlSiTTp0+X2LFjh2GPbIoAAggggIBnCCxatEj0nyNp8PPrr7/uKPKKAAIIIPCcAhcuXLAeyHNsVr9+fdF/JAQQQAABBBBAAAEEEEAAAQQQQAABBBD4n4DPBHr5+/vL6NGjTc8//vhjyZcvnymTQQABBBB4fgGdEverr74yG37yySdSpEgRUyaDAAIIIICAtwr06dNHjh8/bnXvjTfekO7du3trV+kXAgggEGkCOorXqVOnrOPlzJnTmhI30g7OgRBAAAEEEEAAAQQQQAABBBBAAAEEEPAAAZ8J9JoyZYqsW7fOOiXx4sWzgr7ixInjAaeIJiKAAALuK6DTNvbs2dNM31ilShVr9ET3bTEtQwABBBBAIOwCly9flrZt25od1apVS/R3IAkBBBBAIGwC3333naxevdraSbRo0WTatGmSLFmysO2UrRFAAAEEEEAAAQQQQAABBBBAAAEEEPAiAZ8J9NIRvC5dumSdOh3JS8skBBBAAIGwC0yYMEGOHDli7ShdunQyfvz4sO+UPSCAAAIIIODGAmvXrpWpU6eaFg4YMEDSpk1rymQQQAABBF5M4JdffpGxY8eajdu1aycVKlQwZTIIIIAAAggggAACCCCAAAIIIIAAAgj4uoBPBHoFBARI7969zblu1KiRlClTxpTJIIAAAgi8uMCG9RtkydIlZgdffPGFpE+f3pTJIIAAAggg4G0COrXYrl27rG7p77x+/fp5WxfpDwIIIBBlAr169ZI//vjDOn7JkiWlW7duUdYWDowAAggggAACCCCAAAIIIIAAAggggIC7CfhEoNeiRYtE/znSiBEjJEWKFI4irwgggAACYRC4ePGiDBw40Ozhgw8+kPfee8+UySCAAAIIIOBNAg8fPpQmTZrIP//8Y3WrcuXKUrt2bW/qIn1BAAEEolRgxowZsnv3bqsNSZMmla+//jpK28PBEUAAAQQQQAABBBBAAAEEEEAAAQQQcCcBnwj06tmzp5w8edJyz5Ahg/Tt29edzgFtQQABBDxeYPDgwXLhwgWrH3nz5rUFfnl85+gAAggggAACTgL+/v4yevRoU6PfNbJmzWrKZBBAAAEEwiawc+dOmT17ttnJsGHDJGfOnKZMBgEEEEAAAQQQQAABBBBAAAEEEEAAAV8W8PpAr8uXL0vbtm3NOa5atarUrFnTlMkggAACCIRdYMGCBbJlyxZrR7FixZKFCxdK9OjRw75j9oAAAggggICbCXz55ZeyYcMGq1U60oxO40hCAAEEEAg/gfv370vnzp3l6dOn1k71Gk6zZs3C7wDsCQEEEEAAAQQQQAABBBBAAAEEEEAAAQ8W8PpAr7Vr18rUqVPNKeKJe0NBBgEEEAg3gWPHjsnnn39u9terVy8pWrSoKZNBAAEEEEDAWwRatGghN2/etLpTpkwZadSokbd0jX4ggAACbiMwZswYOXHihNWezJkzy9ixY92mbTQEAQQQQAABBBBAAAEEEEAAAQQQQACBqBTw+kAvnU7s0KFDlnHChAltgQhRCc+xEUAAAW8T6NSpk/z1119WtypUqCDt2rXzti7SHwQQQAABHxcICAiQ3r17G4WOHTtKrly5TJkMAggggED4CKxatUq+//57szOdyjFx4sSmTAYBBBBAAAEEEEAAAQQQQAABBBBAAAFfFfDqQK+HDx9K/fr1zbktUqSItGzZ0pTJIIAAAgiEn8DkyZNNYG2qVKlkypQp4bdz9oQAAggggIAbCMydO1e+/fZbqyWxY8cW/d1HQgABBBAIf4Hff/9dBg0aZHasD5HowyQkBBBAAAEEEEAAAQQQQAABBBBAAAEEfF3AqwO9du7caRvev3Xr1lKoUCFfP+f0HwEEEIgQgR07dsicOXPMvidOnCivv/66KZNBAAEEEEDA0wU6dOggFy5csLpRoEABadOmjad3ifYjgAACbiugIyhev37dap9OC6/Tw5MQQAABBBBAAAEEEEAAAQQQQAABBBDwdQGvDvQaN26caOCBI02YMEHixYvnKPKKAAIIIBCOAjpto07f6EhNmzaVWrVqOYq8IoAAAggg4NECly9flrZt25o+tPywpRQpWsSUySCAAAIIhK/AN998I9u3b7d2Gj9+fJk/f374HoC9IYAAAggggAACCCCAAAIIIIAAAggg4IECXh3o1aBBA3nw4IF1WjJnziyffPKJB54imowAAgh4jsDw4cPlzJkzVoNz5colQ4YM8ZzG01IEEEAAAQSeIaBTNurUjY40adIkiRMnjqPIKwIIIIBAOAscOXJE9IE9Rxo5cqRkz57dUeQVAQQQQAABBBBAAAEEEEAAAQQQQAABnxTw2kCvw4cPy6BBg8xJrVmzplStWtWUySCAAAIIhL+An5+f6D9H+v777x1ZXhFAAAEEEPBoAZ1CLCAgwOpDtmzZpEePHh7dHxqPAAIIeIKATpH7+PFjq6nvvfeefPDBB57QbNqIAAIIIIAAAggggAACCCCAAAIIIIBAhAl4baDXqpWrZMbXMwxc3759JUOGDKZMBgEEEEAg/AV0NC8d1cuRPv/8cz57HRi8IoAAAgh4tECTJk3kzz//tPqgUxNXqVLFo/tD4xFAAAFPENDvE8eOHbOaWrBgQdFrOyQEEEAAAQQQQAABBBBAAAEEEEAAAQR8WcBrA72++uorWb9+vTm3U6dOlejRo5syGQQQQACB8Bd48uSJfPTRR2bHHTp0kHLlypkyGQQQQAABBDxRQAO8NNDLkdq3by958uRxFHlFAAEEEIgggaVLl5prOylTphS9tkNCAAEEEEAAAQQQQAABBBBAAAEEEEDAlwW8NtBLn/J0PPWpFwOdR5jx5RNO3xFAAIGIFtDP36tXr1qHqV69urRo0SKiD8n+EUAAAQQQiFCBo0ePSr9+/cwxRo4cKcmTJzdlMggggAACESOwZ88emT59utn5kiVLJFasWKZMBgEEEEAAAQQQQAABBBBAAAEEEEAAAV8T8NpAr2bNmsnt27et85k/f35p27atr51b+osAAghEiYCOqHjgwAHr2Llz55bBgwdHSTs4KAIIIIAAAuElsGbNGpk2bZq1u5gxY4r+riMhgAACCES8wKVLl2TAgAHmQKNGjZI33njDlMkggAACCCCAAAIIIIAAAggggAACCCDgawJeGeh1//59adiwoTmXNWrUkGrVqpkyGQQQQACBiBNYuXKlrFixwjpAkiRJZObMmRF3MPaMAAIIIIBAJAhokJcGe2lKmzatLeggEg7PIRBAAAGfFmjTpo08fvzYMtB8pUqVfNqDziOAAAIIIIAAAggggAACCCCAAAII+LaAVwZ6BQQESO/evc2Zbd++veTJk8eUySCAAAIIRJzA4cOHZdKkSeYA33zzjSRMmNCUySCAAAIIIOBpAjqazJEjR6xmFy5cWFq1auVpXaC9CCCAgMcKDB06VM6dO2e1X4O8NNiLhAACCCCAAAIIIIAAAggggAACCCCAgK8KeGWg1/r1623TqYwePVp0VBkSAggggEDEC9y8eVN69uxpDjRkyBDJlSuXKZNBAAEEEEDA0wQ+/PBD+eOPP6xm16pVS6pUqeJpXaC9CCCAgMcK6AjB/v7+VvvffPNNGTFihMf2hYYjgAACCCCAAAIIIIAAAggggAACCCAQVgGvDPSaMWOGrFq1yrKJHz++jB8/PqxObI8AAggg8BwCnTp1kr/++svaonnz5qJT6JIQQAABBBDwRIGHDx9K/fr1TdMZLdhQkEEAAQQiRWDjxo2yePFi61gJEiSQefPmRcpxOQgCCCCAAAIIIIAAAggggAACCCCAAALuKOCVgV6DBw+WQ4cOWd5Zs2a1jSzjjieBNiGAAALeJqAjKZ48edLqVtmyZaVjx47e1kX6gwACCCDgIwL6+8x5pMqRI0dK8uTJfaT3dBMBBBCIeoETJ07ImDFjTEN0hC9GbTccZBBAAAEEEEAAAQQQQAABBBBAAAEEfEzAKwO9WrduLdeuXbNOZZkyZaRRo0Y+dlrprkNg7ty5Mm7cOEfxuV+jR48usWLFktixY1uvcePGldSpU0vGjBmtf8WKFbPKz73jEDb47fRvUqt2LZe1MmfOLMuXL3epv3XrlpQrV06ePHnisqx///5Sp04dl/qIqliyZIkMHz7cZfdFixaVKVOmuNRT4Z0C8+fPl61bt1qd0/ft2LFjvbOj9AoBBBBAwOsFNm3aJJMmTbL6GTNmTNsU8V7feTro0QIaGBPcyEfTpk2TwoULe3T/aLzvCDx48EA6dOhgOtyvXz8pUKCAKZNBAAEEEEAAAQQQQAABBBBAAAEEEEDAlwS8LtDr0aNHUrduXXMOmzZtKiVLljRlMr4l8NVXX8mAAQMirNPRokWzLjDXqlVLateuHW5PFesTyyVKlHBpd44cOWTbtm0u9VqhUwpt3rzZZZm+/7/99luX+oiqqFatmuzevdtl93ozSZ1IviGwY8cOmTNnjtVZDZR0TLXiG72nlwgggAAC3iQwa9YsWbFihdWltGnTRujflt7kRl+iVuDp06eSP39++f3334NsiE6rPWPGjCCXUYmAOwroyIo3b960mta4ceNIfZjJHT1oEwIIIIAAAggggAACCCCAAAIIIICA7wp4XaDX6V9PS7fu3cwZ1dGM0qVLZ8pkfEsgogO9nDUTJEggXbp0sZ40fumll5wXPXf+RQK9Vq5cKS1atHA5lo48cfjwYUmRIoXLsvCuuHDhghX4pjeWnFPKlCmtNsSIEcO5mrwXC5w7d06GDh1qeqijuaVKlcqUySCAAAIIIOApAvr77MCBA1ZzdQSkVq1aeUrTaacPC2zcuFEaNmwYrEC8ePHk4MGDkjRp0mDXYQEC7iQwYcIEOXLkiNUkfZipW7f/Xfdxp3bSFgQQQAABBBBAAAEEEEAAAQQQQMBdBL788ks5fvy46Ix4uXLlcpdm0Y5wEPC6QK8tW7aIXgB0pOnTp0tYg24c++LV8wQiM9DLoZMnTx6ZOHGivPHGG46q5359kUAvnbYxd+7ccvXqVZfjDRw4UNq3b+9SH94Vo0aNCnKqTL0hOmLEiPA+HPtzY4F///3XdiNcn8DXqU5JCCCAAAIIeJpAmzZt5MqVK1azdXTSKlWqeFoXaK8PCjRp0kTWrl37zJ737t1bunbt+sx1WIiAuwjoKNVr1qyxmqMP840fP95dmkY7EEAAAQQQQAABBBBAAAEEEEAAAbcS0MGRmrdoLjoDkyYdjOX06dOiM1aQvEPA6wK95s6da6apS506tQwZMsQ7zhS9eCGBqAj00oYmTpxYli5dKhr09SLpRQK99Dj9+vWTqVOnuhxSI3SDmtbRZcUwVhQqVEjOnDlj24sGWu7cuVOyZs1qq6fg/QI6beqlS5esjr7//vvSoEED7+80PUQAAQQQ8CoBDVx2nnpaA+df9O87r4KhM24toNPb6fv0wYMHpp065XzgUXfTp08ve/fu5cEoo0TGnQX27dtnvutGjx5dli9f7s7NpW0IIIAAAggggAACCCCAAAIIIIBApAvo9ezRo0fLyJEj5c6dO7bj/3rqV8mUOZOtjoLnCnhdoJeOGqQXqzUVLFhQPvroI889O7Q8zALBBXoVLVpUKlWqFOL+//77b/nrr7/k3r171j/9QPzll1/k7NmzIW6r0xX6rfCTjJkyhrhu4BVeNNDr5MmTUqJECdEP8cDJ399fsmTJErg63Mp79uyRqlWruuxPfw4dT167LKTCqwU06FBvyGjSqa501AgSAggggAACniSgf/N17tzZNFm/ICdPntyUySDgjgKTJ0+WQYMG2ZpWu3Zt8fPzk8ePH9vqFyxYIBUqVLDVUUDAHQWuXbsmffr0MU3TEb10ZC8SAggggAACCCCAAAIIIIAAAggggIDI0aNHpUWLFubebGATAr0Ci3h22esCvbp162YNO6enRYNOatas6dlniNaHSSC4QK+WLVtakawvuvMbN27I9u3bZcyYMeb9FtS+9Cn51atXS4oUKYJaHGzdiwZ66Q4rV64c5Ad4hw4dREdYiqikI1wsXrzYZfeff/65NG7c2KWeCu8X+P7772XVqlVWRzNlyhTktJ7er0APEUAAAQQ8WUADlocPH251QUdEmjZtmid3h7b7iMDbpd6W4wHHbb1dsmSJ9TTf/v37bfXly5eXhQsX2uooIOCuAq1btzYj0/Xt29d6uM9d20q7EEAAAQQQQAABBBBAAAEEEEAAgcgQePTokTXL3WeffSb37983h9TpGp0f+iTQy9B4RcbrAr3atGkjV65csU5OnTp1QjVqk1ecSToRpEBEBXo5DqYfnBrsNWXKFNvUKI7l+po7d27ZuHHjc02JEpZAr2+++Ua6du3q3AQrr0FnjtGVXBaGseLhw4ei00PeunXLtqckSZLITz/9JHHixLHVU/ANgXXr1smyZcuszqZKlcr6OfGNntNLBBBAAAFvEdiyZYtMmDDB6o7+PTNp0iRv6Rr98FKBgwcPSsWKFW29e/nllyUgIEC+/PJLGTZsmG1ZzJgxre8IadKksdVTQMAdBfThIv3uqaljx45StmxZd2wmbUIAAQQQQAABBBBAAAEEEEAAAQQiRUDv/esoXjqalyPFjRtXdNAbnX2sX79+jmoh0MtQeEXG6wK9mjRpIn/++ad1cnQUodKlS3vFiaITLyYQ0YFejlYdP37cGj0ucKCTY7m2QwMPQ5vCEuj14MEDK7gsqLbo6GKFChUKbTNCvd7SpUvl448/dllffwZ1RC+Sbwps27ZN5s2bZ3U+UaJEMnfuXN+EoNcIIIAAAh4rsGrlKpnx9Qyr/RosM27cOI/tCw33DYEuXbqYv78cPS5XrpwsWrRIzp07JwUKFHBUm9eIHvnXHIgMAmEU0BHc79y5Y+2l5YctpWq1qmHcI5sjgAACCCCAAAIIIIAAAggggAACniegD8L17t1bJk+eLDowjSNVqFDBenD5jTfekPHjx0vnzp0diwj0MhLekfG6QC8NpnEMQacX/ooULeIdZ4pevJBAZAV6aeM2rN8gTZs1Ne8/5wbrtHX+/v6iU/6EJoUl0Ev3rzdr9GZO4BRRgVfvvfee/PDDD4EPJ5s2bbKCzlwWUOETArt37TY3x3V4UMfoXj7ReTqJAAIIIOAVAvr3lONvKn0CyjGNo1d0jk54nYBe4NHRhG/evGnrm47i9dFHH1l1OlWjjrjrnF599VU5dOiQRI8e3bmaPAJuJ6DTNV69etVqV/369UX/kRBAAAEEEEAAAQQQQAABBBBAAAFfEyhWrJjs2rXLdDtz5szWLGQ1a9Y0dQR6GQqvzHhVoJde2Ha+0KfD+ufJk8crTxydCp1AZAZ6aYt07tuRI0cG2bixY8dK06ZNg1wWuDKsgV46TGPlypUD71aSJ08uR44cEQ26Ca+kF9rz5s1rixbWfefMmVO2bt0aXodhPx4ocPjwYdsUV3qjnGk8PfBE0mQEEEDAhwVmzJghq1atsgTSpk0rAwYM8GENuu7uAosXLxb9Dhw47d+/X9KlS2dV6/SNAwcODLyKTJs2TWrVquVSTwUC7iQwZMgQOX/+vNWkqlWrWtMQuFP7aAsCCCCAAAIIIIAAAggggAACCCAQGQI6kpdeB3zllVeka9eu0rNnT4kVK5bt0AR62Ti8ruBVgV43btywXejr3r276LB0JN8ViOxAL5XWUeW2b9/ugq43B/Umy0svveSyLHBFWAO9dH+lSpWSgICAwLuWOXPmBBkE5rJiKCuCC27TES9at24dyr2wmjcK/PLLL6IBjo6kN8uTJUvmKPKKAAIIIICA2wvol2FH4HqWLFmkV69ebt9mGui7AjVq1LBGEXYWyJgxo+zZs8dU6XdmHfXrn3/+MXWa0acAV6xYYaujgIC7CXz66ady6tQpq1llypSRTp06uVsTaQ8CCCCAAAIIIIAAAggggAACCCAQ4QL//vuv9OnTRzp27Cg6Wn9QiUCvoFS8p86rAr3Onj1rm2e0X79+kj59eu85W/TkuQWiItDr4MGDUrFixSDbumHDBmv0qyAXOlWGR6DXpEmTZPDgwU57/U+2SpUqMnv2bJf6F60oXry4nDx50rZ5okSJREdzSpgwoa2egm8J6GeyThXkSF988QWfyQ4MXhFAAAEEPEJgxIgRsnfvXqutb731FkEFHnHWfLOR586dk0KFCsnTp09tADqisHPgvS6sV6+eCWB0rKwPo/z444+iAY0kBNxVQC9Q/vzzz1bz9P2uFzRJCCCAAAIIIIAAAggggAACCCCAAAKuAgR6uZp4U41XBXodPXpUNLjLkXREoZQpUzqKvPqgQFQEeilztWrVZPfu3S7ivXv3toZPdFkQqCI8Ar1u3rxpTV364MED294TJEgg+rMSP358W/2LFA4cOCCVKlVy2bR27doydepUl3oqfEtAp/Xs27ev6bQGfemUniQEEEAAAQQ8RUB/jx07dsxqboECBaRNmzae0nTa6WMCQ4cOlQkTJrj0WqfOLleunK1+2bJl0rZtW1udFlq0aCE6YhIJAXcVmDJlijVKtrYvR44cotd8SAgggAACCCCAAAIIIIAAAggggAACrgIEermaeFONVwV67dq1y3ZhetzYcfJy4pe96XzRl+cUiKpAL50Xd9CgQS6tLVGihHz33Xcu9YErwiPQS/epT/CvWbMm8O5Fp1v84IMPXOqft6Jbt24yd+5cl8102hed/oXk2wJ3bt+Rbt27GQSd7qpo0aKmTAYBBBBAAAF3F+jcubPoCJWadBTT5s2bW3n+Q8CdBHSo9vz588uFCxdszUqdOrU1ym7gqeMfPnxoTd+oD4Y4J51i+9ChQxInThznavIIuI3ArFmzrJHntEE6eruOGExCAAEEEEAAAQQQQAABBBBAAAEEEHAVINDL1cSbarwq0GvTpk2i09U5kua5SO3Q8M3XqAr0OnPmjDV1SmB1HU1LpzmMGTNm4EW2cngFeunPRIMGDWz71oLeqPz+++9d6p+n4tGjR9YNouvXr9s20+le/P39bXUUfFNAbyK2b9/edF7z5cuXN2UyCCCAAAIIuLtA69at5dq1a1YzdVSkoP6ucvc+0D7vFwjub34dtWvIkCFBAnTs2FEWLlzosmzcuHHSpEkTl3oqEHAHAX3Pbt682WpKihQpZNq0ae7QLNqAAAIIIIAAAggggAACCCCAAAIIuJ0AgV5ud0rCtUFeFeilgSuzZ8+2gPSp5enTp4crFjvzPIGoCvRSqTfffFMCB0FpvY7opSN7PSuFV6BXcE/3x4gRw3q6PyxTm+qoXS1btnTphk5xpKNfkBBQgVatWom+DzU1a9ZMatasaeX5DwEEEEAAAU8QaNSokfz1119WU6tUqSK1atXyhGbTRh8T0L+xVq9e7dLrH3/8UbJmzepSrxV79+4VfU8HTnny5JGNGzcGrqaMgFsI6Hdpx3s9fvz4Mn/+fLdoF41AAAEEEEAAAQQQQAABBBBAAAEE3E2AQC93OyPh2x6vCvSaN2+eLFu2zBKKHTu26PR5JN8WiMpAr4oVK8rBgwddToB+qDZs2NCl3rkivAK9dJ/Dhw8PckqLfv36SadOnZwP+1x5HdFCRw9wTnHjxrX6rNO+kBBQgXbt2snff/9tYdSpU0caN24MDAIIIIAAAh4joIFdjoDl2rVrS+XKlT2m7TTUNwRu3bolGpx1//59W4fz5s0rGzZssNUFLuhU66dOnQpcbf2Nnzt3bpd6KhCIaoE1a9bIt99+azVDH+7TwC8SAggggAACCCCAAAIIIIAAAggggICrAIFeribeVONVgV46bL9e+NOUKFEi+eyzz7zpXNGXFxCIykCvjz76yFyEdm76gAEDpEOHDs5VLvnwDPS6cOGCNY3k48ePbcfJkSOHbNu2zVYX2sKNGzesG0qOAB7HdpUqVZJvvvnGUeQVAenatav8+eefloTeHNcpsEgIIIAAAgh4goAGzjgH5+voXmXKlPGEptNGHxII7vvOyJEjgxx915lGp2kcNWqUc5WVf//992XSpEku9VQgENUCW7dutY3itWDBAokXL15UN4vjI4AAAggggAACCCCAAAIIIIAAAm4nQKCX252ScG2QVwV6aWDXDz/8YAGlSJFCRowYEa5Y7MzzBIK78aFTDurNj4hMOoWhBh8GTu3bt5eBAwcGrraVwzPQS3eso1Hs3LnTdgwtaF22bNlc6kOq0Bs/gwcPdllNL7RXqFDBpZ4K3xXo06ePXLt2zQIoVaqUFfjluxr0HAEEEEDAkwSuXr0qGrjvSC1atBAdAYmEgDsJlC5dWo4dO2Zrkk5p9/PPP0vChAlt9YEL+h7Xkb8ePXpkW/Tyyy9b07wnSJDAVk8BgagW8Pf3l5kzZ5pmTJ06VVKmTGnKZBBAAAEEEEAAAQQQQAABBBBAAAEE/iNAoJd3vxO8KtBr6NChcuDAAeuMvf766yEG03j3qaV3KhCVgV7BTZmoUx5OmDDhmScovAO9dErTtm3buhxTp9UbNGiQS31IFUHdUEqbNq3s379fdAoNEgIOAQ0I1FHlNOXPn1/69+/vWMQrAggggAACbi1w+tfT0q17N9PGjz/+WPLly2fKZBCIaoHDhw8H+ZBF1apVZdasWaFqnk6tvX37dpd1hwwZEuT3B5cVqUAgEgUOHjwoX375pTniuLHjJFPmTKbsbRn97qRBm5pKlCgh3bt3D7GL+p182LBhZr3Zs2dL4sSJTTm4jF4buHjxorW4WrVq8uGHHwa3qqlfv369dc1FK6JHjy7Lly83y56V0dEyHdPNNmvWTGrWrPms1a1lC+YvkCVLl1j5pEmTytdffx3iNjoCuY5Q6EjdunWTkiVLOorBvk6cOFE2b95sLc+SJYuMGTMm2HUdCy5duiT6d4Ij6YOF2bNndxSDfdXPWn1faypUqJDog1IhpZ9++sl2vVMfMNSHXUNKnTt3lrNnz1qr6Wjsbdq0CWkTy0E9HEmnSw3NNZ+mTZvKnTt3rM10RNS6des6dhHsq1630v1rkHHq1KltfQx2o/9f0Lt3b7NYjxOav9X8/Pxk165d1navvvqqdOzY0ewjuMzt27fl008/NYtbftgyVJ8/8+bNMwHZ+qClvudDSufOnZMpU6aY1fS9myxZMlMOLqPXQM+fP28tLliwoOi04yGlI0eOyMKFC81qoX0oVkcEdZzjcuXKSfny5c0+gsvow6arV6+2FseJEyfU57hfv37y5MkTazvtk/YtpKQzfuzYscNaLXny5KF66PDevXui13IdSc9VaB6OXbRokejPpaZMmTKFOKKqrqefGc4/W506dZJUqVLpomcm/Xk/c+aMtY6+10PzsxUQECBz5841+9WZJuLGjWvKwWXGjh0rf/zxh7VYrwNXrFgxuFVN/cmTJ2XPnj1WOWbMmFK/fn2z7FmZxYsXyz///GOtop+FoXFXc33/atKZXWrUqGHlQ/rPeSYK7ZfeQwop7d6920x3rgHm77zzTkibWD8f+lnjSFWqVJEkSZI4isG+6u8ffX9oypAhg/X7P9iV/7vgypUrsnHjRrOavi/0ZyykpD+PN2/etFbTmT9C8/n522+/yY8//mhtEz1adGnYqGFIh7GWL126VB4+fGjlCxQoEKrfkUePHpVDhw5Z2+iDLKH5TNOVnc+xPnScLl06ax/P+m/vnr1y4uQJaxX9zNDfkyEl/cxwnkZct9FtQ0r63cvxWa1t0zaGlPQhav27y5H0of7QPJSzYcMG66EefQBI30+heb/r7zvH3wt6vDx58jgO+8zX48ePm59j/T0emr9Nrl+/bv7+1M8MfR+GJunP/7///mutqoavvPJKiJvpz5XjYXQdEThr1qwhbqMr6HduR8qcOXOo3PX3+K1bt6zN9CEqtQ8pPXjwQPSeoCPp35GxY8d2FIN91etWd+/dtZbr38ihOcc6+4r+LDtSaM+x/j5xzPCjfz+F5oEbnRno999/tw4VI0YMyZkzp+Owz3zVz/enT59a6+h9x9B8fupnof7TpJ+Bb7zxhpUP6T/nc5wxY0brd0pI2+jPsOPzM2GChKH6m1A/A3/55Reza21faD6rzQZkEHhBAQK9XhDOQzbzqkAv/XKvv2w06S/dTz75xENOA82MKIGoDPT6/PPPgxxVTr8Y64WeZ6XwDvTSp/Rz584t+sezc9I/khzBkc71z8rriAH6RThw6tKlS6guSgbejrJ3C+jFv19//dXqpH5BCe1FQ+9WoXcIIIAAAp4goBd7nAPi9SZbaG7aekLfaKN3COh70vnGnaNXzzPKrgZmBHWzX2+wBTUisOMYvCIQFQJ6vUenHHUk/YwO7Y0Jxzae9BpVgV7Vq1cXHcUypLRu3ToTjPI8gV768JvezNLUvHnzUN2cdw700oCXGTNmhNQ864ayc5BBRAZ66Q0sHb3dkUIb6KUPRjluYhcuXNgWtOTYV+DXwH+fTJ8+PVQ3liMz0KtJkyaiNxE1hTbQS4MA5s+fb22jN0XnzJlj5Z/1n94AdL7xrwFbZcuWfdYm1jINotL3r6b06dPLF198YeWf9V/gkV41SC9XrlzP2sRaprNN7N2718prEIUG2YSU9LPOOYBNA1z1pnlISYNBHddfNPiqQ4cOIW1iBUM5f65q0FJobjpqMKgjCEgDKvXnOqSkARGO86o32fXvldCk9957zwR6aUBlaIJsNBh05cqV1u5fe+21UE1JrcENzoF4+hmsDyyGlEaPHi064qSmt956S/RB9JDSqVOnpEePHmY1fQ/qezGk5Hzv4+233xa9FhtS0iAl56m69Zp0aAJE9O9Dxw1zDSrRAM6QkgYO6WeSplixYsmSJf8J0A1pu3r16pkAEQ2irFqt6v+xdyfwNpXrA8efkCRzSDKmTElmjrmEDBlyZUiZ4kqGMlXmmcgQ6iIVZUzmYyjzkCPkmMKVEy4huoZQrvH/f9a9622vs/c5Zzv2OWcPv/fzqb3ed6291vt+13GGvZ73eeN6i/U78MKFC63jNNhAs3zGVTQwp0WLFuawd955R8LCwkw9pg39jN+eGOHtZ5sa6KEBfHbRrxNvAkv0e4QdwKbZpHv16mWfIsZXDRjW70l20Qkf3gS+6M8tOwBDJ4roCihxFQ0csoPukyVLJvY9iOt9+rPg6tWr1mH6taRfU3EV/X6k/2nRIA/XrK4xvVcDBvXryS7dunXzKpDqo48+MsFyGrDp+n3RPlf019OnTzsmxuj3+8KFC0c/zK3uGuStgau6KkxcRb8mXH9+eJvVVsdvB/ToMylPiQCiX3vDhg2On4v696L+nhdX0d/p7OAmDep3vQ8xvVfPbQfmaTCavR3T8Xa76yQBnazgzQoz+r3JDjbWZ2JxJWLQa2mQkuu/C12lRzNix1X0e65+79Wif6u4fq4U03s1AMj1ebYGA3sTtKXfx+wAsWeffdbxfSema+nPLP2eZBcN+PYmALhdu3bm+aL+bH711VftU8T4qgGv9r9d/f3C/jcd4xv+t0MnpN28edOqaab9WrVqxfUWa7LbkiVLrOM0EE2fDcdV9PdV/b3VLr3f6y1lypaxqzG+6vcIO6BcAxRdA8VjepMGarv+3NYVyjSwjIJAQgsQ6JXQwkl7/qAK9CKjV9J+Mfnj1ZMy0Et/WfT0x73O0ohrpquvA7303ugfhp5m9usvP3ezDJH+whl99qzOuNixY4c89thj/vhlQJ+SUICMXkmIz6URQAABBO5JIHpGL/0A0ZsP9e7porwZAS8F9CGGTuTQD59diz4I1qABffDiTdEJIfqgOvp59L2LFy+WChUqeHMajkEgUQT0a1sfxNkl2DN66YM/e2lWzUSlgUpxFc1IMXzEcHNYfDJ6aVYUfVgXV1m5cqV5sK4z9DUjkzdFg6/srB4aUKaBZXEVffBnf46i2TLsQILY3qfBZK7BJ/EJ9NKH8q4PwmK6nmaxdg2q0Qd83mQR0Ad/dhaBcuXKOR7wxXSt+AZ6acCBBh5o8Taj15o1axwBMvpzwZuiD/4uX/5vdgkNqtCHdXEVDQixA380C51+7cZVNMuTPmi0iwazeZqYaO+3XxMz0Esf/OnnZVq8DfTSrCiu2d30s019YBlX0a/xqKgo6zB96K2/u8ZVNm3aJPqg0S7eBnrpv107k4X+m3YNqrTPFf3VNdBLs/PYgX3Rj4te12A+O6uHt4FeGgwaHh5uncrbQC8NUHD93qdBFd5kOHIN9NLfqVwDbqKPxa5r5ivXAB59AOdN1qH4BHpp9jrXbHTeBnrpg3UNcNSi98D1Qbg9juiv4cvCZdqn/w3EjW+glwYSaParuIoGDdrZlDQbmmsWvJjeGz3QSz/j1u+9cZX4BHppRiT9nmQXzQ6pWSLjKq5B3t4GeukkbtdnEN7+7HcN9PI2m6droNfdBHm7ZvP0NtBLg08025sWb7N5Rg/0is/Pfk0goRnt4iqJmc0zvoFeGlRiZwH09mf/unXrHEFQGsznzd+W8cnm6RrkrZn5PE1iin4fNJOXa6Cg/v6lwc1xFc2IqNketXgb5K1JE/R7kl309zZvJplowL+d3VA/Q9IAsbhK9CDvSZMmif78iqto0LAGD2vRYHdvspTqhC7Xr3Fvf/Zr0Jv9ucHLjV/2KqOfPnu0n0lqMJlrFtHYxuYa5K2Bx95k2dOAMjuTon4uYgelxnYdzU7qGsisWUQ162BcRf3siXGapcw1o3JM743+GaP+bPEm21tM56MdAW8FCPTyViowjwuqQC/9w1T/QNWiqUE1ip4S2gJJGeilP9z1G2j0Urt2bTODLfo+u54QgV4xZeLyZilJu1/6IZo+ULL/0LfbdRaZtx/q2u/hNTQE9MNJOy2yBjnqTCIKAggggAACgSAQPXODPtC6m+D4QBgjfQxcAf1Q3HWZMHsk+iGo64Meuz22V/39zNPsaX3gY8++je397EMgsQR09rnr16S32QwSq3++vo7rUiyayUKzD8RV4rsUi2YRsIOv9IG5N0uIaZCHvfSQPgD0JruR9l+XYrJn6OsDLG+WpNOfyZo5Q4suY+Nthk07iErfpw9SNFNUXMV1iS79bNGb5crU3c4goOfXrAPejMt1iS596OjN0pLRl+jSICpvsjC4LtGlQWjeLH/nukSXjsubzA16nOsSXZoRyZsMJ/qZlb2MpWZ7cg3g0nPGVFx/fqmfOsZVXJfo0uAB/ZwurhJ9iS7NKuXNkkWuS3RpZg5vAtHiu0SXBl/aD2AL5C/gVUYKDf6zP0tXA2/vsQZe2kuw6kNsb5Zi0ofYurysFv137E22Fz1Wg17tQC/9uvDmAax+vdsPYPU+uQbc6Dk9FQ1OdH2WoL/7exOYow+t7QxMery+L66iwaGuD6C1f958PenPvWP/H0CkRf9teRNEqf+2XFeW0IADb7K2aWCSHcynWWK8yaSmP6ftTGoa6KWTP70pGlSnkw+0aLCxN8FXuoydZh7Sov+OvVneWAOAXQPxNHjNm58n+j3N/v6kP0vat29vXTe2/+n3atfnAhqM4k1mPg1StAM29TN4b4Io9TmCa3Cs/pvxJmubPkuzV//Q75/efC/UwFU7i5cGenkT3KBOrtk8NXOea0ammBxds3l6G+gVfdlm/brQ5a/jKom5bLNrNs/EXLZZfzfRAM64iv5u4rq0rAZUJtSyza6BXt5m84xvoJd+/9Sfk1r0dwVvsnnqz2PXf+967/TfZVwlMbN5ugZ6eZvNM3qglwZUerNMpGs2T28DvXSSgP39Kb7ZPDUTnTe/j7tm89SEFK4ThGK6Z9GzeXob6KU/I+1lbL3N5hk90MvbbJ4x9Z12BLwVINDLW6nAPC6oAr1cf1jrLwbepFgNzNtGr70VSMpAL/0ly/4lxrW/+gea6y/Lrvvs7YQI9NJzP//886JrmLsW/fBx3759ojNw4yr6y7CnGVz6R6j+IU5BILqAzpzSmRFavP2DMvo5qCOAAAIIIJAUAtFnfOtyE/qQg4KAPwjoLGb7AaZrf7RNl128m6IPrjx9cKqBA7rPm2CFu7kexyIQX4H169c7MsB4m5UkvtfjfQgggAACCCCAAAIIIIBAMAnosxo705uOy5ssZXqcBmxrMKUWzTTqTYCyBpP+8ssv1nt0VSBd5tCbogHUdpC3TnbRSS9xFZ0UYieo0IBmb7Lr6jldJ4bo0q26jGhcRSe72MHQmo3OmyUYNdhYn/vaRfvnTeC1fTyvCMRXgECv+MoFxvuCKtBLP+SzswppBLI3EbuBcZvoZXwFkjLQS2dI2DNcXPuv7XHNdkmoQC+Nandd69vul86K1hn7cRUN8rJnPtjH6i90GjzmzVrt9nt4DR0BXSrA/gNAZxrqsg0UBBBAAAEEAkVAg2l0xqgWzSCgQcsUBJJaQD9U1Ews9gefdn/0A9rVq1fb1bt61Vn8mtEnennnnXe8ypAQ/X3UEUgIAf1b1F6+TzML2Es2JcS1OCcCCCCAAAIIIIAAAggggAACCCAQyAIEegXy3Yu770EV6KUf8un67Fr0Q79PPvkkbgGOCGqBpAz00pTEa9ascfPVTF+9evVya3dtSKhAL81MoelldVkB16JrXLumu3fdZ29funhJij5T1KRmt9u9CVyzj+U19AR0HXv7Abmud64PzCkIIIAAAggEikDz5s3N7z5169b1aomJQBkb/QxcgWHDhnlcakKXydb/4lN0iY6IiAi3t+bOnVt0iRZvlutwezMNCPhYQJf+CA8Pt856N0t/+LgbnA4BBBBAAAEEEEAAAQQQQAABBBDwewECvfz+Ft1TB4Mq0EtnL7tm8dK17nU9eEroCiRloFdYWJgcOXLEDX/ChAnWuvRuO1waEirQSy/RoUMHMwvavuRDDz0k+/fvlzRp0thNbq9Tp06VPn36ONr1gc/WrVvliSeecLRTQUAFrl+/Lh07djQYmt2revXqps4GAggggAAC/i6gAcuaal5LtWrV4vwdzt/HQ/8CX0AD6EuVKiWa1SuxyqyZs6RGzRqJdTmug0CMAnPmzBENStSSJUsWJvfFKMUOBBBAAAEEEEAAAQQQQAABBBAIdQECvYL7KyCoAr004GTUqFHmjo0dO1Z0fVxK6AokVaDXhQsXpECBAiaTkesd+H7b9/J4vsddm9y2EzLQS/+d1K9f3+2ao0ePllatWrm12w0aoOO6XrW2ly1b1syoto/jFQFbQDPHdevWza5amezKly9v6mwggAACCCDg7wJdu3aV48ePW92sWLFirL8r+ftY6F9wCKxbt06aNGmSqIPRIMe5c+cm6jW5GAKeBKZPny5btmyxdmm2Of3AkoIAAggggAACCCCAAAIIIIAAAggg4C5AoJe7STC1BFWg1969e6V///7m/gwfPlyyZs1q6myEnkBSBXqtXLlSXnvtNTfwzJkzy8GDB93aozckZKCXXqtcuXISFRXluKy2LVu2zNFmVw4fPiwVKlSwq+ZVf0DokkYUBDwJnD17Vnr37m12DR48WIoWLWrqbCCAAAIIIODvAvpz7MCBA1Y3S5cuLbpkNQWBpBRo06ZNjL+zJ1S/7r//ftm+fbvkyJEjoS7BeRHwSmDKlCnWUqJ6cOHChUU/86EggAACCCCAAAIIIIAAAggggAACCLgLEOjlbhJMLUEV6PXzzz87ssf069dPdJYnJXQFkirQa+DAgY5lRO07oJkgFi1aZFdjfE3oQC/NdjdixAjH9VOkSCGRkZGSLVs2R7tWBgwYILoUqmt5+OGHrQxfqVKlcm1mGwEjoBlQhgwZYur6dff447FnszMHs4EAAggggIAfCAwdOlR27txp9USDlbt06eIHvaILoSpw6eIlKfpMUfnjjz8SnaBTp07W3wSJfmEuiICLwIQJE0Qn+GnRJUz79u3rspdNBBBAAAEEEEAAAQQQQAABBBBAAAFbgEAvWyI4X4Mq0Euzx7Rv397cqZ49e1rL55kGNkJOICkCvW7fvi1lypQxy/y4ovfo0UPeeecd1yaP2wkd6KX/VooXLy7Xr193XF+zVrz99tuOtjt37ljH/vLLL472V199VTRwh4JATAL6daxLgtpl6tSpZFm0MXhFAAEEEAgIgXHjxsnGjRutvuqy3Pr3BQWBpBKYPHmy6GSm6EUz89apUyd6c7zq+vW+Zs0at/fqZBCdFKKTQygIJJWA/m2hf2NoqVKlitvfrknVL66LAAIIIIAAAggggAACCCCAAAII+JsAgV7+dkd825+gCvTSmc2uy8h17txZnnnmGd+KcbaAEkiKQK/FixdLu3bt3JySJUtmZYTImTOn277oDQkd6KXX038rq1evdlxal7+wH2baO9atWydNmjSxq+Z17dq1LMNnNNjwJLBnzx6ZOHGi2TV79mxJnTq1qbOBAAIIIICAvwtokPKKFSusbmqmYE9BNv4+BvoXPALPPvus7N+/321Ac+fOlWrVqrm1x6chpr9D9FwaaNaoUaP4nJb3IOATAc0WrFmDtdSuXdsx0c8nF+AkCCCAAAIIIIAAAggggAACCCCAQJAIEOgVJDcyhmEEVaCXjvGll14SzaikRbN7aWYlSugKJEWgl37gvGPHDjf0sLAwWbp0qVu7p4aYHrA89dRTsmHDBk9vues2fWjZsmVLt/d9v+17eTzfX8vrdezYUebPn+84Tpcu0kAvCgKxCWzfvl30AbkWDXRcuHBhbIezDwEEEEAAAb8TmD1rtnw1/yurX5rRSJdypCCQFAK6XJ2nYK7s2bNby6nfd999PutWjRo1rOxd0U+omcOWLVsWvZk6AokmoEs1njlzxrrey41fluavNE+0a3MhBBBAAAEEEEAAAQQQQAABBBBAIJAECPQKpLt1930NukCvFi1ayJUrVyyJ1157TSpXrnz3KrwjaAQSO9Dr66+/ljfeeMOjn34zdc045/Gg/zUmRqDXrVu3pESJEnLq1ClHV959913p3r271abHPP3003Lu3DnHMSNGjJDXX3/d0UYFgegCmzZtki+++MJqTpMmjcycOTP6IdQRQAABBBDwa4ElS5bI559/bvUxY8aMjiWJ/brjdC7oBHQJ+BkzZriNSzMJDx8+3K39Xho+++wzj8vNazDZli1bJH/+/Pdyet6LQLwFdPncCxcuWO9v3bq11K9fP97n4o0IIIAAAggggAACCCCAAAIIIIBAMAsQ6BXMd1ck6AK9NIvX2bNnrbumMzxr1KwR3HeQ0cUqkJiBXocPH7aWj7h06ZJbn/LmzSvfffed3H///W77PDUkRqCXXnfAgAHy8ccfO7qgy52uWbPGatOsXU2bNnXsT58+vZU1QAN3KAjEJvDtN9+aLChZs2Y12b1iew/7EEAAAQQQ8CcB/Z1o0qRJVpd0+eEJEyb4U/foS4gIXL9+XfR39N9++81txJrtV7P++rKqIa7aAABAAElEQVRcvXrVup6nv2tatWpFwKMvsTnXXQl06dJF/vjjD+s9nTp1kueff/6u3s/BCCCAAAIIIIAAAggggAACCCCAQKgIEOgV3Hc66AK93n77bTl69Kh11+rVqyf6HyV0BRIr0EuDC3XZUA3Q8lR09r0u6ehtSaxAr5+jfpZyYeXkzp07pms6U3/37t2iy8B07txZ5s6da/bpRqNGjWTy5MmONioIeBLQpUrt5Uo12HHcuHGeDqMNAQQQQAABvxXYtm2bjBw50upfihQp+B3Ib+9UcHcspqzBhQsVlo2bNibI4Dt06CALFixwO/fDDz9s/a2QKlUqt300IJDQAvp1efPmTesymolalxOlIIAAAggggAACCCCAAAIIIIAAAgi4CxDo5W4STC1BF+ilGYr27Nlj3aOKFSuKzjimhK5AYgR66Sx6nU3866+/eoTW5UM9PSTxePD/GhMr0EsvV7duXfn+++8d3Rk4cKC1BKUu22hnyLMPCA8Pl7Jly9pVXhGIUWD69OnW8j56QLFixUS/rigIIIAAAggEksChQ4dEgwnsMnbsWEmXLp1d5RWBRBHQCSWbN292u1bv3r1FJzolRNm6dWuMy+J98MEH0rJly4S4LOdEIEaBSxcvSfce3c3+999/XwoUKGDqbCCAAAIIIIAAAggggAACCCCAAAII/CVAoNdfFsG4FXSBXtOmTRMNRNGSJ08e6du3bzDeN8bkpUBCBXrp8ikrV660lqLbvn17jL157LHH5JtvvpFHHnkkxmM87UjMQK/Zs2dL165dHd3QQK4ePXpI48aNHe358+e3lqB0NFJBIAaBoUOHyrFjx6y99evXl9atW8dwJM0IIIAAAgj4p8C1a9ccy1h369ZNChcu7J+dpVdBKXDy5EkpXbq0yWJkD1IzzGkW3rv9O8N+vzevmi0pKirK7VDXpd7ddtKAQAIJ6IS+iRMnmrPPnz9f7r//flNnAwEEEEAAAQQQQAABBBBAAAEEEEDgLwECvf6yCMatoAv00qAaDe7RwvIqwfgle3djiinQq3r16o6HdjGd9caNG3L58mW5cuWK9Z8+aNm/f78cOXJE/vOf/8T0Nqs9ffr0snDhQilatGisx3namZiBXvoAUx/WnD9/3nRFPzBXoxUrVpg23dDAyehBYY4DqCDgIuC6tMpbb70lVatWddnLJgIIIIAAAoEh0LZtW/n3v/9tdbZJkybW70iB0XN6GQwCI0aMEM0kF71o9upFixZFb/ZpfcyYMWbp0ugn/vbbb6V48eLRm6kjkGACOqFv8eLF1vkfffRR87lPgl2QEyOAAAIIIIAAAggggAACCCCAAAIBLECgVwDfPC+6HnSBXgcPHpT33nvPDH3w4MGSPXt2U2cjtARiCvRKaIXMmTPL5MmTpUqVKvG6VGIGemkHNQhn1qxZsfb1wQcflMjISHn44YdjPY6dCKjAqVOnpH///gZDf5nInTu3qbOBAAIIIIBAoAjoz7O9e/da3WVp+EC5a8HRzzt37ljZvI4fP+42oHHjxkmLFi3c2n3ZoEvTlyhRQjSbcfSimX8//vjj6M3UEUgwAf3b/ocffrDOrxmoXT/3SbCLcmIEEEAAAQQQQAABBBBAAAEEEEDATwX0M8OIiAi5cOGC9d/FixfF/u/SpUty9OhR+emnn0zvdeJcsmTJTN3eyJAhg7WSWc6cOe0mXgNAIOgCvf744w9p3ry5oX+97etSLqycqbMRWgJJEej15JNPyswvZ8rj+R6PN3ZiB3rt2rVLatasGWt/a9euLTNmzIj1GHYiYAtsi9gm0z6dZlWTJ08uCxYssHfxigACCCCAQEAJTJ061WQ5ffzxx6V3794B1X86G7gCGzZscFtKXUejmYM1+DB16tQJPrimTZvK2rVr3a6TLl06a+nItGnTuu2jAYGEEOjTp49o8KEWza7YrFmzhLgM50QAAQQQQAABBBBAAAEEEEAAAQQCQuDll1+W+fPn+6SvGitA9n6fUCbaSYIu0EvlWrdubUUt6rYGr+hsY0poCiRmoJdmumrfvr107NhRUqVKdU/giR3opZ3V7GMHDhyIsd9z586VatWqxbifHQi4CugvFrqUrpY8efLI+PHjXXezjQACCCCAQMAIrFy5UqZMmWL1VzOcTpw4MWD6TkcDW+D111+XJUuWuA2ifv36Mm3afwPq3Xb6uGHZsmXSpk0bj2cdNGiQ9bePx500IuBDgZs3b4ouC2+Xd955R8LCwuwqrwgggAACCCCAAAIIIIAAAggggEDICWiSFv3s+l6LTio9f/68x2xf93pu3p9wAkEZ6NWvXz/Zt2+fpVa4cGHp1q1bwglyZr8WSOhArxQpUkixYsVEv5G2bNlSdGa7L0pSBHrFZqVL7u3YsUPuu+8+XwyPc4SAwNixY03gYOXKlfk+HAL3nCEigAACwSqggfCuWbxGjx4tGTNmDNbhMi4/Efj999+laNGicvXqVbcezZ49W6pXr+7WnhANt27dkmeeecZkUnK9hmYy3rp1q2sT2wgkiMCRI0dk5MiR5twafPvII4+YOhsIIIAAAggggAACCCCAAAIIIIAAAgiEkkBQBnrph3529KIG3mjAASU0BWILXvJWRJdE0f80g0OaNGlE16ctWLCgFCpUSCpVqpQgHzAnRaCXrt+rQWu6/Gn00r17d3n33XejN1NHIEYBDbDVB5RaXnvtNXnppZdiPJYdCCCAAAII+LPAlStXpEWLFqaLb731lhQpUsTU2UAgIQR0yVBdqi56yZYtm+zZsydRZ9hpP7Q/nsrChQutv4k87aMNAV8JrF+/XmbNmmWdTv8unzNnjq9OzXkQQAABBBBAAAEEEEAAAQQQQAABBBAIOIGgDPRasWKF44NoDfTyVaalgLvDdBgBBBBIZAEN8HLNpNi/f38pUaJEIveCyyGAAAIIIOA7gVatWsnFixetEzZq1Ehq1arlu5NzJgQQQACBWAVmzJghmzdvto7Jnz+/jBo1Ktbj2YkAAggggAACCCCAAAIIIIAAAggggEAwCwRloNf+/fulb9++5r4x695QsIEAAggkuIB+Dx4/fry5zvTp0yVDhgymzgYCCCCAAAKBJqAZjX788Uer22FhYdK2bdtAGwL9RQABBAJWYNiwYXL06FGr/7ps6ZtvvhmwY6HjCCCAAAIIIIAAAggggAACCCCAAAII3KtAUAZ6aTYZXSrMLg0bNpQ6derYVV4RQAABBBJQYPny5bJo0SLrCunTpxedgU9BAAEEEEAgkAV0OfBvvvnGGkKePHkck0oCeVz0HQEEEAgEgTfeeENu3LhhdbVdu3Z8vhMIN40+IoAAAggggAACCCCAAAIIIIAAAggkmEBQBnqpVsuWLeXSpUsWXKlSpaRDhw4JhsiJEUAAAQT+Epg8ebLs3LnTanj66adlyJAhf+1kCwEEEEAAgQAU0CDmTz75xOr5Aw88IB999FEAjoIuI4AAAoEn8Ouvv4pmVbTL8OHDpXDhwnaVVwQQQAABBBBAAAEEEEAAAQQQQAABBEJOIGgDvXr37i0HDhywbmi2bNlk6NChIXdzGTACCCCQFAK6dO6ZM2esS9etW1def/31pOgG10QAAQQQQMBnAnv37pX+/fub840cOVIyZ85s6mwggAACCCSMwPbt22Xq1Knm5HPnzpVUqVKZOhsIIIAAAggggAACCCCAAAIIIIAAAgiEmkDQBnp9/PHH8u2335r7OWXKFEmePLmps4EAAggg4HuBW7duyd///ndz4k6dOsnzzz9v6mwggAACCCAQiAKaKVgzBttFf74VK1bMrvKKAAIIIJBAAl9//bWsWrXKOnvWrFkdQV8JdElOiwACCCCAAAIIIIAAAggggAACCCCAgF8LBG2g19KlS+Wzzz4z+JrqP2/evKbOBgIIIICA7wWOHj0qw4YNMyceO3asPP7446bOBgIIIIAAAoEq8Oqrr8rly5et7jds2FDq1KkTqEOh3wgggEDACIwbN05+/PFHq7+lSpUSzR5MQQABBBBAAAEEEEAAAQQQQAABBBBAIJQFgjbQa/fu3TJw4EBzbxs0aCC6hBgFAQQQQCDhBJYtWyZLliwxF1i8eLHZZgMBBBBAAIFAFnjvvffk4MGD1hAKFiwoPXr0COTh0HcEEEAgIAQ6dOggN2/etPraqFEj0aBbCgIIIIAAAggggAACCCCAAAIIIIAAAqEsELSBXnpTmzZtKteuXbPu75NPPinvvPNOKN9rxo4AAggkuMDw4cPl559/tq7z9NNPy5AhQxL8mlwAAQQQQACBxBBYsGCBfPnll+ZSulR8ypQpTZ0NBBBAAAHfCmgmL83oZRf9W6Nw4cJ2lVcEEEAAAQQQQAABBBBAAAEEEEAAAQRCUiCoA71Gjx4t3333nbmxkyZNklSpUpk6GwgggAACvhP4888/pXPnzuaEr732mrz00kumzgYCCCCAAAKBLHDq1Cnp2LGjGcLf//53KV26tKmzgQACCCDgW4FZs2bJ+vXrrZOmTp1aZs+e7dsLcDYEEEAAAQQQQAABBBBAAAEEEEAAAQQCUCCoA702btzomP2pKf9LlSoVgLeJLiOAAAL+L7B161b57LPPTEc//PBDyZ07t6mzgQACCCCAQKALaKCXBnxpKVu2rLRr1y7Qh0T/EUAAAb8V6NOnj/z6669W//R7ri6hS0EAAQQQQAABBBBAAAEEEEAAAQQQQCDUBYI60OvKlSvSokULc48rVKggrVu3NnU2EEAAAQR8JzB58mTZuXOndcIsWbLIJ5984ruTcyYEEEAAAQT8QEADmpcuXWr1RLPLTJgwwQ96RRcQQACB4BPQAC8N9LKLTtx74YUX7CqvCCCAAAIIIIAAAggggAACCCCAAAIIhKxAUAd66V3t16+f7Nu3z7rBGTNmFF3OkYIAAggg4HuB7t27y6VLl6wTV61aVd566y3fX4QzIoAAAgggkIQCe/fulf79+5se6M++QoUKmTobCCCAAAK+EVi1apV8/fXX5mQ6iUQnk1AQQAABBBBAAAEEEEAAAQQQQAABBBAIdYGgD/RasmSJfP755+Y+64zQvHnzmjobCCCAAAL3LnD48GEZNWqUOZE++K5UqZKps4EAAggggECwCGjGYM0crKVmzZrSuHHjYBka40AAAQT8RmDcuHHy448/Wv3JkyePjB8/3m/6RkcQQAABBBBAAAEEEEAAAQQQQAABBBBISoGgD/Q6fvy4dO3a1Rg3bNhQ6tSpY+psIIAAAgjcu4DOttdZ91qSJUsms2bNkgcffPDeT8wZEEAAAQQQ8DMBDT7YuHGj1atHH31UhgwZ4mc9pDsIIIBAYAvcunVLOnfuLNevX7cGop/htGvXLrAHRe8RQAABBBBAAAEEEEAAAQQQQAABBBDwkUDQB3qpkwZ6acCXlgIFCkjPnj2tbf6HAAIIIOAbgeHDh8vPP/9sneypp56SYcOG+ebEnAUBBBBAAAE/E9AgLw32sosuFZ87d267yisCCCCAwD0K7Ny5UyZPnmzOot9nS5YsaepsIIAAAggggAACCCCAAAIIIIAAAgggEMoCIRHoNX36dFm8eLG5z2M+GCPpM6Q3dTYQQAABBOIvcP78eenVq5c5QZMmTaRZs2amzgYCCCCAAALBJHDx4kVp1aqVGRIZgw0FGwgggIBPBL788kuTOTFt2rSidQoCCCCAAAIIIIAAAggggAACCCCAAAII/FcgJAK9IiMjZdCgQeaet2nTRsqXL2/qbCCAAAIIxF9AM5u4PnwZOXKkFCxYMP4n5J0IIIAAAgj4uYD+baF/Y2jRn3k9evTw8x7TPQQQQCBwBPr37y+nTp2yOlymTBnp3bt34HSeniKAAAIIIIAAAggggAACCCCAAAIIIJDAAiER6HXnzh3R4K4LFy5YnBrkpXUKAggggMC9C0ydOlW2b99unShbtmyOZVbu/eycAQEEEEAAAf8TWLhwoXzxxRemYyNGjJAsWbKYOhsIIIAAAvETOHbsmAwdOtS8WT+7qVevnqmzgQACCCCAAAIIIIAAAggggAACCCCAQKgLhESgl97ksWPHyqZNm6z7/fDDD8v7778f6vee8SOAAAI+EejZs6cJpH322Wela9euPjkvJ0EAAQQQQMBfBX7++Wfp1q2b6d4rr7wi+jOQggACCCBwbwIrV66UBQsWmJNMmDBBcuXKZepsIIAAAggggAACCCCAAAIIIIAAAgggEOoCIRPotWbNGpk0aZK537q8CkuLGQ42EEAAgXgJHDhwwAqktd/cpUsXee655+wqrwgggAACCAStwNtvvy1Hjx61xle8eHF58803g3asDAwBBBBILIEPP/xQ9u3bZ10uX758MmbMmMS6NNdBAAEEEEAAAQQQQAABBBBAAAEEEEAgIARCJtDrt99+kw4dOsjNmzetG1O7dm156aWXAuIm0UkEEEDAXwV06aoVK1ZY3UuRIoXoMo6ZMmXy1+7SLwQQQAABBHwmMG3aNAkPD7fO9+CDD8qwYcMkXbp0Pjs/J0IAAQRCTeD333+X3r17y7Vr16yhv/jii9K2bdtQY2C8CCCAAAIIIIAAAggggAACCCCAAAIIxCoQMoFeqjBw4EDZvXu3BZI1a1YZMmSIJE+ePFYgdiKAAAIIeBa4deuW9OvXT86ePWsdUKxYMev7rOejaUUAAQQQQCC4BHbs2GEFd9mj+tvf/iYvvPCCXeUVAQQQQOAuBVatWiVff/21eVefPn2kdOnSps4GAggggAACCCCAAAIIIIAAAggggAACCIiEVKDX2rVrZeLEiea+t2zZUipVqmTqbCCAAAIIeC+wefNmmTFjhnlD586dpVq1aqbOBgIIIIAAAsEu0LNnT/npp5+sYebOndsKgA72MTM+BBBAIKEEdDLe8ePHrdM/+eSTMnr06IS6FOdFAAEEEEAAAQQQQAABBBBAAAEEEEAgYAVCKtDrzp070qlTJ/nll1+sG1aoUCHp3r17wN48Oo4AAggkpcCYMWPk4MGDVhcee+wxmTRpktx3331J2SWujQACCCCAQKIKLFmyRD7//HNzzY4dO0qJEiVMnQ0EEEAAAe8Edu3aJR9//LE5uHXr1lK/fn1TZwMBBBBAAAEEEEAAAQQQQAABBBBAAAEE/isQUoFeOuQ5c+bIvHnzzP3v0aOHFCxY0NTZQAABBBCIW+DQoUPywQcfmAObNGkizZo1M3U2EEAAAQQQCAWB33//Xbp06SIXL160hluyZEl54403QmHojBEBBBDwqcA//vEP+eGHH6xzZsiQQSZMmCDp0qXz6TU4GQIIIIAAAggggAACCCCAAAIIIIAAAsEgEHKBXqdPn5auXbvK9evXrfunSzfqEo4UBBBAAAHvBXTJRl26UUvKlCnlww8/lEcffdT7E3AkAggggAACQSLwySefyPLly81oBgwYIDlz5jR1NhBAAAEEYhc4ceKEDBo0yBxUp04dadeunamzgQACCCCAAAIIIIAAAggggAACCCCAAAJ/CYRcoJcOffz48bJhwwZL4cEHH7Q+UMyUKZNV538IIIAAArELnD9/XvQh9p9//mkdWLVqVXnrrbdifxN7EUAAAQQQCFKBw4cPS69evczoatasKY0bNzZ1NhBAAAEEYheYP3++fPPNN+agUaNGSf78+U2dDQQQQAABBBBAAAEEEEAAAQQQQAABBBD4SyAkA70iIyMds0UbNmwoOmOUggACCCAQt4BmLVm0aJE5UIO+ihcvbupsIIAAAgggEGoCw4cPl+3bt1vD1gkkQ4cOtTJehpoD40UAAQTuVkCzrfft21d0MomWMmXKSO/eve/2NByPAAIIIIAAAggggAACCCCAAAIIIIBAyAiEZKCX3t0+ffrIjz/+aN3oHDlyyMCBA61t/ocAAgggELuAfr88efKkddBTTz0lw4YNi/0N7EUAAQQQQCDIBbZs2SIffPCBGWWLFi1EM15SEEAAAQRiF9Bs6zNnzjQH9ejRQypWrGjqbCCAAAIIIIAAAggggAACCCCAAAIIIICAUyBkA71WrVolkydPNhrt27e3Zo6aBjYQQAABBNwENFvJ1KlTTXuHDh3khRdeMHU2EEAAAQQQCFWBt99+W44ePWoNX5ccc13OMVRNGDcCCCAQl4Au06hL4GrJmzevjBs3Lq63sB8BBBBAAAEEEEAAAQQQQAABBBBAAIGQFgjZQK///Oc/0rlzZzl79qz1BVCsWDHp1KlTSH8xMHgEEEAgLoFJkybJ7t27rcOyZs0qEydOlAceeCCut7EfAQQQQACBoBdYsGCBfPnll2acGvilmS8pCCCAAAKeBTTLumtg16uvviqNGjXyfDCtCCCAAAIIIIAAAggggAACCCCAAAIIIGAJhGygl45+xowZsmjRIvOl0LdvX8mTJ4+ps4EAAggg8JfAsWPHZOjQoaahYcOG0rJlS1NnAwEEEEAAgVAWOH/+vHTp0kWuXLliMYSFhUnbtm1DmYSxI4AAArEKfPrppxIREWEdkyZNGpkwYYJkypQp1vewEwEEEEAAAQQQQAABBBBAAAEEEEAAgVAXCOlAr+PHj4vOtL99+7b1dVCtWjVp1qxZqH9NMH4EEEDAo8CcOXNk7dq11r5kyZJZs+9z587t8VgaEUAAAQQQCEWBf/zjH/LNN99YQ7///vtl8ODBkiVLllCkYMwIIIBArALnzp2T/v37y40bN6zjatasKW+88Uas72EnAggggAACCCCAAAIIIIAAAggggAACCIiEdKCXfgGMHj1avvvuO+trIX369NbDmIceeoivDQQQQAABF4GrV69aD2IuXbpktVaoUEF69uzpcgSbCCCAAAIIIHDgwAHp3bu3gahXr57ofxQEEEAAAafA0qVLRf+zy/Dhw6Vw4cJ2lVcEEEAAAQQQQAABBBBAAAEEEEAAAQQQiEEg5AO9tn+/XYaPGG54mjZtKs8//7yps4EAAgggILJmzRqZO3euoej9Xm8pU7aMqbOBAAIIIIAAAv8VGDRokERGRlqVRx99VIYMGQINAggggEA0gX79+snp06et1uLFi8uAAQOiHUEVAQQQQAABBBBAAAEEEEAAAQQQQAABBDwJhHygl6L06tVLDh8+bPlky5ZN+vTpIw8++KAnL9oQQACBkBP4888/ZdiwYXLmzBlr7Pnz55dRo0aFnAMDRgABBBBAwBuBdevWyYQJE8yhjRo1klq1apk6GwgggECoC6xcuVIWLFhgGLp06SLPPfecqbOBAAIIIIAAAggggAACCCCAAAIIIIAAAjELEOj1/zb6IeOUKVOMUt26daVBgwamzgYCCCAQygKLFy+W8PBwQ9ChQwd54YUXTJ0NBBBAAAEEEHAKdO/eXaKioqzGjBkzWss56isFAQQQCHWBCxcuiC7TqK9annjiCfnggw9CnYXxI4AAAggggAACCCCAAAIIIIAAAggg4LUAgV7/o+rdu7ccOHDAqmk2r/fee0+yZ8/uNSQHIoAAAsEocOrUKRkxYoRoVi8tRYsWlcGDBwfjUBkTAggggAACPhOIntWrWrVq0qxZM5+dnxMhgAACgSowZ84cWbt2rel+t27dpHLlyqbOBgIIIIAAAggggAACCCCAAAIIIIAAAgjELkCg1/98tm7d6liKrEKFCtK6devY9diLAAIIBLnA559/Lt99950ZZb9+/aRkyZKmzgYCCCCAAAIIeBbQwOhdu3ZZO5MlSybvvvOuPJ7vcc8H04oAAgiEgMDPUT/LyPdHyu3bt63Rli1b1ppkFwJDZ4gIIIAAAggggAACCCCAAAIIIIAAAgj4TIBALxfK999/XyIiIkyLziwtXLiwqbOBAAIIhJKAZjkcO3asGfKzzz4rXbt2NXU2EEAAAQQQQCBmgcjISBk0aJA5oFSpUqLLH1MQQACBUBWYPHmy7Ny50xr+fffdZy3hWKhQoVDlYNwIIIAAAggggAACCCCAAAIIIIAAAgjES4BALxe2gwcPOmaTFilSRN566y2XI9hEAAEEQkdg/Pjxsn//fmvAqVOnlpEjR0quXLlCB4CRIoAAAgggcI8C+rN0w4YN5ixvvPEGmTGNBhsIIBBKAj/88IP84x//MEOuU6eOtGvXztTZQAABBBBAAAEEEEAAAQQQQAABBBBAAAHvBAj0iuakM0xXrVplWlu1aiUVK1Y0dTYQQACBUBDYsmWLTJ8+3Qz15cYvS/NXmps6GwgggAACCCAQt8DRo0flnXfekevXr1sHP/HEE/Luu+/G/UaOQAABBIJMQCeNHDlyxBrVww8/LJpRPXPmzEE2SoaDAAIIIIAAAggggAACCCCAAAIIIIBAwgsQ6BXN+PTp09KrVy+5fPmytSdnzpzSt29fSZ48ebQjqSKAAALBKXDr1i0ZOnSonDhxwhqgfh8cPXq0pEqVKjgHzKgQQAABBBBIQIHPP/9clixZYq7QrFkzqVatmqmzgQACCAS7wNq1a2XOnDlmmC1btpSGDRuaOhsIIIAAAggggAACCCCAAAIIIIAAAggg4L0AgV4erObOnSv6n10aNGggdevWtau8IoAAAkEtEB4eLosXLzZj7Nixo9SoUcPU2UAAAQQQQAAB7wUuXrwoPXv2lHPnzllvypIli/Tp00fSpEnj/Uk4EgEEEAhQgStXrsiwYcPM98D8+fPLqFGjAnQ0dBsBBBBAAAEEEEAAAQQQQAABBBBAAIGkFyDQy8M9uHbtmvTo0UNOnjxp7U2bNq307t1b9KEMBQEEEAhmAX0IPXz4cJPVsFixYjJw4MBgHjJjQwABBBBAIMEFFi1aJDNmzDDXeeGFF+Rvf/ubqbOBAAIIBKvA119/LatWrTLD089aKlasaOpsIIAAAggggAACCCCAAAIIIIAAAggggMDdCRDoFYPXypUrZcqUKWZv1apVpUWLFqbOBgIIIBCMAjNnzpQNGzaYoQ0YMECKFy9u6mwggAACCCCAQPwEunfvLlFRUdabU6ZMKe+9957o8sgUBBBAIFgFdCn4ESNGyPXr160hli9fXnr16hWsw2VcCCCAAAIIIIAAAggggAACCCCAAAIIJIoAgV6xMGsWrwMHDpgj9ANJXWaAggACCASjwOHDhx3LqFSrVk06d+4cjENlTAgggAACCCS6wLp162TChAnmuuXKlZPXX3/d1NlAAAEEgk1g2rRpsm3bNmtYKVKksDIH85lKsN1lxoMAAggggAACCCCAAAIIIIAAAgggkNgCBHrFIr5161ZH0IMuYdapU6dY3sEuBBBAIHAFJk2aJLt377YGkCZNGhk5cqTkyJEjcAdEzxFAAAEEEPAzgcGDB8uuXbtMrzSg+plnnjF1NhBAAIFgEdizZ49MnDjRDKdevXrSpk0bU2cDAQQQQAABBBBAAAEEEEAAAQQQQAABBOInQKBXHG7vv/++REREmKN0+UZdxpGCAAIIBJOALteoyzbapWnTpqL/URBAAAEEEEDAdwKRkZEyaNAgc8J8+fJZy5glT57ctLGBAAIIBLrArVu3rElz9nK1WbNmteoZMmQI9KHRfwQQQAABBBBAAAEEEEAAAQQQQAABBJJcgECvOG7BwYMH5b333jNHpU2bVrp3706WGyPCBgIIBLrAyZMnZcyYMXL58mVrKLlz55bRo0dLypQpA31o9B8BBBBAAAG/Exg/frxogLVdqlevLk2aNLGrvCKAAAIBLzBv3jxZvXq1GYdm8tKMXhQEEEAAAQQQQAABBBBAAAEEEEAAAQQQuHcBAr28MJw7d67of3YpWrSodOnSxa7yigACCAS0wIQJE2Tv3r1mDO+++66UK1fO1NlAAAEEEEAAAd8JnDt3Tvr16ydnzpwxJ+3QoYOUKlXK1NlAAAEEAlVg586dMnnyZNP9smXLOibPmR1sIIAAAggggAACCCCAAAIIIIAAAggggEC8BAj08pJt8ODBsmvXLnN0gwYNpG7duqbOBgIIIBCIAuHh4bJ48WLT9YYNG0rLli1NnQ0EEEAAAQQQ8L3A5s2brWya9pmzZcsmPXv0lPQZ0ttNvCKAAAIBJ3Dp4iUZ/cFoE8j68MMPy5AhQyR79uwBNxY6jAACCCCAAAIIIIAAAggggAACCCCAgL8KEOjl5Z05evSo9O/f3yxtljx5cnn77belYMGCXp6BwxBAAAH/Ejh06JCMGzdObt26ZXWsSJEiMnToUP/qJL1BAAEEEEAgSAWmTZsmGnBtl7CwMGnbtq1d5RUBBBAIOIFPP/1UIiIiTL87deokzz//vKmzgQACCCCAAAIIIIAAAggggAACCCCAAAL3LkCg110Yrly5UqZMmWLekS9fPunVq5do0BcFAQQQCCQBDe4aNWqUREVFWd1OlSqVDBo0SAoUKBBIw6CvCCCAAAIIBKzAjRs3pG/fvvLPf/7TjKFFixZStWpVU2cDAQQQCBSBDRs2yMyZM013a9SoIR07djR1NhBAAAEEEEAAAQQQQAABBBBAAAEEEEDANwIEet2l4/jx40U/wLRL9erVpUmTJnaVVwQQQCAgBObNmyerV682fW3durXUr1/f1NlAAAEEEEAAgYQX2Lt3r+gS8Tdv3rQuljZtWunevbvkyJEj4S/OFRBAAAEfCZw8edJajvby5cvWGfPmzSvDhg2T1KlT++gKnAYBBBBAAAEEEEAAAQQQQAABBBBAAAEEbAECvWwJL18vXrxozbzXDzLt0qFDBylVqpRd5RUBBBDwa4GdO3fK5MmTTR8rVKggPXv2NHU2EEAAAQQQQCDxBObPny+zZs0yFyxatKh06dLF1NlAAAEE/F1gwoQJooGrdunXr5+ULFnSrvKKAAIIIIAAAggggAACCCCAAAIIIIAAAj4UINArHphbt261ljyz35otWzbp2aOnpM+Q3m7iFQEEEPBLgUsXL8noD0bLmTNnrP5lzZpVhgwZIo888ohf9pdOIYAAAgggEAoCmvlmx44dZqgNGjSQunXrmjobCCCAgL8KhIeHy+LFi033Xm78sjR/pbmps4EAAggggAACCCCAAAIIIIAAAggggAACvhUg0Cuenp9//rksWbLEvDssLEzatm1r6mwggAAC/ijw6aefSkREhOna22+/LVWqVDF1NhBAAAEEEEAg8QVOnDgh/fv3lwsXLlgXT548uejP6IIFCyZ+Z7giAggg4KXAoUOHZNy4cXLr1i3rHcWKFZOBAwd6+W4OQwABBBBAAAEEEEAAAQQQQAABBBBAAIH4CBDoFR+1/72nd+/ecuDAAXOGFi1aSNWqVU2dDQQQQMCfBDZs2CAzZ840Xapdu7a0b9/e1NlAAAEEEEAAgaQTWL16tXz00UemA/ny5ZNevXqJBn1REEAAAX8T0OCuUaNGSVRUlNW1NGnSyKCBgyTfE/n8rav0BwEEEEAAAQQQQAABBBBAAAEEEEAAgaASINDrHm7nwYMHZcCAAXL9+nXrLGnTppXu3btLjhw57uGsvBUBBBDwvcDJkydlzJgxcvnyZevkTz75pOgyUSlTpvT9xTgjAggggAACCMRLQAO9NODLLtWrV5cmTZrYVV4RQAABvxGYN2+e4/tVu3btpE6dOn7TPzqCAAIIIIAAAggggAACCCCAAAIIIIBAsAoQ6HWPd3bRokUyY8YMc5aiRYtKly5dTJ0NBBBAwB8EJkyYIHv37rW6kixZMmt5KF1ahYIAAggggAAC/iOgAdl9+/aV48ePm05p9s0yZcqYOhsIIIBAUgvs2LFDpkyZYrpRuXJl6datm6mzgQACCCCAAAIIIIAAAggggAACCCCAAAIJJ0Cglw9s33//fYmIiDBnqlChgrRu3drU2UAAAQSSUuDLL7+UjRs3mi40a9aM7CBGgw0EEEAAAQT8S0ADKDTrpl0eeOABefPNN6Vw4cJ2E68IIIBAkgn89NNPMmnSJLl69arVh+zZs8vQoUMlU6ZMSdYnLowAAggggAACCCCAAAIIIIAAAggggEAoCRDo5YO7ffr0aRk0aJCcOXPGnK1mzZrSuHFjU2cDAQQQSAqB8PBwWbx4sbl06dKlpU+fPqbOBgIIIIAAAgj4n4AGaS9YsMB0TAMoOnXqJLly5TJtbCCAAAKJLfDvf/9bPvzwQzl16pS5dM+ePUUnu1EQQAABBBBAAAEEEEAAAQQQQAABBBBAIHEECPTykfPu3btlxIgR8p///Mec8aWXXpLatWubOhsIIIBAYgps2bJFpk+fbi5ZoEABazmotGnTmjY2EEAAAQQQQMA/BTSYYv369aZzOXPmtH6OJ0+e3LSxgQACCCSWwO3bt2X8+PFy4MABc8k2bdpIvXr1TJ0NBBBAAAEEEEAAAQQQQAABBBBAAAEEEEh4AQK9fGi8du1amThxouOMr732mlSuXNnRRgUBBBBIaAF9ADN27FhzmaxZs0q/fv1EHxJTEEAAAQQQQCAwBAYOHCg6ocQuBQsWlB49ethVXhFAAIFEE/j0008lIiLCXK9Ro0by6quvmjobCCCAAAIIIIAAAggggAACCCCAAAIIIJA4AgR6+dh5/vz5MmvWLHPW++67z3oYo5l0KAgggEBiCOhSKgMGDJA7d+6Yyw0ePFiKFi1q6mwggAACCCCAgP8LaLbgXr16yfHjx01nS5YsKW+88Yaps4EAAggktMDChQtlxYoV5jLVq1eXN99809TZQAABBBBAAAEEEEAAAQQQQAABBBBAAIHEEyDQKwGsp0yZIitXrjRnfuihh2TYsGGSJk0a08YGAgggkBAC165dszJ3XbhwwZy+e/fuUqlSJVNnAwEEEEAAAQQCR+DEiRPSp08f+f33302nNWOwZg6mIIAAAgktoEvIuk5mK1WqlLWMbEJfl/MjgAACCCCAAAIIIIAAAggggAACCCCAgGcBAr08u9xz64gRI+T7778358mSJYtoGwUBBBBISAENKj169Ki5RJs2baRevXqmzgYCCCCAAAIIBJ5AZGSkDBo0yNHxhg0bSp06dRxtVBBAAAFfCuj3no8++sicUpeDHzNmjKRNm9a0sYEAAggggAACCCCAAAIIIIAAAggggAACiStAoFcCeusyK4cPHzZXyJMnDzNfjQYbCCDga4GPP/5Ydu3aZU7bqFEjefXVV02dDQQQQAABBBAIXIHVq1c7Ai50JLp0WvHixQN3UPQcAQT8VkCXjB0yZIijfxMnTpScOXM62qgggAACCCCAAAIIIIAAAggggAACCCCAQOIKEOiVwN7t2rWTc+fOmasUK1ZMOnXqZOpsIIAAAr4QmDNnjqxdu9aciiVVDAUbCCCAAAIIBI3A3LlzRf9zLcOHDxfNskNBAAEEfCWgS8V269bNcbrBgwdL0aJFHW1UEEAAAQQQQAABBBBAAAEEEEAAAQQQQCDxBQj0SmDzK1euSKtWreTmzZvmSrVq1RLNtENBAAEEfCHw7TffylfzvzKn0oe9U6dONXU2EEAAAQQQQCB4BDSjjmtwd4oUKWTy5MnBM0BGggACSS7wxhtvyI0bN0w/unfvLpUqVTJ1NhBAAAEEEEAAAQQQQAABBBBAAAEEEEAg6QQI9EoE+2PHjslbb73luFKbNm2kfPnyjjYqCCCAwN0K7NixQ6ZMmeJ425dffilp06Z1tFFBAAEEEEAAgeARGDRokERGRpoBpU+fXsaMGWPqbCCAAALxFejdu7ecPXvWvJ3l4A0FGwgggAACCCCAAAIIIIAAAggggAACCPiFAIFeiXQbNBhj2LBhjqtp8FeRIkUcbVQQQAABbwX27NkjmtXDtWg9Z86crk1sI4AAAggggEAQCnTt2lWOHz9uRpYvXz557733TJ0NBBBA4G4FRowYIVFRUeZtLAdvKNhAAAEEEEAAAQQQQAABBBBAAAEEEEDAbwQI9ErEW7Fy5Uq3zDu6JELJkiUTsRdcCgEEgkFg06ZN8sUXXziG0qNHD6lYsaKjjQoCCCCAAAIIBK/Aq6++KpcvXzYD1GDvAQMGmDobCCCAgLcCGih67tw5czjLwRsKNhBAAAEEEEAAAQQQQAABBBBAAAEEEPArAQK9Evl26JJqCxYscFy1devWUqFCBUcbFQQQQCAmgfDwcFm8eLFjN0uqODioIIAAAgggEDIC+jvArVu3zHg1OGP48OGmzgYCCCAQl0C3bt3k999/N4clS5ZMFi5caOpsIIAAAggggAACCCCAAAIIIIAAAggggID/CBDolQT3YtGiRTJjxgzHlZs3by7PPfeco40KAgggEF1g1qxZsn79ekdz06ZNRf+jIIAAAggggEBoCkTP7JUhQwYZMmSIPPjgg6EJwqgRQMArAc0I2KdPH/njjz/M8alSpZK5c+eaOhsIIIAAAggggAACCCCAAAIIIIAAAggg4F8CBHol0f1YvXq1fPTRR46r62z8WrVqOdqoIIAAArbA1KlTZfv27XbVen3llVekcePGjjYqCCCAAAIIIBB6Ah06dJAzZ86YgWuQ18CBA+Xhhx82bWwggAACtsDJkyet7H/Xr1+3myR9+vRuk9LMTjYQQAABBBBAAAEEEEAAAQQQQAABBBBAwC8ECPRKwtsQEREh77//vqMHdevWlQYNGjjaqCCAAAIaGBoZGemAaNmypTRs2NDRRgUBBBBAAAEEQlege/fuEhUVZQCSJ08uffv2lZw5c5o2NhBAAIEff/xRPvzwQ7l9+7bB0GVfdWIJBQEEEEAAAQQQQAABBBBAAAEEEEAAAQT8W4BAryS+Pzt37pShQ4c6elGtWjVp1qyZo40KAgiEroA+hNm3b58DoE2bNlKvXj1HGxUEEEAAAQQQQKB///6yd+9eB0SvXr0kf/78jjYqCCAQmgJbt26Vzz77zDH4XLlyyYQJExxtVBBAAAEEEEAAAQQQQAABBBBAAAEEEEDAPwUI9PKD+6JZegYNGuToSfny5UUDOSgIIBDaAmPGjJGDBw86EP7+97+zzKtDhAoCCCCAAAIIuAqMHDlStm3b5toknTp1kmLFijnaqCCAQGgJrF+/XmbNmuUY9JNPPimjR492tFFBAAEEEEAAAQQQQAABBBBAAAEEEEAAAf8VINDLT+7Nnj17ZMCAAY7eFC9eXNq1aycpU6Z0tFNBAIHgF/jzzz+t5VSOHDniGGzHjh2lRo0ajjYqCCCAAAIIIIBAdIGJEyfK2rVrHc06kUQnlFAQQCD0BL795lv5av5XjoEXKVLELcO44wAqCCCAAAIIIIAAAggggAACCCCAAAIIIOB3AgR6+dEt2b9/v/Tt29fRo4IFC0q719tJ+gzpHe1UEEAgeAXOnj0rU6dOlWPHjjkG2aVLF3nuueccbVQQQAABBBBAAIGYBKZMmSIrV6507NYl4nWpeAoCCISOwPLly2XRokWOAZcsWVL69evnaKOCAAIIIIAAAggggAACCCCAAAIIIIAAAv4vQKCXn90jXaJt8ODBotl87JI7d25p27atZM+e3W7iFQEEglTgl19+sYK89NUumtWvc+fOUqlSJbuJVwQQQAABBBBAwCuBTz75RDTIw7XUr19fXnzxRdcmthFAIEgFlixZIsuWLXOMrkKFCtKzZ09HGxUEEEAAAQQQQAABBBBAAAEEEEAAAQQQCAwBAr388D7985//lNGjR8tvv/1mepc5c2Zp0qSJ6HKOFAQQCE6ByMhImTdvnuPfftq0aaVr165SqlSp4Bw0o0IAAQQQQACBBBf47LPPZOnSpY7rVK5cWVq0aCHJkiVztFNBAIHgELh9+7bMnDlTNm3a5BiQZgjWTMEUBBBAAAEEEEAAAQQQQAABBBBAAAEEEAhMAQK9/PS+RR2JktEfjJYzZ844evjSSy9J7dq1HW1UEEAg8AVWrFghCxcudAxEAzzfeustKVKkiKOdCgIIIIAAAgggcLcC06dPl8WLFzveVqBAAdGlHHPkyOFop4IAAoEtcPLkSZkzZ47oJDLXop8ltG/f3rWJbQQQQAABBBBAAAEEEEAAAQQQQAABBBAIMAECvfz4hh09elTGjh0rJ06ccPSyfPny1ux7Xc6NggACgS1w/fp1a6b91q1bHQPJmTOnNdP+ySefdLRTQQABBBBAAAEE4ivwxRdfuAWWZ8iQwcocXLp06fielvchgIAfCezYscPKEnzx4kVHrxo2bCgtW7Z0tFFBAAEEEEAAAQQQQAABBBBAAAEEEEAAgcATINDLz+/Z+fPn5ZNPPpGIiAhHT/Ply2fNvs+TJ4+jnQoCCASOwLFjx6yZ9lFRUY5Oh4WFSbt27SRTpkyOdioIIIAAAggggMC9Cnz77bcyY8YMuXr1quNU9erVE/2PggACgSugS7RGX6b1oYcesgK8atSoEbgDo+cIIIAAAggggAACCCCAAAIIIIAAAgggYAQI9DIU/r0xe9Zs+Wr+V45OpkmTRl5++WXRDF8UBBAILAHN4PXVV1/JlStXHB1/ufHL0vyV5o42KggggAACCCCAgC8FDh06JJ999pkcPnzYcdoyZcrIK6+8IhoYQkEAgcAR0MDNWbNmyfbt2x2dzp8/v7Rp00YKFizoaKeCAAIIIIAAAggggAACCCCAAAIIIIAAAoErQKBXAN27LVu2yPTp0+W3335z9LpWrVrSqFEjRxsVBBDwX4EFCxbIypUrHR3MnDmztGrVSipWrOhop4IAAggggAACCCSEwLVr12Tq1Kmybt06x+lz5colTZs2FQ0QoSCAgP8LaMDm3Llz5V//+pejs88995y0b99eUqVK5WinggACCCCAAAIIIIAAAggggAACCCCAAAKBLUCgV4DdvxMnTsi0adNkz549jp4XL15cmjdvLhkzZnS0U0EAAf8RuHDhgsyePVsiIyMdnXrmmWfk9ddfl5w5czraqSCAAAIIIIAAAgktsHjxYvniiy/k9u3b5lIPPPCAlTm4SpUqpo0NBBDwP4GNGzdaWYL/85//mM4lS5ZMXnvtNWnQoIFpYwMBBBBAAAEEEEAAAQQQQAABBBBAAAEEgkeAQK8AvZca7BUeHu7offbs2a3Z94ULF3a0U0EAgaQXOHDggDXT/tSpU47O1K1b1wrycjRSQQABBBBAAAEEElFg165d8vnnn4tOKnEt1atXlyZNmrg2sY0AAn4iMG/ePFm9erWjNzpxpHXr1lKiRAlHOxUEEEAAAQQQQAABBBBAAAEEEEAAAQQQCB4BAr0C+F5+++23MmPGDLl69aoZRYoUKaRx48ZSrVo108YGAggkrcDatWtl/vz5cvPmTdORhx56SFq2bCk1atQwbWwggAACCCCAAAJJJXD+/Hn55JNPJCIiwtGFp59+2socnCVLFkc7FQQQSBqBc+fOWVmC9+3b5+hAWFiYtGvXTjJlyuRop4IAAggggAACCCCAAAIIIIAAAggggAACwSVAoFeA389Dhw7JZ599JocPH3aMpGrVqtKiRQtHGxUEEEh8gZkzZ8qGDRscF86fP7+0adNGChYs6GinggACCCCAAAIIJLXA7Fmz5av5Xzm6kTVrViuzly43TUEAgaQT2LNnj2gmr7Nnzzo68XLjl6X5K80dbVQQQAABBBBAAAEEEEAAAQQQQAABBBBAIDgFCPQKgvt67do1mTp1qqxbt84xmnz58smLL74oRYoUcbRTQQCBhBfYu3evLF++XKKiohwXe+6556R9+/aSKlUqRzsVBBBAAAEEEEDAXwS2bNki06dPl99++83RpVq1akmDBg0kefLkjnYqCCCQsAI3btyQJUuWyKpVqxwXypw5s7Rq1UoqVqzoaKeCAAIIIIAAAggggAACCCCAAAIIIIAAAsErQKBXEN3bxYsXyxdffCG3b992jEqXhtMHMilTpnS0U0EAAd8L6FKq+hAmeuBlsmTJ5LXXXrP+Lfr+qpwRAQQQQAABBBDwrcCJEydk2rRpohmEXEuePHmkbt26UqxYMddmthFAIIEEfvjhB2sCyb/+9S/HFTTD3uuvvy45c+Z0tFNBAAEEEEAAAQQQQAABBBBAAAEEEEAAgeAWINAryO7vrl27rNn30T8E1g9/9YFMyZIlg2zEDAcB/xHYFrFNlq9YLqdPn3Z0KleuXNZM+xIlSjjaqSCAAAIIIIAAAv4uoMFe4eHhbt3ULKU6mSR16tRu+2hAAIF7F7hw4YIsXbpUNm/e7HYy/dteg7woCCCAAAIIIIAAAggggAACCCCAAAIIIBB6AgR6BeE9/+OPP2T27NkeH8hUqVJF6tevL+nSpQvCkTMkBJJG4Ndff5Vly5bJtm3b3DqgD2GaN2/OQ1A3GRoQQAABBBBAIFAE9Hec+fPnuy1JnT17dmsySZkyZQJlKPQTgYAQ2Lhxo6xcudJt+dR8+fJJ48aNpVy5cgExDjqJAAIIIIAAAggggAACCCCAAAIIIIAAAr4XINDL96Z+c0Zd4uGrr76Sf/7zn44+PfLII1KnTh0pX768o50KAgjcvcCaNWtkxYoV8vvvvzveXKBAAXn55ZfJoudQoYIAAggggAACgSpw48YNazLJokWL3IZQoUIFazJJpkyZ3PbRgAAC3gvokqk6gUQzdUcvDRs2tCaQ3H///dF3UUcAAQQQQAABBBBAAAEEEEAAAQQQQACBEBIg0CsEbvbsWbNl4aKFcvPmTcdodRawZvfKkiWLo50KAgjELfBz1M+yLHyZ7Nu3z3FwihQp5KWGL0nzV5o72qkggAACCCCAAALBILB3715rMsn+/fsdw8mcObM1maRSpUqOdioIIOCdgE4e0Sxef/75p+MNRYoUsSaQFC1a1NFOBQEEEEAAAQQQQAABBBBAAAEEEEAAAQRCU4BArxC57wcPHpR58+bJ7t27HSPOmDGj9UCmatWqjnYqCCAQs8CSJUushzDRgyeLFSsmTZo0kUKFCsX8ZvYggAACCCCAAAJBIKBLOS5YsECuXbvmGE3p0qWtySTZsmVztFNBAAHPAocOHZLw8HDRV9eSKlUqadSokbVUo2s72wgggAACCCCAAAIIIIAAAggggAACCCAQ2gIEeoXY/delVvSBzJUrVxwjL1GihNSrV09y5MjhaKeCAAJ/CWgGi+XLl0tUVNRfjf+/lSZNGushjC6nQkEAAQQQQAABBEJFIOpIlMydN1d27NjhGHK6dOmsySTVqlVztFNBAIG/BHQ5VJ1AsmrVqr8a/7elAZNNmzSVfE/kc9tHAwIIIIAAAggggAACCCCAAAIIIIAAAgiEtgCBXiF4/48fPy5z586ViIgIx+hTp04ttWvXlhdeeMHRTgWBUBe4dPGSLF+xXNatW+dGERYWJk2bNpXcuXO77aMBAQQQQAABBBAIBQENhP/666/lwoULjuE+88wzUrduXcmbN6+jnQoCoS7www8/WBNI/vWvfzkoNOP23/72NytQ0rGDCgIIIIAAAggggAACCCCAAAIIIIAAAggg8D8BAr1C+Evhm2++sR7InDt3zqGQK1cuqVy5srCco4OFSggKXL16VdauXSsbN26US5cuOQSyZMliPYSpWbOmo50KAggggAACCCAQigKnT5+WOXPmyKZNmxzDv++++6RChQry7LPPEhjvkKESigKaIXjDhg2ir9GL/g3erFkzefTRR6Pvoo4AAggggAACCCCAAAIIIIAAAggggAACCBgBAr0MRWhuaJCXPpDxlKkoT548VsCXfuBMQSCUBK5fvy5r1qyxArz+/e9/uw39ueeesx7CaLAXBQEEEEAAAQQQQOAvAf27QrN7nTp16q/G/99Knjy5CfjKmTOnYx8VBIJd4ODBg7J+/XrZtWuX21CzZ89uTSDRvzEoCCCAAAIIIIAAAggggAACCCCAAAIIIIBAXAIEesUlFCL7N2/eLAsWLJBjx465jfjxxx+3Ar4qVqzoto8GBIJJ4Pbt21YGL51l/+uvv7oNTYMfGzVqJJUqVXLbRwMCCCCAAAIIIIDAfwU0E6pOJlm1apUbSYoUKUT/rtAMX489xw08TgAAHRpJREFU9pjbfhoQCCaBn376yQrw2r59u8dhvfDCC9YEkvTp03vcTyMCCCCAAAIIIIAAAggggAACCCCAAAIIIBBdgECv6CIhXNcgl6VLl4ou6ahLr0QvTzzxhBXwVb58+ei7qCMQ8AI6w16XaDx58qTbWHT5FF2isV69epIsWTK3/TQggAACCCCAAAIIuAtoFqPly5fLli1b3HamTJnSCvjSLEbZsmVz208DAoEsoBOoNLvd1q1bPQ5Dgx3r1KkjhQoV8rifRgQQQAABBBBAAAEEEEAAAQQQQAABBBBAICYBAr1ikgnh9j///FOWLVtmzcA/f/68m0T+/PmlSpUqUrZsWbd9NCAQaAKazU4DvDxls8uUKZPoLPsXX3xRHnzwwUAbGv1FAAEEEEAAAQT8QiAyMlJWrFghO3bscOtPqlSprGypmuEra9asbvtpQCCQBH755RcrQ7AGN+pEquildOnSUrt2bSlevHj0XdQRQAABBBBAAAEEEEAAAQQQQAABBBBAAAGvBAj08oopNA+6cOGCFfD17bffypUrV9wQChYsaAV86YfVFAQCTWBbxDbZsHGDHDlyxK3radKkkRo1algBXhkzZnTbTwMCCCCAAAIIIIDA3QtERETIypUrZe/evW5vTp06tQn4ypw5s9t+GhDwZ4GzZ8/KmjVrRCeR3Lhxw62rRYsWlVq1aklYWJjbPhoQQAABBBBAAAEEEEAAAQQQQAABBBBAAIG7ESDQ6260QvRYXcYxPDxcNODL04fWhQsXtgK+SpYsGaJCDDuQBHbu3CkbNmyQQ4cOuXX7/vvvtwK86tatK7pcIwUBBBBAAAEEEEDA9wKaTVUDvjz9PqYB95UqVRLN8KXZVSkI+LOAZsBeu3atbNq0STQzdvSik6M0wEszYlMQQAABBBBAAAEEEEAAAQQQQAABBBBAAAFfCBDo5QvFEDmHLm23fPlyWb16tccRP/XUU6LZvcqXLy/JkiXzeAyNCCSFgC6bsnXrVmu5oB9//NFjF6pXry516tSRPHnyeNxPIwIIIIAAAggggIBvBb755htrufijR4+6nThdunRSrlw5679cuXK57acBgaQUOH78uHz//feiWeouX77s1pW8efNaS8DXrFnTbR8NCCCAAAIIIIAAAggggAACCCCAAAIIIIDAvQgQ6HUveiH6Xp15rwFfuiyFp/LII49IqVKlrGUpsmXL5ukQ2hBIFIEzZ85YD180i9evv/7q8ZqaMUIDvHS2PQUBBBBAAAEEEEAgcQXu3LkjS5cuFQ36OnXqlMeLa+bgsmXLSokSJTzupxGBxBLYsWOHbN++XSIjIz1eMnv27KLBXfXq1ZP77rvP4zE0IoAAAggggAACCCCAAAIIIIAAAggggAAC9yJAoNe96IX4e3fv3i0rVqywPuj2RJEiRQrRhzJlypSRZ555xtMhtCGQIAJ79uyxvi5/+OEHuXnzpsdr6Ndl7dq1pVixYh7304gAAggggAACCCCQeALXrl2TZcuWWQFfv/32m8cLa5Yk/R0uLCxMdIlHCgKJIaDLM2rmLp08cuLECY+XzJw5sxXg9eKLL0qqVKk8HkMjAggggAACCCCAAAIIIIAAAggggAACCCDgCwECvXyhGOLn2P79dlmzdk2MAV/Kky9fPmtZR30o89BDD4W4GMNPCIGrV69aD2B0ln1UVFSMl9CHg89Xe17KlC0T4zHsQAABBBBAAAEEEEgagYsXL1oBX7rs9unTpz12In369CaDMMtueySi0QcCmslal2fUAK8///zT4xkfffRRKV++vGiAV4YMGTweQyMCCCCAAAIIIIAAAggggAACCCCAAAIIIOBLAQK9fKkZ4ueKOhIlmzZvEn0oc+7cOY8a9kOZcuXKic7IpyBwrwJHjx6Vbdu2WQ9gLl265PF0WbJksR7AVK5UWfI9kc/jMTQigAACCCCAAAII+I/A7du3Zf369bJly5YYl8nT3hYvXtxa1lGXjqcgcK8Cmg1Y/57VySMHDx6M8XT6dVexYkV59tlnJVmyZDEexw4EEEAAAQQQQAABBBBAAAEEEEAAAQQQQMDXAgR6+VqU84kuu7Jx40brocy+fftiFNHlHDW7UtmyZWM8hh0IxCSgs+u3b98uukxjTOXpp5+2HsBUqVKFJVRiQqIdAQQQQAABBBDwcwHNrLRp038nlGjGL08ld+7cVgZhza6ULl06T4fQhkCMAr/88ouVvUsDvGKatKQZu/Trq3LlylKwYMEYz8UOBBBAAAEEEEAAAQQQQAABBBBAAAEEEEAgIQUI9EpIXc4t+/fvNw9lrly54lHkscces5ZeKV26tGTLls3jMTQioAJnzpyxZtfr8in6MMZTSZMmjXkAU6RIEU+H0IYAAggggAACCCAQgAKXL1+WjRs2yndbv4sx21LatGmtvy10MskTTzwRgKOky4klcOfOHdm9e7c1eeSHH34QzSLnqRQqVEgqlK8gVapWEf36oiCAAAIIIIAAAggggAACCCCAAAIIIIAAAkkpQKBXUuqH0LUvXLggGzZskO+++06OHDkS48jz588vhQsXFs3EpLPyKQgcP35cNDPcgQMH5PDhwzGC6IO8ChUqSNWqVSVjxowxHscOBBBAAAEEEEAAgcAX2LVrl2zevFkiIiKsjMKeRqQTSvRvi6eeekqYAOBJKPTaNPu0/m2hE5J0acbz5897REiVKpWEhYVJpUqVpESJEh6PoREBBBBAAAEEEEAAAQQQQAABBBBAAAEEEEgKAQK9kkI9xK+5/fvtsmnzJtm2bZvcvHkzRo28efOKzp7WhzIaAEYJHQEN6LIfvhw9ejTGgadIkULKlSsnlStVljJly8R4HDsQQAABBBBAAAEEglPg119/tTII64SSY8eOxTjIzJkzW8vtadCXTirRQB5KaAj8/vvvsnfvXvnxxx+t4K6YMk2rRp48eazJI7o84yOPPBIaQIwSAQQQQAABBBBAAAEEEEAAAQQQQAABBAJKgECvgLpdwdXZkydPyqaNm6ylV2Jahs8esT0bX4O+9OEMJfgE9MGLBndp5i5vvh50+ZTKVSpLjhw5gg+DESGAAAIIIIAAAgjctYAGe2mWL51QElvRpb4LFixoMn2RDTY2rcDcd+7cOStzlx3cdf369VgHopNHNHuXZgimIIAAAggggAACCCCAAAIIIIAAAggggAAC/ixAoJc/350Q6psuvRIZGWl9GB/bTHwlyZIli8n0VbRoUdGsTpTAE9Bsbjqz3s7cpQ9jYis6u16zLxQvXpzlU2KDYh8CCCCAAAIIIBDiAqdPnxb9+2LPnj3W75p//PFHjCL6t4RmEbaXeMyePXuMx7LDvwV0IpG95PuhQ4fk/9q795+oliQAwK0GQVDwFYH4SnxBcvei0f//T3Bj1I2ioFHRgAKKYvAJax23ubPs3mEgEIbiO8nJvM4Mp77yBytd3b22tva3N9zf39+sHH3z5s2mthgdHf3ba31AgAABAgQIECBAgAABAgQIECBAgACBbhLQ6NVN2XAvjcDk5GS5d+9eMzATqzu1O4aGhn43ff3xj/LnxJ9lYGCg3eU+22OBz58/lwf3H5SH/3rYbJuytLTU9o5iwC0GX27dulXGxsbaXutDAgQIECBAgAABAhsFYtu+mFAS9UU0Ac3Pz2+85L9eX79+vakvYoJBbCXv6G6BZ9PPyoOHD5raYmpqqu3NxvadkdeoLWLyyODgYNvrfUiAAAECBAgQIECAAAECBAgQIECAAIFuFNDo1Y1ZcU/rAm/evCn/vPtrNv7937PxV1ZW1j/b+OTo0aPl4sWLzXn58uUSK0DFa8feCUT+nj9/Xl68eFFevnzZnO22TTl27NjvmfUTv2bW37ldrKiwd7nzlwkQIECAAAEC2QRihafWlYTj/6jtjlhJOOqJS5cuNU1fV69eLX19fe2+4rNdFIhaMGqLOGttsdmqwFEXtq4KfOjQoV28Qz9NgAABAgQIECBAgAABAgQIECBAgACB3RfQ6LX7xv7CDgnE6k8xGz/O2O5vYWFh018+efLkevPXlStXSszQt+rXpmzbuiC2xGkdeIktOBcXFzf9rTNnzjTNXTGrPs5Ypc1BgAABAgQIECBAYLcFYnu/upLwo0ePNv1zsc1jnVgSk0quXbtmYsKmatu/4PXr1+uTRqIpL86fP39u+oOxFWddFXh8fHzT611AgAABAgQIECBAgAABAgQIECBAgACB/SSg0Ws/Zcu9rgusrq6Wu3fvrm/BEjO6Oz1GR0ebAZqYkR+DMzHL27F1gZmZmfLs2bPmjKaueN3pEasi1G1T7ty5Uw4fPtzpV11HgAABAgQIECBAYMcF4v+ysdrX/fv3my0ev3792tHfiEkK0fwV2zzGpJI4e3p6Ovqui/4SiC3eY9LI9PR08xj1xfLy8l8XtHnW29vb1BYTExPl9u3b5cKFC22u9hEBAgQIECBAgAABAgQIECBAgAABAgT2t4BGr/2dP3f/H4GYgf/kyZP1gYFXr151bBNbPkazV6z4Fc1fIyMjZXh4uBw5cqTj38h84Y8fP8rbt2/L7Oxs09QVAzAx8NLp4FfY1K00w/jGjRslZtk7CBAgQIAAAQIECHSjwIcPH5pmr6mpqfX//3badBTxnD9/fr22iCaw2AKyv7+/G0Pdk3v6+PFjU1/ECl0xcSRqi7m5uY7vZXBwsGmsi+a6qN9iAkms5OwgQIAAAQIECBAgQIAAAQIECBAgQIDAQRDQ6HUQsnwAY3z37l2ZnJwsrYMznz592pJEzM4/e/Zsia0F4zEGaOI8d+5cOX369JZ+q9svDq96zs/Plzhja8x4jIGYrRzhFiulxXn1yq9V065fS+e1FQ/XEiBAgAABAgQI7H+BmFjy9OnT9YklW1lROKKPRq+oK+oZdUXUGFFbxBnbQmY5Ykv3WlvEhJFaW0R9Eef379+3FGpdLa1OzIlV0xwECBAgQIAAAQIECBAgQIAAAQIECBA4qAIavQ5q5g9g3DFbPJq/4oxVqWIG+XaPWO2rDtLEAE1tBItBmhi0GRgY2O5P78r3lj4slbm3c82AS2sjVwy0LC4ulrW1tW3/3bpKVwy42Apz24y+SIAAAQIECBAgsI8EYjJE1BWPHz9uJpdEfbHVCRKt4cYqVa31RZ1kUh9br93r59GoFQ1c0cwVtUV9rI1cKysr277FWJkr6opYBbhOHjlx4sS2f88XCRAgQIAAAQIECBAgQIAAAQIECBAgkE1Ao1e2jIqnY4HYerBu+Vi3fXz//n3H3293YTSC9fT0lN7e3hJbQ7aeG9+L1/W91se+vr7mT3z58qXZJvHbt28lnsdjnHH/cba+/n/PYyBmdXW13e12/NmpU6eagZexsbEyPj7ePI/YHAQIECBAgAABAgQOusDMzEzT/BW1RawsPD09vWMkUVvE/7trvdBJfVGvjcd61nqi1hGtr+t7tdaotcXG17G1+04d0cwVjV1RW0SNMTIyslM/7XcIECBAgAABAgQIECBAgAABAgQIECCQUkCjV8q0Cmq7ArG94+zsbJmbm2vOmKleZ6vHTPUY/Mh8xABQXTWgbiMzPDxc4oxBF7PpM2dfbAQIECBAgAABAjstELXFxvqibmsYK+tmP+rKx3Wbyqgros6I2kJTV/bsi48AAQIECBAgQIAAAQIECBAgQIAAgd0Q0Oi1G6p+M63A0tLS/wzUtDaCxepZ3XzESgDtGrmGhoa6+fbdGwECBAgQIECAAIE0ArHqbmsjWDxvrS2i9uj2QyNXt2fI/REgQIAAAQIECBAgQIAAAQIECBAgkE1Ao1e2jIpnTwVi68cYoFleXm5W/6rbLjaPX76WL19/b71Y348VwuoWKfV5fYwtUuKoW7TU7VbiceN7sc1jvNfX21d6+3pLvI7r6uPx48ebGfOx9aKDAAECBAgQIECAAIHuF4h6IGqLhYWFZgv3qBNa64j6vD7WLRZrPVEf6/vxuLGOqDVG6/u1hmitJ+K95vxVbxztPWpFru7/5+MOCRAgQIAAAQIECBAgQIAAAQIECBBIKqDRK2lihUWAAAECBAgQIECAAAECBAgQIECAAAECBAgQIECAAAECBAgQIECAQB4BjV55cikSAgQIECBAgAABAgQIECBAgAABAgQIECBAgAABAgQIECBAgAABAgSSCmj0SppYYREgQIAAAQIECBAgQIAAAQIECBAgQIAAAQIECBAgQIAAAQIECBAgkEdAo1eeXIqEAAECBAgQIECAAAECBAgQIECAAAECBAgQIECAAAECBAgQIECAAIGkAhq9kiZWWAQIECBAgAABAgQIECBAgAABAgQIECBAgAABAgQIECBAgAABAgQI5BHQ6JUnlyIhQIAAAQIECBAgQIAAAQIECBAgQIAAAQIECBAgQIAAAQIECBAgQCCpgEavpIkVFgECBAgQIECAAAECBAgQIECAAAECBAgQIECAAAECBAgQIECAAAECeQQ0euXJpUgIECBAgAABAgQIECBAgAABAgQIECBAgAABAgQIECBAgAABAgQIEEgqoNEraWKFRYAAAQIECBAgQIAAAQIECBAgQIAAAQIECBAgQIAAAQIECBAgQIBAHgGNXnlyKRICBAgQIECAAAECBAgQIECAAAECBAgQIECAAAECBAgQIECAAAECBJIKaPRKmlhhESBAgAABAgQIECBAgAABAgQIECBAgAABAgQIECBAgAABAgQIECCQR0CjV55cioQAAQIECBAgQIAAAQIECBAgQIAAAQIECBAgQIAAAQIECBAgQIAAgaQCGr2SJlZYBAgQIECAAAECBAgQIECAAAECBAgQIECAAAECBAgQIECAAAECBAjkEdDolSeXIiFAgAABAgQIECBAgAABAgQIECBAgAABAgQIECBAgAABAgQIECBAIKmARq+kiRUWAQIECBAgQIAAAQIECBAgQIAAAQIECBAgQIAAAQIECBAgQIAAAQJ5BDR65cmlSAgQIECAAAECBAgQIECAAAECBAgQIECAAAECBAgQIECAAAECBAgQSCqg0StpYoVFgAABAgQIECBAgAABAgQIECBAgAABAgQIECBAgAABAgQIECBAgEAeAY1eeXIpEgIECBAgQIAAAQIECBAgQIAAAQIECBAgQIAAAQIECBAgQIAAAQIEkgpo9EqaWGERIECAAAECBAgQIECAAAECBAgQIECAAAECBAgQIECAAAECBAgQIJBHQKNXnlyKhAABAgQIECBAgAABAgQIECBAgAABAgQIECBAgAABAgQIECBAgACBpAIavZImVlgECBAgQIAAAQIECBAgQIAAAQIECBAgQIAAAQIECBAgQIAAAQIECOQR0OiVJ5ciIUCAAAECBAgQIECAAAECBAgQIECAAAECBAgQIECAAAECBAgQIEAgqYBGr6SJFRYBAgQIECBAgAABAgQIECBAgAABAgQIECBAgAABAgQIECBAgAABAnkENHrlyaVICBAgQIAAAQIECBAgQIAAAQIECBAgQIAAAQIECBAgQIAAAQIECBBIKqDRK2lihUWAAAECBAgQIECAAAECBAgQIECAAAECBAgQIECAAAECBAgQIECAQB4BjV55cikSAgQIECBAgAABAgQIECBAgAABAgQIECBAgAABAgQIECBAgAABAgSSCmj0SppYYREgQIAAAQIECBAgQIAAAQIECBAgQIAAAQIECBAgQIAAAQIECBAgkEdAo1eeXIqEAAECBAgQIECAAAECBAgQIECAAAECBAgQIECAAAECBAgQIECAAIGkAhq9kiZWWAQIECBAgAABAgQIECBAgAABAgQIECBAgAABAgQIECBAgAABAgQI5BHQ6JUnlyIhQIAAAQIECBAgQIAAAQIECBAgQIAAAQIECBAgQIAAAQIECBAgQCCpgEavpIkVFgECBAgQIECAAAECBAgQIECAAAECBAgQIECAAAECBAgQIECAAAECeQQ0euXJpUgIECBAgAABAgQIECBAgAABAgQIECBAgAABAgQIECBAgAABAgQIEEgqoNEraWKFRYAAAQIECBAgQIAAAQIECBAgQIAAAQIECBAgQIAAAQIECBAgQIBAHgGNXnlyKRICBAgQIECAAAECBAgQIECAAAECBAgQIECAAAECBAgQIECAAAECBJIKaPRKmlhhESBAgAABAgQIECBAgAABAgQIECBAgAABAgQIECBAgAABAgQIECCQR0CjV55cioQAAQIECBAgQIAAAQIECBAgQIAAAQIECBAgQIAAAQIECBAgQIAAgaQCGr2SJlZYBAgQIECAAAECBAgQIECAAAECBAgQIECAAAECBAgQIECAAAECBAjkEdDolSeXIiFAgAABAgQIECBAgAABAgQIECBAgAABAgQIECBAgAABAgQIECBAIKmARq+kiRUWAQIECBAgQIAAAQIECBAgQIAAAQIECBAgQIAAAQIECBAgQIAAAQJ5BDR65cmlSAgQIECAAAECBAgQIECAAAECBAgQIECAAAECBAgQIECAAAECBAgQSCqg0StpYoVFgAABAgQIECBAgAABAgQIECBAgAABAgQIECBAgAABAgQIECBAgEAeAY1eeXIpEgIECBAgQIAAAQIECBAgQIAAAQIECBAgQIAAAQIECBAgQIAAAQIEkgpo9EqaWGERIECAAAECBAgQIECAAAECBAgQIECAAAECBAgQIECAAAECBAgQIJBHQKNXnlyKhAABAgQIECBAgAABAgQIECBAgAABAgQIECBAgAABAgQIECBAgACBpAIavZImVlgECBAgQIAAAQIECBAgQIAAAQIECBAgQIAAAQIECBAgQIAAAQIECOQR0OiVJ5ciIUCAAAECBAgQIECAAAECBAgQIECAAAECBAgQIECAAAECBAgQIEAgqYBGr6SJFRYBAgQIECBAgAABAgQIECBAgAABAgQIECBAgAABAgQIECBAgAABAnkENHrlyaVICBAgQIAAAQIECBAgQIAAAQIECBAgQIAAAQIECBAgQIAAAQIECBBIKqDRK2lihUWAAAECBAgQIECAAAECBAgQIECAAAECBAgQIECAAAECBAgQIECAQB4BjV55cikSAgQIECBAgAABAgQIECBAgAABAgQIECBAgAABAgQIECBAgAABAgSSCmj0SppYYREgQIAAAQIECBAgQIAAAQIECBAgQIAAAQIECBAgQIAAAQIECBAgkEdAo1eeXIqEAAECBAgQIECAAAECBAgQIECAAAECBAgQIECAAAECBAgQIECAAIGkAhq9kiZWWAQIECBAgAABAgQIECBAgAABAgQIECBAgAABAgQIECBAgAABAgQI5BHQ6JUnlyIhQIAAAQIECBAgQIAAAQIECBAgQIAAAQIECBAgQIAAAQIECBAgQCCpgEavpIkVFgECBAgQIECAAAECBAgQIECAAAECBAgQIECAAAECBAgQIECAAAECeQQ0euXJpUgIECBAgAABAgQIECBAgAABAgQIECBAgAABAgQIECBAgAABAgQIEEgqoNEraWKFRYAAAQIECBAgQIAAAQIECBAgQIAAAQIECBAgQIAAAQIECBAgQIBAHgGNXnlyKRICBAgQIECAAAECBAgQIECAAAECBAgQIECAAAECBAgQIECAAAECBJIKaPRKmlhhESBAgAABAgQIECBAgAABAgQIECBAgAABAgQIECBAgAABAgQIECCQR0CjV55cioQAAQIECBAgQIAAAQIECBAgQIAAAQIECBAgQIAAAQIECBAgQIAAgaQCGr2SJlZYBAgQIECAAAECBAgQIECAAAECBAgQIECAAAECBAgQIECAAAECBAjkEdDolSeXIiFAgAABAgQIECBAgAABAgQIECBAgAABAgQIECBAgAABAgQIECBAIKmARq+kiRUWAQIECBAgQIAAAQIECBAgQIAAAQIECBAgQIAAAQIECBAgQIAAAQJ5BP4NqNwm2QtFIpEAAAAASUVORK5CYII=)\n",
        "\n"
      ]
    },
    {
      "cell_type": "code",
      "metadata": {
        "id": "2UAZ2ZvZUVoT"
      },
      "source": [
        "node_levels = np.zeros(test_graph_size, dtype=np.int)"
      ],
      "execution_count": null,
      "outputs": []
    },
    {
      "cell_type": "code",
      "metadata": {
        "id": "OwGt0QxgXSM3"
      },
      "source": [
        "def get_node_levels(node: dict, level: int = 0):\n",
        "  global node_levels\n",
        "\n",
        "  node_levels[node['id']] = level\n",
        "\n",
        "  for child in node['children']:\n",
        "    get_node_levels(child, level+1)"
      ],
      "execution_count": null,
      "outputs": []
    },
    {
      "cell_type": "markdown",
      "metadata": {
        "id": "yeF0OYsTYZRI"
      },
      "source": [
        "Now, let's test this. For `test_graph`, we expect `node_levels` to be:\n",
        "\n",
        "$$\n",
        "\\begin{pmatrix}\n",
        "0 & 1 & 1\n",
        "\\end{pmatrix}\n",
        "$$\n"
      ]
    },
    {
      "cell_type": "code",
      "metadata": {
        "id": "2vU0k6T-YXrf",
        "colab": {
          "base_uri": "https://localhost:8080/"
        },
        "outputId": "24fc25ce-1a6b-41c2-b51f-b1f7a41fa367"
      },
      "source": [
        "get_node_levels(test_graph['graph'])\n",
        "node_levels"
      ],
      "execution_count": null,
      "outputs": [
        {
          "output_type": "execute_result",
          "data": {
            "text/plain": [
              "array([0, 1, 1])"
            ]
          },
          "metadata": {
            "tags": []
          },
          "execution_count": 146
        }
      ]
    },
    {
      "cell_type": "markdown",
      "metadata": {
        "id": "f1YT8-sdevpq"
      },
      "source": [
        "#### 3.2.3 Tag type"
      ]
    },
    {
      "cell_type": "markdown",
      "metadata": {
        "id": "ch_eCzdmezv7"
      },
      "source": [
        "We noticed from the data statistics that the tag type can be key in distinguishing between our two labels: `ad` and `not-ad`.\n",
        "\n",
        "Now, let's look at how we can get that information and translate it into a format that our model can understand."
      ]
    },
    {
      "cell_type": "markdown",
      "metadata": {
        "id": "V5biBW7ZgQ7s"
      },
      "source": [
        "Frist, we need to translate each tag to a numeric value. The easiest way to do so would be to simply map each HTML tag to a different integer, like we do in the constant defined below:"
      ]
    },
    {
      "cell_type": "code",
      "metadata": {
        "id": "LpPkTnwKgnIQ"
      },
      "source": [
        "HTML_TAGS_MAPPINGS = {\n",
        "    'a': 1, 'abbr': 2, 'address': 3, 'area': 4, 'article': 5, 'aside': 6,\n",
        "    'audio': 7, 'b': 8, 'base': 9, 'bdi': 10, 'bdo': 11, 'blockquote': 12,\n",
        "    'body': 13, 'br': 14, 'button': 15, 'canvas': 16, 'caption': 17,\n",
        "    'cite': 18, 'code': 19, 'col': 20, 'colgroup': 21, 'data': 22,\n",
        "    'datalist': 23, 'dd': 24, 'del': 25, 'details': 26, 'dfn': 27,\n",
        "    'dialog': 28, 'div': 29, 'dl': 30, 'dt': 31, 'em': 32, 'embed': 33,\n",
        "    'fieldset': 34, 'figcaption': 35, 'figure': 36, 'footer': 37, 'form': 38,\n",
        "    'h1': 39, 'h2': 40, 'h3': 41, 'h4': 42, 'h5': 43, 'h6': 44, 'head': 45,\n",
        "    'header': 46, 'hgroup': 47, 'hr': 48, 'html': 49, 'i': 50, 'iframe': 51,\n",
        "    'img': 52, 'input': 53, 'ins': 54, 'kbd': 55, 'keygen': 56, 'label': 57,\n",
        "    'legend': 58, 'li': 59, 'link': 60, 'main': 61, 'map': 62, 'mark': 63,\n",
        "    'math': 64, 'menu': 65, 'menuitem': 66, 'meta': 67, 'meter': 68,\n",
        "    'nav': 69, 'noscript': 70, 'object': 71, 'ol': 72, 'optgroup': 73,\n",
        "    'option': 74, 'output': 75, 'p': 76, 'param': 77, 'picture': 78,\n",
        "    'pre': 79, 'progress': 80, 'q': 81, 'rb': 82, 'rp': 83, 'rt': 84,\n",
        "    'rtc': 85, 'ruby': 86, 's': 87, 'samp': 88, 'script': 89, 'section': 90,\n",
        "    'select': 91, 'slot': 92, 'small': 93, 'source': 94, 'span': 95,\n",
        "    'strong': 96, 'style': 97, 'sub': 98, 'summary': 99, 'sup': 100,\n",
        "    'svg': 101, 'table': 102, 'tbody': 103, 'td': 104, 'template': 105,\n",
        "    'textarea': 106, 'tfoot': 107, 'th': 108, 'thead': 109, 'time': 110,\n",
        "    'title': 111, 'tr': 112, 'track': 113, 'u': 114, 'ul': 115,\n",
        "    'var': 116, 'video': 117, 'wbr': 118,\n",
        "}"
      ],
      "execution_count": null,
      "outputs": []
    },
    {
      "cell_type": "markdown",
      "metadata": {
        "id": "BS9TdMKBgx31"
      },
      "source": [
        "Now, let's write a function that gets a graph as input and returns the resulting tag-id vector."
      ]
    },
    {
      "cell_type": "code",
      "metadata": {
        "id": "TzXXbg1Bhc-l"
      },
      "source": [
        "tags_vector = np.zeros(test_graph_size, dtype=np.int)"
      ],
      "execution_count": null,
      "outputs": []
    },
    {
      "cell_type": "code",
      "metadata": {
        "id": "BNhKN8PhgxFU"
      },
      "source": [
        "def get_tag_vector(node: dict):\n",
        "  # TODO: Write the logic that\n",
        "  # stores the appropriate values \n",
        "  # in `tags_vector`\n",
        "  pass"
      ],
      "execution_count": null,
      "outputs": []
    },
    {
      "cell_type": "markdown",
      "metadata": {
        "id": "9nB7OmOjiQ6B"
      },
      "source": [
        "Now, let's test this. For `test_graph`, we expect `tags_vector` to be:\n",
        "\n",
        "$$\n",
        "\\begin{pmatrix}\n",
        "13 & 29 & 1\n",
        "\\end{pmatrix}\n",
        "$$"
      ]
    },
    {
      "cell_type": "code",
      "metadata": {
        "colab": {
          "base_uri": "https://localhost:8080/"
        },
        "id": "OtFV5lkHiQNG",
        "outputId": "9e7bd643-3e81-4222-b17d-020c75a3dcde"
      },
      "source": [
        "get_tag_vector(test_graph['graph'])\n",
        "tags_vector"
      ],
      "execution_count": null,
      "outputs": [
        {
          "output_type": "execute_result",
          "data": {
            "text/plain": [
              "array([0, 0, 0])"
            ]
          },
          "metadata": {
            "tags": []
          },
          "execution_count": 150
        }
      ]
    },
    {
      "cell_type": "markdown",
      "metadata": {
        "id": "IO86ftN6jgUA"
      },
      "source": [
        "\n",
        "---\n",
        "\n",
        "If we take a closer look at this, we can notice that `tag type` is a *categorical feature*. One other way to represent categorical features is by using **[one-hot encoding](https://en.wikipedia.org/wiki/One-hot)**.\n",
        "\n",
        "This allow us to make each category equidistant to the others, so in other words, just as important as the other categories.\n"
      ]
    },
    {
      "cell_type": "markdown",
      "metadata": {
        "id": "7PC5AQjBkxov"
      },
      "source": [
        "Let's look at how we can adapt the function above to support this"
      ]
    },
    {
      "cell_type": "code",
      "metadata": {
        "id": "eCT16j6Ok_Le"
      },
      "source": [
        "tags_vector_one_hot = np.array([np.zeros(len(HTML_TAGS_MAPPINGS)) for _ in range(test_graph_size)])"
      ],
      "execution_count": null,
      "outputs": []
    },
    {
      "cell_type": "code",
      "metadata": {
        "id": "GEe_xbb9k_OI"
      },
      "source": [
        "def get_tags_vector_one_hot(node: dict):\n",
        "  # TODO: Write the appropriate logic\n",
        "  # to get the expected output in `tags_vector_one_hot`\n",
        "  pass"
      ],
      "execution_count": null,
      "outputs": []
    },
    {
      "cell_type": "markdown",
      "metadata": {
        "id": "e8fZtS9omjID"
      },
      "source": [
        "For `test_graph`, we expect to get something that looks like this:\n",
        "\n",
        "$$\n",
        "\\begin{pmatrix}\n",
        "0 & 0 & 0 & 0 & 0 & 0 & 0 & 0 & 0 & 0 & 0 & 0 & 0 & 1 & ... & 0 & ... & 0 \\\\\n",
        "0 & 0 & 0 & 0 & 0 & 0 & 0 & 0 & 0 & 0 & 0 & 0 & 0 & 0 & ... & 1 & ... & 0 \\\\\n",
        "1 & 0 & 0 & 0 & 0 & 0 & 0 & 0 & 0 & 0 & 0 & 0 & 0 & 0 & ... & 0 & ... & 0\n",
        "\\end{pmatrix}\n",
        "$$"
      ]
    },
    {
      "cell_type": "code",
      "metadata": {
        "colab": {
          "base_uri": "https://localhost:8080/"
        },
        "id": "rKIPvOJkmdxw",
        "outputId": "76dc0c6b-8002-4e41-ce96-4bd3a29d4783"
      },
      "source": [
        "get_tags_vector_one_hot(test_graph['graph'])\n",
        "tags_vector_one_hot"
      ],
      "execution_count": null,
      "outputs": [
        {
          "output_type": "execute_result",
          "data": {
            "text/plain": [
              "array([[0., 0., 0., 0., 0., 0., 0., 0., 0., 0., 0., 0., 0., 0., 0., 0.,\n",
              "        0., 0., 0., 0., 0., 0., 0., 0., 0., 0., 0., 0., 0., 0., 0., 0.,\n",
              "        0., 0., 0., 0., 0., 0., 0., 0., 0., 0., 0., 0., 0., 0., 0., 0.,\n",
              "        0., 0., 0., 0., 0., 0., 0., 0., 0., 0., 0., 0., 0., 0., 0., 0.,\n",
              "        0., 0., 0., 0., 0., 0., 0., 0., 0., 0., 0., 0., 0., 0., 0., 0.,\n",
              "        0., 0., 0., 0., 0., 0., 0., 0., 0., 0., 0., 0., 0., 0., 0., 0.,\n",
              "        0., 0., 0., 0., 0., 0., 0., 0., 0., 0., 0., 0., 0., 0., 0., 0.,\n",
              "        0., 0., 0., 0., 0., 0.],\n",
              "       [0., 0., 0., 0., 0., 0., 0., 0., 0., 0., 0., 0., 0., 0., 0., 0.,\n",
              "        0., 0., 0., 0., 0., 0., 0., 0., 0., 0., 0., 0., 0., 0., 0., 0.,\n",
              "        0., 0., 0., 0., 0., 0., 0., 0., 0., 0., 0., 0., 0., 0., 0., 0.,\n",
              "        0., 0., 0., 0., 0., 0., 0., 0., 0., 0., 0., 0., 0., 0., 0., 0.,\n",
              "        0., 0., 0., 0., 0., 0., 0., 0., 0., 0., 0., 0., 0., 0., 0., 0.,\n",
              "        0., 0., 0., 0., 0., 0., 0., 0., 0., 0., 0., 0., 0., 0., 0., 0.,\n",
              "        0., 0., 0., 0., 0., 0., 0., 0., 0., 0., 0., 0., 0., 0., 0., 0.,\n",
              "        0., 0., 0., 0., 0., 0.],\n",
              "       [0., 0., 0., 0., 0., 0., 0., 0., 0., 0., 0., 0., 0., 0., 0., 0.,\n",
              "        0., 0., 0., 0., 0., 0., 0., 0., 0., 0., 0., 0., 0., 0., 0., 0.,\n",
              "        0., 0., 0., 0., 0., 0., 0., 0., 0., 0., 0., 0., 0., 0., 0., 0.,\n",
              "        0., 0., 0., 0., 0., 0., 0., 0., 0., 0., 0., 0., 0., 0., 0., 0.,\n",
              "        0., 0., 0., 0., 0., 0., 0., 0., 0., 0., 0., 0., 0., 0., 0., 0.,\n",
              "        0., 0., 0., 0., 0., 0., 0., 0., 0., 0., 0., 0., 0., 0., 0., 0.,\n",
              "        0., 0., 0., 0., 0., 0., 0., 0., 0., 0., 0., 0., 0., 0., 0., 0.,\n",
              "        0., 0., 0., 0., 0., 0.]])"
            ]
          },
          "metadata": {
            "tags": []
          },
          "execution_count": 154
        }
      ]
    },
    {
      "cell_type": "markdown",
      "metadata": {
        "id": "e8BoRv4tngMM"
      },
      "source": [
        "#### 3.2.4 Source information"
      ]
    },
    {
      "cell_type": "markdown",
      "metadata": {
        "id": "LxzFfOotnoZD"
      },
      "source": [
        "As you might know, there are some HTML tags that have sources associated with them, using the `src` attribute.\n",
        "\n",
        "This could provide crucial information, since the source can hint at an `ad` node."
      ]
    },
    {
      "cell_type": "markdown",
      "metadata": {
        "id": "b2co3ZWUpYUx"
      },
      "source": [
        "Now, let's look at how we can actually convert this information into something that the model can understand and process. \n",
        "\n",
        "The first thing that comes to mind is a basic NLP technique that makes use of **[tokenizers](https://en.wikipedia.org/wiki/Lexical_analysis#Tokenization)** to encode the source url into a numeric vector."
      ]
    },
    {
      "cell_type": "markdown",
      "metadata": {
        "id": "gRtuUYdOq95t"
      },
      "source": [
        "First, we need to define an alphabet of symbols that our tokenizer will use when converting the url."
      ]
    },
    {
      "cell_type": "code",
      "metadata": {
        "id": "TXL-BceorYds"
      },
      "source": [
        "ACCEPTED_URL_CHRS = r'abcdefghijklmnopqrstuvwxyz1234567890:;/?!=+.,()[]-`*_\\|~'"
      ],
      "execution_count": null,
      "outputs": []
    },
    {
      "cell_type": "markdown",
      "metadata": {
        "id": "PM_SAKQTreoa"
      },
      "source": [
        "And now, to actually define our tokenizer"
      ]
    },
    {
      "cell_type": "code",
      "metadata": {
        "id": "BrpvmoM2sQEq"
      },
      "source": [
        "import tensorflow.keras as keras\n",
        "import numpy as np\n",
        "\n",
        "tokenizer = keras.preprocessing.text.Tokenizer(\n",
        "    char_level=True,\n",
        "    filters=None,\n",
        "    oov_token=-1,\n",
        ")\n",
        "tokenizer.fit_on_texts(ACCEPTED_URL_CHRS)"
      ],
      "execution_count": null,
      "outputs": []
    },
    {
      "cell_type": "markdown",
      "metadata": {
        "id": "Ttjqli1uszOg"
      },
      "source": [
        "And test it out against a simple url, such as `https://www.eyeo.com`.\n",
        "For this url, we expect the resulting vector to be:\n",
        "$$\n",
        "\\begin{pmatrix}\n",
        "9 & 21 & 21 & 17 & 20 & 38 & 40 & 40 & 24 & 24 & 24 & 45 & 6 & 26 & 6 & 16 & 45 & 4 & 16 & 14\n",
        "\\end{pmatrix}\n",
        "$$"
      ]
    },
    {
      "cell_type": "code",
      "metadata": {
        "id": "c-UeGWBfsymH"
      },
      "source": [
        "def get_tokenised_sequence(url: str) -> np.array:\n",
        "  result = tokenizer.texts_to_sequences(url)\n",
        "  return np.matrix(result).A1"
      ],
      "execution_count": null,
      "outputs": []
    },
    {
      "cell_type": "code",
      "metadata": {
        "colab": {
          "base_uri": "https://localhost:8080/"
        },
        "id": "1IrDnAlUt1x3",
        "outputId": "d054ed07-d69f-4f32-db2a-22953a96c727"
      },
      "source": [
        "get_tokenised_sequence('https://www.eyeo.com')"
      ],
      "execution_count": null,
      "outputs": [
        {
          "output_type": "execute_result",
          "data": {
            "text/plain": [
              "array([ 9, 21, 21, 17, 20, 38, 40, 40, 24, 24, 24, 45,  6, 26,  6, 16, 45,\n",
              "        4, 16, 14])"
            ]
          },
          "metadata": {
            "tags": []
          },
          "execution_count": 158
        }
      ]
    },
    {
      "cell_type": "markdown",
      "metadata": {
        "id": "aPdKxhQduUJi"
      },
      "source": [
        "Now, let's see how we can apply this to the `src` attributes we are working with.\n",
        "\n",
        "First of all, we need to keep in mind the fact that, for the purpose of the models we are using, all of our feature vectors have to be the same size. But not all of the URLs are the same size, so we need to pad/ cut them off at a specific length, say 100 characters"
      ]
    },
    {
      "cell_type": "code",
      "metadata": {
        "id": "K0_LKpTMAK99"
      },
      "source": [
        "CUTOFF_SIZE = 100"
      ],
      "execution_count": null,
      "outputs": []
    },
    {
      "cell_type": "markdown",
      "metadata": {
        "id": "6ZSPkSO7AXVv"
      },
      "source": [
        "Now, we need to change the `get_tokenised_sequence` function above so that it also handles padding."
      ]
    },
    {
      "cell_type": "code",
      "metadata": {
        "id": "OWHWXHbEAf15"
      },
      "source": [
        "def get_tokenised_sequence(url: str, cutoff: int = -1) -> np.array:\n",
        "  result = tokenizer.texts_to_sequences(url)\n",
        "  if cutoff != -1:\n",
        "    result = keras.preprocessing.sequence.pad_sequences(\n",
        "        [result],\n",
        "        maxlen=cutoff,\n",
        "        padding='post',\n",
        "    )\n",
        "  return np.matrix(result).A1"
      ],
      "execution_count": null,
      "outputs": []
    },
    {
      "cell_type": "code",
      "metadata": {
        "colab": {
          "base_uri": "https://localhost:8080/"
        },
        "id": "CzsT49guBAMe",
        "outputId": "61079a8b-e0e0-4497-f3c4-1c95c03652e4"
      },
      "source": [
        "get_tokenised_sequence('https://www.eyeo.com', CUTOFF_SIZE)"
      ],
      "execution_count": null,
      "outputs": [
        {
          "output_type": "execute_result",
          "data": {
            "text/plain": [
              "array([ 9, 21, 21, 17, 20, 38, 40, 40, 24, 24, 24, 45,  6, 26,  6, 16, 45,\n",
              "        4, 16, 14,  0,  0,  0,  0,  0,  0,  0,  0,  0,  0,  0,  0,  0,  0,\n",
              "        0,  0,  0,  0,  0,  0,  0,  0,  0,  0,  0,  0,  0,  0,  0,  0,  0,\n",
              "        0,  0,  0,  0,  0,  0,  0,  0,  0,  0,  0,  0,  0,  0,  0,  0,  0,\n",
              "        0,  0,  0,  0,  0,  0,  0,  0,  0,  0,  0,  0,  0,  0,  0,  0,  0,\n",
              "        0,  0,  0,  0,  0,  0,  0,  0,  0,  0,  0,  0,  0,  0,  0],\n",
              "      dtype=int32)"
            ]
          },
          "metadata": {
            "tags": []
          },
          "execution_count": 161
        }
      ]
    },
    {
      "cell_type": "code",
      "metadata": {
        "id": "wVdxy6z7Cf55"
      },
      "source": [
        "src_sequences = [np.zeros(CUTOFF_SIZE) for _ in range(test_graph_size)]"
      ],
      "execution_count": null,
      "outputs": []
    },
    {
      "cell_type": "code",
      "metadata": {
        "id": "4EUtyVsjBJn0"
      },
      "source": [
        "def src_to_sequences(node: dict):\n",
        "  # TODO: Write the logic to tokenise the sequences of the nodes,\n",
        "  # If theere are any. If not, simply have a vector of `0`s instead.\n",
        "  pass"
      ],
      "execution_count": null,
      "outputs": []
    },
    {
      "cell_type": "markdown",
      "metadata": {
        "id": "dKdZKk0QBbzp"
      },
      "source": [
        "The expected result for `test_graph` should be:\n",
        "\n",
        "$$\n",
        "\\begin{pmatrix}\n",
        "0 & 0 & 0 & 0 & 0 & 0 & 0 & 0 & 0 & 0 & 0 & 0 & 0 & 0 & ... & 0 \\\\\n",
        "0 & 0 & 0 & 0 & 0 & 0 & 0 & 0 & 0 & 0 & 0 & 0 & 0 & 0 & ... & 0 \\\\\n",
        "24 & 24 & 24 & 45 & 20 & 16 & 14 & 16 & 14 & 6 & 51 & 24 & 6 & 3 & ... & 0 \\\\\n",
        "\\end{pmatrix}\n",
        "$$"
      ]
    },
    {
      "cell_type": "code",
      "metadata": {
        "id": "ofhRyJ5LGah7"
      },
      "source": [
        "import urllib.parse as urlparse"
      ],
      "execution_count": null,
      "outputs": []
    },
    {
      "cell_type": "code",
      "metadata": {
        "colab": {
          "base_uri": "https://localhost:8080/"
        },
        "id": "gQPqUGu1BaeP",
        "outputId": "85d40646-757a-454f-99a6-325564e9012b"
      },
      "source": [
        "src_to_sequences(test_graph['graph'])\n",
        "src_sequences = np.array(src_sequences)\n",
        "src_sequences"
      ],
      "execution_count": null,
      "outputs": [
        {
          "output_type": "execute_result",
          "data": {
            "text/plain": [
              "array([[0., 0., 0., 0., 0., 0., 0., 0., 0., 0., 0., 0., 0., 0., 0., 0.,\n",
              "        0., 0., 0., 0., 0., 0., 0., 0., 0., 0., 0., 0., 0., 0., 0., 0.,\n",
              "        0., 0., 0., 0., 0., 0., 0., 0., 0., 0., 0., 0., 0., 0., 0., 0.,\n",
              "        0., 0., 0., 0., 0., 0., 0., 0., 0., 0., 0., 0., 0., 0., 0., 0.,\n",
              "        0., 0., 0., 0., 0., 0., 0., 0., 0., 0., 0., 0., 0., 0., 0., 0.,\n",
              "        0., 0., 0., 0., 0., 0., 0., 0., 0., 0., 0., 0., 0., 0., 0., 0.,\n",
              "        0., 0., 0., 0.],\n",
              "       [0., 0., 0., 0., 0., 0., 0., 0., 0., 0., 0., 0., 0., 0., 0., 0.,\n",
              "        0., 0., 0., 0., 0., 0., 0., 0., 0., 0., 0., 0., 0., 0., 0., 0.,\n",
              "        0., 0., 0., 0., 0., 0., 0., 0., 0., 0., 0., 0., 0., 0., 0., 0.,\n",
              "        0., 0., 0., 0., 0., 0., 0., 0., 0., 0., 0., 0., 0., 0., 0., 0.,\n",
              "        0., 0., 0., 0., 0., 0., 0., 0., 0., 0., 0., 0., 0., 0., 0., 0.,\n",
              "        0., 0., 0., 0., 0., 0., 0., 0., 0., 0., 0., 0., 0., 0., 0., 0.,\n",
              "        0., 0., 0., 0.],\n",
              "       [0., 0., 0., 0., 0., 0., 0., 0., 0., 0., 0., 0., 0., 0., 0., 0.,\n",
              "        0., 0., 0., 0., 0., 0., 0., 0., 0., 0., 0., 0., 0., 0., 0., 0.,\n",
              "        0., 0., 0., 0., 0., 0., 0., 0., 0., 0., 0., 0., 0., 0., 0., 0.,\n",
              "        0., 0., 0., 0., 0., 0., 0., 0., 0., 0., 0., 0., 0., 0., 0., 0.,\n",
              "        0., 0., 0., 0., 0., 0., 0., 0., 0., 0., 0., 0., 0., 0., 0., 0.,\n",
              "        0., 0., 0., 0., 0., 0., 0., 0., 0., 0., 0., 0., 0., 0., 0., 0.,\n",
              "        0., 0., 0., 0.]])"
            ]
          },
          "metadata": {
            "tags": []
          },
          "execution_count": 165
        }
      ]
    },
    {
      "cell_type": "markdown",
      "metadata": {
        "id": "i2k785rxDxOq"
      },
      "source": [
        "\n",
        "\n",
        "---\n",
        "\n"
      ]
    },
    {
      "cell_type": "markdown",
      "metadata": {
        "id": "JnqiHxcvDE36"
      },
      "source": [
        "\n",
        "\n",
        "Now, we can take a look at some more information that we can get from these sources.\n",
        "\n",
        "Some useful meta-features related to this would be:\n",
        "\n",
        "\n",
        "* Whether the node as a source or not. \n",
        "* Whether that source is a url or not.\n",
        "* Whether the source is 3rd party or not.\n",
        "\n",
        "\n"
      ]
    },
    {
      "cell_type": "markdown",
      "metadata": {
        "id": "Ez6vVB9BD0sw"
      },
      "source": [
        "The simplest way to encode this would be via a 3-dimensional binary vector that looks like this:\n",
        "\n",
        "$$\n",
        "\\begin{pmatrix}\n",
        "<has\\space source>, <is \\space url>, <is \\space 3^{rd} \\space party>\n",
        "\\end{pmatrix}\n",
        "$$"
      ]
    },
    {
      "cell_type": "code",
      "metadata": {
        "id": "xaJ17YybEbg9"
      },
      "source": [
        "sources_meta_vector = np.array([np.zeros(3) for _ in range(test_graph_size)], dtype=np.int)"
      ],
      "execution_count": null,
      "outputs": []
    },
    {
      "cell_type": "code",
      "metadata": {
        "id": "C2OvCtOFDzxk"
      },
      "source": [
        "def get_sources_meta_vector(node: dict, domain: str):\n",
        "  if 'src' in node['attributes']:\n",
        "    source = node['attributes']['src']\n",
        "    sources_meta_vector[node['id']][0] = 1\n",
        "\n",
        "    # Checking if the source is an url\n",
        "    sources_meta_vector[node['id']][1] = int(source.startswith('http'))\n",
        "\n",
        "    # Cheching if it is 3rd party or not\n",
        "    netloc = urlparse.urlparse(source).netloc\n",
        "    sources_meta_vector[node['id']][2] = int(domain not in netloc)\n",
        "\n",
        "  for child in node['children']:\n",
        "    get_sources_meta_vector(child, domain) "
      ],
      "execution_count": null,
      "outputs": []
    },
    {
      "cell_type": "markdown",
      "metadata": {
        "id": "vTlLIrN_F76T"
      },
      "source": [
        "For `test_graph`, we expect the output to be:\n",
        "\n",
        "$$\n",
        "\\begin{pmatrix}\n",
        "0 & 0 & 0 \\\\\n",
        "0 & 0 & 0 \\\\\n",
        "1 & 1 & 1\n",
        "\\end{pmatrix}\n",
        "$$"
      ]
    },
    {
      "cell_type": "code",
      "metadata": {
        "colab": {
          "base_uri": "https://localhost:8080/"
        },
        "id": "hr_TQ8WrGId2",
        "outputId": "31ca5d2d-0238-46eb-aec2-8053aa13c6fd"
      },
      "source": [
        "domain = urlparse.urlparse(test_graph['url']).netloc\n",
        "get_sources_meta_vector(test_graph['graph'], domain)\n",
        "sources_meta_vector"
      ],
      "execution_count": null,
      "outputs": [
        {
          "output_type": "execute_result",
          "data": {
            "text/plain": [
              "array([[0, 0, 0],\n",
              "       [0, 0, 0],\n",
              "       [1, 1, 1]])"
            ]
          },
          "metadata": {
            "tags": []
          },
          "execution_count": 168
        }
      ]
    },
    {
      "cell_type": "markdown",
      "metadata": {
        "id": "e1yxhlKqSdnh"
      },
      "source": [
        "#### 3.2.5 Display information"
      ]
    },
    {
      "cell_type": "markdown",
      "metadata": {
        "id": "Ydf5xqQuTgo-"
      },
      "source": [
        "Another useful information about HTML elements is their `display` value, which can be one of: `none`, `inline`, `block`, `inline-block`, `inherit`.\n",
        "\n"
      ]
    },
    {
      "cell_type": "markdown",
      "metadata": {
        "id": "lwbpGVckT-sN"
      },
      "source": [
        "We are working again with categorical features, so we'll make use of one-hot vectors once again."
      ]
    },
    {
      "cell_type": "code",
      "metadata": {
        "id": "xD-bInapUeK5"
      },
      "source": [
        "DISPLAY_ATTR_MAP = {'none': 1, 'inline': 2, 'block': 3, 'inline-block': 4,\n",
        "                    'inherit': 5}\n",
        "ONE_HOT_DISPLAY_LEN = len(set(DISPLAY_ATTR_MAP.values()))"
      ],
      "execution_count": null,
      "outputs": []
    },
    {
      "cell_type": "code",
      "metadata": {
        "id": "AmSo75OwUoxZ"
      },
      "source": [
        "display_vectors = np.array([np.zeros(ONE_HOT_DISPLAY_LEN) for _ in range(test_graph_size)])"
      ],
      "execution_count": null,
      "outputs": []
    },
    {
      "cell_type": "code",
      "metadata": {
        "id": "9GuXnmZfVWO7"
      },
      "source": [
        "def get_display_vectors(node: dict):\n",
        "  if 'display' in node['attributes']:\n",
        "    display_value = node['attributes']['display'].lower()\n",
        "    node_id = node['id']\n",
        "    attr_idx = DISPLAY_ATTR_MAP.get(display_value, None)\n",
        "\n",
        "    if attr_idx:\n",
        "      display_vectors[node_id][attr_idx - 1] = 1\n",
        "  \n",
        "  for child in node['children']:\n",
        "    get_display_vectors(child)"
      ],
      "execution_count": null,
      "outputs": []
    },
    {
      "cell_type": "markdown",
      "metadata": {
        "id": "e0vwDKw3WM-s"
      },
      "source": [
        "For `test_graph` we expect the output to be:\n",
        "\n",
        "$$\n",
        "\\begin{pmatrix}\n",
        "0 & 0 & 0 & 0 & 0 \\\\\n",
        "1 & 0 & 0 & 0 & 0 \\\\\n",
        "0 & 1 & 0 & 0 & 0 \\\\\n",
        "\\end{pmatrix}\n",
        "$$"
      ]
    },
    {
      "cell_type": "code",
      "metadata": {
        "colab": {
          "base_uri": "https://localhost:8080/"
        },
        "id": "L2XBMcORWLtj",
        "outputId": "b0068c3b-09b5-4674-a672-7a23f554e69c"
      },
      "source": [
        "get_display_vectors(test_graph['graph'])\n",
        "display_vectors"
      ],
      "execution_count": null,
      "outputs": [
        {
          "output_type": "execute_result",
          "data": {
            "text/plain": [
              "array([[0., 0., 0., 0., 0.],\n",
              "       [1., 0., 0., 0., 0.],\n",
              "       [0., 1., 0., 0., 0.]])"
            ]
          },
          "metadata": {
            "tags": []
          },
          "execution_count": 172
        }
      ]
    },
    {
      "cell_type": "markdown",
      "metadata": {
        "id": "3KPEfWEhiZBK"
      },
      "source": [
        "### 3.3 Extracting labels"
      ]
    },
    {
      "cell_type": "markdown",
      "metadata": {
        "id": "sAM0V1cYioDK"
      },
      "source": [
        "Labels also have to be in a numeric format.\n",
        "\n",
        "For each node, we will generate a two dimensional vector:\n",
        "\n",
        "Ads are represented by the following vector:\n",
        "$$\n",
        "\\begin{pmatrix}\n",
        "0 & 1\n",
        "\\end{pmatrix}\n",
        "$$\n",
        "\n",
        "while regular nodes are:\n",
        "$$\n",
        "\\begin{pmatrix}\n",
        "1 & 0\n",
        "\\end{pmatrix}\n",
        "$$"
      ]
    },
    {
      "cell_type": "code",
      "metadata": {
        "id": "prXgf6xmjUVy"
      },
      "source": [
        "VECTOR_ADS = np.array([0, 1])\n",
        "VECTOR_NOT_ADS = np.array([1, 0])"
      ],
      "execution_count": null,
      "outputs": []
    },
    {
      "cell_type": "code",
      "metadata": {
        "id": "oVx2md3Ujv3h"
      },
      "source": [
        "labels = [None for _ in range(test_graph_size)]"
      ],
      "execution_count": null,
      "outputs": []
    },
    {
      "cell_type": "code",
      "metadata": {
        "id": "kzS3Hbttjxqc"
      },
      "source": [
        "def get_labels(node: dict):\n",
        "  global labels\n",
        "  node_id = node['id']\n",
        "  labels[node_id] = VECTOR_NOT_ADS\n",
        "  if node['ad']:\n",
        "    labels[node_id] = VECTOR_ADS\n",
        "\n",
        "  for child in node['children']:\n",
        "    get_labels(child)"
      ],
      "execution_count": null,
      "outputs": []
    },
    {
      "cell_type": "markdown",
      "metadata": {
        "id": "cYlwj8umkEd7"
      },
      "source": [
        "For `test_graph` we expect the result to be:\n",
        "\n",
        "$$\n",
        "\\begin{pmatrix}\n",
        "1 & 0 \\\\\n",
        "0 & 1 \\\\\n",
        "1 & 0\n",
        "\\end{pmatrix}\n",
        "$$"
      ]
    },
    {
      "cell_type": "code",
      "metadata": {
        "colab": {
          "base_uri": "https://localhost:8080/"
        },
        "id": "YFlfUmL0kD4v",
        "outputId": "fb7a0e1f-442a-4da5-9592-b057a1b36124"
      },
      "source": [
        "get_labels(test_graph['graph'])\n",
        "labels = np.array(labels)\n",
        "labels"
      ],
      "execution_count": null,
      "outputs": [
        {
          "output_type": "execute_result",
          "data": {
            "text/plain": [
              "array([[1, 0],\n",
              "       [0, 1],\n",
              "       [1, 0]])"
            ]
          },
          "metadata": {
            "tags": []
          },
          "execution_count": 176
        }
      ]
    }
  ]
}